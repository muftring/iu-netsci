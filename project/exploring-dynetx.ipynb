{
 "cells": [
  {
   "cell_type": "markdown",
   "metadata": {},
   "source": [
    "# Exploring DyNetX\n",
    "DyNetx - Dynamic Network library\n",
    "\n",
    "http://dynetx.readthedocs.io/en/latest/index.html"
   ]
  },
  {
   "cell_type": "code",
   "execution_count": 1,
   "metadata": {},
   "outputs": [],
   "source": [
    "import numpy as np\n",
    "import networkx as nx\n",
    "import dynetx as dn"
   ]
  },
  {
   "cell_type": "markdown",
   "metadata": {},
   "source": [
    "Note: DyNetX required NetworkX 2.1 and Numpy 1.14.x (which meant updating a lot of other packages in my Python and Jupyter Notebook environment)"
   ]
  },
  {
   "cell_type": "code",
   "execution_count": 4,
   "metadata": {},
   "outputs": [
    {
     "data": {
      "text/plain": [
       "'1.14.2'"
      ]
     },
     "execution_count": 4,
     "metadata": {},
     "output_type": "execute_result"
    }
   ],
   "source": [
    "np.version.full_version"
   ]
  },
  {
   "cell_type": "markdown",
   "metadata": {},
   "source": [
    "Create a **dynamic graph**, and add a few vertices."
   ]
  },
  {
   "cell_type": "code",
   "execution_count": 5,
   "metadata": {},
   "outputs": [],
   "source": [
    "# A DynGraph stores nodes and timestamped interaction.\n",
    "G = dn.DynGraph()"
   ]
  },
  {
   "cell_type": "code",
   "execution_count": 6,
   "metadata": {},
   "outputs": [],
   "source": [
    "G.add_node(1)"
   ]
  },
  {
   "cell_type": "code",
   "execution_count": 7,
   "metadata": {},
   "outputs": [],
   "source": [
    "G.add_nodes_from([2,3,4])"
   ]
  },
  {
   "cell_type": "code",
   "execution_count": 8,
   "metadata": {},
   "outputs": [
    {
     "data": {
      "text/plain": [
       "4"
      ]
     },
     "execution_count": 8,
     "metadata": {},
     "output_type": "execute_result"
    }
   ],
   "source": [
    "G.number_of_nodes()"
   ]
  },
  {
   "cell_type": "code",
   "execution_count": 9,
   "metadata": {},
   "outputs": [
    {
     "data": {
      "text/plain": [
       "[1, 2, 3, 4]"
      ]
     },
     "execution_count": 9,
     "metadata": {},
     "output_type": "execute_result"
    }
   ],
   "source": [
    "G.nodes()"
   ]
  },
  {
   "cell_type": "markdown",
   "metadata": {},
   "source": [
    "We add **interactions** to a dynamic graph. An interaction is an edge between two vertices, and they are added at a specific time (here the timestamp is `t=0`)"
   ]
  },
  {
   "cell_type": "code",
   "execution_count": 10,
   "metadata": {},
   "outputs": [],
   "source": [
    "time = 0\n",
    "G.add_interactions_from([(1, 2), (1, 3), (2, 3), (3, 4)], t=time)"
   ]
  },
  {
   "cell_type": "code",
   "execution_count": 11,
   "metadata": {},
   "outputs": [],
   "source": [
    "time = 1\n",
    "G.add_interactions_from([(1, 4)], t=time)"
   ]
  },
  {
   "cell_type": "markdown",
   "metadata": {},
   "source": [
    "add an interaction with a vanishing point"
   ]
  },
  {
   "cell_type": "code",
   "execution_count": 21,
   "metadata": {},
   "outputs": [],
   "source": [
    "time = 1\n",
    "vanish = 2\n",
    "G.add_interactions_from([(1, 5)], t=time, e=vanish)"
   ]
  },
  {
   "cell_type": "markdown",
   "metadata": {},
   "source": [
    "and we can see all interactions"
   ]
  },
  {
   "cell_type": "code",
   "execution_count": 26,
   "metadata": {},
   "outputs": [
    {
     "data": {
      "text/plain": [
       "[(1, 2, {'t': [[0, 0]]}),\n",
       " (1, 3, {'t': [[0, 0]]}),\n",
       " (1, 4, {'t': [[1, 1]]}),\n",
       " (1, 5, {'t': [[1, 1]]}),\n",
       " (2, 3, {'t': [[0, 0]]}),\n",
       " (3, 4, {'t': [[0, 0]]})]"
      ]
     },
     "execution_count": 26,
     "metadata": {},
     "output_type": "execute_result"
    }
   ],
   "source": [
    "G.interactions()"
   ]
  },
  {
   "cell_type": "markdown",
   "metadata": {},
   "source": [
    "and we can see interactions for specific times"
   ]
  },
  {
   "cell_type": "code",
   "execution_count": 27,
   "metadata": {},
   "outputs": [
    {
     "data": {
      "text/plain": [
       "[(1, 2, {'t': [0]}),\n",
       " (1, 3, {'t': [0]}),\n",
       " (2, 3, {'t': [0]}),\n",
       " (3, 4, {'t': [0]})]"
      ]
     },
     "execution_count": 27,
     "metadata": {},
     "output_type": "execute_result"
    }
   ],
   "source": [
    "G.interactions(t=0)"
   ]
  },
  {
   "cell_type": "code",
   "execution_count": 28,
   "metadata": {},
   "outputs": [
    {
     "data": {
      "text/plain": [
       "[(1, 4, {'t': [1]}), (1, 5, {'t': [1]})]"
      ]
     },
     "execution_count": 28,
     "metadata": {},
     "output_type": "execute_result"
    }
   ],
   "source": [
    "G.interactions(t=1)"
   ]
  },
  {
   "cell_type": "code",
   "execution_count": 29,
   "metadata": {},
   "outputs": [
    {
     "data": {
      "text/plain": [
       "[]"
      ]
     },
     "execution_count": 29,
     "metadata": {},
     "output_type": "execute_result"
    }
   ],
   "source": [
    "G.interactions(t=2)"
   ]
  },
  {
   "cell_type": "markdown",
   "metadata": {},
   "source": [
    "we can \"stream\" the interactions, note they are time ordered.\n",
    "\n",
    "The values are:\n",
    "- source\n",
    "- target\n",
    "- interaciton\n",
    "- time\n",
    "\n",
    "Where interaction is:\n",
    "- `+` means add\n",
    "- `-` means remove (\"vanish\")"
   ]
  },
  {
   "cell_type": "code",
   "execution_count": 30,
   "metadata": {},
   "outputs": [
    {
     "name": "stdout",
     "output_type": "stream",
     "text": [
      "(1, 2, '+', 0)\n",
      "(1, 3, '+', 0)\n",
      "(2, 3, '+', 0)\n",
      "(3, 4, '+', 0)\n",
      "(1, 4, '+', 1)\n",
      "(1, 5, '+', 1)\n",
      "(1, 5, '-', 2)\n"
     ]
    }
   ],
   "source": [
    "for i in G.stream_interactions():\n",
    "    print(i)"
   ]
  },
  {
   "cell_type": "markdown",
   "metadata": {},
   "source": [
    "how to build own own representation"
   ]
  },
  {
   "cell_type": "code",
   "execution_count": 31,
   "metadata": {},
   "outputs": [],
   "source": [
    "# Specify the node-to-node interactions over a span of time\n",
    "# (u, v) : [(t, e), (t, e)]\n",
    "# The nodes are: u, v\n",
    "# The time span is \n",
    "#   t: appearance snapshot id\n",
    "#.  e: vanishing snapshot id\n",
    "form1 = {\n",
    "    (1, 2): [(0, 1)],\n",
    "    (1, 3): [(0, 9)],\n",
    "    (1, 4): [(1, 3), (6, 7)],\n",
    "    (2, 3): [(0, 1), (3, 7)],\n",
    "    (2, 4): [],\n",
    "    (3, 4): [(0, 9)]\n",
    "}"
   ]
  },
  {
   "cell_type": "code",
   "execution_count": 32,
   "metadata": {},
   "outputs": [],
   "source": [
    "G = dn.DynGraph()"
   ]
  },
  {
   "cell_type": "code",
   "execution_count": 33,
   "metadata": {},
   "outputs": [],
   "source": [
    "for link in form1:\n",
    "    u = link[0]\n",
    "    v = link[1]\n",
    "    for interaction in form1[link]:\n",
    "        t = interaction[0]\n",
    "        e = interaction[1]\n",
    "        G.add_interaction(u, v, t, e)"
   ]
  },
  {
   "cell_type": "code",
   "execution_count": 34,
   "metadata": {},
   "outputs": [
    {
     "data": {
      "text/plain": [
       "[(1, 2, {'t': [[0, 0]]}),\n",
       " (1, 3, {'t': [[0, 8]]}),\n",
       " (1, 4, {'t': [[1, 2], [6, 6]]}),\n",
       " (2, 3, {'t': [[0, 0], [3, 6]]}),\n",
       " (3, 4, {'t': [[0, 8]]})]"
      ]
     },
     "execution_count": 34,
     "metadata": {},
     "output_type": "execute_result"
    }
   ],
   "source": [
    "G.interactions()"
   ]
  },
  {
   "cell_type": "code",
   "execution_count": 35,
   "metadata": {},
   "outputs": [
    {
     "name": "stdout",
     "output_type": "stream",
     "text": [
      "(1, 2, '+', 0)\n",
      "(1, 3, '+', 0)\n",
      "(2, 3, '+', 0)\n",
      "(3, 4, '+', 0)\n",
      "(1, 2, '-', 1)\n",
      "(1, 4, '+', 1)\n",
      "(2, 3, '-', 1)\n",
      "(1, 4, '-', 3)\n",
      "(2, 3, '+', 3)\n",
      "(1, 4, '+', 6)\n",
      "(1, 4, '-', 7)\n",
      "(2, 3, '-', 7)\n",
      "(1, 3, '-', 9)\n",
      "(3, 4, '-', 9)\n"
     ]
    }
   ],
   "source": [
    "for i in G.stream_interactions():\n",
    "    print(i)"
   ]
  },
  {
   "cell_type": "code",
   "execution_count": 40,
   "metadata": {},
   "outputs": [],
   "source": []
  },
  {
   "cell_type": "markdown",
   "metadata": {},
   "source": [
    "Some thoughts and comments on DyNetX:\n",
    "- it is derived from NetworkX\n",
    "- it has a nice concept of time\n",
    "- can read/write dynamic graphs and snapshots from/to files\n",
    "- can see the state of a dynamic graph at given point in time (`time_slice`)\n",
    "- dynamic graph activity can be frozen\n",
    "- can add cycles\n",
    "- can add stars\n",
    "- can add paths\n",
    "- it does not allow for removing nodes"
   ]
  },
  {
   "cell_type": "code",
   "execution_count": null,
   "metadata": {},
   "outputs": [],
   "source": []
  }
 ],
 "metadata": {
  "kernelspec": {
   "display_name": "Python [default]",
   "language": "python",
   "name": "python3"
  },
  "language_info": {
   "codemirror_mode": {
    "name": "ipython",
    "version": 3
   },
   "file_extension": ".py",
   "mimetype": "text/x-python",
   "name": "python",
   "nbconvert_exporter": "python",
   "pygments_lexer": "ipython3",
   "version": "3.6.5"
  }
 },
 "nbformat": 4,
 "nbformat_minor": 2
}
