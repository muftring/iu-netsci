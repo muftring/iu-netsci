{
 "cells": [
  {
   "cell_type": "markdown",
   "metadata": {},
   "source": [
    "# Exploring DyNetX\n",
    "DyNetx - Dynamic Network library\n",
    "\n",
    "http://dynetx.readthedocs.io/en/latest/index.html"
   ]
  },
  {
   "cell_type": "code",
   "execution_count": 1,
   "metadata": {},
   "outputs": [],
   "source": [
    "import numpy as np\n",
    "import networkx as nx\n",
    "import dynetx as dn"
   ]
  },
  {
   "cell_type": "markdown",
   "metadata": {},
   "source": [
    "Note: needed to update Numpy to 1.14.x"
   ]
  },
  {
   "cell_type": "code",
   "execution_count": 2,
   "metadata": {},
   "outputs": [
    {
     "data": {
      "text/plain": [
       "'1.14.2'"
      ]
     },
     "execution_count": 2,
     "metadata": {},
     "output_type": "execute_result"
    }
   ],
   "source": [
    "np.version.full_version"
   ]
  },
  {
   "cell_type": "markdown",
   "metadata": {},
   "source": [
    "Create a **dynamic graph**, and add a few vertices."
   ]
  },
  {
   "cell_type": "code",
   "execution_count": 60,
   "metadata": {},
   "outputs": [],
   "source": [
    "# A DynGraph stores nodes and timestamped interaction.\n",
    "G = dn.DynGraph()"
   ]
  },
  {
   "cell_type": "code",
   "execution_count": 61,
   "metadata": {},
   "outputs": [],
   "source": [
    "G.add_node(1)"
   ]
  },
  {
   "cell_type": "code",
   "execution_count": 62,
   "metadata": {},
   "outputs": [],
   "source": [
    "G.add_nodes_from([2,3,4])"
   ]
  },
  {
   "cell_type": "code",
   "execution_count": 63,
   "metadata": {},
   "outputs": [
    {
     "data": {
      "text/plain": [
       "4"
      ]
     },
     "execution_count": 63,
     "metadata": {},
     "output_type": "execute_result"
    }
   ],
   "source": [
    "G.number_of_nodes()"
   ]
  },
  {
   "cell_type": "code",
   "execution_count": 64,
   "metadata": {},
   "outputs": [
    {
     "data": {
      "text/plain": [
       "[1, 2, 3, 4]"
      ]
     },
     "execution_count": 64,
     "metadata": {},
     "output_type": "execute_result"
    }
   ],
   "source": [
    "G.nodes()"
   ]
  },
  {
   "cell_type": "markdown",
   "metadata": {},
   "source": [
    "We add **interactions** to a dynamic graph. An interaction is an edge between two vertices, and they are added at a specific time (here the timestamp is `t=0`)"
   ]
  },
  {
   "cell_type": "code",
   "execution_count": 65,
   "metadata": {},
   "outputs": [],
   "source": [
    "time = 0\n",
    "G.add_interactions_from([(1, 2), (1, 3), (2, 3), (3, 4)], t=time)"
   ]
  },
  {
   "cell_type": "code",
   "execution_count": 67,
   "metadata": {},
   "outputs": [],
   "source": [
    "time = 1\n",
    "G.add_interactions_from([(1, 4)], t=1)\n",
    "G."
   ]
  },
  {
   "cell_type": "markdown",
   "metadata": {},
   "source": [
    "and we can see the interactions, and for a specific time"
   ]
  },
  {
   "cell_type": "code",
   "execution_count": 38,
   "metadata": {},
   "outputs": [
    {
     "data": {
      "text/plain": [
       "[(1, 2, {'t': [[0, 0]]}),\n",
       " (1, 3, {'t': [[0, 0]]}),\n",
       " (1, 4, {'t': [[1, 1]]}),\n",
       " (2, 3, {'t': [[0, 0]]}),\n",
       " (3, 4, {'t': [[0, 0]]})]"
      ]
     },
     "execution_count": 38,
     "metadata": {},
     "output_type": "execute_result"
    }
   ],
   "source": [
    "G.interactions()"
   ]
  },
  {
   "cell_type": "code",
   "execution_count": 39,
   "metadata": {},
   "outputs": [
    {
     "data": {
      "text/plain": [
       "[(1, 4, {'t': [1]})]"
      ]
     },
     "execution_count": 39,
     "metadata": {},
     "output_type": "execute_result"
    }
   ],
   "source": [
    "G.interactions(t=1)"
   ]
  },
  {
   "cell_type": "code",
   "execution_count": 40,
   "metadata": {},
   "outputs": [
    {
     "name": "stdout",
     "output_type": "stream",
     "text": [
      "(1, 2, '+', 0)\n",
      "(1, 3, '+', 0)\n",
      "(2, 3, '+', 0)\n",
      "(3, 4, '+', 0)\n",
      "(1, 4, '+', 1)\n"
     ]
    }
   ],
   "source": [
    "for i in G.stream_interactions():\n",
    "    print(i)"
   ]
  },
  {
   "cell_type": "markdown",
   "metadata": {},
   "source": [
    "how to build own own representation"
   ]
  },
  {
   "cell_type": "code",
   "execution_count": 80,
   "metadata": {},
   "outputs": [],
   "source": [
    "# Specify the node-to-node interactions over a span of time\n",
    "# (u, v) : [(t, e), (t, e)]\n",
    "# The nodes are: u, v\n",
    "# The time span is \n",
    "#   t: appearance snapshot id\n",
    "#.  e: vanishing snapshot id\n",
    "form1 = {\n",
    "    (1, 2): [(0, 1)],\n",
    "    (1, 3): [(0, 9)],\n",
    "    (1, 4): [(1, 3), (6, 7)],\n",
    "    (2, 3): [(0, 1), (3, 7)],\n",
    "    (2, 4): [],\n",
    "    (3, 4): [(0, 9)]\n",
    "}"
   ]
  },
  {
   "cell_type": "code",
   "execution_count": 73,
   "metadata": {},
   "outputs": [],
   "source": [
    "G = dn.DynGraph()"
   ]
  },
  {
   "cell_type": "code",
   "execution_count": 75,
   "metadata": {},
   "outputs": [],
   "source": [
    "for link in form1:\n",
    "    u = link[0]\n",
    "    v = link[1]\n",
    "    for interaction in form1[link]:\n",
    "        t = interaction[0]\n",
    "        e = interaction[1]\n",
    "        G.add_interaction(u, v, t, e)"
   ]
  },
  {
   "cell_type": "code",
   "execution_count": 76,
   "metadata": {},
   "outputs": [
    {
     "data": {
      "text/plain": [
       "[(1, 2, {'t': [[0, 0]]}),\n",
       " (1, 3, {'t': [[0, 8]]}),\n",
       " (1, 4, {'t': [[1, 2], [6, 6]]}),\n",
       " (2, 3, {'t': [[0, 0], [3, 6]]}),\n",
       " (3, 4, {'t': [[0, 8]]})]"
      ]
     },
     "execution_count": 76,
     "metadata": {},
     "output_type": "execute_result"
    }
   ],
   "source": [
    "G.interactions()"
   ]
  },
  {
   "cell_type": "code",
   "execution_count": 77,
   "metadata": {},
   "outputs": [
    {
     "name": "stdout",
     "output_type": "stream",
     "text": [
      "(1, 2, '+', 0)\n",
      "(1, 3, '+', 0)\n",
      "(2, 3, '+', 0)\n",
      "(3, 4, '+', 0)\n",
      "(1, 2, '-', 1)\n",
      "(1, 4, '+', 1)\n",
      "(2, 3, '-', 1)\n",
      "(1, 4, '-', 3)\n",
      "(2, 3, '+', 3)\n",
      "(1, 4, '+', 6)\n",
      "(1, 4, '-', 7)\n",
      "(2, 3, '-', 7)\n",
      "(1, 3, '-', 9)\n",
      "(3, 4, '-', 9)\n"
     ]
    }
   ],
   "source": [
    "for i in G.stream_interactions():\n",
    "    print(i)"
   ]
  },
  {
   "cell_type": "code",
   "execution_count": null,
   "metadata": {},
   "outputs": [],
   "source": []
  }
 ],
 "metadata": {
  "kernelspec": {
   "display_name": "Python 3",
   "language": "python",
   "name": "python3"
  },
  "language_info": {
   "codemirror_mode": {
    "name": "ipython",
    "version": 3
   },
   "file_extension": ".py",
   "mimetype": "text/x-python",
   "name": "python",
   "nbconvert_exporter": "python",
   "pygments_lexer": "ipython3",
   "version": "3.6.5"
  }
 },
 "nbformat": 4,
 "nbformat_minor": 2
}
