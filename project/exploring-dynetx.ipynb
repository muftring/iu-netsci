{
 "cells": [
  {
   "cell_type": "markdown",
   "metadata": {},
   "source": [
    "# Exploring DyNetX\n",
    "DyNetx - Dynamic Network library\n",
    "\n",
    "http://dynetx.readthedocs.io/en/latest/index.html"
   ]
  },
  {
   "cell_type": "code",
   "execution_count": null,
   "metadata": {},
   "outputs": [],
   "source": [
    "import numpy as np\n",
    "import networkx as nx\n",
    "import dynetx as dn"
   ]
  },
  {
   "cell_type": "markdown",
   "metadata": {},
   "source": [
    "Note: DyNetX required NetworkX 2.1 and Numpy 1.14.x (which meant updating a lot of other packages in my Python and Jupyter Notebook environment)"
   ]
  },
  {
   "cell_type": "code",
   "execution_count": null,
   "metadata": {},
   "outputs": [],
   "source": [
    "np.version.full_version"
   ]
  },
  {
   "cell_type": "markdown",
   "metadata": {},
   "source": [
    "Create a **dynamic graph**, and add a few vertices."
   ]
  },
  {
   "cell_type": "code",
   "execution_count": null,
   "metadata": {},
   "outputs": [],
   "source": [
    "# A DynGraph stores nodes and timestamped interaction.\n",
    "G = dn.DynGraph()"
   ]
  },
  {
   "cell_type": "code",
   "execution_count": null,
   "metadata": {},
   "outputs": [],
   "source": [
    "G.add_node(1)"
   ]
  },
  {
   "cell_type": "code",
   "execution_count": null,
   "metadata": {},
   "outputs": [],
   "source": [
    "G.add_nodes_from([2,3,4])"
   ]
  },
  {
   "cell_type": "code",
   "execution_count": null,
   "metadata": {},
   "outputs": [],
   "source": [
    "G.number_of_nodes()"
   ]
  },
  {
   "cell_type": "code",
   "execution_count": null,
   "metadata": {},
   "outputs": [],
   "source": [
    "G.nodes()"
   ]
  },
  {
   "cell_type": "markdown",
   "metadata": {},
   "source": [
    "An **interaction** is an edge between two vertices, and they are added at a specific time (here the timestamp is `t` parameter to the `add_interaction` or `add_interactions_from` functions)\n",
    "\n",
    "We will add some **interactions** to the dynamic graph."
   ]
  },
  {
   "cell_type": "markdown",
   "metadata": {},
   "source": [
    "**add_interaction(u, v, t=None, e=None)**\n",
    "\n",
    "```\n",
    "Add an interaction between u and v at time t vanishing (optional) at time e.\n",
    "\n",
    "The nodes u and v will be automatically added if they are\n",
    "not already in the graph.\n",
    "\n",
    "Parameters\n",
    "----------\n",
    "u, v : nodes\n",
    "    Nodes can be, for example, strings or numbers.\n",
    "    Nodes must be hashable (and not None) Python objects.\n",
    "t : appearance snapshot id, mandatory\n",
    "e : vanishing snapshot id, optional (default=None)\n",
    "```"
   ]
  },
  {
   "cell_type": "code",
   "execution_count": null,
   "metadata": {},
   "outputs": [],
   "source": [
    "time = 0\n",
    "G.add_interaction(1, 2, time)"
   ]
  },
  {
   "cell_type": "code",
   "execution_count": null,
   "metadata": {},
   "outputs": [],
   "source": [
    "time = 1\n",
    "G.add_interactions_from([(3, 1), (3, 2), (3, 4)], t=time)"
   ]
  },
  {
   "cell_type": "code",
   "execution_count": null,
   "metadata": {},
   "outputs": [],
   "source": [
    "time = 2\n",
    "G.add_interactions_from([(4, 1)], t=time)"
   ]
  },
  {
   "cell_type": "code",
   "execution_count": null,
   "metadata": {},
   "outputs": [],
   "source": [
    "time = 3\n",
    "G.add_interactions_from([(4, 2)], t=time)"
   ]
  },
  {
   "cell_type": "markdown",
   "metadata": {},
   "source": [
    "Interactions have an **arrival time** and a **vanishing point**.\n",
    "\n",
    "The **arrival time** is when the interaction is first observed (added).\n",
    "\n",
    "The **vanishing point** is when the interaction is no longer observed (removed).\n",
    "\n",
    "Next, we add an interaction with a **vanishing point**"
   ]
  },
  {
   "cell_type": "code",
   "execution_count": null,
   "metadata": {},
   "outputs": [],
   "source": [
    "time = 3\n",
    "vanish = 5\n",
    "G.add_interactions_from([(1, 5)], t=time, e=vanish)"
   ]
  },
  {
   "cell_type": "markdown",
   "metadata": {},
   "source": [
    "and we can see all interactions"
   ]
  },
  {
   "cell_type": "code",
   "execution_count": null,
   "metadata": {},
   "outputs": [],
   "source": [
    "G.interactions()"
   ]
  },
  {
   "cell_type": "markdown",
   "metadata": {},
   "source": [
    "and we can see interactions for specific times, these are **snapshots**"
   ]
  },
  {
   "cell_type": "code",
   "execution_count": null,
   "metadata": {},
   "outputs": [],
   "source": [
    "G.interactions(t=0)"
   ]
  },
  {
   "cell_type": "code",
   "execution_count": null,
   "metadata": {},
   "outputs": [],
   "source": [
    "G.interactions(t=1)"
   ]
  },
  {
   "cell_type": "code",
   "execution_count": null,
   "metadata": {},
   "outputs": [],
   "source": [
    "G.interactions(t=3)"
   ]
  },
  {
   "cell_type": "code",
   "execution_count": null,
   "metadata": {},
   "outputs": [],
   "source": [
    "G.interactions(t=4)"
   ]
  },
  {
   "cell_type": "code",
   "execution_count": null,
   "metadata": {},
   "outputs": [],
   "source": [
    "G.interactions(t=5)"
   ]
  },
  {
   "cell_type": "markdown",
   "metadata": {},
   "source": [
    "we can \"stream\" the interactions, note they are time ordered.\n",
    "\n",
    "The values are:\n",
    "- source\n",
    "- target\n",
    "- interaciton\n",
    "- time\n",
    "\n",
    "Where interaction is:\n",
    "- `+` means add\n",
    "- `-` means remove (\"vanish\")"
   ]
  },
  {
   "cell_type": "code",
   "execution_count": null,
   "metadata": {},
   "outputs": [],
   "source": [
    "for i in G.stream_interactions():\n",
    "    print(i)"
   ]
  },
  {
   "cell_type": "markdown",
   "metadata": {},
   "source": [
    "how to build own own representation"
   ]
  },
  {
   "cell_type": "code",
   "execution_count": null,
   "metadata": {},
   "outputs": [],
   "source": [
    "from IPython.display import Image\n",
    "Image(filename='dynamic-graph-example.png')"
   ]
  },
  {
   "cell_type": "code",
   "execution_count": null,
   "metadata": {},
   "outputs": [],
   "source": [
    "# Specify the node-to-node interactions over a span of time\n",
    "# (u, v) : [(t, e), (t, e)]\n",
    "# The nodes are: u, v\n",
    "# The time span is \n",
    "#   t: appearance snapshot id\n",
    "#.  e: vanishing snapshot id (-1 means no vanishing point)\n",
    "form2 = {\n",
    "    ('a','b'): [(2, -1)],\n",
    "    ('a','c'): [(0, -1)],\n",
    "    ('a','d'): [(0, 1)],\n",
    "    ('a','s'): [(0, -1)],\n",
    "    ('b','d'): [(2, -1)],\n",
    "    ('b','s'): [(2, -1)],\n",
    "    ('c','d'): [(0, -1)],\n",
    "    ('c','t'): [(1, -1)],\n",
    "    ('c','x'): [(0, 1)],\n",
    "    ('d','s'): [(0, 2)],\n",
    "    ('d','t'): [(1, -1)]\n",
    "}"
   ]
  },
  {
   "cell_type": "code",
   "execution_count": null,
   "metadata": {},
   "outputs": [],
   "source": [
    "G = dn.DynGraph()"
   ]
  },
  {
   "cell_type": "code",
   "execution_count": null,
   "metadata": {},
   "outputs": [],
   "source": [
    "for link in form2:\n",
    "    u = link[0]\n",
    "    v = link[1]\n",
    "    for interaction in form2[link]:\n",
    "        t = interaction[0]\n",
    "        e = interaction[1]\n",
    "        if e == -1:\n",
    "            G.add_interaction(u, v, t)\n",
    "        else:\n",
    "            G.add_interaction(u, v, t, e)"
   ]
  },
  {
   "cell_type": "code",
   "execution_count": null,
   "metadata": {},
   "outputs": [],
   "source": [
    "G.interactions()"
   ]
  },
  {
   "cell_type": "code",
   "execution_count": null,
   "metadata": {},
   "outputs": [],
   "source": [
    "for i in G.stream_interactions():\n",
    "    print(i)"
   ]
  },
  {
   "cell_type": "code",
   "execution_count": null,
   "metadata": {},
   "outputs": [],
   "source": []
  },
  {
   "cell_type": "markdown",
   "metadata": {},
   "source": [
    "Some thoughts and comments on DyNetX:\n",
    "- it is derived from NetworkX\n",
    "- it has a nice concept of time\n",
    "- can read/write dynamic graphs and snapshots from/to files\n",
    "- can see the state of a dynamic graph at given point in time (`time_slice`)\n",
    "- dynamic graph activity can be frozen\n",
    "- can add cycles\n",
    "- can add stars\n",
    "- can add paths\n",
    "- it does not allow for removing nodes"
   ]
  },
  {
   "cell_type": "code",
   "execution_count": null,
   "metadata": {},
   "outputs": [],
   "source": []
  }
 ],
 "metadata": {
  "kernelspec": {
   "display_name": "Python [default]",
   "language": "python",
   "name": "python3"
  },
  "language_info": {
   "codemirror_mode": {
    "name": "ipython",
    "version": 3
   },
   "file_extension": ".py",
   "mimetype": "text/x-python",
   "name": "python",
   "nbconvert_exporter": "python",
   "pygments_lexer": "ipython3",
   "version": "3.6.5"
  }
 },
 "nbformat": 4,
 "nbformat_minor": 2
}
