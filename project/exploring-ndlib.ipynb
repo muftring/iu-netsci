{
 "cells": [
  {
   "cell_type": "markdown",
   "metadata": {},
   "source": [
    "# Exploring NDlib\n",
    "NDlib - Network Diffusion Library\n",
    "\n",
    "http://ndlib.readthedocs.io/en/latest/index.html"
   ]
  },
  {
   "cell_type": "code",
   "execution_count": 1,
   "metadata": {},
   "outputs": [],
   "source": [
    "import networkx as nx\n",
    "import ndlib.models.epidemics.SIRModel as sir"
   ]
  },
  {
   "cell_type": "markdown",
   "metadata": {},
   "source": [
    "Following the tutorial:\n",
    "\n",
    "http://ndlib.readthedocs.io/en/latest/tutorial.html"
   ]
  },
  {
   "cell_type": "code",
   "execution_count": 2,
   "metadata": {},
   "outputs": [],
   "source": [
    "# Network Definition\n",
    "g = nx.erdos_renyi_graph(1000, 0.1)\n",
    "\n",
    "# Model Selection\n",
    "model = sir.SIRModel(g)"
   ]
  },
  {
   "cell_type": "code",
   "execution_count": 3,
   "metadata": {},
   "outputs": [],
   "source": [
    "import ndlib.models.ModelConfig as mc\n",
    "\n",
    "# Model Configuration\n",
    "config = mc.Configuration()\n",
    "config.add_model_parameter('beta', 0.001)\n",
    "config.add_model_parameter('gamma', 0.01)\n",
    "config.add_model_parameter(\"percentage_infected\", 0.05)\n",
    "model.set_initial_status(config)"
   ]
  },
  {
   "cell_type": "code",
   "execution_count": 4,
   "metadata": {},
   "outputs": [],
   "source": [
    "# Simulation\n",
    "iterations = model.iteration_bunch(200)\n",
    "trends = model.build_trends(iterations)"
   ]
  },
  {
   "cell_type": "code",
   "execution_count": 6,
   "metadata": {},
   "outputs": [
    {
     "data": {
      "text/html": [
       "\n",
       "    <div class=\"bk-root\">\n",
       "        <a href=\"https://bokeh.pydata.org\" target=\"_blank\" class=\"bk-logo bk-logo-small bk-logo-notebook\"></a>\n",
       "        <span id=\"7e293d94-bf7d-4adf-b65c-eb437872e8a0\">Loading BokehJS ...</span>\n",
       "    </div>"
      ]
     },
     "metadata": {},
     "output_type": "display_data"
    },
    {
     "data": {
      "application/javascript": [
       "\n",
       "(function(root) {\n",
       "  function now() {\n",
       "    return new Date();\n",
       "  }\n",
       "\n",
       "  var force = true;\n",
       "\n",
       "  if (typeof (root._bokeh_onload_callbacks) === \"undefined\" || force === true) {\n",
       "    root._bokeh_onload_callbacks = [];\n",
       "    root._bokeh_is_loading = undefined;\n",
       "  }\n",
       "\n",
       "  var JS_MIME_TYPE = 'application/javascript';\n",
       "  var HTML_MIME_TYPE = 'text/html';\n",
       "  var EXEC_MIME_TYPE = 'application/vnd.bokehjs_exec.v0+json';\n",
       "  var CLASS_NAME = 'output_bokeh rendered_html';\n",
       "\n",
       "  /**\n",
       "   * Render data to the DOM node\n",
       "   */\n",
       "  function render(props, node) {\n",
       "    var script = document.createElement(\"script\");\n",
       "    node.appendChild(script);\n",
       "  }\n",
       "\n",
       "  /**\n",
       "   * Handle when an output is cleared or removed\n",
       "   */\n",
       "  function handleClearOutput(event, handle) {\n",
       "    var cell = handle.cell;\n",
       "\n",
       "    var id = cell.output_area._bokeh_element_id;\n",
       "    var server_id = cell.output_area._bokeh_server_id;\n",
       "    // Clean up Bokeh references\n",
       "    if (id !== undefined) {\n",
       "      Bokeh.index[id].model.document.clear();\n",
       "      delete Bokeh.index[id];\n",
       "    }\n",
       "\n",
       "    if (server_id !== undefined) {\n",
       "      // Clean up Bokeh references\n",
       "      var cmd = \"from bokeh.io.state import curstate; print(curstate().uuid_to_server['\" + server_id + \"'].get_sessions()[0].document.roots[0]._id)\";\n",
       "      cell.notebook.kernel.execute(cmd, {\n",
       "        iopub: {\n",
       "          output: function(msg) {\n",
       "            var element_id = msg.content.text.trim();\n",
       "            Bokeh.index[element_id].model.document.clear();\n",
       "            delete Bokeh.index[element_id];\n",
       "          }\n",
       "        }\n",
       "      });\n",
       "      // Destroy server and session\n",
       "      var cmd = \"import bokeh.io.notebook as ion; ion.destroy_server('\" + server_id + \"')\";\n",
       "      cell.notebook.kernel.execute(cmd);\n",
       "    }\n",
       "  }\n",
       "\n",
       "  /**\n",
       "   * Handle when a new output is added\n",
       "   */\n",
       "  function handleAddOutput(event, handle) {\n",
       "    var output_area = handle.output_area;\n",
       "    var output = handle.output;\n",
       "\n",
       "    // limit handleAddOutput to display_data with EXEC_MIME_TYPE content only\n",
       "    if ((output.output_type != \"display_data\") || (!output.data.hasOwnProperty(EXEC_MIME_TYPE))) {\n",
       "      return\n",
       "    }\n",
       "\n",
       "    var toinsert = output_area.element.find(\".\" + CLASS_NAME.split(' ')[0]);\n",
       "\n",
       "    if (output.metadata[EXEC_MIME_TYPE][\"id\"] !== undefined) {\n",
       "      toinsert[toinsert.length - 1].firstChild.textContent = output.data[JS_MIME_TYPE];\n",
       "      // store reference to embed id on output_area\n",
       "      output_area._bokeh_element_id = output.metadata[EXEC_MIME_TYPE][\"id\"];\n",
       "    }\n",
       "    if (output.metadata[EXEC_MIME_TYPE][\"server_id\"] !== undefined) {\n",
       "      var bk_div = document.createElement(\"div\");\n",
       "      bk_div.innerHTML = output.data[HTML_MIME_TYPE];\n",
       "      var script_attrs = bk_div.children[0].attributes;\n",
       "      for (var i = 0; i < script_attrs.length; i++) {\n",
       "        toinsert[toinsert.length - 1].firstChild.setAttribute(script_attrs[i].name, script_attrs[i].value);\n",
       "      }\n",
       "      // store reference to server id on output_area\n",
       "      output_area._bokeh_server_id = output.metadata[EXEC_MIME_TYPE][\"server_id\"];\n",
       "    }\n",
       "  }\n",
       "\n",
       "  function register_renderer(events, OutputArea) {\n",
       "\n",
       "    function append_mime(data, metadata, element) {\n",
       "      // create a DOM node to render to\n",
       "      var toinsert = this.create_output_subarea(\n",
       "        metadata,\n",
       "        CLASS_NAME,\n",
       "        EXEC_MIME_TYPE\n",
       "      );\n",
       "      this.keyboard_manager.register_events(toinsert);\n",
       "      // Render to node\n",
       "      var props = {data: data, metadata: metadata[EXEC_MIME_TYPE]};\n",
       "      render(props, toinsert[toinsert.length - 1]);\n",
       "      element.append(toinsert);\n",
       "      return toinsert\n",
       "    }\n",
       "\n",
       "    /* Handle when an output is cleared or removed */\n",
       "    events.on('clear_output.CodeCell', handleClearOutput);\n",
       "    events.on('delete.Cell', handleClearOutput);\n",
       "\n",
       "    /* Handle when a new output is added */\n",
       "    events.on('output_added.OutputArea', handleAddOutput);\n",
       "\n",
       "    /**\n",
       "     * Register the mime type and append_mime function with output_area\n",
       "     */\n",
       "    OutputArea.prototype.register_mime_type(EXEC_MIME_TYPE, append_mime, {\n",
       "      /* Is output safe? */\n",
       "      safe: true,\n",
       "      /* Index of renderer in `output_area.display_order` */\n",
       "      index: 0\n",
       "    });\n",
       "  }\n",
       "\n",
       "  // register the mime type if in Jupyter Notebook environment and previously unregistered\n",
       "  if (root.Jupyter !== undefined) {\n",
       "    var events = require('base/js/events');\n",
       "    var OutputArea = require('notebook/js/outputarea').OutputArea;\n",
       "\n",
       "    if (OutputArea.prototype.mime_types().indexOf(EXEC_MIME_TYPE) == -1) {\n",
       "      register_renderer(events, OutputArea);\n",
       "    }\n",
       "  }\n",
       "\n",
       "  \n",
       "  if (typeof (root._bokeh_timeout) === \"undefined\" || force === true) {\n",
       "    root._bokeh_timeout = Date.now() + 5000;\n",
       "    root._bokeh_failed_load = false;\n",
       "  }\n",
       "\n",
       "  var NB_LOAD_WARNING = {'data': {'text/html':\n",
       "     \"<div style='background-color: #fdd'>\\n\"+\n",
       "     \"<p>\\n\"+\n",
       "     \"BokehJS does not appear to have successfully loaded. If loading BokehJS from CDN, this \\n\"+\n",
       "     \"may be due to a slow or bad network connection. Possible fixes:\\n\"+\n",
       "     \"</p>\\n\"+\n",
       "     \"<ul>\\n\"+\n",
       "     \"<li>re-rerun `output_notebook()` to attempt to load from CDN again, or</li>\\n\"+\n",
       "     \"<li>use INLINE resources instead, as so:</li>\\n\"+\n",
       "     \"</ul>\\n\"+\n",
       "     \"<code>\\n\"+\n",
       "     \"from bokeh.resources import INLINE\\n\"+\n",
       "     \"output_notebook(resources=INLINE)\\n\"+\n",
       "     \"</code>\\n\"+\n",
       "     \"</div>\"}};\n",
       "\n",
       "  function display_loaded() {\n",
       "    var el = document.getElementById(\"7e293d94-bf7d-4adf-b65c-eb437872e8a0\");\n",
       "    if (el != null) {\n",
       "      el.textContent = \"BokehJS is loading...\";\n",
       "    }\n",
       "    if (root.Bokeh !== undefined) {\n",
       "      if (el != null) {\n",
       "        el.textContent = \"BokehJS \" + root.Bokeh.version + \" successfully loaded.\";\n",
       "      }\n",
       "    } else if (Date.now() < root._bokeh_timeout) {\n",
       "      setTimeout(display_loaded, 100)\n",
       "    }\n",
       "  }\n",
       "\n",
       "\n",
       "  function run_callbacks() {\n",
       "    try {\n",
       "      root._bokeh_onload_callbacks.forEach(function(callback) { callback() });\n",
       "    }\n",
       "    finally {\n",
       "      delete root._bokeh_onload_callbacks\n",
       "    }\n",
       "    console.info(\"Bokeh: all callbacks have finished\");\n",
       "  }\n",
       "\n",
       "  function load_libs(js_urls, callback) {\n",
       "    root._bokeh_onload_callbacks.push(callback);\n",
       "    if (root._bokeh_is_loading > 0) {\n",
       "      console.log(\"Bokeh: BokehJS is being loaded, scheduling callback at\", now());\n",
       "      return null;\n",
       "    }\n",
       "    if (js_urls == null || js_urls.length === 0) {\n",
       "      run_callbacks();\n",
       "      return null;\n",
       "    }\n",
       "    console.log(\"Bokeh: BokehJS not loaded, scheduling load and callback at\", now());\n",
       "    root._bokeh_is_loading = js_urls.length;\n",
       "    for (var i = 0; i < js_urls.length; i++) {\n",
       "      var url = js_urls[i];\n",
       "      var s = document.createElement('script');\n",
       "      s.src = url;\n",
       "      s.async = false;\n",
       "      s.onreadystatechange = s.onload = function() {\n",
       "        root._bokeh_is_loading--;\n",
       "        if (root._bokeh_is_loading === 0) {\n",
       "          console.log(\"Bokeh: all BokehJS libraries loaded\");\n",
       "          run_callbacks()\n",
       "        }\n",
       "      };\n",
       "      s.onerror = function() {\n",
       "        console.warn(\"failed to load library \" + url);\n",
       "      };\n",
       "      console.log(\"Bokeh: injecting script tag for BokehJS library: \", url);\n",
       "      document.getElementsByTagName(\"head\")[0].appendChild(s);\n",
       "    }\n",
       "  };var element = document.getElementById(\"7e293d94-bf7d-4adf-b65c-eb437872e8a0\");\n",
       "  if (element == null) {\n",
       "    console.log(\"Bokeh: ERROR: autoload.js configured with elementid '7e293d94-bf7d-4adf-b65c-eb437872e8a0' but no matching script tag was found. \")\n",
       "    return false;\n",
       "  }\n",
       "\n",
       "  var js_urls = [\"https://cdn.pydata.org/bokeh/release/bokeh-0.12.15.min.js\", \"https://cdn.pydata.org/bokeh/release/bokeh-widgets-0.12.15.min.js\", \"https://cdn.pydata.org/bokeh/release/bokeh-tables-0.12.15.min.js\", \"https://cdn.pydata.org/bokeh/release/bokeh-gl-0.12.15.min.js\"];\n",
       "\n",
       "  var inline_js = [\n",
       "    function(Bokeh) {\n",
       "      Bokeh.set_log_level(\"info\");\n",
       "    },\n",
       "    \n",
       "    function(Bokeh) {\n",
       "      \n",
       "    },\n",
       "    function(Bokeh) {\n",
       "      console.log(\"Bokeh: injecting CSS: https://cdn.pydata.org/bokeh/release/bokeh-0.12.15.min.css\");\n",
       "      Bokeh.embed.inject_css(\"https://cdn.pydata.org/bokeh/release/bokeh-0.12.15.min.css\");\n",
       "      console.log(\"Bokeh: injecting CSS: https://cdn.pydata.org/bokeh/release/bokeh-widgets-0.12.15.min.css\");\n",
       "      Bokeh.embed.inject_css(\"https://cdn.pydata.org/bokeh/release/bokeh-widgets-0.12.15.min.css\");\n",
       "      console.log(\"Bokeh: injecting CSS: https://cdn.pydata.org/bokeh/release/bokeh-tables-0.12.15.min.css\");\n",
       "      Bokeh.embed.inject_css(\"https://cdn.pydata.org/bokeh/release/bokeh-tables-0.12.15.min.css\");\n",
       "    }\n",
       "  ];\n",
       "\n",
       "  function run_inline_js() {\n",
       "    \n",
       "    if ((root.Bokeh !== undefined) || (force === true)) {\n",
       "      for (var i = 0; i < inline_js.length; i++) {\n",
       "        inline_js[i].call(root, root.Bokeh);\n",
       "      }if (force === true) {\n",
       "        display_loaded();\n",
       "      }} else if (Date.now() < root._bokeh_timeout) {\n",
       "      setTimeout(run_inline_js, 100);\n",
       "    } else if (!root._bokeh_failed_load) {\n",
       "      console.log(\"Bokeh: BokehJS failed to load within specified timeout.\");\n",
       "      root._bokeh_failed_load = true;\n",
       "    } else if (force !== true) {\n",
       "      var cell = $(document.getElementById(\"7e293d94-bf7d-4adf-b65c-eb437872e8a0\")).parents('.cell').data().cell;\n",
       "      cell.output_area.append_execute_result(NB_LOAD_WARNING)\n",
       "    }\n",
       "\n",
       "  }\n",
       "\n",
       "  if (root._bokeh_is_loading === 0) {\n",
       "    console.log(\"Bokeh: BokehJS loaded, going straight to plotting\");\n",
       "    run_inline_js();\n",
       "  } else {\n",
       "    load_libs(js_urls, function() {\n",
       "      console.log(\"Bokeh: BokehJS plotting callback run at\", now());\n",
       "      run_inline_js();\n",
       "    });\n",
       "  }\n",
       "}(window));"
      ],
      "application/vnd.bokehjs_load.v0+json": "\n(function(root) {\n  function now() {\n    return new Date();\n  }\n\n  var force = true;\n\n  if (typeof (root._bokeh_onload_callbacks) === \"undefined\" || force === true) {\n    root._bokeh_onload_callbacks = [];\n    root._bokeh_is_loading = undefined;\n  }\n\n  \n\n  \n  if (typeof (root._bokeh_timeout) === \"undefined\" || force === true) {\n    root._bokeh_timeout = Date.now() + 5000;\n    root._bokeh_failed_load = false;\n  }\n\n  var NB_LOAD_WARNING = {'data': {'text/html':\n     \"<div style='background-color: #fdd'>\\n\"+\n     \"<p>\\n\"+\n     \"BokehJS does not appear to have successfully loaded. If loading BokehJS from CDN, this \\n\"+\n     \"may be due to a slow or bad network connection. Possible fixes:\\n\"+\n     \"</p>\\n\"+\n     \"<ul>\\n\"+\n     \"<li>re-rerun `output_notebook()` to attempt to load from CDN again, or</li>\\n\"+\n     \"<li>use INLINE resources instead, as so:</li>\\n\"+\n     \"</ul>\\n\"+\n     \"<code>\\n\"+\n     \"from bokeh.resources import INLINE\\n\"+\n     \"output_notebook(resources=INLINE)\\n\"+\n     \"</code>\\n\"+\n     \"</div>\"}};\n\n  function display_loaded() {\n    var el = document.getElementById(\"7e293d94-bf7d-4adf-b65c-eb437872e8a0\");\n    if (el != null) {\n      el.textContent = \"BokehJS is loading...\";\n    }\n    if (root.Bokeh !== undefined) {\n      if (el != null) {\n        el.textContent = \"BokehJS \" + root.Bokeh.version + \" successfully loaded.\";\n      }\n    } else if (Date.now() < root._bokeh_timeout) {\n      setTimeout(display_loaded, 100)\n    }\n  }\n\n\n  function run_callbacks() {\n    try {\n      root._bokeh_onload_callbacks.forEach(function(callback) { callback() });\n    }\n    finally {\n      delete root._bokeh_onload_callbacks\n    }\n    console.info(\"Bokeh: all callbacks have finished\");\n  }\n\n  function load_libs(js_urls, callback) {\n    root._bokeh_onload_callbacks.push(callback);\n    if (root._bokeh_is_loading > 0) {\n      console.log(\"Bokeh: BokehJS is being loaded, scheduling callback at\", now());\n      return null;\n    }\n    if (js_urls == null || js_urls.length === 0) {\n      run_callbacks();\n      return null;\n    }\n    console.log(\"Bokeh: BokehJS not loaded, scheduling load and callback at\", now());\n    root._bokeh_is_loading = js_urls.length;\n    for (var i = 0; i < js_urls.length; i++) {\n      var url = js_urls[i];\n      var s = document.createElement('script');\n      s.src = url;\n      s.async = false;\n      s.onreadystatechange = s.onload = function() {\n        root._bokeh_is_loading--;\n        if (root._bokeh_is_loading === 0) {\n          console.log(\"Bokeh: all BokehJS libraries loaded\");\n          run_callbacks()\n        }\n      };\n      s.onerror = function() {\n        console.warn(\"failed to load library \" + url);\n      };\n      console.log(\"Bokeh: injecting script tag for BokehJS library: \", url);\n      document.getElementsByTagName(\"head\")[0].appendChild(s);\n    }\n  };var element = document.getElementById(\"7e293d94-bf7d-4adf-b65c-eb437872e8a0\");\n  if (element == null) {\n    console.log(\"Bokeh: ERROR: autoload.js configured with elementid '7e293d94-bf7d-4adf-b65c-eb437872e8a0' but no matching script tag was found. \")\n    return false;\n  }\n\n  var js_urls = [\"https://cdn.pydata.org/bokeh/release/bokeh-0.12.15.min.js\", \"https://cdn.pydata.org/bokeh/release/bokeh-widgets-0.12.15.min.js\", \"https://cdn.pydata.org/bokeh/release/bokeh-tables-0.12.15.min.js\", \"https://cdn.pydata.org/bokeh/release/bokeh-gl-0.12.15.min.js\"];\n\n  var inline_js = [\n    function(Bokeh) {\n      Bokeh.set_log_level(\"info\");\n    },\n    \n    function(Bokeh) {\n      \n    },\n    function(Bokeh) {\n      console.log(\"Bokeh: injecting CSS: https://cdn.pydata.org/bokeh/release/bokeh-0.12.15.min.css\");\n      Bokeh.embed.inject_css(\"https://cdn.pydata.org/bokeh/release/bokeh-0.12.15.min.css\");\n      console.log(\"Bokeh: injecting CSS: https://cdn.pydata.org/bokeh/release/bokeh-widgets-0.12.15.min.css\");\n      Bokeh.embed.inject_css(\"https://cdn.pydata.org/bokeh/release/bokeh-widgets-0.12.15.min.css\");\n      console.log(\"Bokeh: injecting CSS: https://cdn.pydata.org/bokeh/release/bokeh-tables-0.12.15.min.css\");\n      Bokeh.embed.inject_css(\"https://cdn.pydata.org/bokeh/release/bokeh-tables-0.12.15.min.css\");\n    }\n  ];\n\n  function run_inline_js() {\n    \n    if ((root.Bokeh !== undefined) || (force === true)) {\n      for (var i = 0; i < inline_js.length; i++) {\n        inline_js[i].call(root, root.Bokeh);\n      }if (force === true) {\n        display_loaded();\n      }} else if (Date.now() < root._bokeh_timeout) {\n      setTimeout(run_inline_js, 100);\n    } else if (!root._bokeh_failed_load) {\n      console.log(\"Bokeh: BokehJS failed to load within specified timeout.\");\n      root._bokeh_failed_load = true;\n    } else if (force !== true) {\n      var cell = $(document.getElementById(\"7e293d94-bf7d-4adf-b65c-eb437872e8a0\")).parents('.cell').data().cell;\n      cell.output_area.append_execute_result(NB_LOAD_WARNING)\n    }\n\n  }\n\n  if (root._bokeh_is_loading === 0) {\n    console.log(\"Bokeh: BokehJS loaded, going straight to plotting\");\n    run_inline_js();\n  } else {\n    load_libs(js_urls, function() {\n      console.log(\"Bokeh: BokehJS plotting callback run at\", now());\n      run_inline_js();\n    });\n  }\n}(window));"
     },
     "metadata": {},
     "output_type": "display_data"
    },
    {
     "data": {
      "text/html": [
       "\n",
       "<div class=\"bk-root\">\n",
       "    <div class=\"bk-plotdiv\" id=\"adb3da4b-6bf5-4478-aa86-36884363487d\"></div>\n",
       "</div>"
      ]
     },
     "metadata": {},
     "output_type": "display_data"
    },
    {
     "data": {
      "application/javascript": [
       "(function(root) {\n",
       "  function embed_document(root) {\n",
       "    \n",
       "  var docs_json = {\"cc55600a-d680-4946-89f2-c2805226d814\":{\"roots\":{\"references\":[{\"attributes\":{\"line_alpha\":0.5,\"line_color\":\"#1f77b4\",\"line_width\":2,\"x\":{\"field\":\"x\"},\"y\":{\"field\":\"y\"}},\"id\":\"067de1db-8179-465f-972a-e0ee604a5949\",\"type\":\"Line\"},{\"attributes\":{\"line_alpha\":0.5,\"line_color\":\"#aec7e8\",\"line_width\":2,\"x\":{\"field\":\"x\"},\"y\":{\"field\":\"y\"}},\"id\":\"3a406573-3315-4889-a456-f78713b72000\",\"type\":\"Line\"},{\"attributes\":{\"callback\":null},\"id\":\"711986b8-6238-46f2-862f-86a0974f9fa9\",\"type\":\"DataRange1d\"},{\"attributes\":{\"label\":{\"value\":\"Infected\"},\"renderers\":[{\"id\":\"6edf1759-de02-4afa-8e56-5e0374453561\",\"type\":\"GlyphRenderer\"}]},\"id\":\"4c8c487b-65bf-4942-9ac2-f58f9ab7c167\",\"type\":\"LegendItem\"},{\"attributes\":{\"active_drag\":\"auto\",\"active_inspect\":\"auto\",\"active_scroll\":\"auto\",\"active_tap\":\"auto\",\"tools\":[{\"id\":\"d76d270b-e33a-434b-b757-6af1daf76143\",\"type\":\"PanTool\"},{\"id\":\"b556c6ab-a40a-46ce-a89d-0692f64a5366\",\"type\":\"WheelZoomTool\"},{\"id\":\"a7c4fee8-1af7-450f-9553-95bab40d2157\",\"type\":\"BoxZoomTool\"},{\"id\":\"81998ad3-b12b-4e99-9368-7a42571e5b73\",\"type\":\"SaveTool\"},{\"id\":\"31218dc8-712c-458a-ab0d-f38c05551381\",\"type\":\"ResetTool\"},{\"id\":\"52cb995e-55a8-4ad7-b598-7b99fbc08c01\",\"type\":\"HelpTool\"}]},\"id\":\"7d66a154-c642-4710-917d-5caa74e36567\",\"type\":\"Toolbar\"},{\"attributes\":{\"grid_line_alpha\":{\"value\":0.5},\"plot\":{\"id\":\"f1d2aaea-c7f4-4ff1-ae53-54bfc12c4c50\",\"subtype\":\"Figure\",\"type\":\"Plot\"},\"ticker\":{\"id\":\"f9321a10-bee0-4c82-8500-8268131abd63\",\"type\":\"BasicTicker\"}},\"id\":\"92ff4f9a-a902-4727-a211-9aa33d2eb487\",\"type\":\"Grid\"},{\"attributes\":{},\"id\":\"545154a8-7d87-4b0d-85cb-bbc916ecaac1\",\"type\":\"LinearScale\"},{\"attributes\":{},\"id\":\"55eb129c-5ef8-44e4-a6c8-2c9e59b266dd\",\"type\":\"LinearScale\"},{\"attributes\":{\"line_alpha\":0.1,\"line_color\":\"#1f77b4\",\"line_width\":2,\"x\":{\"field\":\"x\"},\"y\":{\"field\":\"y\"}},\"id\":\"c8e7d233-20e8-465e-be23-316d925bd7dc\",\"type\":\"Line\"},{\"attributes\":{\"callback\":null},\"id\":\"e3f0b825-4c5e-4c94-8211-66bb84e8e56c\",\"type\":\"DataRange1d\"},{\"attributes\":{\"data_source\":{\"id\":\"6383c266-d937-4fa1-89fc-9ed024ca7744\",\"type\":\"ColumnDataSource\"},\"glyph\":{\"id\":\"98632ada-3f13-4cbe-bdb0-988d53754ca7\",\"type\":\"Line\"},\"hover_glyph\":null,\"muted_glyph\":null,\"nonselection_glyph\":{\"id\":\"d69a2755-636d-4aa9-85e5-a71057db458c\",\"type\":\"Line\"},\"selection_glyph\":null,\"view\":{\"id\":\"fc107b0a-1377-489a-ae49-7633cca3b465\",\"type\":\"CDSView\"}},\"id\":\"c36ddbd0-67be-4788-a9e9-a0e67a70dd91\",\"type\":\"GlyphRenderer\"},{\"attributes\":{},\"id\":\"f9321a10-bee0-4c82-8500-8268131abd63\",\"type\":\"BasicTicker\"},{\"attributes\":{\"label\":{\"value\":\"Removed\"},\"renderers\":[{\"id\":\"c36ddbd0-67be-4788-a9e9-a0e67a70dd91\",\"type\":\"GlyphRenderer\"}]},\"id\":\"98193a2c-d722-4cbb-9575-57e52d3a3ce9\",\"type\":\"LegendItem\"},{\"attributes\":{\"axis_label\":\"Iterations\",\"formatter\":{\"id\":\"0cfd58f1-60b6-4686-a31f-0f67e4b35792\",\"type\":\"BasicTickFormatter\"},\"plot\":{\"id\":\"f1d2aaea-c7f4-4ff1-ae53-54bfc12c4c50\",\"subtype\":\"Figure\",\"type\":\"Plot\"},\"ticker\":{\"id\":\"f9321a10-bee0-4c82-8500-8268131abd63\",\"type\":\"BasicTicker\"}},\"id\":\"5e2302a5-78b4-46eb-8f3b-2077874f3b17\",\"type\":\"LinearAxis\"},{\"attributes\":{\"dimension\":1,\"grid_line_alpha\":{\"value\":0.5},\"plot\":{\"id\":\"f1d2aaea-c7f4-4ff1-ae53-54bfc12c4c50\",\"subtype\":\"Figure\",\"type\":\"Plot\"},\"ticker\":{\"id\":\"b32b18d5-8dba-4ec3-a0e6-f8cf33974121\",\"type\":\"BasicTicker\"}},\"id\":\"9f8365ee-1c4d-43f2-b12d-294fe7a738b6\",\"type\":\"Grid\"},{\"attributes\":{},\"id\":\"b32b18d5-8dba-4ec3-a0e6-f8cf33974121\",\"type\":\"BasicTicker\"},{\"attributes\":{\"axis_label\":\"#Nodes\",\"formatter\":{\"id\":\"f48dfdc3-d6a5-48d8-9da5-9b52dd9b3582\",\"type\":\"BasicTickFormatter\"},\"plot\":{\"id\":\"f1d2aaea-c7f4-4ff1-ae53-54bfc12c4c50\",\"subtype\":\"Figure\",\"type\":\"Plot\"},\"ticker\":{\"id\":\"b32b18d5-8dba-4ec3-a0e6-f8cf33974121\",\"type\":\"BasicTicker\"}},\"id\":\"ca2d7cc3-4ad7-4d97-a6a6-ab76fbf24406\",\"type\":\"LinearAxis\"},{\"attributes\":{},\"id\":\"0cfd58f1-60b6-4686-a31f-0f67e4b35792\",\"type\":\"BasicTickFormatter\"},{\"attributes\":{\"source\":{\"id\":\"6383c266-d937-4fa1-89fc-9ed024ca7744\",\"type\":\"ColumnDataSource\"}},\"id\":\"fc107b0a-1377-489a-ae49-7633cca3b465\",\"type\":\"CDSView\"},{\"attributes\":{\"line_alpha\":0.1,\"line_color\":\"#1f77b4\",\"line_width\":2,\"x\":{\"field\":\"x\"},\"y\":{\"field\":\"y\"}},\"id\":\"75f1de5d-cb7e-48da-b3ac-165a9401e80c\",\"type\":\"Line\"},{\"attributes\":{\"source\":{\"id\":\"619b2361-8eb8-4fd5-b7ce-1d77f697ea65\",\"type\":\"ColumnDataSource\"}},\"id\":\"256dfe70-9c25-4bd7-9464-22693451d116\",\"type\":\"CDSView\"},{\"attributes\":{},\"id\":\"b556c6ab-a40a-46ce-a89d-0692f64a5366\",\"type\":\"WheelZoomTool\"},{\"attributes\":{\"source\":{\"id\":\"1cd8bff6-097f-4d1d-9995-6f57236fd561\",\"type\":\"ColumnDataSource\"}},\"id\":\"0fbb136b-7610-40ee-acb1-341d6d174e14\",\"type\":\"CDSView\"},{\"attributes\":{\"data_source\":{\"id\":\"619b2361-8eb8-4fd5-b7ce-1d77f697ea65\",\"type\":\"ColumnDataSource\"},\"glyph\":{\"id\":\"3a406573-3315-4889-a456-f78713b72000\",\"type\":\"Line\"},\"hover_glyph\":null,\"muted_glyph\":null,\"nonselection_glyph\":{\"id\":\"c8e7d233-20e8-465e-be23-316d925bd7dc\",\"type\":\"Line\"},\"selection_glyph\":null,\"view\":{\"id\":\"256dfe70-9c25-4bd7-9464-22693451d116\",\"type\":\"CDSView\"}},\"id\":\"6edf1759-de02-4afa-8e56-5e0374453561\",\"type\":\"GlyphRenderer\"},{\"attributes\":{},\"id\":\"d76d270b-e33a-434b-b757-6af1daf76143\",\"type\":\"PanTool\"},{\"attributes\":{\"line_alpha\":0.5,\"line_color\":\"#ff7f0e\",\"line_width\":2,\"x\":{\"field\":\"x\"},\"y\":{\"field\":\"y\"}},\"id\":\"98632ada-3f13-4cbe-bdb0-988d53754ca7\",\"type\":\"Line\"},{\"attributes\":{\"bottom_units\":\"screen\",\"fill_alpha\":{\"value\":0.5},\"fill_color\":{\"value\":\"lightgrey\"},\"left_units\":\"screen\",\"level\":\"overlay\",\"line_alpha\":{\"value\":1.0},\"line_color\":{\"value\":\"black\"},\"line_dash\":[4,4],\"line_width\":{\"value\":2},\"plot\":null,\"render_mode\":\"css\",\"right_units\":\"screen\",\"top_units\":\"screen\"},\"id\":\"7b0bc78c-9f04-44fb-a6df-a0b733047a0b\",\"type\":\"BoxAnnotation\"},{\"attributes\":{\"callback\":null,\"column_names\":[\"x\",\"y\"],\"data\":{\"x\":[0,1,2,3,4,5,6,7,8,9,10,11,12,13,14,15,16,17,18,19,20,21,22,23,24,25,26,27,28,29,30,31,32,33,34,35,36,37,38,39,40,41,42,43,44,45,46,47,48,49,50,51,52,53,54,55,56,57,58,59,60,61,62,63,64,65,66,67,68,69,70,71,72,73,74,75,76,77,78,79,80,81,82,83,84,85,86,87,88,89,90,91,92,93,94,95,96,97,98,99,100,101,102,103,104,105,106,107,108,109,110,111,112,113,114,115,116,117,118,119,120,121,122,123,124,125,126,127,128,129,130,131,132,133,134,135,136,137,138,139,140,141,142,143,144,145,146,147,148,149,150,151,152,153,154,155,156,157,158,159,160,161,162,163,164,165,166,167,168,169,170,171,172,173,174,175,176,177,178,179,180,181,182,183,184,185,186,187,188,189,190,191,192,193,194,195,196,197,198,199],\"y\":{\"__ndarray__\":\"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\",\"dtype\":\"float64\",\"shape\":[200]}},\"selected\":null,\"selection_policy\":null},\"id\":\"619b2361-8eb8-4fd5-b7ce-1d77f697ea65\",\"type\":\"ColumnDataSource\"},{\"attributes\":{\"callback\":null,\"column_names\":[\"x\",\"y\"],\"data\":{\"x\":[0,1,2,3,4,5,6,7,8,9,10,11,12,13,14,15,16,17,18,19,20,21,22,23,24,25,26,27,28,29,30,31,32,33,34,35,36,37,38,39,40,41,42,43,44,45,46,47,48,49,50,51,52,53,54,55,56,57,58,59,60,61,62,63,64,65,66,67,68,69,70,71,72,73,74,75,76,77,78,79,80,81,82,83,84,85,86,87,88,89,90,91,92,93,94,95,96,97,98,99,100,101,102,103,104,105,106,107,108,109,110,111,112,113,114,115,116,117,118,119,120,121,122,123,124,125,126,127,128,129,130,131,132,133,134,135,136,137,138,139,140,141,142,143,144,145,146,147,148,149,150,151,152,153,154,155,156,157,158,159,160,161,162,163,164,165,166,167,168,169,170,171,172,173,174,175,176,177,178,179,180,181,182,183,184,185,186,187,188,189,190,191,192,193,194,195,196,197,198,199],\"y\":{\"__ndarray__\":\"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\",\"dtype\":\"float64\",\"shape\":[200]}},\"selected\":null,\"selection_policy\":null},\"id\":\"1cd8bff6-097f-4d1d-9995-6f57236fd561\",\"type\":\"ColumnDataSource\"},{\"attributes\":{\"overlay\":{\"id\":\"7b0bc78c-9f04-44fb-a6df-a0b733047a0b\",\"type\":\"BoxAnnotation\"}},\"id\":\"a7c4fee8-1af7-450f-9553-95bab40d2157\",\"type\":\"BoxZoomTool\"},{\"attributes\":{\"callback\":null,\"column_names\":[\"x\",\"y\"],\"data\":{\"x\":[0,1,2,3,4,5,6,7,8,9,10,11,12,13,14,15,16,17,18,19,20,21,22,23,24,25,26,27,28,29,30,31,32,33,34,35,36,37,38,39,40,41,42,43,44,45,46,47,48,49,50,51,52,53,54,55,56,57,58,59,60,61,62,63,64,65,66,67,68,69,70,71,72,73,74,75,76,77,78,79,80,81,82,83,84,85,86,87,88,89,90,91,92,93,94,95,96,97,98,99,100,101,102,103,104,105,106,107,108,109,110,111,112,113,114,115,116,117,118,119,120,121,122,123,124,125,126,127,128,129,130,131,132,133,134,135,136,137,138,139,140,141,142,143,144,145,146,147,148,149,150,151,152,153,154,155,156,157,158,159,160,161,162,163,164,165,166,167,168,169,170,171,172,173,174,175,176,177,178,179,180,181,182,183,184,185,186,187,188,189,190,191,192,193,194,195,196,197,198,199],\"y\":{\"__ndarray__\":\"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\",\"dtype\":\"float64\",\"shape\":[200]}},\"selected\":null,\"selection_policy\":null},\"id\":\"6383c266-d937-4fa1-89fc-9ed024ca7744\",\"type\":\"ColumnDataSource\"},{\"attributes\":{},\"id\":\"52cb995e-55a8-4ad7-b598-7b99fbc08c01\",\"type\":\"HelpTool\"},{\"attributes\":{\"align\":\"center\",\"plot\":{\"id\":\"f1d2aaea-c7f4-4ff1-ae53-54bfc12c4c50\",\"subtype\":\"Figure\",\"type\":\"Plot\"},\"text\":\"beta: 0.001, gamma: 0.01, percentage infected: 0.05\"},\"id\":\"29188b7f-8e53-4742-b731-2a364fd39f5c\",\"type\":\"Title\"},{\"attributes\":{},\"id\":\"31218dc8-712c-458a-ab0d-f38c05551381\",\"type\":\"ResetTool\"},{\"attributes\":{},\"id\":\"81998ad3-b12b-4e99-9368-7a42571e5b73\",\"type\":\"SaveTool\"},{\"attributes\":{},\"id\":\"f48dfdc3-d6a5-48d8-9da5-9b52dd9b3582\",\"type\":\"BasicTickFormatter\"},{\"attributes\":{\"items\":[{\"id\":\"54c39d50-38bb-4fc2-b0ac-4d87ca21c672\",\"type\":\"LegendItem\"},{\"id\":\"4c8c487b-65bf-4942-9ac2-f58f9ab7c167\",\"type\":\"LegendItem\"},{\"id\":\"98193a2c-d722-4cbb-9575-57e52d3a3ce9\",\"type\":\"LegendItem\"}],\"orientation\":\"horizontal\",\"plot\":{\"id\":\"f1d2aaea-c7f4-4ff1-ae53-54bfc12c4c50\",\"subtype\":\"Figure\",\"type\":\"Plot\"}},\"id\":\"09af07ec-9353-4df6-bf78-27aa4287b342\",\"type\":\"Legend\"},{\"attributes\":{\"label\":{\"value\":\"Susceptible\"},\"renderers\":[{\"id\":\"0e69c7e5-7d4a-4be5-b5e6-e53c133c3664\",\"type\":\"GlyphRenderer\"}]},\"id\":\"54c39d50-38bb-4fc2-b0ac-4d87ca21c672\",\"type\":\"LegendItem\"},{\"attributes\":{\"plot\":null,\"text\":\"SIR - Diffusion Trend\"},\"id\":\"7bbbc5d9-29f4-4ad1-96a4-9f71994b36db\",\"type\":\"Title\"},{\"attributes\":{\"data_source\":{\"id\":\"1cd8bff6-097f-4d1d-9995-6f57236fd561\",\"type\":\"ColumnDataSource\"},\"glyph\":{\"id\":\"067de1db-8179-465f-972a-e0ee604a5949\",\"type\":\"Line\"},\"hover_glyph\":null,\"muted_glyph\":null,\"nonselection_glyph\":{\"id\":\"75f1de5d-cb7e-48da-b3ac-165a9401e80c\",\"type\":\"Line\"},\"selection_glyph\":null,\"view\":{\"id\":\"0fbb136b-7610-40ee-acb1-341d6d174e14\",\"type\":\"CDSView\"}},\"id\":\"0e69c7e5-7d4a-4be5-b5e6-e53c133c3664\",\"type\":\"GlyphRenderer\"},{\"attributes\":{\"below\":[{\"id\":\"5e2302a5-78b4-46eb-8f3b-2077874f3b17\",\"type\":\"LinearAxis\"},{\"id\":\"29188b7f-8e53-4742-b731-2a364fd39f5c\",\"type\":\"Title\"}],\"left\":[{\"id\":\"ca2d7cc3-4ad7-4d97-a6a6-ab76fbf24406\",\"type\":\"LinearAxis\"}],\"plot_height\":400,\"plot_width\":400,\"renderers\":[{\"id\":\"5e2302a5-78b4-46eb-8f3b-2077874f3b17\",\"type\":\"LinearAxis\"},{\"id\":\"92ff4f9a-a902-4727-a211-9aa33d2eb487\",\"type\":\"Grid\"},{\"id\":\"ca2d7cc3-4ad7-4d97-a6a6-ab76fbf24406\",\"type\":\"LinearAxis\"},{\"id\":\"9f8365ee-1c4d-43f2-b12d-294fe7a738b6\",\"type\":\"Grid\"},{\"id\":\"7b0bc78c-9f04-44fb-a6df-a0b733047a0b\",\"type\":\"BoxAnnotation\"},{\"id\":\"09af07ec-9353-4df6-bf78-27aa4287b342\",\"type\":\"Legend\"},{\"id\":\"0e69c7e5-7d4a-4be5-b5e6-e53c133c3664\",\"type\":\"GlyphRenderer\"},{\"id\":\"6edf1759-de02-4afa-8e56-5e0374453561\",\"type\":\"GlyphRenderer\"},{\"id\":\"c36ddbd0-67be-4788-a9e9-a0e67a70dd91\",\"type\":\"GlyphRenderer\"},{\"id\":\"29188b7f-8e53-4742-b731-2a364fd39f5c\",\"type\":\"Title\"}],\"title\":{\"id\":\"7bbbc5d9-29f4-4ad1-96a4-9f71994b36db\",\"type\":\"Title\"},\"toolbar\":{\"id\":\"7d66a154-c642-4710-917d-5caa74e36567\",\"type\":\"Toolbar\"},\"x_range\":{\"id\":\"711986b8-6238-46f2-862f-86a0974f9fa9\",\"type\":\"DataRange1d\"},\"x_scale\":{\"id\":\"55eb129c-5ef8-44e4-a6c8-2c9e59b266dd\",\"type\":\"LinearScale\"},\"y_range\":{\"id\":\"e3f0b825-4c5e-4c94-8211-66bb84e8e56c\",\"type\":\"DataRange1d\"},\"y_scale\":{\"id\":\"545154a8-7d87-4b0d-85cb-bbc916ecaac1\",\"type\":\"LinearScale\"}},\"id\":\"f1d2aaea-c7f4-4ff1-ae53-54bfc12c4c50\",\"subtype\":\"Figure\",\"type\":\"Plot\"},{\"attributes\":{\"line_alpha\":0.1,\"line_color\":\"#1f77b4\",\"line_width\":2,\"x\":{\"field\":\"x\"},\"y\":{\"field\":\"y\"}},\"id\":\"d69a2755-636d-4aa9-85e5-a71057db458c\",\"type\":\"Line\"}],\"root_ids\":[\"f1d2aaea-c7f4-4ff1-ae53-54bfc12c4c50\"]},\"title\":\"Bokeh Application\",\"version\":\"0.12.15\"}};\n",
       "  var render_items = [{\"docid\":\"cc55600a-d680-4946-89f2-c2805226d814\",\"elementid\":\"adb3da4b-6bf5-4478-aa86-36884363487d\",\"modelid\":\"f1d2aaea-c7f4-4ff1-ae53-54bfc12c4c50\"}];\n",
       "  root.Bokeh.embed.embed_items_notebook(docs_json, render_items);\n",
       "\n",
       "  }\n",
       "  if (root.Bokeh !== undefined) {\n",
       "    embed_document(root);\n",
       "  } else {\n",
       "    var attempts = 0;\n",
       "    var timer = setInterval(function(root) {\n",
       "      if (root.Bokeh !== undefined) {\n",
       "        embed_document(root);\n",
       "        clearInterval(timer);\n",
       "      }\n",
       "      attempts++;\n",
       "      if (attempts > 100) {\n",
       "        console.log(\"Bokeh: ERROR: Unable to run BokehJS code because BokehJS library is missing\")\n",
       "        clearInterval(timer);\n",
       "      }\n",
       "    }, 10, root)\n",
       "  }\n",
       "})(window);"
      ],
      "application/vnd.bokehjs_exec.v0+json": ""
     },
     "metadata": {
      "application/vnd.bokehjs_exec.v0+json": {
       "id": "f1d2aaea-c7f4-4ff1-ae53-54bfc12c4c50"
      }
     },
     "output_type": "display_data"
    }
   ],
   "source": [
    "from bokeh.io import output_notebook, show\n",
    "from ndlib.viz.bokeh.DiffusionTrend import DiffusionTrend\n",
    "\n",
    "output_notebook()\n",
    "viz = DiffusionTrend(model, trends)\n",
    "p = viz.plot(width=400, height=400)\n",
    "show(p)"
   ]
  },
  {
   "cell_type": "code",
   "execution_count": 7,
   "metadata": {},
   "outputs": [
    {
     "data": {
      "text/html": [
       "\n",
       "<div class=\"bk-root\">\n",
       "    <div class=\"bk-plotdiv\" id=\"ca959f32-7253-4a74-b51e-00ac61e86eb9\"></div>\n",
       "</div>"
      ]
     },
     "metadata": {},
     "output_type": "display_data"
    },
    {
     "data": {
      "application/javascript": [
       "(function(root) {\n",
       "  function embed_document(root) {\n",
       "    \n",
       "  var docs_json = {\"9cb50426-7c0f-485c-8498-0c4e5b936a31\":{\"roots\":{\"references\":[{\"attributes\":{\"bottom_units\":\"screen\",\"fill_alpha\":{\"value\":0.5},\"fill_color\":{\"value\":\"lightgrey\"},\"left_units\":\"screen\",\"level\":\"overlay\",\"line_alpha\":{\"value\":1.0},\"line_color\":{\"value\":\"black\"},\"line_dash\":[4,4],\"line_width\":{\"value\":2},\"plot\":null,\"render_mode\":\"css\",\"right_units\":\"screen\",\"top_units\":\"screen\"},\"id\":\"038a402a-a6d1-4cfa-9e51-ddaebef5c5b9\",\"type\":\"BoxAnnotation\"},{\"attributes\":{},\"id\":\"90d45739-bc18-4e5f-ac69-1fc554e6d35c\",\"type\":\"HelpTool\"},{\"attributes\":{\"items\":[{\"id\":\"1f7ca2d1-6e8d-40ab-afaf-5f5040293207\",\"type\":\"LegendItem\"},{\"id\":\"185702ec-ced3-45e5-b434-7fa19bf2de18\",\"type\":\"LegendItem\"},{\"id\":\"0352f1d6-7672-477f-8512-1999f98f0077\",\"type\":\"LegendItem\"}],\"orientation\":\"horizontal\",\"plot\":{\"id\":\"f89baade-8dea-494f-a86e-fdd9695f5721\",\"subtype\":\"Figure\",\"type\":\"Plot\"}},\"id\":\"21e98864-d833-4f22-8fdc-6f3b735c8299\",\"type\":\"Legend\"},{\"attributes\":{},\"id\":\"6cb1ffa3-92a8-4f5b-9541-4500ca5ffdd0\",\"type\":\"BasicTickFormatter\"},{\"attributes\":{},\"id\":\"f6e6e6ae-3e51-47dd-a6e7-18ca6689c28a\",\"type\":\"BasicTickFormatter\"},{\"attributes\":{\"label\":{\"value\":\"Susceptible\"},\"renderers\":[{\"id\":\"f23329d1-3b4b-4e6f-823f-6aa22ede7e6d\",\"type\":\"GlyphRenderer\"}]},\"id\":\"1f7ca2d1-6e8d-40ab-afaf-5f5040293207\",\"type\":\"LegendItem\"},{\"attributes\":{\"source\":{\"id\":\"35449ee9-3eac-49ab-9d4c-ac045c3c1d98\",\"type\":\"ColumnDataSource\"}},\"id\":\"04c86e31-1cc1-4f93-b879-03a219ba83a1\",\"type\":\"CDSView\"},{\"attributes\":{\"line_alpha\":0.1,\"line_color\":\"#1f77b4\",\"line_width\":2,\"x\":{\"field\":\"x\"},\"y\":{\"field\":\"y\"}},\"id\":\"d59f9f9b-e88d-476e-8c9d-bd644d68c88c\",\"type\":\"Line\"},{\"attributes\":{\"line_alpha\":0.5,\"line_color\":\"#1f77b4\",\"line_width\":2,\"x\":{\"field\":\"x\"},\"y\":{\"field\":\"y\"}},\"id\":\"0a017c12-4216-4791-ae71-4bfb1a8d55f7\",\"type\":\"Line\"},{\"attributes\":{\"callback\":null,\"column_names\":[\"x\",\"y\"],\"data\":{\"x\":[0,1,2,3,4,5,6,7,8,9,10,11,12,13,14,15,16,17,18,19,20,21,22,23,24,25,26,27,28,29,30,31,32,33,34,35,36,37,38,39,40,41,42,43,44,45,46,47,48,49,50,51,52,53,54,55,56,57,58,59,60,61,62,63,64,65,66,67,68,69,70,71,72,73,74,75,76,77,78,79,80,81,82,83,84,85,86,87,88,89,90,91,92,93,94,95,96,97,98,99,100,101,102,103,104,105,106,107,108,109,110,111,112,113,114,115,116,117,118,119,120,121,122,123,124,125,126,127,128,129,130,131,132,133,134,135,136,137,138,139,140,141,142,143,144,145,146,147,148,149,150,151,152,153,154,155,156,157,158,159,160,161,162,163,164,165,166,167,168,169,170,171,172,173,174,175,176,177,178,179,180,181,182,183,184,185,186,187,188,189,190,191,192,193,194,195,196,197,198,199],\"y\":{\"__ndarray__\":\"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\",\"dtype\":\"float64\",\"shape\":[200]}},\"selected\":null,\"selection_policy\":null},\"id\":\"aef4e99d-edc6-4908-bb7d-e6ef0f4dd0b2\",\"type\":\"ColumnDataSource\"},{\"attributes\":{\"line_alpha\":0.5,\"line_color\":\"#ff7f0e\",\"line_width\":2,\"x\":{\"field\":\"x\"},\"y\":{\"field\":\"y\"}},\"id\":\"a7630be0-6d6b-45b7-b08d-3acfe70bf294\",\"type\":\"Line\"},{\"attributes\":{\"line_alpha\":0.5,\"line_color\":\"#aec7e8\",\"line_width\":2,\"x\":{\"field\":\"x\"},\"y\":{\"field\":\"y\"}},\"id\":\"bf3d0034-2e1b-40cf-9cf7-e868939a5049\",\"type\":\"Line\"},{\"attributes\":{\"callback\":null,\"column_names\":[\"x\",\"y\"],\"data\":{\"x\":[0,1,2,3,4,5,6,7,8,9,10,11,12,13,14,15,16,17,18,19,20,21,22,23,24,25,26,27,28,29,30,31,32,33,34,35,36,37,38,39,40,41,42,43,44,45,46,47,48,49,50,51,52,53,54,55,56,57,58,59,60,61,62,63,64,65,66,67,68,69,70,71,72,73,74,75,76,77,78,79,80,81,82,83,84,85,86,87,88,89,90,91,92,93,94,95,96,97,98,99,100,101,102,103,104,105,106,107,108,109,110,111,112,113,114,115,116,117,118,119,120,121,122,123,124,125,126,127,128,129,130,131,132,133,134,135,136,137,138,139,140,141,142,143,144,145,146,147,148,149,150,151,152,153,154,155,156,157,158,159,160,161,162,163,164,165,166,167,168,169,170,171,172,173,174,175,176,177,178,179,180,181,182,183,184,185,186,187,188,189,190,191,192,193,194,195,196,197,198,199],\"y\":{\"__ndarray__\":\"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\",\"dtype\":\"float64\",\"shape\":[200]}},\"selected\":null,\"selection_policy\":null},\"id\":\"35449ee9-3eac-49ab-9d4c-ac045c3c1d98\",\"type\":\"ColumnDataSource\"},{\"attributes\":{\"data_source\":{\"id\":\"aef4e99d-edc6-4908-bb7d-e6ef0f4dd0b2\",\"type\":\"ColumnDataSource\"},\"glyph\":{\"id\":\"bf3d0034-2e1b-40cf-9cf7-e868939a5049\",\"type\":\"Line\"},\"hover_glyph\":null,\"muted_glyph\":null,\"nonselection_glyph\":{\"id\":\"d59f9f9b-e88d-476e-8c9d-bd644d68c88c\",\"type\":\"Line\"},\"selection_glyph\":null,\"view\":{\"id\":\"07e9e456-52d8-4474-adb7-e274e51f4e07\",\"type\":\"CDSView\"}},\"id\":\"e6f93826-f67d-4903-b414-cb8d704b1358\",\"type\":\"GlyphRenderer\"},{\"attributes\":{\"source\":{\"id\":\"aef4e99d-edc6-4908-bb7d-e6ef0f4dd0b2\",\"type\":\"ColumnDataSource\"}},\"id\":\"07e9e456-52d8-4474-adb7-e274e51f4e07\",\"type\":\"CDSView\"},{\"attributes\":{\"align\":\"center\",\"plot\":{\"id\":\"f89baade-8dea-494f-a86e-fdd9695f5721\",\"subtype\":\"Figure\",\"type\":\"Plot\"},\"text\":\"beta: 0.001, gamma: 0.01, percentage infected: 0.05\"},\"id\":\"efd281b3-5583-4cde-acbd-58db6b4b1c37\",\"type\":\"Title\"},{\"attributes\":{\"callback\":null},\"id\":\"806ce647-4e31-453f-90b5-41ff806d3b4e\",\"type\":\"DataRange1d\"},{\"attributes\":{\"below\":[{\"id\":\"5ce97c39-66d1-40bc-9a2e-2f7ba654cfe4\",\"type\":\"LinearAxis\"},{\"id\":\"efd281b3-5583-4cde-acbd-58db6b4b1c37\",\"type\":\"Title\"}],\"left\":[{\"id\":\"21f09568-2ddc-4ebe-b219-5e24e5b8940a\",\"type\":\"LinearAxis\"}],\"plot_height\":400,\"plot_width\":400,\"renderers\":[{\"id\":\"5ce97c39-66d1-40bc-9a2e-2f7ba654cfe4\",\"type\":\"LinearAxis\"},{\"id\":\"0abcaccc-34e9-4328-b5ef-8decdf143bf5\",\"type\":\"Grid\"},{\"id\":\"21f09568-2ddc-4ebe-b219-5e24e5b8940a\",\"type\":\"LinearAxis\"},{\"id\":\"e185899d-caa9-4628-b54a-cc8d837c3f72\",\"type\":\"Grid\"},{\"id\":\"038a402a-a6d1-4cfa-9e51-ddaebef5c5b9\",\"type\":\"BoxAnnotation\"},{\"id\":\"21e98864-d833-4f22-8fdc-6f3b735c8299\",\"type\":\"Legend\"},{\"id\":\"f23329d1-3b4b-4e6f-823f-6aa22ede7e6d\",\"type\":\"GlyphRenderer\"},{\"id\":\"e6f93826-f67d-4903-b414-cb8d704b1358\",\"type\":\"GlyphRenderer\"},{\"id\":\"8c7b66ac-1c97-448e-b1af-0d9d3bfb4258\",\"type\":\"GlyphRenderer\"},{\"id\":\"efd281b3-5583-4cde-acbd-58db6b4b1c37\",\"type\":\"Title\"}],\"title\":{\"id\":\"9f3a1d08-5642-49e9-86b3-cf1bf3d9ee95\",\"type\":\"Title\"},\"toolbar\":{\"id\":\"76b0fce3-cba5-4b6f-8274-66fb7885df92\",\"type\":\"Toolbar\"},\"x_range\":{\"id\":\"806ce647-4e31-453f-90b5-41ff806d3b4e\",\"type\":\"DataRange1d\"},\"x_scale\":{\"id\":\"2414b1ab-f25b-4549-a85c-9c8d636bdcd5\",\"type\":\"LinearScale\"},\"y_range\":{\"id\":\"6582b72a-46a7-4cce-ba81-6b49be856275\",\"type\":\"DataRange1d\"},\"y_scale\":{\"id\":\"0fb249b0-53b3-4d94-8504-65b22be397af\",\"type\":\"LinearScale\"}},\"id\":\"f89baade-8dea-494f-a86e-fdd9695f5721\",\"subtype\":\"Figure\",\"type\":\"Plot\"},{\"attributes\":{\"label\":{\"value\":\"Removed\"},\"renderers\":[{\"id\":\"8c7b66ac-1c97-448e-b1af-0d9d3bfb4258\",\"type\":\"GlyphRenderer\"}]},\"id\":\"0352f1d6-7672-477f-8512-1999f98f0077\",\"type\":\"LegendItem\"},{\"attributes\":{\"data_source\":{\"id\":\"458ee826-09d1-4814-b312-c957f143349a\",\"type\":\"ColumnDataSource\"},\"glyph\":{\"id\":\"0a017c12-4216-4791-ae71-4bfb1a8d55f7\",\"type\":\"Line\"},\"hover_glyph\":null,\"muted_glyph\":null,\"nonselection_glyph\":{\"id\":\"1689ebec-09dd-4f74-8f53-d71a9842b81c\",\"type\":\"Line\"},\"selection_glyph\":null,\"view\":{\"id\":\"8da841de-c7c6-4514-a287-9aad52862f52\",\"type\":\"CDSView\"}},\"id\":\"f23329d1-3b4b-4e6f-823f-6aa22ede7e6d\",\"type\":\"GlyphRenderer\"},{\"attributes\":{\"data_source\":{\"id\":\"35449ee9-3eac-49ab-9d4c-ac045c3c1d98\",\"type\":\"ColumnDataSource\"},\"glyph\":{\"id\":\"a7630be0-6d6b-45b7-b08d-3acfe70bf294\",\"type\":\"Line\"},\"hover_glyph\":null,\"muted_glyph\":null,\"nonselection_glyph\":{\"id\":\"51c10fe8-ed73-4857-9679-18833f15de91\",\"type\":\"Line\"},\"selection_glyph\":null,\"view\":{\"id\":\"04c86e31-1cc1-4f93-b879-03a219ba83a1\",\"type\":\"CDSView\"}},\"id\":\"8c7b66ac-1c97-448e-b1af-0d9d3bfb4258\",\"type\":\"GlyphRenderer\"},{\"attributes\":{\"active_drag\":\"auto\",\"active_inspect\":\"auto\",\"active_scroll\":\"auto\",\"active_tap\":\"auto\",\"tools\":[{\"id\":\"8b02401d-a734-4d9d-9743-f91ec5a39526\",\"type\":\"PanTool\"},{\"id\":\"f809604f-950c-4541-98f7-e803cbcf0c1c\",\"type\":\"WheelZoomTool\"},{\"id\":\"4cd036d7-945d-46f9-b68d-f7c684d63b69\",\"type\":\"BoxZoomTool\"},{\"id\":\"b632fc0e-f7c7-4a30-8801-8ff7d6cbb4a4\",\"type\":\"SaveTool\"},{\"id\":\"7e1398c2-4b17-422b-a834-59193415a558\",\"type\":\"ResetTool\"},{\"id\":\"90d45739-bc18-4e5f-ac69-1fc554e6d35c\",\"type\":\"HelpTool\"}]},\"id\":\"76b0fce3-cba5-4b6f-8274-66fb7885df92\",\"type\":\"Toolbar\"},{\"attributes\":{\"line_alpha\":0.1,\"line_color\":\"#1f77b4\",\"line_width\":2,\"x\":{\"field\":\"x\"},\"y\":{\"field\":\"y\"}},\"id\":\"51c10fe8-ed73-4857-9679-18833f15de91\",\"type\":\"Line\"},{\"attributes\":{},\"id\":\"f7c5b9ab-fd3a-435f-b1cf-f45a80b1454e\",\"type\":\"BasicTicker\"},{\"attributes\":{\"label\":{\"value\":\"Infected\"},\"renderers\":[{\"id\":\"e6f93826-f67d-4903-b414-cb8d704b1358\",\"type\":\"GlyphRenderer\"}]},\"id\":\"185702ec-ced3-45e5-b434-7fa19bf2de18\",\"type\":\"LegendItem\"},{\"attributes\":{\"callback\":null},\"id\":\"6582b72a-46a7-4cce-ba81-6b49be856275\",\"type\":\"DataRange1d\"},{\"attributes\":{},\"id\":\"2414b1ab-f25b-4549-a85c-9c8d636bdcd5\",\"type\":\"LinearScale\"},{\"attributes\":{},\"id\":\"0fb249b0-53b3-4d94-8504-65b22be397af\",\"type\":\"LinearScale\"},{\"attributes\":{\"plot\":null,\"text\":\"SIR - Prevalence\"},\"id\":\"9f3a1d08-5642-49e9-86b3-cf1bf3d9ee95\",\"type\":\"Title\"},{\"attributes\":{\"axis_label\":\"Iterations\",\"formatter\":{\"id\":\"f6e6e6ae-3e51-47dd-a6e7-18ca6689c28a\",\"type\":\"BasicTickFormatter\"},\"plot\":{\"id\":\"f89baade-8dea-494f-a86e-fdd9695f5721\",\"subtype\":\"Figure\",\"type\":\"Plot\"},\"ticker\":{\"id\":\"9df6b12d-bbd4-4c98-86db-724f359357de\",\"type\":\"BasicTicker\"}},\"id\":\"5ce97c39-66d1-40bc-9a2e-2f7ba654cfe4\",\"type\":\"LinearAxis\"},{\"attributes\":{\"callback\":null,\"column_names\":[\"x\",\"y\"],\"data\":{\"x\":[0,1,2,3,4,5,6,7,8,9,10,11,12,13,14,15,16,17,18,19,20,21,22,23,24,25,26,27,28,29,30,31,32,33,34,35,36,37,38,39,40,41,42,43,44,45,46,47,48,49,50,51,52,53,54,55,56,57,58,59,60,61,62,63,64,65,66,67,68,69,70,71,72,73,74,75,76,77,78,79,80,81,82,83,84,85,86,87,88,89,90,91,92,93,94,95,96,97,98,99,100,101,102,103,104,105,106,107,108,109,110,111,112,113,114,115,116,117,118,119,120,121,122,123,124,125,126,127,128,129,130,131,132,133,134,135,136,137,138,139,140,141,142,143,144,145,146,147,148,149,150,151,152,153,154,155,156,157,158,159,160,161,162,163,164,165,166,167,168,169,170,171,172,173,174,175,176,177,178,179,180,181,182,183,184,185,186,187,188,189,190,191,192,193,194,195,196,197,198,199],\"y\":{\"__ndarray__\":\"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\",\"dtype\":\"float64\",\"shape\":[200]}},\"selected\":null,\"selection_policy\":null},\"id\":\"458ee826-09d1-4814-b312-c957f143349a\",\"type\":\"ColumnDataSource\"},{\"attributes\":{},\"id\":\"9df6b12d-bbd4-4c98-86db-724f359357de\",\"type\":\"BasicTicker\"},{\"attributes\":{\"axis_label\":\"#Delta Nodes\",\"formatter\":{\"id\":\"6cb1ffa3-92a8-4f5b-9541-4500ca5ffdd0\",\"type\":\"BasicTickFormatter\"},\"plot\":{\"id\":\"f89baade-8dea-494f-a86e-fdd9695f5721\",\"subtype\":\"Figure\",\"type\":\"Plot\"},\"ticker\":{\"id\":\"f7c5b9ab-fd3a-435f-b1cf-f45a80b1454e\",\"type\":\"BasicTicker\"}},\"id\":\"21f09568-2ddc-4ebe-b219-5e24e5b8940a\",\"type\":\"LinearAxis\"},{\"attributes\":{\"dimension\":1,\"grid_line_alpha\":{\"value\":0.5},\"plot\":{\"id\":\"f89baade-8dea-494f-a86e-fdd9695f5721\",\"subtype\":\"Figure\",\"type\":\"Plot\"},\"ticker\":{\"id\":\"f7c5b9ab-fd3a-435f-b1cf-f45a80b1454e\",\"type\":\"BasicTicker\"}},\"id\":\"e185899d-caa9-4628-b54a-cc8d837c3f72\",\"type\":\"Grid\"},{\"attributes\":{\"grid_line_alpha\":{\"value\":0.5},\"plot\":{\"id\":\"f89baade-8dea-494f-a86e-fdd9695f5721\",\"subtype\":\"Figure\",\"type\":\"Plot\"},\"ticker\":{\"id\":\"9df6b12d-bbd4-4c98-86db-724f359357de\",\"type\":\"BasicTicker\"}},\"id\":\"0abcaccc-34e9-4328-b5ef-8decdf143bf5\",\"type\":\"Grid\"},{\"attributes\":{\"line_alpha\":0.1,\"line_color\":\"#1f77b4\",\"line_width\":2,\"x\":{\"field\":\"x\"},\"y\":{\"field\":\"y\"}},\"id\":\"1689ebec-09dd-4f74-8f53-d71a9842b81c\",\"type\":\"Line\"},{\"attributes\":{\"source\":{\"id\":\"458ee826-09d1-4814-b312-c957f143349a\",\"type\":\"ColumnDataSource\"}},\"id\":\"8da841de-c7c6-4514-a287-9aad52862f52\",\"type\":\"CDSView\"},{\"attributes\":{},\"id\":\"8b02401d-a734-4d9d-9743-f91ec5a39526\",\"type\":\"PanTool\"},{\"attributes\":{},\"id\":\"7e1398c2-4b17-422b-a834-59193415a558\",\"type\":\"ResetTool\"},{\"attributes\":{},\"id\":\"f809604f-950c-4541-98f7-e803cbcf0c1c\",\"type\":\"WheelZoomTool\"},{\"attributes\":{\"overlay\":{\"id\":\"038a402a-a6d1-4cfa-9e51-ddaebef5c5b9\",\"type\":\"BoxAnnotation\"}},\"id\":\"4cd036d7-945d-46f9-b68d-f7c684d63b69\",\"type\":\"BoxZoomTool\"},{\"attributes\":{},\"id\":\"b632fc0e-f7c7-4a30-8801-8ff7d6cbb4a4\",\"type\":\"SaveTool\"}],\"root_ids\":[\"f89baade-8dea-494f-a86e-fdd9695f5721\"]},\"title\":\"Bokeh Application\",\"version\":\"0.12.15\"}};\n",
       "  var render_items = [{\"docid\":\"9cb50426-7c0f-485c-8498-0c4e5b936a31\",\"elementid\":\"ca959f32-7253-4a74-b51e-00ac61e86eb9\",\"modelid\":\"f89baade-8dea-494f-a86e-fdd9695f5721\"}];\n",
       "  root.Bokeh.embed.embed_items_notebook(docs_json, render_items);\n",
       "\n",
       "  }\n",
       "  if (root.Bokeh !== undefined) {\n",
       "    embed_document(root);\n",
       "  } else {\n",
       "    var attempts = 0;\n",
       "    var timer = setInterval(function(root) {\n",
       "      if (root.Bokeh !== undefined) {\n",
       "        embed_document(root);\n",
       "        clearInterval(timer);\n",
       "      }\n",
       "      attempts++;\n",
       "      if (attempts > 100) {\n",
       "        console.log(\"Bokeh: ERROR: Unable to run BokehJS code because BokehJS library is missing\")\n",
       "        clearInterval(timer);\n",
       "      }\n",
       "    }, 10, root)\n",
       "  }\n",
       "})(window);"
      ],
      "application/vnd.bokehjs_exec.v0+json": ""
     },
     "metadata": {
      "application/vnd.bokehjs_exec.v0+json": {
       "id": "f89baade-8dea-494f-a86e-fdd9695f5721"
      }
     },
     "output_type": "display_data"
    }
   ],
   "source": [
    "from ndlib.viz.bokeh.DiffusionPrevalence import DiffusionPrevalence\n",
    "\n",
    "viz2 = DiffusionPrevalence(model, trends)\n",
    "p2 = viz2.plot(width=400, height=400)\n",
    "show(p2)"
   ]
  },
  {
   "cell_type": "code",
   "execution_count": 8,
   "metadata": {},
   "outputs": [
    {
     "data": {
      "text/html": [
       "\n",
       "<div class=\"bk-root\">\n",
       "    <div class=\"bk-plotdiv\" id=\"fd4d488f-9593-45a1-998b-823c9b25fca3\"></div>\n",
       "</div>"
      ]
     },
     "metadata": {},
     "output_type": "display_data"
    },
    {
     "data": {
      "application/javascript": [
       "(function(root) {\n",
       "  function embed_document(root) {\n",
       "    \n",
       "  var docs_json = {\"ea7be9b9-54c2-4dfa-a65e-f32a7100c656\":{\"roots\":{\"references\":[{\"attributes\":{\"bottom_units\":\"screen\",\"fill_alpha\":{\"value\":0.5},\"fill_color\":{\"value\":\"lightgrey\"},\"left_units\":\"screen\",\"level\":\"overlay\",\"line_alpha\":{\"value\":1.0},\"line_color\":{\"value\":\"black\"},\"line_dash\":[4,4],\"line_width\":{\"value\":2},\"plot\":null,\"render_mode\":\"css\",\"right_units\":\"screen\",\"top_units\":\"screen\"},\"id\":\"038a402a-a6d1-4cfa-9e51-ddaebef5c5b9\",\"type\":\"BoxAnnotation\"},{\"attributes\":{\"line_alpha\":0.5,\"line_color\":\"#1f77b4\",\"line_width\":2,\"x\":{\"field\":\"x\"},\"y\":{\"field\":\"y\"}},\"id\":\"067de1db-8179-465f-972a-e0ee604a5949\",\"type\":\"Line\"},{\"attributes\":{},\"id\":\"90d45739-bc18-4e5f-ac69-1fc554e6d35c\",\"type\":\"HelpTool\"},{\"attributes\":{\"callback\":null},\"id\":\"711986b8-6238-46f2-862f-86a0974f9fa9\",\"type\":\"DataRange1d\"},{\"attributes\":{\"items\":[{\"id\":\"1f7ca2d1-6e8d-40ab-afaf-5f5040293207\",\"type\":\"LegendItem\"},{\"id\":\"185702ec-ced3-45e5-b434-7fa19bf2de18\",\"type\":\"LegendItem\"},{\"id\":\"0352f1d6-7672-477f-8512-1999f98f0077\",\"type\":\"LegendItem\"}],\"orientation\":\"horizontal\",\"plot\":{\"id\":\"f89baade-8dea-494f-a86e-fdd9695f5721\",\"subtype\":\"Figure\",\"type\":\"Plot\"}},\"id\":\"21e98864-d833-4f22-8fdc-6f3b735c8299\",\"type\":\"Legend\"},{\"attributes\":{\"active_drag\":\"auto\",\"active_inspect\":\"auto\",\"active_scroll\":\"auto\",\"active_tap\":\"auto\",\"tools\":[{\"id\":\"d76d270b-e33a-434b-b757-6af1daf76143\",\"type\":\"PanTool\"},{\"id\":\"b556c6ab-a40a-46ce-a89d-0692f64a5366\",\"type\":\"WheelZoomTool\"},{\"id\":\"a7c4fee8-1af7-450f-9553-95bab40d2157\",\"type\":\"BoxZoomTool\"},{\"id\":\"81998ad3-b12b-4e99-9368-7a42571e5b73\",\"type\":\"SaveTool\"},{\"id\":\"31218dc8-712c-458a-ab0d-f38c05551381\",\"type\":\"ResetTool\"},{\"id\":\"52cb995e-55a8-4ad7-b598-7b99fbc08c01\",\"type\":\"HelpTool\"}]},\"id\":\"7d66a154-c642-4710-917d-5caa74e36567\",\"type\":\"Toolbar\"},{\"attributes\":{},\"id\":\"6cb1ffa3-92a8-4f5b-9541-4500ca5ffdd0\",\"type\":\"BasicTickFormatter\"},{\"attributes\":{\"grid_line_alpha\":{\"value\":0.5},\"plot\":{\"id\":\"f1d2aaea-c7f4-4ff1-ae53-54bfc12c4c50\",\"subtype\":\"Figure\",\"type\":\"Plot\"},\"ticker\":{\"id\":\"f9321a10-bee0-4c82-8500-8268131abd63\",\"type\":\"BasicTicker\"}},\"id\":\"92ff4f9a-a902-4727-a211-9aa33d2eb487\",\"type\":\"Grid\"},{\"attributes\":{},\"id\":\"f6e6e6ae-3e51-47dd-a6e7-18ca6689c28a\",\"type\":\"BasicTickFormatter\"},{\"attributes\":{},\"id\":\"545154a8-7d87-4b0d-85cb-bbc916ecaac1\",\"type\":\"LinearScale\"},{\"attributes\":{\"label\":{\"value\":\"Susceptible\"},\"renderers\":[{\"id\":\"f23329d1-3b4b-4e6f-823f-6aa22ede7e6d\",\"type\":\"GlyphRenderer\"}]},\"id\":\"1f7ca2d1-6e8d-40ab-afaf-5f5040293207\",\"type\":\"LegendItem\"},{\"attributes\":{},\"id\":\"55eb129c-5ef8-44e4-a6c8-2c9e59b266dd\",\"type\":\"LinearScale\"},{\"attributes\":{\"source\":{\"id\":\"35449ee9-3eac-49ab-9d4c-ac045c3c1d98\",\"type\":\"ColumnDataSource\"}},\"id\":\"04c86e31-1cc1-4f93-b879-03a219ba83a1\",\"type\":\"CDSView\"},{\"attributes\":{\"callback\":null},\"id\":\"e3f0b825-4c5e-4c94-8211-66bb84e8e56c\",\"type\":\"DataRange1d\"},{\"attributes\":{\"line_alpha\":0.1,\"line_color\":\"#1f77b4\",\"line_width\":2,\"x\":{\"field\":\"x\"},\"y\":{\"field\":\"y\"}},\"id\":\"d59f9f9b-e88d-476e-8c9d-bd644d68c88c\",\"type\":\"Line\"},{\"attributes\":{},\"id\":\"f9321a10-bee0-4c82-8500-8268131abd63\",\"type\":\"BasicTicker\"},{\"attributes\":{\"callback\":null,\"column_names\":[\"x\",\"y\"],\"data\":{\"x\":[0,1,2,3,4,5,6,7,8,9,10,11,12,13,14,15,16,17,18,19,20,21,22,23,24,25,26,27,28,29,30,31,32,33,34,35,36,37,38,39,40,41,42,43,44,45,46,47,48,49,50,51,52,53,54,55,56,57,58,59,60,61,62,63,64,65,66,67,68,69,70,71,72,73,74,75,76,77,78,79,80,81,82,83,84,85,86,87,88,89,90,91,92,93,94,95,96,97,98,99,100,101,102,103,104,105,106,107,108,109,110,111,112,113,114,115,116,117,118,119,120,121,122,123,124,125,126,127,128,129,130,131,132,133,134,135,136,137,138,139,140,141,142,143,144,145,146,147,148,149,150,151,152,153,154,155,156,157,158,159,160,161,162,163,164,165,166,167,168,169,170,171,172,173,174,175,176,177,178,179,180,181,182,183,184,185,186,187,188,189,190,191,192,193,194,195,196,197,198,199],\"y\":{\"__ndarray__\":\"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\",\"dtype\":\"float64\",\"shape\":[200]}},\"selected\":null,\"selection_policy\":null},\"id\":\"aef4e99d-edc6-4908-bb7d-e6ef0f4dd0b2\",\"type\":\"ColumnDataSource\"},{\"attributes\":{\"axis_label\":\"Iterations\",\"formatter\":{\"id\":\"0cfd58f1-60b6-4686-a31f-0f67e4b35792\",\"type\":\"BasicTickFormatter\"},\"plot\":{\"id\":\"f1d2aaea-c7f4-4ff1-ae53-54bfc12c4c50\",\"subtype\":\"Figure\",\"type\":\"Plot\"},\"ticker\":{\"id\":\"f9321a10-bee0-4c82-8500-8268131abd63\",\"type\":\"BasicTicker\"}},\"id\":\"5e2302a5-78b4-46eb-8f3b-2077874f3b17\",\"type\":\"LinearAxis\"},{\"attributes\":{\"line_alpha\":0.5,\"line_color\":\"#1f77b4\",\"line_width\":2,\"x\":{\"field\":\"x\"},\"y\":{\"field\":\"y\"}},\"id\":\"0a017c12-4216-4791-ae71-4bfb1a8d55f7\",\"type\":\"Line\"},{\"attributes\":{\"line_alpha\":0.5,\"line_color\":\"#ff7f0e\",\"line_width\":2,\"x\":{\"field\":\"x\"},\"y\":{\"field\":\"y\"}},\"id\":\"a7630be0-6d6b-45b7-b08d-3acfe70bf294\",\"type\":\"Line\"},{\"attributes\":{\"dimension\":1,\"grid_line_alpha\":{\"value\":0.5},\"plot\":{\"id\":\"f1d2aaea-c7f4-4ff1-ae53-54bfc12c4c50\",\"subtype\":\"Figure\",\"type\":\"Plot\"},\"ticker\":{\"id\":\"b32b18d5-8dba-4ec3-a0e6-f8cf33974121\",\"type\":\"BasicTicker\"}},\"id\":\"9f8365ee-1c4d-43f2-b12d-294fe7a738b6\",\"type\":\"Grid\"},{\"attributes\":{\"line_alpha\":0.5,\"line_color\":\"#aec7e8\",\"line_width\":2,\"x\":{\"field\":\"x\"},\"y\":{\"field\":\"y\"}},\"id\":\"bf3d0034-2e1b-40cf-9cf7-e868939a5049\",\"type\":\"Line\"},{\"attributes\":{},\"id\":\"b32b18d5-8dba-4ec3-a0e6-f8cf33974121\",\"type\":\"BasicTicker\"},{\"attributes\":{\"callback\":null,\"column_names\":[\"x\",\"y\"],\"data\":{\"x\":[0,1,2,3,4,5,6,7,8,9,10,11,12,13,14,15,16,17,18,19,20,21,22,23,24,25,26,27,28,29,30,31,32,33,34,35,36,37,38,39,40,41,42,43,44,45,46,47,48,49,50,51,52,53,54,55,56,57,58,59,60,61,62,63,64,65,66,67,68,69,70,71,72,73,74,75,76,77,78,79,80,81,82,83,84,85,86,87,88,89,90,91,92,93,94,95,96,97,98,99,100,101,102,103,104,105,106,107,108,109,110,111,112,113,114,115,116,117,118,119,120,121,122,123,124,125,126,127,128,129,130,131,132,133,134,135,136,137,138,139,140,141,142,143,144,145,146,147,148,149,150,151,152,153,154,155,156,157,158,159,160,161,162,163,164,165,166,167,168,169,170,171,172,173,174,175,176,177,178,179,180,181,182,183,184,185,186,187,188,189,190,191,192,193,194,195,196,197,198,199],\"y\":{\"__ndarray__\":\"AAAAAAAAAAAAAAAAAAAAAAAAAAAAAAAAAAAAAAAAAAAAAAAAAADwPwAAAAAAAAAAAAAAAAAA8D8AAAAAAADwPwAAAAAAAPA/AAAAAAAA8D8AAAAAAAAAQAAAAAAAAABAAAAAAAAAAEAAAAAAAAAAQAAAAAAAAABAAAAAAAAACEAAAAAAAADwPwAAAAAAAABAAAAAAAAAAEAAAAAAAAAIQAAAAAAAABRAAAAAAAAAEEAAAAAAAAAUQAAAAAAAAABAAAAAAAAA8D8AAAAAAAAAQAAAAAAAAAhAAAAAAAAAAEAAAAAAAAAQQAAAAAAAABBAAAAAAAAAEEAAAAAAAAAYQAAAAAAAAAhAAAAAAAAAEEAAAAAAAAAiQAAAAAAAAPA/AAAAAAAAEEAAAAAAAAAcQAAAAAAAABRAAAAAAAAAAEAAAAAAAAAgQAAAAAAAABRAAAAAAAAAGEAAAAAAAADwPwAAAAAAABBAAAAAAAAAIEAAAAAAAAAQQAAAAAAAAABAAAAAAAAAGEAAAAAAAAAoQAAAAAAAABhAAAAAAAAAHEAAAAAAAAAiQAAAAAAAABhAAAAAAAAAFEAAAAAAAAAIQAAAAAAAABxAAAAAAAAAFEAAAAAAAAAiQAAAAAAAACBAAAAAAAAAFEAAAAAAAAAkQAAAAAAAACBAAAAAAAAAGEAAAAAAAAAkQAAAAAAAABBAAAAAAAAAJEAAAAAAAAAUQAAAAAAAACJAAAAAAAAAEEAAAAAAAAAYQAAAAAAAABBAAAAAAAAAFEAAAAAAAAAcQAAAAAAAABBAAAAAAAAACEAAAAAAAAAgQAAAAAAAAChAAAAAAAAAFEAAAAAAAAAUQAAAAAAAABxAAAAAAAAAKEAAAAAAAAAiQAAAAAAAABhAAAAAAAAAGEAAAAAAAAAkQAAAAAAAABxAAAAAAAAAAEAAAAAAAAAgQAAAAAAAABBAAAAAAAAAHEAAAAAAAAAYQAAAAAAAABBAAAAAAAAAGEAAAAAAAAAYQAAAAAAAACJAAAAAAAAAJEAAAAAAAAAYQAAAAAAAABhAAAAAAAAAEEAAAAAAAAAQQAAAAAAAABxAAAAAAAAAEEAAAAAAAAAiQAAAAAAAABRAAAAAAAAACEAAAAAAAAAYQAAAAAAAAAhAAAAAAAAACEAAAAAAAAAIQAAAAAAAAABAAAAAAAAAAEAAAAAAAAAQQAAAAAAAAPA/AAAAAAAAIEAAAAAAAAAQQAAAAAAAAABAAAAAAAAAIEAAAAAAAAAIQAAAAAAAAABAAAAAAAAAEEAAAAAAAAAAQAAAAAAAABRAAAAAAAAAEEAAAAAAAADwPwAAAAAAABRAAAAAAAAAAEAAAAAAAAAiQAAAAAAAAAhAAAAAAAAAFEAAAAAAAAAIQAAAAAAAABhAAAAAAAAAGEAAAAAAAAAIQAAAAAAAABRAAAAAAAAACEAAAAAAAAAYQAAAAAAAAAhAAAAAAAAAAEAAAAAAAAAAAAAAAAAAAAhAAAAAAAAAGEAAAAAAAAAIQAAAAAAAAAhAAAAAAAAAGEAAAAAAAAAQQAAAAAAAAAhAAAAAAAAACEAAAAAAAAAAAAAAAAAAABBAAAAAAAAACEAAAAAAAADwPwAAAAAAAABAAAAAAAAAFEAAAAAAAAAYQAAAAAAAAAAAAAAAAAAA8D8AAAAAAAAQQAAAAAAAAAAAAAAAAAAAFEAAAAAAAAAAAAAAAAAAAPA/AAAAAAAAEEAAAAAAAAAUQAAAAAAAAPA/AAAAAAAACEAAAAAAAAAIQAAAAAAAABRAAAAAAAAACEAAAAAAAAAIQAAAAAAAAAhAAAAAAAAA8D8AAAAAAAAAAAAAAAAAAABAAAAAAAAAAEAAAAAAAAAIQAAAAAAAAAAAAAAAAAAACEAAAAAAAAAAQAAAAAAAAABAAAAAAAAA8D8AAAAAAAAAQAAAAAAAABRAAAAAAAAA8D8AAAAAAAAAAAAAAAAAAAhAAAAAAAAA8D8AAAAAAAAAQAAAAAAAAAhAAAAAAAAAAEAAAAAAAADwPwAAAAAAAAhAAAAAAAAA8D8AAAAAAAAAQAAAAAAAAPA/AAAAAAAA8D8AAAAAAAAAQAAAAAAAAABAAAAAAAAA8D8AAAAAAAAAAA==\",\"dtype\":\"float64\",\"shape\":[200]}},\"selected\":null,\"selection_policy\":null},\"id\":\"35449ee9-3eac-49ab-9d4c-ac045c3c1d98\",\"type\":\"ColumnDataSource\"},{\"attributes\":{\"axis_label\":\"#Nodes\",\"formatter\":{\"id\":\"f48dfdc3-d6a5-48d8-9da5-9b52dd9b3582\",\"type\":\"BasicTickFormatter\"},\"plot\":{\"id\":\"f1d2aaea-c7f4-4ff1-ae53-54bfc12c4c50\",\"subtype\":\"Figure\",\"type\":\"Plot\"},\"ticker\":{\"id\":\"b32b18d5-8dba-4ec3-a0e6-f8cf33974121\",\"type\":\"BasicTicker\"}},\"id\":\"ca2d7cc3-4ad7-4d97-a6a6-ab76fbf24406\",\"type\":\"LinearAxis\"},{\"attributes\":{\"data_source\":{\"id\":\"aef4e99d-edc6-4908-bb7d-e6ef0f4dd0b2\",\"type\":\"ColumnDataSource\"},\"glyph\":{\"id\":\"bf3d0034-2e1b-40cf-9cf7-e868939a5049\",\"type\":\"Line\"},\"hover_glyph\":null,\"muted_glyph\":null,\"nonselection_glyph\":{\"id\":\"d59f9f9b-e88d-476e-8c9d-bd644d68c88c\",\"type\":\"Line\"},\"selection_glyph\":null,\"view\":{\"id\":\"07e9e456-52d8-4474-adb7-e274e51f4e07\",\"type\":\"CDSView\"}},\"id\":\"e6f93826-f67d-4903-b414-cb8d704b1358\",\"type\":\"GlyphRenderer\"},{\"attributes\":{},\"id\":\"0cfd58f1-60b6-4686-a31f-0f67e4b35792\",\"type\":\"BasicTickFormatter\"},{\"attributes\":{\"source\":{\"id\":\"aef4e99d-edc6-4908-bb7d-e6ef0f4dd0b2\",\"type\":\"ColumnDataSource\"}},\"id\":\"07e9e456-52d8-4474-adb7-e274e51f4e07\",\"type\":\"CDSView\"},{\"attributes\":{\"line_alpha\":0.1,\"line_color\":\"#1f77b4\",\"line_width\":2,\"x\":{\"field\":\"x\"},\"y\":{\"field\":\"y\"}},\"id\":\"75f1de5d-cb7e-48da-b3ac-165a9401e80c\",\"type\":\"Line\"},{\"attributes\":{\"align\":\"center\",\"plot\":{\"id\":\"f89baade-8dea-494f-a86e-fdd9695f5721\",\"subtype\":\"Figure\",\"type\":\"Plot\"},\"text\":\"beta: 0.001, gamma: 0.01, percentage infected: 0.05\"},\"id\":\"efd281b3-5583-4cde-acbd-58db6b4b1c37\",\"type\":\"Title\"},{\"attributes\":{},\"id\":\"b556c6ab-a40a-46ce-a89d-0692f64a5366\",\"type\":\"WheelZoomTool\"},{\"attributes\":{\"source\":{\"id\":\"1cd8bff6-097f-4d1d-9995-6f57236fd561\",\"type\":\"ColumnDataSource\"}},\"id\":\"0fbb136b-7610-40ee-acb1-341d6d174e14\",\"type\":\"CDSView\"},{\"attributes\":{},\"id\":\"d76d270b-e33a-434b-b757-6af1daf76143\",\"type\":\"PanTool\"},{\"attributes\":{\"label\":{\"value\":\"Removed\"},\"renderers\":[{\"id\":\"8c7b66ac-1c97-448e-b1af-0d9d3bfb4258\",\"type\":\"GlyphRenderer\"}]},\"id\":\"0352f1d6-7672-477f-8512-1999f98f0077\",\"type\":\"LegendItem\"},{\"attributes\":{\"bottom_units\":\"screen\",\"fill_alpha\":{\"value\":0.5},\"fill_color\":{\"value\":\"lightgrey\"},\"left_units\":\"screen\",\"level\":\"overlay\",\"line_alpha\":{\"value\":1.0},\"line_color\":{\"value\":\"black\"},\"line_dash\":[4,4],\"line_width\":{\"value\":2},\"plot\":null,\"render_mode\":\"css\",\"right_units\":\"screen\",\"top_units\":\"screen\"},\"id\":\"7b0bc78c-9f04-44fb-a6df-a0b733047a0b\",\"type\":\"BoxAnnotation\"},{\"attributes\":{\"data_source\":{\"id\":\"35449ee9-3eac-49ab-9d4c-ac045c3c1d98\",\"type\":\"ColumnDataSource\"},\"glyph\":{\"id\":\"a7630be0-6d6b-45b7-b08d-3acfe70bf294\",\"type\":\"Line\"},\"hover_glyph\":null,\"muted_glyph\":null,\"nonselection_glyph\":{\"id\":\"51c10fe8-ed73-4857-9679-18833f15de91\",\"type\":\"Line\"},\"selection_glyph\":null,\"view\":{\"id\":\"04c86e31-1cc1-4f93-b879-03a219ba83a1\",\"type\":\"CDSView\"}},\"id\":\"8c7b66ac-1c97-448e-b1af-0d9d3bfb4258\",\"type\":\"GlyphRenderer\"},{\"attributes\":{\"callback\":null,\"column_names\":[\"x\",\"y\"],\"data\":{\"x\":[0,1,2,3,4,5,6,7,8,9,10,11,12,13,14,15,16,17,18,19,20,21,22,23,24,25,26,27,28,29,30,31,32,33,34,35,36,37,38,39,40,41,42,43,44,45,46,47,48,49,50,51,52,53,54,55,56,57,58,59,60,61,62,63,64,65,66,67,68,69,70,71,72,73,74,75,76,77,78,79,80,81,82,83,84,85,86,87,88,89,90,91,92,93,94,95,96,97,98,99,100,101,102,103,104,105,106,107,108,109,110,111,112,113,114,115,116,117,118,119,120,121,122,123,124,125,126,127,128,129,130,131,132,133,134,135,136,137,138,139,140,141,142,143,144,145,146,147,148,149,150,151,152,153,154,155,156,157,158,159,160,161,162,163,164,165,166,167,168,169,170,171,172,173,174,175,176,177,178,179,180,181,182,183,184,185,186,187,188,189,190,191,192,193,194,195,196,197,198,199],\"y\":{\"__ndarray__\":\"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\",\"dtype\":\"float64\",\"shape\":[200]}},\"selected\":null,\"selection_policy\":null},\"id\":\"1cd8bff6-097f-4d1d-9995-6f57236fd561\",\"type\":\"ColumnDataSource\"},{\"attributes\":{\"line_alpha\":0.1,\"line_color\":\"#1f77b4\",\"line_width\":2,\"x\":{\"field\":\"x\"},\"y\":{\"field\":\"y\"}},\"id\":\"51c10fe8-ed73-4857-9679-18833f15de91\",\"type\":\"Line\"},{\"attributes\":{\"overlay\":{\"id\":\"7b0bc78c-9f04-44fb-a6df-a0b733047a0b\",\"type\":\"BoxAnnotation\"}},\"id\":\"a7c4fee8-1af7-450f-9553-95bab40d2157\",\"type\":\"BoxZoomTool\"},{\"attributes\":{},\"id\":\"52cb995e-55a8-4ad7-b598-7b99fbc08c01\",\"type\":\"HelpTool\"},{\"attributes\":{},\"id\":\"31218dc8-712c-458a-ab0d-f38c05551381\",\"type\":\"ResetTool\"},{\"attributes\":{},\"id\":\"81998ad3-b12b-4e99-9368-7a42571e5b73\",\"type\":\"SaveTool\"},{\"attributes\":{},\"id\":\"f48dfdc3-d6a5-48d8-9da5-9b52dd9b3582\",\"type\":\"BasicTickFormatter\"},{\"attributes\":{\"items\":[{\"id\":\"54c39d50-38bb-4fc2-b0ac-4d87ca21c672\",\"type\":\"LegendItem\"},{\"id\":\"4c8c487b-65bf-4942-9ac2-f58f9ab7c167\",\"type\":\"LegendItem\"},{\"id\":\"98193a2c-d722-4cbb-9575-57e52d3a3ce9\",\"type\":\"LegendItem\"}],\"orientation\":\"horizontal\",\"plot\":{\"id\":\"f1d2aaea-c7f4-4ff1-ae53-54bfc12c4c50\",\"subtype\":\"Figure\",\"type\":\"Plot\"}},\"id\":\"09af07ec-9353-4df6-bf78-27aa4287b342\",\"type\":\"Legend\"},{\"attributes\":{\"label\":{\"value\":\"Susceptible\"},\"renderers\":[{\"id\":\"0e69c7e5-7d4a-4be5-b5e6-e53c133c3664\",\"type\":\"GlyphRenderer\"}]},\"id\":\"54c39d50-38bb-4fc2-b0ac-4d87ca21c672\",\"type\":\"LegendItem\"},{\"attributes\":{\"plot\":null,\"text\":\"SIR - Diffusion Trend\"},\"id\":\"7bbbc5d9-29f4-4ad1-96a4-9f71994b36db\",\"type\":\"Title\"},{\"attributes\":{\"tools\":[{\"id\":\"d76d270b-e33a-434b-b757-6af1daf76143\",\"type\":\"PanTool\"},{\"id\":\"b556c6ab-a40a-46ce-a89d-0692f64a5366\",\"type\":\"WheelZoomTool\"},{\"id\":\"a7c4fee8-1af7-450f-9553-95bab40d2157\",\"type\":\"BoxZoomTool\"},{\"id\":\"81998ad3-b12b-4e99-9368-7a42571e5b73\",\"type\":\"SaveTool\"},{\"id\":\"31218dc8-712c-458a-ab0d-f38c05551381\",\"type\":\"ResetTool\"},{\"id\":\"52cb995e-55a8-4ad7-b598-7b99fbc08c01\",\"type\":\"HelpTool\"},{\"id\":\"8b02401d-a734-4d9d-9743-f91ec5a39526\",\"type\":\"PanTool\"},{\"id\":\"f809604f-950c-4541-98f7-e803cbcf0c1c\",\"type\":\"WheelZoomTool\"},{\"id\":\"4cd036d7-945d-46f9-b68d-f7c684d63b69\",\"type\":\"BoxZoomTool\"},{\"id\":\"b632fc0e-f7c7-4a30-8801-8ff7d6cbb4a4\",\"type\":\"SaveTool\"},{\"id\":\"7e1398c2-4b17-422b-a834-59193415a558\",\"type\":\"ResetTool\"},{\"id\":\"90d45739-bc18-4e5f-ac69-1fc554e6d35c\",\"type\":\"HelpTool\"}]},\"id\":\"2c33eccd-4029-48f6-b9ec-fb28c7f6d83d\",\"type\":\"ProxyToolbar\"},{\"attributes\":{\"data_source\":{\"id\":\"1cd8bff6-097f-4d1d-9995-6f57236fd561\",\"type\":\"ColumnDataSource\"},\"glyph\":{\"id\":\"067de1db-8179-465f-972a-e0ee604a5949\",\"type\":\"Line\"},\"hover_glyph\":null,\"muted_glyph\":null,\"nonselection_glyph\":{\"id\":\"75f1de5d-cb7e-48da-b3ac-165a9401e80c\",\"type\":\"Line\"},\"selection_glyph\":null,\"view\":{\"id\":\"0fbb136b-7610-40ee-acb1-341d6d174e14\",\"type\":\"CDSView\"}},\"id\":\"0e69c7e5-7d4a-4be5-b5e6-e53c133c3664\",\"type\":\"GlyphRenderer\"},{\"attributes\":{\"children\":[{\"id\":\"f1d2aaea-c7f4-4ff1-ae53-54bfc12c4c50\",\"subtype\":\"Figure\",\"type\":\"Plot\"},{\"id\":\"f89baade-8dea-494f-a86e-fdd9695f5721\",\"subtype\":\"Figure\",\"type\":\"Plot\"}]},\"id\":\"0b8c76b5-8524-4068-a3f5-05fa748b62b9\",\"type\":\"Row\"},{\"attributes\":{\"below\":[{\"id\":\"5e2302a5-78b4-46eb-8f3b-2077874f3b17\",\"type\":\"LinearAxis\"},{\"id\":\"29188b7f-8e53-4742-b731-2a364fd39f5c\",\"type\":\"Title\"}],\"left\":[{\"id\":\"ca2d7cc3-4ad7-4d97-a6a6-ab76fbf24406\",\"type\":\"LinearAxis\"}],\"plot_height\":400,\"plot_width\":400,\"renderers\":[{\"id\":\"5e2302a5-78b4-46eb-8f3b-2077874f3b17\",\"type\":\"LinearAxis\"},{\"id\":\"92ff4f9a-a902-4727-a211-9aa33d2eb487\",\"type\":\"Grid\"},{\"id\":\"ca2d7cc3-4ad7-4d97-a6a6-ab76fbf24406\",\"type\":\"LinearAxis\"},{\"id\":\"9f8365ee-1c4d-43f2-b12d-294fe7a738b6\",\"type\":\"Grid\"},{\"id\":\"7b0bc78c-9f04-44fb-a6df-a0b733047a0b\",\"type\":\"BoxAnnotation\"},{\"id\":\"09af07ec-9353-4df6-bf78-27aa4287b342\",\"type\":\"Legend\"},{\"id\":\"0e69c7e5-7d4a-4be5-b5e6-e53c133c3664\",\"type\":\"GlyphRenderer\"},{\"id\":\"6edf1759-de02-4afa-8e56-5e0374453561\",\"type\":\"GlyphRenderer\"},{\"id\":\"c36ddbd0-67be-4788-a9e9-a0e67a70dd91\",\"type\":\"GlyphRenderer\"},{\"id\":\"29188b7f-8e53-4742-b731-2a364fd39f5c\",\"type\":\"Title\"}],\"title\":{\"id\":\"7bbbc5d9-29f4-4ad1-96a4-9f71994b36db\",\"type\":\"Title\"},\"toolbar\":{\"id\":\"7d66a154-c642-4710-917d-5caa74e36567\",\"type\":\"Toolbar\"},\"toolbar_location\":null,\"x_range\":{\"id\":\"711986b8-6238-46f2-862f-86a0974f9fa9\",\"type\":\"DataRange1d\"},\"x_scale\":{\"id\":\"55eb129c-5ef8-44e4-a6c8-2c9e59b266dd\",\"type\":\"LinearScale\"},\"y_range\":{\"id\":\"e3f0b825-4c5e-4c94-8211-66bb84e8e56c\",\"type\":\"DataRange1d\"},\"y_scale\":{\"id\":\"545154a8-7d87-4b0d-85cb-bbc916ecaac1\",\"type\":\"LinearScale\"}},\"id\":\"f1d2aaea-c7f4-4ff1-ae53-54bfc12c4c50\",\"subtype\":\"Figure\",\"type\":\"Plot\"},{\"attributes\":{\"line_alpha\":0.1,\"line_color\":\"#1f77b4\",\"line_width\":2,\"x\":{\"field\":\"x\"},\"y\":{\"field\":\"y\"}},\"id\":\"d69a2755-636d-4aa9-85e5-a71057db458c\",\"type\":\"Line\"},{\"attributes\":{\"toolbar\":{\"id\":\"2c33eccd-4029-48f6-b9ec-fb28c7f6d83d\",\"type\":\"ProxyToolbar\"},\"toolbar_location\":\"above\"},\"id\":\"964f4a0a-c4e9-4595-9428-b6529ae6accf\",\"type\":\"ToolbarBox\"},{\"attributes\":{\"children\":[{\"id\":\"0b8c76b5-8524-4068-a3f5-05fa748b62b9\",\"type\":\"Row\"}]},\"id\":\"03e67fac-d517-4393-939f-4d30d153f15d\",\"type\":\"Column\"},{\"attributes\":{\"line_alpha\":0.5,\"line_color\":\"#aec7e8\",\"line_width\":2,\"x\":{\"field\":\"x\"},\"y\":{\"field\":\"y\"}},\"id\":\"3a406573-3315-4889-a456-f78713b72000\",\"type\":\"Line\"},{\"attributes\":{\"label\":{\"value\":\"Infected\"},\"renderers\":[{\"id\":\"6edf1759-de02-4afa-8e56-5e0374453561\",\"type\":\"GlyphRenderer\"}]},\"id\":\"4c8c487b-65bf-4942-9ac2-f58f9ab7c167\",\"type\":\"LegendItem\"},{\"attributes\":{\"line_alpha\":0.1,\"line_color\":\"#1f77b4\",\"line_width\":2,\"x\":{\"field\":\"x\"},\"y\":{\"field\":\"y\"}},\"id\":\"c8e7d233-20e8-465e-be23-316d925bd7dc\",\"type\":\"Line\"},{\"attributes\":{\"data_source\":{\"id\":\"6383c266-d937-4fa1-89fc-9ed024ca7744\",\"type\":\"ColumnDataSource\"},\"glyph\":{\"id\":\"98632ada-3f13-4cbe-bdb0-988d53754ca7\",\"type\":\"Line\"},\"hover_glyph\":null,\"muted_glyph\":null,\"nonselection_glyph\":{\"id\":\"d69a2755-636d-4aa9-85e5-a71057db458c\",\"type\":\"Line\"},\"selection_glyph\":null,\"view\":{\"id\":\"fc107b0a-1377-489a-ae49-7633cca3b465\",\"type\":\"CDSView\"}},\"id\":\"c36ddbd0-67be-4788-a9e9-a0e67a70dd91\",\"type\":\"GlyphRenderer\"},{\"attributes\":{\"label\":{\"value\":\"Removed\"},\"renderers\":[{\"id\":\"c36ddbd0-67be-4788-a9e9-a0e67a70dd91\",\"type\":\"GlyphRenderer\"}]},\"id\":\"98193a2c-d722-4cbb-9575-57e52d3a3ce9\",\"type\":\"LegendItem\"},{\"attributes\":{\"source\":{\"id\":\"6383c266-d937-4fa1-89fc-9ed024ca7744\",\"type\":\"ColumnDataSource\"}},\"id\":\"fc107b0a-1377-489a-ae49-7633cca3b465\",\"type\":\"CDSView\"},{\"attributes\":{\"source\":{\"id\":\"619b2361-8eb8-4fd5-b7ce-1d77f697ea65\",\"type\":\"ColumnDataSource\"}},\"id\":\"256dfe70-9c25-4bd7-9464-22693451d116\",\"type\":\"CDSView\"},{\"attributes\":{\"callback\":null},\"id\":\"806ce647-4e31-453f-90b5-41ff806d3b4e\",\"type\":\"DataRange1d\"},{\"attributes\":{\"data_source\":{\"id\":\"619b2361-8eb8-4fd5-b7ce-1d77f697ea65\",\"type\":\"ColumnDataSource\"},\"glyph\":{\"id\":\"3a406573-3315-4889-a456-f78713b72000\",\"type\":\"Line\"},\"hover_glyph\":null,\"muted_glyph\":null,\"nonselection_glyph\":{\"id\":\"c8e7d233-20e8-465e-be23-316d925bd7dc\",\"type\":\"Line\"},\"selection_glyph\":null,\"view\":{\"id\":\"256dfe70-9c25-4bd7-9464-22693451d116\",\"type\":\"CDSView\"}},\"id\":\"6edf1759-de02-4afa-8e56-5e0374453561\",\"type\":\"GlyphRenderer\"},{\"attributes\":{\"below\":[{\"id\":\"5ce97c39-66d1-40bc-9a2e-2f7ba654cfe4\",\"type\":\"LinearAxis\"},{\"id\":\"efd281b3-5583-4cde-acbd-58db6b4b1c37\",\"type\":\"Title\"}],\"left\":[{\"id\":\"21f09568-2ddc-4ebe-b219-5e24e5b8940a\",\"type\":\"LinearAxis\"}],\"plot_height\":400,\"plot_width\":400,\"renderers\":[{\"id\":\"5ce97c39-66d1-40bc-9a2e-2f7ba654cfe4\",\"type\":\"LinearAxis\"},{\"id\":\"0abcaccc-34e9-4328-b5ef-8decdf143bf5\",\"type\":\"Grid\"},{\"id\":\"21f09568-2ddc-4ebe-b219-5e24e5b8940a\",\"type\":\"LinearAxis\"},{\"id\":\"e185899d-caa9-4628-b54a-cc8d837c3f72\",\"type\":\"Grid\"},{\"id\":\"038a402a-a6d1-4cfa-9e51-ddaebef5c5b9\",\"type\":\"BoxAnnotation\"},{\"id\":\"21e98864-d833-4f22-8fdc-6f3b735c8299\",\"type\":\"Legend\"},{\"id\":\"f23329d1-3b4b-4e6f-823f-6aa22ede7e6d\",\"type\":\"GlyphRenderer\"},{\"id\":\"e6f93826-f67d-4903-b414-cb8d704b1358\",\"type\":\"GlyphRenderer\"},{\"id\":\"8c7b66ac-1c97-448e-b1af-0d9d3bfb4258\",\"type\":\"GlyphRenderer\"},{\"id\":\"efd281b3-5583-4cde-acbd-58db6b4b1c37\",\"type\":\"Title\"}],\"title\":{\"id\":\"9f3a1d08-5642-49e9-86b3-cf1bf3d9ee95\",\"type\":\"Title\"},\"toolbar\":{\"id\":\"76b0fce3-cba5-4b6f-8274-66fb7885df92\",\"type\":\"Toolbar\"},\"toolbar_location\":null,\"x_range\":{\"id\":\"806ce647-4e31-453f-90b5-41ff806d3b4e\",\"type\":\"DataRange1d\"},\"x_scale\":{\"id\":\"2414b1ab-f25b-4549-a85c-9c8d636bdcd5\",\"type\":\"LinearScale\"},\"y_range\":{\"id\":\"6582b72a-46a7-4cce-ba81-6b49be856275\",\"type\":\"DataRange1d\"},\"y_scale\":{\"id\":\"0fb249b0-53b3-4d94-8504-65b22be397af\",\"type\":\"LinearScale\"}},\"id\":\"f89baade-8dea-494f-a86e-fdd9695f5721\",\"subtype\":\"Figure\",\"type\":\"Plot\"},{\"attributes\":{\"line_alpha\":0.5,\"line_color\":\"#ff7f0e\",\"line_width\":2,\"x\":{\"field\":\"x\"},\"y\":{\"field\":\"y\"}},\"id\":\"98632ada-3f13-4cbe-bdb0-988d53754ca7\",\"type\":\"Line\"},{\"attributes\":{\"data_source\":{\"id\":\"458ee826-09d1-4814-b312-c957f143349a\",\"type\":\"ColumnDataSource\"},\"glyph\":{\"id\":\"0a017c12-4216-4791-ae71-4bfb1a8d55f7\",\"type\":\"Line\"},\"hover_glyph\":null,\"muted_glyph\":null,\"nonselection_glyph\":{\"id\":\"1689ebec-09dd-4f74-8f53-d71a9842b81c\",\"type\":\"Line\"},\"selection_glyph\":null,\"view\":{\"id\":\"8da841de-c7c6-4514-a287-9aad52862f52\",\"type\":\"CDSView\"}},\"id\":\"f23329d1-3b4b-4e6f-823f-6aa22ede7e6d\",\"type\":\"GlyphRenderer\"},{\"attributes\":{\"callback\":null,\"column_names\":[\"x\",\"y\"],\"data\":{\"x\":[0,1,2,3,4,5,6,7,8,9,10,11,12,13,14,15,16,17,18,19,20,21,22,23,24,25,26,27,28,29,30,31,32,33,34,35,36,37,38,39,40,41,42,43,44,45,46,47,48,49,50,51,52,53,54,55,56,57,58,59,60,61,62,63,64,65,66,67,68,69,70,71,72,73,74,75,76,77,78,79,80,81,82,83,84,85,86,87,88,89,90,91,92,93,94,95,96,97,98,99,100,101,102,103,104,105,106,107,108,109,110,111,112,113,114,115,116,117,118,119,120,121,122,123,124,125,126,127,128,129,130,131,132,133,134,135,136,137,138,139,140,141,142,143,144,145,146,147,148,149,150,151,152,153,154,155,156,157,158,159,160,161,162,163,164,165,166,167,168,169,170,171,172,173,174,175,176,177,178,179,180,181,182,183,184,185,186,187,188,189,190,191,192,193,194,195,196,197,198,199],\"y\":{\"__ndarray__\":\"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\",\"dtype\":\"float64\",\"shape\":[200]}},\"selected\":null,\"selection_policy\":null},\"id\":\"619b2361-8eb8-4fd5-b7ce-1d77f697ea65\",\"type\":\"ColumnDataSource\"},{\"attributes\":{\"children\":[{\"id\":\"964f4a0a-c4e9-4595-9428-b6529ae6accf\",\"type\":\"ToolbarBox\"},{\"id\":\"03e67fac-d517-4393-939f-4d30d153f15d\",\"type\":\"Column\"}]},\"id\":\"7f4023c0-13f5-48da-8812-3da6907b6958\",\"type\":\"Column\"},{\"attributes\":{\"active_drag\":\"auto\",\"active_inspect\":\"auto\",\"active_scroll\":\"auto\",\"active_tap\":\"auto\",\"tools\":[{\"id\":\"8b02401d-a734-4d9d-9743-f91ec5a39526\",\"type\":\"PanTool\"},{\"id\":\"f809604f-950c-4541-98f7-e803cbcf0c1c\",\"type\":\"WheelZoomTool\"},{\"id\":\"4cd036d7-945d-46f9-b68d-f7c684d63b69\",\"type\":\"BoxZoomTool\"},{\"id\":\"b632fc0e-f7c7-4a30-8801-8ff7d6cbb4a4\",\"type\":\"SaveTool\"},{\"id\":\"7e1398c2-4b17-422b-a834-59193415a558\",\"type\":\"ResetTool\"},{\"id\":\"90d45739-bc18-4e5f-ac69-1fc554e6d35c\",\"type\":\"HelpTool\"}]},\"id\":\"76b0fce3-cba5-4b6f-8274-66fb7885df92\",\"type\":\"Toolbar\"},{\"attributes\":{\"label\":{\"value\":\"Infected\"},\"renderers\":[{\"id\":\"e6f93826-f67d-4903-b414-cb8d704b1358\",\"type\":\"GlyphRenderer\"}]},\"id\":\"185702ec-ced3-45e5-b434-7fa19bf2de18\",\"type\":\"LegendItem\"},{\"attributes\":{\"callback\":null,\"column_names\":[\"x\",\"y\"],\"data\":{\"x\":[0,1,2,3,4,5,6,7,8,9,10,11,12,13,14,15,16,17,18,19,20,21,22,23,24,25,26,27,28,29,30,31,32,33,34,35,36,37,38,39,40,41,42,43,44,45,46,47,48,49,50,51,52,53,54,55,56,57,58,59,60,61,62,63,64,65,66,67,68,69,70,71,72,73,74,75,76,77,78,79,80,81,82,83,84,85,86,87,88,89,90,91,92,93,94,95,96,97,98,99,100,101,102,103,104,105,106,107,108,109,110,111,112,113,114,115,116,117,118,119,120,121,122,123,124,125,126,127,128,129,130,131,132,133,134,135,136,137,138,139,140,141,142,143,144,145,146,147,148,149,150,151,152,153,154,155,156,157,158,159,160,161,162,163,164,165,166,167,168,169,170,171,172,173,174,175,176,177,178,179,180,181,182,183,184,185,186,187,188,189,190,191,192,193,194,195,196,197,198,199],\"y\":{\"__ndarray__\":\"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\",\"dtype\":\"float64\",\"shape\":[200]}},\"selected\":null,\"selection_policy\":null},\"id\":\"6383c266-d937-4fa1-89fc-9ed024ca7744\",\"type\":\"ColumnDataSource\"},{\"attributes\":{},\"id\":\"f7c5b9ab-fd3a-435f-b1cf-f45a80b1454e\",\"type\":\"BasicTicker\"},{\"attributes\":{\"align\":\"center\",\"plot\":{\"id\":\"f1d2aaea-c7f4-4ff1-ae53-54bfc12c4c50\",\"subtype\":\"Figure\",\"type\":\"Plot\"},\"text\":\"beta: 0.001, gamma: 0.01, percentage infected: 0.05\"},\"id\":\"29188b7f-8e53-4742-b731-2a364fd39f5c\",\"type\":\"Title\"},{\"attributes\":{\"callback\":null},\"id\":\"6582b72a-46a7-4cce-ba81-6b49be856275\",\"type\":\"DataRange1d\"},{\"attributes\":{},\"id\":\"2414b1ab-f25b-4549-a85c-9c8d636bdcd5\",\"type\":\"LinearScale\"},{\"attributes\":{},\"id\":\"0fb249b0-53b3-4d94-8504-65b22be397af\",\"type\":\"LinearScale\"},{\"attributes\":{\"plot\":null,\"text\":\"SIR - Prevalence\"},\"id\":\"9f3a1d08-5642-49e9-86b3-cf1bf3d9ee95\",\"type\":\"Title\"},{\"attributes\":{\"axis_label\":\"Iterations\",\"formatter\":{\"id\":\"f6e6e6ae-3e51-47dd-a6e7-18ca6689c28a\",\"type\":\"BasicTickFormatter\"},\"plot\":{\"id\":\"f89baade-8dea-494f-a86e-fdd9695f5721\",\"subtype\":\"Figure\",\"type\":\"Plot\"},\"ticker\":{\"id\":\"9df6b12d-bbd4-4c98-86db-724f359357de\",\"type\":\"BasicTicker\"}},\"id\":\"5ce97c39-66d1-40bc-9a2e-2f7ba654cfe4\",\"type\":\"LinearAxis\"},{\"attributes\":{\"callback\":null,\"column_names\":[\"x\",\"y\"],\"data\":{\"x\":[0,1,2,3,4,5,6,7,8,9,10,11,12,13,14,15,16,17,18,19,20,21,22,23,24,25,26,27,28,29,30,31,32,33,34,35,36,37,38,39,40,41,42,43,44,45,46,47,48,49,50,51,52,53,54,55,56,57,58,59,60,61,62,63,64,65,66,67,68,69,70,71,72,73,74,75,76,77,78,79,80,81,82,83,84,85,86,87,88,89,90,91,92,93,94,95,96,97,98,99,100,101,102,103,104,105,106,107,108,109,110,111,112,113,114,115,116,117,118,119,120,121,122,123,124,125,126,127,128,129,130,131,132,133,134,135,136,137,138,139,140,141,142,143,144,145,146,147,148,149,150,151,152,153,154,155,156,157,158,159,160,161,162,163,164,165,166,167,168,169,170,171,172,173,174,175,176,177,178,179,180,181,182,183,184,185,186,187,188,189,190,191,192,193,194,195,196,197,198,199],\"y\":{\"__ndarray__\":\"AAAAAAAAAAAAAAAAAAAIwAAAAAAAAAjAAAAAAAAAFMAAAAAAAAAcwAAAAAAAACDAAAAAAAAAJsAAAAAAAAAiwAAAAAAAABjAAAAAAAAAFMAAAAAAAAAgwAAAAAAAADDAAAAAAAAAM8AAAAAAAAAmwAAAAAAAACrAAAAAAAAAJMAAAAAAAAAiwAAAAAAAADTAAAAAAAAAMsAAAAAAAAA2wAAAAAAAADDAAAAAAAAANsAAAAAAAAAzwAAAAAAAADDAAAAAAAAAPMAAAAAAAAAywAAAAAAAADTAAAAAAAAAMMAAAAAAAAA1wAAAAAAAADTAAAAAAAAAOMAAAAAAAAA2wAAAAAAAADvAAAAAAAAAMsAAAAAAAAAuwAAAAAAAADjAAAAAAAAAOsAAAAAAAAAzwAAAAAAAADHAAAAAAAAAMMAAAAAAAAAywAAAAAAAADXAAAAAAAAAQMAAAAAAAAAswAAAAAAAADfAAAAAAAAALMAAAAAAAAAowAAAAAAAADPAAAAAAAAAJsAAAAAAAAAcwAAAAAAAACTAAAAAAAAAJsAAAAAAAAAYwAAAAAAAACbAAAAAAAAAEMAAAAAAAAAUwAAAAAAAAAjAAAAAAAAAGMAAAAAAAAAAwAAAAAAAABTAAAAAAAAAJMAAAAAAAAAcwAAAAAAAACDAAAAAAAAAIMAAAAAAAAAIwAAAAAAAAADAAAAAAAAAHMAAAAAAAAAYwAAAAAAAAPC/AAAAAAAACMAAAAAAAAAIwAAAAAAAAPC/AAAAAAAA8L8AAAAAAAAAwAAAAAAAAAAAAAAAAAAA8L8AAAAAAAAAwAAAAAAAAAjAAAAAAAAAAMAAAAAAAADwvwAAAAAAAPC/AAAAAAAAAMAAAAAAAADwvwAAAAAAAPC/AAAAAAAAAAAAAAAAAAAAwAAAAAAAABDAAAAAAAAAAAAAAAAAAADwvwAAAAAAABDAAAAAAAAAAMAAAAAAAADwvwAAAAAAAPC/AAAAAAAAAAAAAAAAAAAAwAAAAAAAAAAAAAAAAAAA8L8AAAAAAAAAwAAAAAAAAAAAAAAAAAAAAAAAAAAAAAAAAAAAAAAAAAAAAAAAAAAA8L8AAAAAAAAAAAAAAAAAAAAAAAAAAAAA8L8AAAAAAAAAAAAAAAAAAPC/AAAAAAAAAMAAAAAAAAAAAAAAAAAAAAAAAAAAAAAAAAAAAAAAAAAAAAAAAAAAAADAAAAAAAAAAAAAAAAAAAAAAAAAAAAAAAAAAAAAAAAAAAAAAAAAAAAAAAAAAAAAAAAAAAAAAAAAAAAAAAAAAAAAAAAAAAAAAAAAAAAAAAAAAAAAAAAAAAAAAAAAAAAAAAAAAAAAAAAA8L8AAAAAAADwvwAAAAAAAAAAAAAAAAAAAAAAAAAAAAAAAAAAAAAAAAAAAAAAAAAAAAAAAAAAAAAAAAAAAAAAAPC/AAAAAAAAAAAAAAAAAAAAAAAAAAAAAAAAAAAAAAAAAAAAAAAAAADwvwAAAAAAAAAAAAAAAAAAAAAAAAAAAAAAAAAAAAAAAAAAAAAAAAAAAAAAAAAAAAAAAAAAAAAAAAAAAAAAAAAAAAAAAAAAAAAAAAAAAAAAAAAAAAAAAAAAAAAAAAAAAAAAAAAAAAAAAPC/AAAAAAAAAAAAAAAAAAAAAAAAAAAAAAAAAAAAAAAA8L8AAAAAAAAAAAAAAAAAAAAAAAAAAAAAAAAAAAAAAAAAAAAAAAAAAAAAAAAAAAAAAAAAAAAAAAAAAAAAAAAAAAAAAAAAAAAAAAAAAAAAAAAAAAAAAAAAAAAAAAAAAAAAAAAAAAAAAAAAAAAAAAAAAAAAAAAAAAAAAAAAAAAAAAAAAAAAAAAAAAAAAAAAAAAAAAAAAAAAAAAAAAAAAAAAAAAAAAAAAAAAAAAAAAAAAAAAAAAAAAAAAAAAAAAAAAAAAAAAAAAAAAAAAAAAAAAAAAAAAAAAAAAAAAAAAAAAAAAAAAAAAAAAAAAAAAAAAAAAAAAAAAAAAAAAAAAAAAAAAAAAAAAAAAAAAAAAAAAAAAAAAAAAAAAAAAAAAAAAAAAAAAAAAAAAAAAAAAAAAAAAAAAAAAAAAAAAAAAAAAAAAAAAAAAAAAAAAAAAAAAAAAAAAAAAAAAAAAAAAA==\",\"dtype\":\"float64\",\"shape\":[200]}},\"selected\":null,\"selection_policy\":null},\"id\":\"458ee826-09d1-4814-b312-c957f143349a\",\"type\":\"ColumnDataSource\"},{\"attributes\":{},\"id\":\"9df6b12d-bbd4-4c98-86db-724f359357de\",\"type\":\"BasicTicker\"},{\"attributes\":{\"axis_label\":\"#Delta Nodes\",\"formatter\":{\"id\":\"6cb1ffa3-92a8-4f5b-9541-4500ca5ffdd0\",\"type\":\"BasicTickFormatter\"},\"plot\":{\"id\":\"f89baade-8dea-494f-a86e-fdd9695f5721\",\"subtype\":\"Figure\",\"type\":\"Plot\"},\"ticker\":{\"id\":\"f7c5b9ab-fd3a-435f-b1cf-f45a80b1454e\",\"type\":\"BasicTicker\"}},\"id\":\"21f09568-2ddc-4ebe-b219-5e24e5b8940a\",\"type\":\"LinearAxis\"},{\"attributes\":{\"dimension\":1,\"grid_line_alpha\":{\"value\":0.5},\"plot\":{\"id\":\"f89baade-8dea-494f-a86e-fdd9695f5721\",\"subtype\":\"Figure\",\"type\":\"Plot\"},\"ticker\":{\"id\":\"f7c5b9ab-fd3a-435f-b1cf-f45a80b1454e\",\"type\":\"BasicTicker\"}},\"id\":\"e185899d-caa9-4628-b54a-cc8d837c3f72\",\"type\":\"Grid\"},{\"attributes\":{\"grid_line_alpha\":{\"value\":0.5},\"plot\":{\"id\":\"f89baade-8dea-494f-a86e-fdd9695f5721\",\"subtype\":\"Figure\",\"type\":\"Plot\"},\"ticker\":{\"id\":\"9df6b12d-bbd4-4c98-86db-724f359357de\",\"type\":\"BasicTicker\"}},\"id\":\"0abcaccc-34e9-4328-b5ef-8decdf143bf5\",\"type\":\"Grid\"},{\"attributes\":{\"line_alpha\":0.1,\"line_color\":\"#1f77b4\",\"line_width\":2,\"x\":{\"field\":\"x\"},\"y\":{\"field\":\"y\"}},\"id\":\"1689ebec-09dd-4f74-8f53-d71a9842b81c\",\"type\":\"Line\"},{\"attributes\":{\"source\":{\"id\":\"458ee826-09d1-4814-b312-c957f143349a\",\"type\":\"ColumnDataSource\"}},\"id\":\"8da841de-c7c6-4514-a287-9aad52862f52\",\"type\":\"CDSView\"},{\"attributes\":{},\"id\":\"8b02401d-a734-4d9d-9743-f91ec5a39526\",\"type\":\"PanTool\"},{\"attributes\":{},\"id\":\"7e1398c2-4b17-422b-a834-59193415a558\",\"type\":\"ResetTool\"},{\"attributes\":{},\"id\":\"f809604f-950c-4541-98f7-e803cbcf0c1c\",\"type\":\"WheelZoomTool\"},{\"attributes\":{\"overlay\":{\"id\":\"038a402a-a6d1-4cfa-9e51-ddaebef5c5b9\",\"type\":\"BoxAnnotation\"}},\"id\":\"4cd036d7-945d-46f9-b68d-f7c684d63b69\",\"type\":\"BoxZoomTool\"},{\"attributes\":{},\"id\":\"b632fc0e-f7c7-4a30-8801-8ff7d6cbb4a4\",\"type\":\"SaveTool\"}],\"root_ids\":[\"7f4023c0-13f5-48da-8812-3da6907b6958\"]},\"title\":\"Bokeh Application\",\"version\":\"0.12.15\"}};\n",
       "  var render_items = [{\"docid\":\"ea7be9b9-54c2-4dfa-a65e-f32a7100c656\",\"elementid\":\"fd4d488f-9593-45a1-998b-823c9b25fca3\",\"modelid\":\"7f4023c0-13f5-48da-8812-3da6907b6958\"}];\n",
       "  root.Bokeh.embed.embed_items_notebook(docs_json, render_items);\n",
       "\n",
       "  }\n",
       "  if (root.Bokeh !== undefined) {\n",
       "    embed_document(root);\n",
       "  } else {\n",
       "    var attempts = 0;\n",
       "    var timer = setInterval(function(root) {\n",
       "      if (root.Bokeh !== undefined) {\n",
       "        embed_document(root);\n",
       "        clearInterval(timer);\n",
       "      }\n",
       "      attempts++;\n",
       "      if (attempts > 100) {\n",
       "        console.log(\"Bokeh: ERROR: Unable to run BokehJS code because BokehJS library is missing\")\n",
       "        clearInterval(timer);\n",
       "      }\n",
       "    }, 10, root)\n",
       "  }\n",
       "})(window);"
      ],
      "application/vnd.bokehjs_exec.v0+json": ""
     },
     "metadata": {
      "application/vnd.bokehjs_exec.v0+json": {
       "id": "7f4023c0-13f5-48da-8812-3da6907b6958"
      }
     },
     "output_type": "display_data"
    }
   ],
   "source": [
    "from ndlib.viz.bokeh.MultiPlot import MultiPlot\n",
    "vm = MultiPlot()\n",
    "vm.add_plot(p)\n",
    "vm.add_plot(p2)\n",
    "m = vm.plot()\n",
    "show(m)"
   ]
  },
  {
   "cell_type": "code",
   "execution_count": null,
   "metadata": {},
   "outputs": [],
   "source": []
  }
 ],
 "metadata": {
  "kernelspec": {
   "display_name": "Python [default]",
   "language": "python",
   "name": "python3"
  },
  "language_info": {
   "codemirror_mode": {
    "name": "ipython",
    "version": 3
   },
   "file_extension": ".py",
   "mimetype": "text/x-python",
   "name": "python",
   "nbconvert_exporter": "python",
   "pygments_lexer": "ipython3",
   "version": "3.6.5"
  }
 },
 "nbformat": 4,
 "nbformat_minor": 2
}
