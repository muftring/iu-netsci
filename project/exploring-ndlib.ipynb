{
 "cells": [
  {
   "cell_type": "markdown",
   "metadata": {},
   "source": [
    "# Exploring NDlib\n",
    "NDlib - Network Diffusion Library\n",
    "\n",
    "http://ndlib.readthedocs.io/en/latest/index.html"
   ]
  },
  {
   "cell_type": "code",
   "execution_count": 1,
   "metadata": {},
   "outputs": [],
   "source": [
    "import networkx as nx\n",
    "import ndlib.models.epidemics.SIRModel as sir"
   ]
  },
  {
   "cell_type": "markdown",
   "metadata": {},
   "source": [
    "Following the tutorial:\n",
    "\n",
    "http://ndlib.readthedocs.io/en/latest/tutorial.html"
   ]
  },
  {
   "cell_type": "code",
   "execution_count": 2,
   "metadata": {},
   "outputs": [],
   "source": [
    "# Network Definition\n",
    "g = nx.erdos_renyi_graph(1000, 0.1)\n",
    "\n",
    "# Model Selection\n",
    "model = sir.SIRModel(g)"
   ]
  },
  {
   "cell_type": "code",
   "execution_count": 3,
   "metadata": {},
   "outputs": [],
   "source": [
    "import ndlib.models.ModelConfig as mc\n",
    "\n",
    "# Model Configuration\n",
    "config = mc.Configuration()\n",
    "config.add_model_parameter('beta', 0.001)\n",
    "config.add_model_parameter('gamma', 0.01)\n",
    "config.add_model_parameter(\"percentage_infected\", 0.05)\n",
    "model.set_initial_status(config)"
   ]
  },
  {
   "cell_type": "code",
   "execution_count": 4,
   "metadata": {},
   "outputs": [],
   "source": [
    "# Simulation\n",
    "iterations = model.iteration_bunch(200)\n",
    "trends = model.build_trends(iterations)"
   ]
  },
  {
   "cell_type": "code",
   "execution_count": 5,
   "metadata": {},
   "outputs": [
    {
     "data": {
      "text/html": [
       "\n",
       "    <div class=\"bk-root\">\n",
       "        <a href=\"https://bokeh.pydata.org\" target=\"_blank\" class=\"bk-logo bk-logo-small bk-logo-notebook\"></a>\n",
       "        <span id=\"298a3ee5-3cbf-467d-958f-f47f73ecefc6\">Loading BokehJS ...</span>\n",
       "    </div>"
      ]
     },
     "metadata": {},
     "output_type": "display_data"
    },
    {
     "data": {
      "application/javascript": [
       "\n",
       "(function(root) {\n",
       "  function now() {\n",
       "    return new Date();\n",
       "  }\n",
       "\n",
       "  var force = true;\n",
       "\n",
       "  if (typeof (root._bokeh_onload_callbacks) === \"undefined\" || force === true) {\n",
       "    root._bokeh_onload_callbacks = [];\n",
       "    root._bokeh_is_loading = undefined;\n",
       "  }\n",
       "\n",
       "  var JS_MIME_TYPE = 'application/javascript';\n",
       "  var HTML_MIME_TYPE = 'text/html';\n",
       "  var EXEC_MIME_TYPE = 'application/vnd.bokehjs_exec.v0+json';\n",
       "  var CLASS_NAME = 'output_bokeh rendered_html';\n",
       "\n",
       "  /**\n",
       "   * Render data to the DOM node\n",
       "   */\n",
       "  function render(props, node) {\n",
       "    var script = document.createElement(\"script\");\n",
       "    node.appendChild(script);\n",
       "  }\n",
       "\n",
       "  /**\n",
       "   * Handle when an output is cleared or removed\n",
       "   */\n",
       "  function handleClearOutput(event, handle) {\n",
       "    var cell = handle.cell;\n",
       "\n",
       "    var id = cell.output_area._bokeh_element_id;\n",
       "    var server_id = cell.output_area._bokeh_server_id;\n",
       "    // Clean up Bokeh references\n",
       "    if (id !== undefined) {\n",
       "      Bokeh.index[id].model.document.clear();\n",
       "      delete Bokeh.index[id];\n",
       "    }\n",
       "\n",
       "    if (server_id !== undefined) {\n",
       "      // Clean up Bokeh references\n",
       "      var cmd = \"from bokeh.io.state import curstate; print(curstate().uuid_to_server['\" + server_id + \"'].get_sessions()[0].document.roots[0]._id)\";\n",
       "      cell.notebook.kernel.execute(cmd, {\n",
       "        iopub: {\n",
       "          output: function(msg) {\n",
       "            var element_id = msg.content.text.trim();\n",
       "            Bokeh.index[element_id].model.document.clear();\n",
       "            delete Bokeh.index[element_id];\n",
       "          }\n",
       "        }\n",
       "      });\n",
       "      // Destroy server and session\n",
       "      var cmd = \"import bokeh.io.notebook as ion; ion.destroy_server('\" + server_id + \"')\";\n",
       "      cell.notebook.kernel.execute(cmd);\n",
       "    }\n",
       "  }\n",
       "\n",
       "  /**\n",
       "   * Handle when a new output is added\n",
       "   */\n",
       "  function handleAddOutput(event, handle) {\n",
       "    var output_area = handle.output_area;\n",
       "    var output = handle.output;\n",
       "\n",
       "    // limit handleAddOutput to display_data with EXEC_MIME_TYPE content only\n",
       "    if ((output.output_type != \"display_data\") || (!output.data.hasOwnProperty(EXEC_MIME_TYPE))) {\n",
       "      return\n",
       "    }\n",
       "\n",
       "    var toinsert = output_area.element.find(\".\" + CLASS_NAME.split(' ')[0]);\n",
       "\n",
       "    if (output.metadata[EXEC_MIME_TYPE][\"id\"] !== undefined) {\n",
       "      toinsert[toinsert.length - 1].firstChild.textContent = output.data[JS_MIME_TYPE];\n",
       "      // store reference to embed id on output_area\n",
       "      output_area._bokeh_element_id = output.metadata[EXEC_MIME_TYPE][\"id\"];\n",
       "    }\n",
       "    if (output.metadata[EXEC_MIME_TYPE][\"server_id\"] !== undefined) {\n",
       "      var bk_div = document.createElement(\"div\");\n",
       "      bk_div.innerHTML = output.data[HTML_MIME_TYPE];\n",
       "      var script_attrs = bk_div.children[0].attributes;\n",
       "      for (var i = 0; i < script_attrs.length; i++) {\n",
       "        toinsert[toinsert.length - 1].firstChild.setAttribute(script_attrs[i].name, script_attrs[i].value);\n",
       "      }\n",
       "      // store reference to server id on output_area\n",
       "      output_area._bokeh_server_id = output.metadata[EXEC_MIME_TYPE][\"server_id\"];\n",
       "    }\n",
       "  }\n",
       "\n",
       "  function register_renderer(events, OutputArea) {\n",
       "\n",
       "    function append_mime(data, metadata, element) {\n",
       "      // create a DOM node to render to\n",
       "      var toinsert = this.create_output_subarea(\n",
       "        metadata,\n",
       "        CLASS_NAME,\n",
       "        EXEC_MIME_TYPE\n",
       "      );\n",
       "      this.keyboard_manager.register_events(toinsert);\n",
       "      // Render to node\n",
       "      var props = {data: data, metadata: metadata[EXEC_MIME_TYPE]};\n",
       "      render(props, toinsert[toinsert.length - 1]);\n",
       "      element.append(toinsert);\n",
       "      return toinsert\n",
       "    }\n",
       "\n",
       "    /* Handle when an output is cleared or removed */\n",
       "    events.on('clear_output.CodeCell', handleClearOutput);\n",
       "    events.on('delete.Cell', handleClearOutput);\n",
       "\n",
       "    /* Handle when a new output is added */\n",
       "    events.on('output_added.OutputArea', handleAddOutput);\n",
       "\n",
       "    /**\n",
       "     * Register the mime type and append_mime function with output_area\n",
       "     */\n",
       "    OutputArea.prototype.register_mime_type(EXEC_MIME_TYPE, append_mime, {\n",
       "      /* Is output safe? */\n",
       "      safe: true,\n",
       "      /* Index of renderer in `output_area.display_order` */\n",
       "      index: 0\n",
       "    });\n",
       "  }\n",
       "\n",
       "  // register the mime type if in Jupyter Notebook environment and previously unregistered\n",
       "  if (root.Jupyter !== undefined) {\n",
       "    var events = require('base/js/events');\n",
       "    var OutputArea = require('notebook/js/outputarea').OutputArea;\n",
       "\n",
       "    if (OutputArea.prototype.mime_types().indexOf(EXEC_MIME_TYPE) == -1) {\n",
       "      register_renderer(events, OutputArea);\n",
       "    }\n",
       "  }\n",
       "\n",
       "  \n",
       "  if (typeof (root._bokeh_timeout) === \"undefined\" || force === true) {\n",
       "    root._bokeh_timeout = Date.now() + 5000;\n",
       "    root._bokeh_failed_load = false;\n",
       "  }\n",
       "\n",
       "  var NB_LOAD_WARNING = {'data': {'text/html':\n",
       "     \"<div style='background-color: #fdd'>\\n\"+\n",
       "     \"<p>\\n\"+\n",
       "     \"BokehJS does not appear to have successfully loaded. If loading BokehJS from CDN, this \\n\"+\n",
       "     \"may be due to a slow or bad network connection. Possible fixes:\\n\"+\n",
       "     \"</p>\\n\"+\n",
       "     \"<ul>\\n\"+\n",
       "     \"<li>re-rerun `output_notebook()` to attempt to load from CDN again, or</li>\\n\"+\n",
       "     \"<li>use INLINE resources instead, as so:</li>\\n\"+\n",
       "     \"</ul>\\n\"+\n",
       "     \"<code>\\n\"+\n",
       "     \"from bokeh.resources import INLINE\\n\"+\n",
       "     \"output_notebook(resources=INLINE)\\n\"+\n",
       "     \"</code>\\n\"+\n",
       "     \"</div>\"}};\n",
       "\n",
       "  function display_loaded() {\n",
       "    var el = document.getElementById(\"298a3ee5-3cbf-467d-958f-f47f73ecefc6\");\n",
       "    if (el != null) {\n",
       "      el.textContent = \"BokehJS is loading...\";\n",
       "    }\n",
       "    if (root.Bokeh !== undefined) {\n",
       "      if (el != null) {\n",
       "        el.textContent = \"BokehJS \" + root.Bokeh.version + \" successfully loaded.\";\n",
       "      }\n",
       "    } else if (Date.now() < root._bokeh_timeout) {\n",
       "      setTimeout(display_loaded, 100)\n",
       "    }\n",
       "  }\n",
       "\n",
       "\n",
       "  function run_callbacks() {\n",
       "    try {\n",
       "      root._bokeh_onload_callbacks.forEach(function(callback) { callback() });\n",
       "    }\n",
       "    finally {\n",
       "      delete root._bokeh_onload_callbacks\n",
       "    }\n",
       "    console.info(\"Bokeh: all callbacks have finished\");\n",
       "  }\n",
       "\n",
       "  function load_libs(js_urls, callback) {\n",
       "    root._bokeh_onload_callbacks.push(callback);\n",
       "    if (root._bokeh_is_loading > 0) {\n",
       "      console.log(\"Bokeh: BokehJS is being loaded, scheduling callback at\", now());\n",
       "      return null;\n",
       "    }\n",
       "    if (js_urls == null || js_urls.length === 0) {\n",
       "      run_callbacks();\n",
       "      return null;\n",
       "    }\n",
       "    console.log(\"Bokeh: BokehJS not loaded, scheduling load and callback at\", now());\n",
       "    root._bokeh_is_loading = js_urls.length;\n",
       "    for (var i = 0; i < js_urls.length; i++) {\n",
       "      var url = js_urls[i];\n",
       "      var s = document.createElement('script');\n",
       "      s.src = url;\n",
       "      s.async = false;\n",
       "      s.onreadystatechange = s.onload = function() {\n",
       "        root._bokeh_is_loading--;\n",
       "        if (root._bokeh_is_loading === 0) {\n",
       "          console.log(\"Bokeh: all BokehJS libraries loaded\");\n",
       "          run_callbacks()\n",
       "        }\n",
       "      };\n",
       "      s.onerror = function() {\n",
       "        console.warn(\"failed to load library \" + url);\n",
       "      };\n",
       "      console.log(\"Bokeh: injecting script tag for BokehJS library: \", url);\n",
       "      document.getElementsByTagName(\"head\")[0].appendChild(s);\n",
       "    }\n",
       "  };var element = document.getElementById(\"298a3ee5-3cbf-467d-958f-f47f73ecefc6\");\n",
       "  if (element == null) {\n",
       "    console.log(\"Bokeh: ERROR: autoload.js configured with elementid '298a3ee5-3cbf-467d-958f-f47f73ecefc6' but no matching script tag was found. \")\n",
       "    return false;\n",
       "  }\n",
       "\n",
       "  var js_urls = [\"https://cdn.pydata.org/bokeh/release/bokeh-0.12.15.min.js\", \"https://cdn.pydata.org/bokeh/release/bokeh-widgets-0.12.15.min.js\", \"https://cdn.pydata.org/bokeh/release/bokeh-tables-0.12.15.min.js\", \"https://cdn.pydata.org/bokeh/release/bokeh-gl-0.12.15.min.js\"];\n",
       "\n",
       "  var inline_js = [\n",
       "    function(Bokeh) {\n",
       "      Bokeh.set_log_level(\"info\");\n",
       "    },\n",
       "    \n",
       "    function(Bokeh) {\n",
       "      \n",
       "    },\n",
       "    function(Bokeh) {\n",
       "      console.log(\"Bokeh: injecting CSS: https://cdn.pydata.org/bokeh/release/bokeh-0.12.15.min.css\");\n",
       "      Bokeh.embed.inject_css(\"https://cdn.pydata.org/bokeh/release/bokeh-0.12.15.min.css\");\n",
       "      console.log(\"Bokeh: injecting CSS: https://cdn.pydata.org/bokeh/release/bokeh-widgets-0.12.15.min.css\");\n",
       "      Bokeh.embed.inject_css(\"https://cdn.pydata.org/bokeh/release/bokeh-widgets-0.12.15.min.css\");\n",
       "      console.log(\"Bokeh: injecting CSS: https://cdn.pydata.org/bokeh/release/bokeh-tables-0.12.15.min.css\");\n",
       "      Bokeh.embed.inject_css(\"https://cdn.pydata.org/bokeh/release/bokeh-tables-0.12.15.min.css\");\n",
       "    }\n",
       "  ];\n",
       "\n",
       "  function run_inline_js() {\n",
       "    \n",
       "    if ((root.Bokeh !== undefined) || (force === true)) {\n",
       "      for (var i = 0; i < inline_js.length; i++) {\n",
       "        inline_js[i].call(root, root.Bokeh);\n",
       "      }if (force === true) {\n",
       "        display_loaded();\n",
       "      }} else if (Date.now() < root._bokeh_timeout) {\n",
       "      setTimeout(run_inline_js, 100);\n",
       "    } else if (!root._bokeh_failed_load) {\n",
       "      console.log(\"Bokeh: BokehJS failed to load within specified timeout.\");\n",
       "      root._bokeh_failed_load = true;\n",
       "    } else if (force !== true) {\n",
       "      var cell = $(document.getElementById(\"298a3ee5-3cbf-467d-958f-f47f73ecefc6\")).parents('.cell').data().cell;\n",
       "      cell.output_area.append_execute_result(NB_LOAD_WARNING)\n",
       "    }\n",
       "\n",
       "  }\n",
       "\n",
       "  if (root._bokeh_is_loading === 0) {\n",
       "    console.log(\"Bokeh: BokehJS loaded, going straight to plotting\");\n",
       "    run_inline_js();\n",
       "  } else {\n",
       "    load_libs(js_urls, function() {\n",
       "      console.log(\"Bokeh: BokehJS plotting callback run at\", now());\n",
       "      run_inline_js();\n",
       "    });\n",
       "  }\n",
       "}(window));"
      ],
      "application/vnd.bokehjs_load.v0+json": "\n(function(root) {\n  function now() {\n    return new Date();\n  }\n\n  var force = true;\n\n  if (typeof (root._bokeh_onload_callbacks) === \"undefined\" || force === true) {\n    root._bokeh_onload_callbacks = [];\n    root._bokeh_is_loading = undefined;\n  }\n\n  \n\n  \n  if (typeof (root._bokeh_timeout) === \"undefined\" || force === true) {\n    root._bokeh_timeout = Date.now() + 5000;\n    root._bokeh_failed_load = false;\n  }\n\n  var NB_LOAD_WARNING = {'data': {'text/html':\n     \"<div style='background-color: #fdd'>\\n\"+\n     \"<p>\\n\"+\n     \"BokehJS does not appear to have successfully loaded. If loading BokehJS from CDN, this \\n\"+\n     \"may be due to a slow or bad network connection. Possible fixes:\\n\"+\n     \"</p>\\n\"+\n     \"<ul>\\n\"+\n     \"<li>re-rerun `output_notebook()` to attempt to load from CDN again, or</li>\\n\"+\n     \"<li>use INLINE resources instead, as so:</li>\\n\"+\n     \"</ul>\\n\"+\n     \"<code>\\n\"+\n     \"from bokeh.resources import INLINE\\n\"+\n     \"output_notebook(resources=INLINE)\\n\"+\n     \"</code>\\n\"+\n     \"</div>\"}};\n\n  function display_loaded() {\n    var el = document.getElementById(\"298a3ee5-3cbf-467d-958f-f47f73ecefc6\");\n    if (el != null) {\n      el.textContent = \"BokehJS is loading...\";\n    }\n    if (root.Bokeh !== undefined) {\n      if (el != null) {\n        el.textContent = \"BokehJS \" + root.Bokeh.version + \" successfully loaded.\";\n      }\n    } else if (Date.now() < root._bokeh_timeout) {\n      setTimeout(display_loaded, 100)\n    }\n  }\n\n\n  function run_callbacks() {\n    try {\n      root._bokeh_onload_callbacks.forEach(function(callback) { callback() });\n    }\n    finally {\n      delete root._bokeh_onload_callbacks\n    }\n    console.info(\"Bokeh: all callbacks have finished\");\n  }\n\n  function load_libs(js_urls, callback) {\n    root._bokeh_onload_callbacks.push(callback);\n    if (root._bokeh_is_loading > 0) {\n      console.log(\"Bokeh: BokehJS is being loaded, scheduling callback at\", now());\n      return null;\n    }\n    if (js_urls == null || js_urls.length === 0) {\n      run_callbacks();\n      return null;\n    }\n    console.log(\"Bokeh: BokehJS not loaded, scheduling load and callback at\", now());\n    root._bokeh_is_loading = js_urls.length;\n    for (var i = 0; i < js_urls.length; i++) {\n      var url = js_urls[i];\n      var s = document.createElement('script');\n      s.src = url;\n      s.async = false;\n      s.onreadystatechange = s.onload = function() {\n        root._bokeh_is_loading--;\n        if (root._bokeh_is_loading === 0) {\n          console.log(\"Bokeh: all BokehJS libraries loaded\");\n          run_callbacks()\n        }\n      };\n      s.onerror = function() {\n        console.warn(\"failed to load library \" + url);\n      };\n      console.log(\"Bokeh: injecting script tag for BokehJS library: \", url);\n      document.getElementsByTagName(\"head\")[0].appendChild(s);\n    }\n  };var element = document.getElementById(\"298a3ee5-3cbf-467d-958f-f47f73ecefc6\");\n  if (element == null) {\n    console.log(\"Bokeh: ERROR: autoload.js configured with elementid '298a3ee5-3cbf-467d-958f-f47f73ecefc6' but no matching script tag was found. \")\n    return false;\n  }\n\n  var js_urls = [\"https://cdn.pydata.org/bokeh/release/bokeh-0.12.15.min.js\", \"https://cdn.pydata.org/bokeh/release/bokeh-widgets-0.12.15.min.js\", \"https://cdn.pydata.org/bokeh/release/bokeh-tables-0.12.15.min.js\", \"https://cdn.pydata.org/bokeh/release/bokeh-gl-0.12.15.min.js\"];\n\n  var inline_js = [\n    function(Bokeh) {\n      Bokeh.set_log_level(\"info\");\n    },\n    \n    function(Bokeh) {\n      \n    },\n    function(Bokeh) {\n      console.log(\"Bokeh: injecting CSS: https://cdn.pydata.org/bokeh/release/bokeh-0.12.15.min.css\");\n      Bokeh.embed.inject_css(\"https://cdn.pydata.org/bokeh/release/bokeh-0.12.15.min.css\");\n      console.log(\"Bokeh: injecting CSS: https://cdn.pydata.org/bokeh/release/bokeh-widgets-0.12.15.min.css\");\n      Bokeh.embed.inject_css(\"https://cdn.pydata.org/bokeh/release/bokeh-widgets-0.12.15.min.css\");\n      console.log(\"Bokeh: injecting CSS: https://cdn.pydata.org/bokeh/release/bokeh-tables-0.12.15.min.css\");\n      Bokeh.embed.inject_css(\"https://cdn.pydata.org/bokeh/release/bokeh-tables-0.12.15.min.css\");\n    }\n  ];\n\n  function run_inline_js() {\n    \n    if ((root.Bokeh !== undefined) || (force === true)) {\n      for (var i = 0; i < inline_js.length; i++) {\n        inline_js[i].call(root, root.Bokeh);\n      }if (force === true) {\n        display_loaded();\n      }} else if (Date.now() < root._bokeh_timeout) {\n      setTimeout(run_inline_js, 100);\n    } else if (!root._bokeh_failed_load) {\n      console.log(\"Bokeh: BokehJS failed to load within specified timeout.\");\n      root._bokeh_failed_load = true;\n    } else if (force !== true) {\n      var cell = $(document.getElementById(\"298a3ee5-3cbf-467d-958f-f47f73ecefc6\")).parents('.cell').data().cell;\n      cell.output_area.append_execute_result(NB_LOAD_WARNING)\n    }\n\n  }\n\n  if (root._bokeh_is_loading === 0) {\n    console.log(\"Bokeh: BokehJS loaded, going straight to plotting\");\n    run_inline_js();\n  } else {\n    load_libs(js_urls, function() {\n      console.log(\"Bokeh: BokehJS plotting callback run at\", now());\n      run_inline_js();\n    });\n  }\n}(window));"
     },
     "metadata": {},
     "output_type": "display_data"
    },
    {
     "data": {
      "text/html": [
       "\n",
       "<div class=\"bk-root\">\n",
       "    <div class=\"bk-plotdiv\" id=\"32a364f9-f9de-4176-ae1b-6ab29ff2d67e\"></div>\n",
       "</div>"
      ]
     },
     "metadata": {},
     "output_type": "display_data"
    },
    {
     "data": {
      "application/javascript": [
       "(function(root) {\n",
       "  function embed_document(root) {\n",
       "    \n",
       "  var docs_json = {\"e4941328-39d7-4994-8ca9-2b3e270f098d\":{\"roots\":{\"references\":[{\"attributes\":{\"label\":{\"value\":\"Susceptible\"},\"renderers\":[{\"id\":\"935de501-893a-4cc8-90f3-0c0604326140\",\"type\":\"GlyphRenderer\"}]},\"id\":\"0aaa46d3-c016-4de8-8e73-563122926c62\",\"type\":\"LegendItem\"},{\"attributes\":{\"line_alpha\":0.5,\"line_color\":\"#1f77b4\",\"line_width\":2,\"x\":{\"field\":\"x\"},\"y\":{\"field\":\"y\"}},\"id\":\"feb72a46-59d4-4ca8-9d7c-444c89d4f95b\",\"type\":\"Line\"},{\"attributes\":{\"data_source\":{\"id\":\"faaed6db-214c-47c2-8562-b26ec78823ec\",\"type\":\"ColumnDataSource\"},\"glyph\":{\"id\":\"2dfb43f1-e9dc-4e57-b547-c61ce08f251a\",\"type\":\"Line\"},\"hover_glyph\":null,\"muted_glyph\":null,\"nonselection_glyph\":{\"id\":\"a311bfef-0c3e-4e77-9e2a-f938905acc4d\",\"type\":\"Line\"},\"selection_glyph\":null,\"view\":{\"id\":\"9f1f062d-c402-4292-9d2f-23cf4f75a3e2\",\"type\":\"CDSView\"}},\"id\":\"c38fbb17-f5f7-4891-8bb7-1855dc63cd14\",\"type\":\"GlyphRenderer\"},{\"attributes\":{},\"id\":\"b9e89652-53cf-416a-a9b2-6fc3031cbe55\",\"type\":\"BasicTickFormatter\"},{\"attributes\":{\"line_alpha\":0.1,\"line_color\":\"#1f77b4\",\"line_width\":2,\"x\":{\"field\":\"x\"},\"y\":{\"field\":\"y\"}},\"id\":\"e0742d64-974e-432c-a89c-ed8a8c3d5eb0\",\"type\":\"Line\"},{\"attributes\":{\"callback\":null,\"column_names\":[\"x\",\"y\"],\"data\":{\"x\":[0,1,2,3,4,5,6,7,8,9,10,11,12,13,14,15,16,17,18,19,20,21,22,23,24,25,26,27,28,29,30,31,32,33,34,35,36,37,38,39,40,41,42,43,44,45,46,47,48,49,50,51,52,53,54,55,56,57,58,59,60,61,62,63,64,65,66,67,68,69,70,71,72,73,74,75,76,77,78,79,80,81,82,83,84,85,86,87,88,89,90,91,92,93,94,95,96,97,98,99,100,101,102,103,104,105,106,107,108,109,110,111,112,113,114,115,116,117,118,119,120,121,122,123,124,125,126,127,128,129,130,131,132,133,134,135,136,137,138,139,140,141,142,143,144,145,146,147,148,149,150,151,152,153,154,155,156,157,158,159,160,161,162,163,164,165,166,167,168,169,170,171,172,173,174,175,176,177,178,179,180,181,182,183,184,185,186,187,188,189,190,191,192,193,194,195,196,197,198,199],\"y\":{\"__ndarray__\":\"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\",\"dtype\":\"float64\",\"shape\":[200]}},\"selected\":null,\"selection_policy\":null},\"id\":\"faaed6db-214c-47c2-8562-b26ec78823ec\",\"type\":\"ColumnDataSource\"},{\"attributes\":{\"callback\":null,\"column_names\":[\"x\",\"y\"],\"data\":{\"x\":[0,1,2,3,4,5,6,7,8,9,10,11,12,13,14,15,16,17,18,19,20,21,22,23,24,25,26,27,28,29,30,31,32,33,34,35,36,37,38,39,40,41,42,43,44,45,46,47,48,49,50,51,52,53,54,55,56,57,58,59,60,61,62,63,64,65,66,67,68,69,70,71,72,73,74,75,76,77,78,79,80,81,82,83,84,85,86,87,88,89,90,91,92,93,94,95,96,97,98,99,100,101,102,103,104,105,106,107,108,109,110,111,112,113,114,115,116,117,118,119,120,121,122,123,124,125,126,127,128,129,130,131,132,133,134,135,136,137,138,139,140,141,142,143,144,145,146,147,148,149,150,151,152,153,154,155,156,157,158,159,160,161,162,163,164,165,166,167,168,169,170,171,172,173,174,175,176,177,178,179,180,181,182,183,184,185,186,187,188,189,190,191,192,193,194,195,196,197,198,199],\"y\":{\"__ndarray__\":\"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\",\"dtype\":\"float64\",\"shape\":[200]}},\"selected\":null,\"selection_policy\":null},\"id\":\"f577e621-7ea5-42eb-8d2c-539d3d91bfcf\",\"type\":\"ColumnDataSource\"},{\"attributes\":{\"below\":[{\"id\":\"6cccf3cf-2d2b-4058-8d5b-08fee58b05d2\",\"type\":\"LinearAxis\"},{\"id\":\"fbad0e99-8e0f-485e-ba0d-5e3352c6eff1\",\"type\":\"Title\"}],\"left\":[{\"id\":\"a390bbbd-08e0-4cd0-9326-39ef5e48a1ab\",\"type\":\"LinearAxis\"}],\"plot_height\":400,\"plot_width\":400,\"renderers\":[{\"id\":\"6cccf3cf-2d2b-4058-8d5b-08fee58b05d2\",\"type\":\"LinearAxis\"},{\"id\":\"5aa95e2f-ad7a-4bc2-83d0-18aed552f0f6\",\"type\":\"Grid\"},{\"id\":\"a390bbbd-08e0-4cd0-9326-39ef5e48a1ab\",\"type\":\"LinearAxis\"},{\"id\":\"78e40f54-ff1f-4807-9ca6-91181775211d\",\"type\":\"Grid\"},{\"id\":\"a50afbea-d4be-4e6f-a4db-5133a53f79e0\",\"type\":\"BoxAnnotation\"},{\"id\":\"5eed5e4b-4faa-478f-94af-d01ec27f5db3\",\"type\":\"Legend\"},{\"id\":\"935de501-893a-4cc8-90f3-0c0604326140\",\"type\":\"GlyphRenderer\"},{\"id\":\"c38fbb17-f5f7-4891-8bb7-1855dc63cd14\",\"type\":\"GlyphRenderer\"},{\"id\":\"9285cb0e-3a62-4ddd-8da8-3641cccbd7ab\",\"type\":\"GlyphRenderer\"},{\"id\":\"fbad0e99-8e0f-485e-ba0d-5e3352c6eff1\",\"type\":\"Title\"}],\"title\":{\"id\":\"5e208040-000e-46cf-b883-913a9aa5e501\",\"type\":\"Title\"},\"toolbar\":{\"id\":\"359cb7da-dc19-4934-931e-db9c873f8053\",\"type\":\"Toolbar\"},\"x_range\":{\"id\":\"7b34966c-0211-4114-a854-4e7c17556307\",\"type\":\"DataRange1d\"},\"x_scale\":{\"id\":\"327b963f-fea0-4731-9229-5578ee1f7296\",\"type\":\"LinearScale\"},\"y_range\":{\"id\":\"c430ec48-7764-4d80-8763-a52474f00fb9\",\"type\":\"DataRange1d\"},\"y_scale\":{\"id\":\"192bee19-3ad7-4265-924c-cdd3c8d3c887\",\"type\":\"LinearScale\"}},\"id\":\"09dea55e-17d5-41b4-b094-da2395507dae\",\"subtype\":\"Figure\",\"type\":\"Plot\"},{\"attributes\":{\"line_alpha\":0.1,\"line_color\":\"#1f77b4\",\"line_width\":2,\"x\":{\"field\":\"x\"},\"y\":{\"field\":\"y\"}},\"id\":\"a311bfef-0c3e-4e77-9e2a-f938905acc4d\",\"type\":\"Line\"},{\"attributes\":{\"source\":{\"id\":\"faaed6db-214c-47c2-8562-b26ec78823ec\",\"type\":\"ColumnDataSource\"}},\"id\":\"9f1f062d-c402-4292-9d2f-23cf4f75a3e2\",\"type\":\"CDSView\"},{\"attributes\":{\"active_drag\":\"auto\",\"active_inspect\":\"auto\",\"active_scroll\":\"auto\",\"active_tap\":\"auto\",\"tools\":[{\"id\":\"c3019b08-fdbc-42ef-81d2-5a646e2d581a\",\"type\":\"PanTool\"},{\"id\":\"405d3752-ce9c-495c-96b7-ef10d03d837a\",\"type\":\"WheelZoomTool\"},{\"id\":\"c956dc86-14bb-4829-ba7b-24b81c3d54a4\",\"type\":\"BoxZoomTool\"},{\"id\":\"45d60b32-dc6c-48aa-9b21-cfbcdb3c5329\",\"type\":\"SaveTool\"},{\"id\":\"8f3fd144-7c07-4f62-8e92-f7f674a49574\",\"type\":\"ResetTool\"},{\"id\":\"88c0f066-6c27-45e4-884d-6e0cf9253f9a\",\"type\":\"HelpTool\"}]},\"id\":\"359cb7da-dc19-4934-931e-db9c873f8053\",\"type\":\"Toolbar\"},{\"attributes\":{\"line_alpha\":0.5,\"line_color\":\"#ff7f0e\",\"line_width\":2,\"x\":{\"field\":\"x\"},\"y\":{\"field\":\"y\"}},\"id\":\"02bffb66-5558-49ff-bd07-80bba75d645b\",\"type\":\"Line\"},{\"attributes\":{\"callback\":null},\"id\":\"7b34966c-0211-4114-a854-4e7c17556307\",\"type\":\"DataRange1d\"},{\"attributes\":{\"source\":{\"id\":\"f577e621-7ea5-42eb-8d2c-539d3d91bfcf\",\"type\":\"ColumnDataSource\"}},\"id\":\"c8a798f0-62e5-4445-90b3-ffef4cf0c889\",\"type\":\"CDSView\"},{\"attributes\":{\"line_alpha\":0.5,\"line_color\":\"#aec7e8\",\"line_width\":2,\"x\":{\"field\":\"x\"},\"y\":{\"field\":\"y\"}},\"id\":\"2dfb43f1-e9dc-4e57-b547-c61ce08f251a\",\"type\":\"Line\"},{\"attributes\":{\"data_source\":{\"id\":\"f577e621-7ea5-42eb-8d2c-539d3d91bfcf\",\"type\":\"ColumnDataSource\"},\"glyph\":{\"id\":\"02bffb66-5558-49ff-bd07-80bba75d645b\",\"type\":\"Line\"},\"hover_glyph\":null,\"muted_glyph\":null,\"nonselection_glyph\":{\"id\":\"eeb5c22a-fe2e-4646-9848-21c7b6651377\",\"type\":\"Line\"},\"selection_glyph\":null,\"view\":{\"id\":\"c8a798f0-62e5-4445-90b3-ffef4cf0c889\",\"type\":\"CDSView\"}},\"id\":\"9285cb0e-3a62-4ddd-8da8-3641cccbd7ab\",\"type\":\"GlyphRenderer\"},{\"attributes\":{\"source\":{\"id\":\"5a859729-7c64-44c3-be14-fb8bf9b02509\",\"type\":\"ColumnDataSource\"}},\"id\":\"8697828d-313a-48da-a643-786947a29c16\",\"type\":\"CDSView\"},{\"attributes\":{\"callback\":null},\"id\":\"c430ec48-7764-4d80-8763-a52474f00fb9\",\"type\":\"DataRange1d\"},{\"attributes\":{\"label\":{\"value\":\"Removed\"},\"renderers\":[{\"id\":\"9285cb0e-3a62-4ddd-8da8-3641cccbd7ab\",\"type\":\"GlyphRenderer\"}]},\"id\":\"61b41639-45af-4468-a5e3-28f5e4a8a430\",\"type\":\"LegendItem\"},{\"attributes\":{},\"id\":\"327b963f-fea0-4731-9229-5578ee1f7296\",\"type\":\"LinearScale\"},{\"attributes\":{\"line_alpha\":0.1,\"line_color\":\"#1f77b4\",\"line_width\":2,\"x\":{\"field\":\"x\"},\"y\":{\"field\":\"y\"}},\"id\":\"eeb5c22a-fe2e-4646-9848-21c7b6651377\",\"type\":\"Line\"},{\"attributes\":{},\"id\":\"192bee19-3ad7-4265-924c-cdd3c8d3c887\",\"type\":\"LinearScale\"},{\"attributes\":{\"items\":[{\"id\":\"0aaa46d3-c016-4de8-8e73-563122926c62\",\"type\":\"LegendItem\"},{\"id\":\"9de97149-a53b-484f-b46b-7f96a20781ca\",\"type\":\"LegendItem\"},{\"id\":\"61b41639-45af-4468-a5e3-28f5e4a8a430\",\"type\":\"LegendItem\"}],\"orientation\":\"horizontal\",\"plot\":{\"id\":\"09dea55e-17d5-41b4-b094-da2395507dae\",\"subtype\":\"Figure\",\"type\":\"Plot\"}},\"id\":\"5eed5e4b-4faa-478f-94af-d01ec27f5db3\",\"type\":\"Legend\"},{\"attributes\":{\"axis_label\":\"Iterations\",\"formatter\":{\"id\":\"5defe046-33f8-4f8c-9b3b-b8b7d3c0e541\",\"type\":\"BasicTickFormatter\"},\"plot\":{\"id\":\"09dea55e-17d5-41b4-b094-da2395507dae\",\"subtype\":\"Figure\",\"type\":\"Plot\"},\"ticker\":{\"id\":\"2bb1ada1-63fb-478c-a6ff-2dfab59b6b29\",\"type\":\"BasicTicker\"}},\"id\":\"6cccf3cf-2d2b-4058-8d5b-08fee58b05d2\",\"type\":\"LinearAxis\"},{\"attributes\":{},\"id\":\"2bb1ada1-63fb-478c-a6ff-2dfab59b6b29\",\"type\":\"BasicTicker\"},{\"attributes\":{\"grid_line_alpha\":{\"value\":0.5},\"plot\":{\"id\":\"09dea55e-17d5-41b4-b094-da2395507dae\",\"subtype\":\"Figure\",\"type\":\"Plot\"},\"ticker\":{\"id\":\"2bb1ada1-63fb-478c-a6ff-2dfab59b6b29\",\"type\":\"BasicTicker\"}},\"id\":\"5aa95e2f-ad7a-4bc2-83d0-18aed552f0f6\",\"type\":\"Grid\"},{\"attributes\":{\"axis_label\":\"#Nodes\",\"formatter\":{\"id\":\"b9e89652-53cf-416a-a9b2-6fc3031cbe55\",\"type\":\"BasicTickFormatter\"},\"plot\":{\"id\":\"09dea55e-17d5-41b4-b094-da2395507dae\",\"subtype\":\"Figure\",\"type\":\"Plot\"},\"ticker\":{\"id\":\"bb5e24fc-9ee7-4cc1-a0a5-9a6527f0e81f\",\"type\":\"BasicTicker\"}},\"id\":\"a390bbbd-08e0-4cd0-9326-39ef5e48a1ab\",\"type\":\"LinearAxis\"},{\"attributes\":{},\"id\":\"bb5e24fc-9ee7-4cc1-a0a5-9a6527f0e81f\",\"type\":\"BasicTicker\"},{\"attributes\":{\"dimension\":1,\"grid_line_alpha\":{\"value\":0.5},\"plot\":{\"id\":\"09dea55e-17d5-41b4-b094-da2395507dae\",\"subtype\":\"Figure\",\"type\":\"Plot\"},\"ticker\":{\"id\":\"bb5e24fc-9ee7-4cc1-a0a5-9a6527f0e81f\",\"type\":\"BasicTicker\"}},\"id\":\"78e40f54-ff1f-4807-9ca6-91181775211d\",\"type\":\"Grid\"},{\"attributes\":{\"bottom_units\":\"screen\",\"fill_alpha\":{\"value\":0.5},\"fill_color\":{\"value\":\"lightgrey\"},\"left_units\":\"screen\",\"level\":\"overlay\",\"line_alpha\":{\"value\":1.0},\"line_color\":{\"value\":\"black\"},\"line_dash\":[4,4],\"line_width\":{\"value\":2},\"plot\":null,\"render_mode\":\"css\",\"right_units\":\"screen\",\"top_units\":\"screen\"},\"id\":\"a50afbea-d4be-4e6f-a4db-5133a53f79e0\",\"type\":\"BoxAnnotation\"},{\"attributes\":{\"data_source\":{\"id\":\"5a859729-7c64-44c3-be14-fb8bf9b02509\",\"type\":\"ColumnDataSource\"},\"glyph\":{\"id\":\"feb72a46-59d4-4ca8-9d7c-444c89d4f95b\",\"type\":\"Line\"},\"hover_glyph\":null,\"muted_glyph\":null,\"nonselection_glyph\":{\"id\":\"e0742d64-974e-432c-a89c-ed8a8c3d5eb0\",\"type\":\"Line\"},\"selection_glyph\":null,\"view\":{\"id\":\"8697828d-313a-48da-a643-786947a29c16\",\"type\":\"CDSView\"}},\"id\":\"935de501-893a-4cc8-90f3-0c0604326140\",\"type\":\"GlyphRenderer\"},{\"attributes\":{\"callback\":null,\"column_names\":[\"x\",\"y\"],\"data\":{\"x\":[0,1,2,3,4,5,6,7,8,9,10,11,12,13,14,15,16,17,18,19,20,21,22,23,24,25,26,27,28,29,30,31,32,33,34,35,36,37,38,39,40,41,42,43,44,45,46,47,48,49,50,51,52,53,54,55,56,57,58,59,60,61,62,63,64,65,66,67,68,69,70,71,72,73,74,75,76,77,78,79,80,81,82,83,84,85,86,87,88,89,90,91,92,93,94,95,96,97,98,99,100,101,102,103,104,105,106,107,108,109,110,111,112,113,114,115,116,117,118,119,120,121,122,123,124,125,126,127,128,129,130,131,132,133,134,135,136,137,138,139,140,141,142,143,144,145,146,147,148,149,150,151,152,153,154,155,156,157,158,159,160,161,162,163,164,165,166,167,168,169,170,171,172,173,174,175,176,177,178,179,180,181,182,183,184,185,186,187,188,189,190,191,192,193,194,195,196,197,198,199],\"y\":{\"__ndarray__\":\"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\",\"dtype\":\"float64\",\"shape\":[200]}},\"selected\":null,\"selection_policy\":null},\"id\":\"5a859729-7c64-44c3-be14-fb8bf9b02509\",\"type\":\"ColumnDataSource\"},{\"attributes\":{},\"id\":\"c3019b08-fdbc-42ef-81d2-5a646e2d581a\",\"type\":\"PanTool\"},{\"attributes\":{},\"id\":\"405d3752-ce9c-495c-96b7-ef10d03d837a\",\"type\":\"WheelZoomTool\"},{\"attributes\":{\"plot\":null,\"text\":\"SIR - Diffusion Trend\"},\"id\":\"5e208040-000e-46cf-b883-913a9aa5e501\",\"type\":\"Title\"},{\"attributes\":{\"overlay\":{\"id\":\"a50afbea-d4be-4e6f-a4db-5133a53f79e0\",\"type\":\"BoxAnnotation\"}},\"id\":\"c956dc86-14bb-4829-ba7b-24b81c3d54a4\",\"type\":\"BoxZoomTool\"},{\"attributes\":{},\"id\":\"45d60b32-dc6c-48aa-9b21-cfbcdb3c5329\",\"type\":\"SaveTool\"},{\"attributes\":{},\"id\":\"8f3fd144-7c07-4f62-8e92-f7f674a49574\",\"type\":\"ResetTool\"},{\"attributes\":{},\"id\":\"88c0f066-6c27-45e4-884d-6e0cf9253f9a\",\"type\":\"HelpTool\"},{\"attributes\":{},\"id\":\"5defe046-33f8-4f8c-9b3b-b8b7d3c0e541\",\"type\":\"BasicTickFormatter\"},{\"attributes\":{\"label\":{\"value\":\"Infected\"},\"renderers\":[{\"id\":\"c38fbb17-f5f7-4891-8bb7-1855dc63cd14\",\"type\":\"GlyphRenderer\"}]},\"id\":\"9de97149-a53b-484f-b46b-7f96a20781ca\",\"type\":\"LegendItem\"},{\"attributes\":{\"align\":\"center\",\"plot\":{\"id\":\"09dea55e-17d5-41b4-b094-da2395507dae\",\"subtype\":\"Figure\",\"type\":\"Plot\"},\"text\":\"beta: 0.001, gamma: 0.01, percentage infected: 0.05\"},\"id\":\"fbad0e99-8e0f-485e-ba0d-5e3352c6eff1\",\"type\":\"Title\"}],\"root_ids\":[\"09dea55e-17d5-41b4-b094-da2395507dae\"]},\"title\":\"Bokeh Application\",\"version\":\"0.12.15\"}};\n",
       "  var render_items = [{\"docid\":\"e4941328-39d7-4994-8ca9-2b3e270f098d\",\"elementid\":\"32a364f9-f9de-4176-ae1b-6ab29ff2d67e\",\"modelid\":\"09dea55e-17d5-41b4-b094-da2395507dae\"}];\n",
       "  root.Bokeh.embed.embed_items_notebook(docs_json, render_items);\n",
       "\n",
       "  }\n",
       "  if (root.Bokeh !== undefined) {\n",
       "    embed_document(root);\n",
       "  } else {\n",
       "    var attempts = 0;\n",
       "    var timer = setInterval(function(root) {\n",
       "      if (root.Bokeh !== undefined) {\n",
       "        embed_document(root);\n",
       "        clearInterval(timer);\n",
       "      }\n",
       "      attempts++;\n",
       "      if (attempts > 100) {\n",
       "        console.log(\"Bokeh: ERROR: Unable to run BokehJS code because BokehJS library is missing\")\n",
       "        clearInterval(timer);\n",
       "      }\n",
       "    }, 10, root)\n",
       "  }\n",
       "})(window);"
      ],
      "application/vnd.bokehjs_exec.v0+json": ""
     },
     "metadata": {
      "application/vnd.bokehjs_exec.v0+json": {
       "id": "09dea55e-17d5-41b4-b094-da2395507dae"
      }
     },
     "output_type": "display_data"
    }
   ],
   "source": [
    "from bokeh.io import output_notebook, show\n",
    "from ndlib.viz.bokeh.DiffusionTrend import DiffusionTrend\n",
    "\n",
    "output_notebook()\n",
    "viz = DiffusionTrend(model, trends)\n",
    "p = viz.plot(width=400, height=400)\n",
    "show(p)"
   ]
  },
  {
   "cell_type": "code",
   "execution_count": 6,
   "metadata": {},
   "outputs": [
    {
     "data": {
      "text/html": [
       "\n",
       "<div class=\"bk-root\">\n",
       "    <div class=\"bk-plotdiv\" id=\"b18243aa-ef2f-4a0a-a43b-cc21a4db6724\"></div>\n",
       "</div>"
      ]
     },
     "metadata": {},
     "output_type": "display_data"
    },
    {
     "data": {
      "application/javascript": [
       "(function(root) {\n",
       "  function embed_document(root) {\n",
       "    \n",
       "  var docs_json = {\"e9109196-54dd-4cc2-b2f7-fdca25f85cff\":{\"roots\":{\"references\":[{\"attributes\":{\"data_source\":{\"id\":\"748068b4-fa87-4916-846f-571b234dafbf\",\"type\":\"ColumnDataSource\"},\"glyph\":{\"id\":\"3caf36b6-0607-4d3f-aa6d-b6613a9bb9ec\",\"type\":\"Line\"},\"hover_glyph\":null,\"muted_glyph\":null,\"nonselection_glyph\":{\"id\":\"039b5b36-cc47-43eb-895d-ef0c10e745f0\",\"type\":\"Line\"},\"selection_glyph\":null,\"view\":{\"id\":\"a51a0fd0-691b-4130-b254-63c5a8a4d2f9\",\"type\":\"CDSView\"}},\"id\":\"e4664681-9bf4-4e86-b1ed-f43289339529\",\"type\":\"GlyphRenderer\"},{\"attributes\":{},\"id\":\"873c54e7-45d1-42a9-99e3-976e7c690b2a\",\"type\":\"BasicTickFormatter\"},{\"attributes\":{\"bottom_units\":\"screen\",\"fill_alpha\":{\"value\":0.5},\"fill_color\":{\"value\":\"lightgrey\"},\"left_units\":\"screen\",\"level\":\"overlay\",\"line_alpha\":{\"value\":1.0},\"line_color\":{\"value\":\"black\"},\"line_dash\":[4,4],\"line_width\":{\"value\":2},\"plot\":null,\"render_mode\":\"css\",\"right_units\":\"screen\",\"top_units\":\"screen\"},\"id\":\"ecbb3b2e-c6fa-4275-9f01-dcfdc1ae5965\",\"type\":\"BoxAnnotation\"},{\"attributes\":{},\"id\":\"ebf47348-81c0-4729-ad91-e14a9d10e737\",\"type\":\"PanTool\"},{\"attributes\":{\"source\":{\"id\":\"748068b4-fa87-4916-846f-571b234dafbf\",\"type\":\"ColumnDataSource\"}},\"id\":\"a51a0fd0-691b-4130-b254-63c5a8a4d2f9\",\"type\":\"CDSView\"},{\"attributes\":{},\"id\":\"7320714f-e7c1-4a58-89ca-5c2970946897\",\"type\":\"WheelZoomTool\"},{\"attributes\":{\"overlay\":{\"id\":\"ecbb3b2e-c6fa-4275-9f01-dcfdc1ae5965\",\"type\":\"BoxAnnotation\"}},\"id\":\"e70f470c-36aa-4668-9e67-da57818eacfe\",\"type\":\"BoxZoomTool\"},{\"attributes\":{},\"id\":\"663a0708-e81a-4f8c-ace2-480647311720\",\"type\":\"SaveTool\"},{\"attributes\":{},\"id\":\"8f531965-3ad2-44ff-8499-40efa1099666\",\"type\":\"ResetTool\"},{\"attributes\":{},\"id\":\"5a6f4eac-9650-44e1-87da-4cf35e6090f2\",\"type\":\"HelpTool\"},{\"attributes\":{\"line_alpha\":0.5,\"line_color\":\"#ff7f0e\",\"line_width\":2,\"x\":{\"field\":\"x\"},\"y\":{\"field\":\"y\"}},\"id\":\"8ac81aea-48ff-462e-ac1e-0e9cd7c31664\",\"type\":\"Line\"},{\"attributes\":{\"items\":[{\"id\":\"caaa09b0-41f0-422d-9df2-07526474cb2f\",\"type\":\"LegendItem\"},{\"id\":\"0a89b61e-9336-49a3-8ab2-b6164ab08a67\",\"type\":\"LegendItem\"},{\"id\":\"f7876666-e2c4-4b9a-b957-70ffb9eb9b13\",\"type\":\"LegendItem\"}],\"orientation\":\"horizontal\",\"plot\":{\"id\":\"b4bba1e1-4a34-4d7c-9b82-bcb18435f9bc\",\"subtype\":\"Figure\",\"type\":\"Plot\"}},\"id\":\"aa7d6c2a-17b3-4808-ac94-c4990ba0411e\",\"type\":\"Legend\"},{\"attributes\":{\"plot\":null,\"text\":\"SIR - Prevalence\"},\"id\":\"e32a3f53-2e94-4cc2-b670-01b52d7f39f5\",\"type\":\"Title\"},{\"attributes\":{},\"id\":\"70028dc9-0034-476f-a7cd-d902e2632ed8\",\"type\":\"BasicTicker\"},{\"attributes\":{\"label\":{\"value\":\"Susceptible\"},\"renderers\":[{\"id\":\"e4664681-9bf4-4e86-b1ed-f43289339529\",\"type\":\"GlyphRenderer\"}]},\"id\":\"caaa09b0-41f0-422d-9df2-07526474cb2f\",\"type\":\"LegendItem\"},{\"attributes\":{\"dimension\":1,\"grid_line_alpha\":{\"value\":0.5},\"plot\":{\"id\":\"b4bba1e1-4a34-4d7c-9b82-bcb18435f9bc\",\"subtype\":\"Figure\",\"type\":\"Plot\"},\"ticker\":{\"id\":\"70028dc9-0034-476f-a7cd-d902e2632ed8\",\"type\":\"BasicTicker\"}},\"id\":\"dbe3b2f5-91a0-4f1d-bdb9-0d3aea20016d\",\"type\":\"Grid\"},{\"attributes\":{\"callback\":null,\"column_names\":[\"x\",\"y\"],\"data\":{\"x\":[0,1,2,3,4,5,6,7,8,9,10,11,12,13,14,15,16,17,18,19,20,21,22,23,24,25,26,27,28,29,30,31,32,33,34,35,36,37,38,39,40,41,42,43,44,45,46,47,48,49,50,51,52,53,54,55,56,57,58,59,60,61,62,63,64,65,66,67,68,69,70,71,72,73,74,75,76,77,78,79,80,81,82,83,84,85,86,87,88,89,90,91,92,93,94,95,96,97,98,99,100,101,102,103,104,105,106,107,108,109,110,111,112,113,114,115,116,117,118,119,120,121,122,123,124,125,126,127,128,129,130,131,132,133,134,135,136,137,138,139,140,141,142,143,144,145,146,147,148,149,150,151,152,153,154,155,156,157,158,159,160,161,162,163,164,165,166,167,168,169,170,171,172,173,174,175,176,177,178,179,180,181,182,183,184,185,186,187,188,189,190,191,192,193,194,195,196,197,198,199],\"y\":{\"__ndarray__\":\"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\",\"dtype\":\"float64\",\"shape\":[200]}},\"selected\":null,\"selection_policy\":null},\"id\":\"20d1498b-4f2e-47a3-a399-f096320032e3\",\"type\":\"ColumnDataSource\"},{\"attributes\":{},\"id\":\"304c9451-04b4-4385-a5c3-81f348cad29b\",\"type\":\"BasicTickFormatter\"},{\"attributes\":{\"axis_label\":\"#Delta Nodes\",\"formatter\":{\"id\":\"304c9451-04b4-4385-a5c3-81f348cad29b\",\"type\":\"BasicTickFormatter\"},\"plot\":{\"id\":\"b4bba1e1-4a34-4d7c-9b82-bcb18435f9bc\",\"subtype\":\"Figure\",\"type\":\"Plot\"},\"ticker\":{\"id\":\"70028dc9-0034-476f-a7cd-d902e2632ed8\",\"type\":\"BasicTicker\"}},\"id\":\"2a96501a-b8e8-4e22-a741-110913c6cba1\",\"type\":\"LinearAxis\"},{\"attributes\":{\"line_alpha\":0.5,\"line_color\":\"#aec7e8\",\"line_width\":2,\"x\":{\"field\":\"x\"},\"y\":{\"field\":\"y\"}},\"id\":\"76c4dee1-aae5-45ab-ad16-a663aa052527\",\"type\":\"Line\"},{\"attributes\":{\"data_source\":{\"id\":\"025d9274-ee42-4454-a668-0859242bff65\",\"type\":\"ColumnDataSource\"},\"glyph\":{\"id\":\"8ac81aea-48ff-462e-ac1e-0e9cd7c31664\",\"type\":\"Line\"},\"hover_glyph\":null,\"muted_glyph\":null,\"nonselection_glyph\":{\"id\":\"a0c989b3-701c-4c92-93b1-4bb75a04ec7e\",\"type\":\"Line\"},\"selection_glyph\":null,\"view\":{\"id\":\"27f38d1e-4bea-4607-9835-53e52c1a8de7\",\"type\":\"CDSView\"}},\"id\":\"ce016e5f-3666-4992-bb80-320b1c3714bf\",\"type\":\"GlyphRenderer\"},{\"attributes\":{\"data_source\":{\"id\":\"20d1498b-4f2e-47a3-a399-f096320032e3\",\"type\":\"ColumnDataSource\"},\"glyph\":{\"id\":\"76c4dee1-aae5-45ab-ad16-a663aa052527\",\"type\":\"Line\"},\"hover_glyph\":null,\"muted_glyph\":null,\"nonselection_glyph\":{\"id\":\"86e33498-8a9b-49da-98c1-ac94e5377a4f\",\"type\":\"Line\"},\"selection_glyph\":null,\"view\":{\"id\":\"a89c76da-caba-42bd-9065-6accad4e82d1\",\"type\":\"CDSView\"}},\"id\":\"759e9a93-ffc6-4a62-9109-1512d847de37\",\"type\":\"GlyphRenderer\"},{\"attributes\":{\"align\":\"center\",\"plot\":{\"id\":\"b4bba1e1-4a34-4d7c-9b82-bcb18435f9bc\",\"subtype\":\"Figure\",\"type\":\"Plot\"},\"text\":\"beta: 0.001, gamma: 0.01, percentage infected: 0.05\"},\"id\":\"f91d51f5-a194-4272-8c36-711b988e606e\",\"type\":\"Title\"},{\"attributes\":{\"line_alpha\":0.1,\"line_color\":\"#1f77b4\",\"line_width\":2,\"x\":{\"field\":\"x\"},\"y\":{\"field\":\"y\"}},\"id\":\"039b5b36-cc47-43eb-895d-ef0c10e745f0\",\"type\":\"Line\"},{\"attributes\":{\"callback\":null,\"column_names\":[\"x\",\"y\"],\"data\":{\"x\":[0,1,2,3,4,5,6,7,8,9,10,11,12,13,14,15,16,17,18,19,20,21,22,23,24,25,26,27,28,29,30,31,32,33,34,35,36,37,38,39,40,41,42,43,44,45,46,47,48,49,50,51,52,53,54,55,56,57,58,59,60,61,62,63,64,65,66,67,68,69,70,71,72,73,74,75,76,77,78,79,80,81,82,83,84,85,86,87,88,89,90,91,92,93,94,95,96,97,98,99,100,101,102,103,104,105,106,107,108,109,110,111,112,113,114,115,116,117,118,119,120,121,122,123,124,125,126,127,128,129,130,131,132,133,134,135,136,137,138,139,140,141,142,143,144,145,146,147,148,149,150,151,152,153,154,155,156,157,158,159,160,161,162,163,164,165,166,167,168,169,170,171,172,173,174,175,176,177,178,179,180,181,182,183,184,185,186,187,188,189,190,191,192,193,194,195,196,197,198,199],\"y\":{\"__ndarray__\":\"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\",\"dtype\":\"float64\",\"shape\":[200]}},\"selected\":null,\"selection_policy\":null},\"id\":\"025d9274-ee42-4454-a668-0859242bff65\",\"type\":\"ColumnDataSource\"},{\"attributes\":{\"line_alpha\":0.1,\"line_color\":\"#1f77b4\",\"line_width\":2,\"x\":{\"field\":\"x\"},\"y\":{\"field\":\"y\"}},\"id\":\"86e33498-8a9b-49da-98c1-ac94e5377a4f\",\"type\":\"Line\"},{\"attributes\":{\"source\":{\"id\":\"20d1498b-4f2e-47a3-a399-f096320032e3\",\"type\":\"ColumnDataSource\"}},\"id\":\"a89c76da-caba-42bd-9065-6accad4e82d1\",\"type\":\"CDSView\"},{\"attributes\":{\"source\":{\"id\":\"025d9274-ee42-4454-a668-0859242bff65\",\"type\":\"ColumnDataSource\"}},\"id\":\"27f38d1e-4bea-4607-9835-53e52c1a8de7\",\"type\":\"CDSView\"},{\"attributes\":{\"label\":{\"value\":\"Removed\"},\"renderers\":[{\"id\":\"ce016e5f-3666-4992-bb80-320b1c3714bf\",\"type\":\"GlyphRenderer\"}]},\"id\":\"f7876666-e2c4-4b9a-b957-70ffb9eb9b13\",\"type\":\"LegendItem\"},{\"attributes\":{\"line_alpha\":0.1,\"line_color\":\"#1f77b4\",\"line_width\":2,\"x\":{\"field\":\"x\"},\"y\":{\"field\":\"y\"}},\"id\":\"a0c989b3-701c-4c92-93b1-4bb75a04ec7e\",\"type\":\"Line\"},{\"attributes\":{\"below\":[{\"id\":\"1387fb58-98f9-44e1-87b7-9b07a731d803\",\"type\":\"LinearAxis\"},{\"id\":\"f91d51f5-a194-4272-8c36-711b988e606e\",\"type\":\"Title\"}],\"left\":[{\"id\":\"2a96501a-b8e8-4e22-a741-110913c6cba1\",\"type\":\"LinearAxis\"}],\"plot_height\":400,\"plot_width\":400,\"renderers\":[{\"id\":\"1387fb58-98f9-44e1-87b7-9b07a731d803\",\"type\":\"LinearAxis\"},{\"id\":\"634a860b-cbb9-4531-bc56-642b1c23e870\",\"type\":\"Grid\"},{\"id\":\"2a96501a-b8e8-4e22-a741-110913c6cba1\",\"type\":\"LinearAxis\"},{\"id\":\"dbe3b2f5-91a0-4f1d-bdb9-0d3aea20016d\",\"type\":\"Grid\"},{\"id\":\"ecbb3b2e-c6fa-4275-9f01-dcfdc1ae5965\",\"type\":\"BoxAnnotation\"},{\"id\":\"aa7d6c2a-17b3-4808-ac94-c4990ba0411e\",\"type\":\"Legend\"},{\"id\":\"e4664681-9bf4-4e86-b1ed-f43289339529\",\"type\":\"GlyphRenderer\"},{\"id\":\"759e9a93-ffc6-4a62-9109-1512d847de37\",\"type\":\"GlyphRenderer\"},{\"id\":\"ce016e5f-3666-4992-bb80-320b1c3714bf\",\"type\":\"GlyphRenderer\"},{\"id\":\"f91d51f5-a194-4272-8c36-711b988e606e\",\"type\":\"Title\"}],\"title\":{\"id\":\"e32a3f53-2e94-4cc2-b670-01b52d7f39f5\",\"type\":\"Title\"},\"toolbar\":{\"id\":\"22d7b51e-84e7-488c-8074-aeca1aaecd6e\",\"type\":\"Toolbar\"},\"x_range\":{\"id\":\"5d129236-da91-4f95-85b7-f9cdad8d46a9\",\"type\":\"DataRange1d\"},\"x_scale\":{\"id\":\"66746b19-7c48-45fb-af3d-9018dcfefdd0\",\"type\":\"LinearScale\"},\"y_range\":{\"id\":\"6e12a25b-644a-49fa-8563-20193cd2ce9f\",\"type\":\"DataRange1d\"},\"y_scale\":{\"id\":\"9b0ca204-22a1-4bee-843a-ec2454432ec6\",\"type\":\"LinearScale\"}},\"id\":\"b4bba1e1-4a34-4d7c-9b82-bcb18435f9bc\",\"subtype\":\"Figure\",\"type\":\"Plot\"},{\"attributes\":{\"axis_label\":\"Iterations\",\"formatter\":{\"id\":\"873c54e7-45d1-42a9-99e3-976e7c690b2a\",\"type\":\"BasicTickFormatter\"},\"plot\":{\"id\":\"b4bba1e1-4a34-4d7c-9b82-bcb18435f9bc\",\"subtype\":\"Figure\",\"type\":\"Plot\"},\"ticker\":{\"id\":\"df9af9b9-487c-497f-b846-e8a2145592a9\",\"type\":\"BasicTicker\"}},\"id\":\"1387fb58-98f9-44e1-87b7-9b07a731d803\",\"type\":\"LinearAxis\"},{\"attributes\":{\"line_alpha\":0.5,\"line_color\":\"#1f77b4\",\"line_width\":2,\"x\":{\"field\":\"x\"},\"y\":{\"field\":\"y\"}},\"id\":\"3caf36b6-0607-4d3f-aa6d-b6613a9bb9ec\",\"type\":\"Line\"},{\"attributes\":{\"active_drag\":\"auto\",\"active_inspect\":\"auto\",\"active_scroll\":\"auto\",\"active_tap\":\"auto\",\"tools\":[{\"id\":\"ebf47348-81c0-4729-ad91-e14a9d10e737\",\"type\":\"PanTool\"},{\"id\":\"7320714f-e7c1-4a58-89ca-5c2970946897\",\"type\":\"WheelZoomTool\"},{\"id\":\"e70f470c-36aa-4668-9e67-da57818eacfe\",\"type\":\"BoxZoomTool\"},{\"id\":\"663a0708-e81a-4f8c-ace2-480647311720\",\"type\":\"SaveTool\"},{\"id\":\"8f531965-3ad2-44ff-8499-40efa1099666\",\"type\":\"ResetTool\"},{\"id\":\"5a6f4eac-9650-44e1-87da-4cf35e6090f2\",\"type\":\"HelpTool\"}]},\"id\":\"22d7b51e-84e7-488c-8074-aeca1aaecd6e\",\"type\":\"Toolbar\"},{\"attributes\":{\"label\":{\"value\":\"Infected\"},\"renderers\":[{\"id\":\"759e9a93-ffc6-4a62-9109-1512d847de37\",\"type\":\"GlyphRenderer\"}]},\"id\":\"0a89b61e-9336-49a3-8ab2-b6164ab08a67\",\"type\":\"LegendItem\"},{\"attributes\":{\"callback\":null},\"id\":\"5d129236-da91-4f95-85b7-f9cdad8d46a9\",\"type\":\"DataRange1d\"},{\"attributes\":{},\"id\":\"df9af9b9-487c-497f-b846-e8a2145592a9\",\"type\":\"BasicTicker\"},{\"attributes\":{\"callback\":null,\"column_names\":[\"x\",\"y\"],\"data\":{\"x\":[0,1,2,3,4,5,6,7,8,9,10,11,12,13,14,15,16,17,18,19,20,21,22,23,24,25,26,27,28,29,30,31,32,33,34,35,36,37,38,39,40,41,42,43,44,45,46,47,48,49,50,51,52,53,54,55,56,57,58,59,60,61,62,63,64,65,66,67,68,69,70,71,72,73,74,75,76,77,78,79,80,81,82,83,84,85,86,87,88,89,90,91,92,93,94,95,96,97,98,99,100,101,102,103,104,105,106,107,108,109,110,111,112,113,114,115,116,117,118,119,120,121,122,123,124,125,126,127,128,129,130,131,132,133,134,135,136,137,138,139,140,141,142,143,144,145,146,147,148,149,150,151,152,153,154,155,156,157,158,159,160,161,162,163,164,165,166,167,168,169,170,171,172,173,174,175,176,177,178,179,180,181,182,183,184,185,186,187,188,189,190,191,192,193,194,195,196,197,198,199],\"y\":{\"__ndarray__\":\"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\",\"dtype\":\"float64\",\"shape\":[200]}},\"selected\":null,\"selection_policy\":null},\"id\":\"748068b4-fa87-4916-846f-571b234dafbf\",\"type\":\"ColumnDataSource\"},{\"attributes\":{\"callback\":null},\"id\":\"6e12a25b-644a-49fa-8563-20193cd2ce9f\",\"type\":\"DataRange1d\"},{\"attributes\":{},\"id\":\"66746b19-7c48-45fb-af3d-9018dcfefdd0\",\"type\":\"LinearScale\"},{\"attributes\":{},\"id\":\"9b0ca204-22a1-4bee-843a-ec2454432ec6\",\"type\":\"LinearScale\"},{\"attributes\":{\"grid_line_alpha\":{\"value\":0.5},\"plot\":{\"id\":\"b4bba1e1-4a34-4d7c-9b82-bcb18435f9bc\",\"subtype\":\"Figure\",\"type\":\"Plot\"},\"ticker\":{\"id\":\"df9af9b9-487c-497f-b846-e8a2145592a9\",\"type\":\"BasicTicker\"}},\"id\":\"634a860b-cbb9-4531-bc56-642b1c23e870\",\"type\":\"Grid\"}],\"root_ids\":[\"b4bba1e1-4a34-4d7c-9b82-bcb18435f9bc\"]},\"title\":\"Bokeh Application\",\"version\":\"0.12.15\"}};\n",
       "  var render_items = [{\"docid\":\"e9109196-54dd-4cc2-b2f7-fdca25f85cff\",\"elementid\":\"b18243aa-ef2f-4a0a-a43b-cc21a4db6724\",\"modelid\":\"b4bba1e1-4a34-4d7c-9b82-bcb18435f9bc\"}];\n",
       "  root.Bokeh.embed.embed_items_notebook(docs_json, render_items);\n",
       "\n",
       "  }\n",
       "  if (root.Bokeh !== undefined) {\n",
       "    embed_document(root);\n",
       "  } else {\n",
       "    var attempts = 0;\n",
       "    var timer = setInterval(function(root) {\n",
       "      if (root.Bokeh !== undefined) {\n",
       "        embed_document(root);\n",
       "        clearInterval(timer);\n",
       "      }\n",
       "      attempts++;\n",
       "      if (attempts > 100) {\n",
       "        console.log(\"Bokeh: ERROR: Unable to run BokehJS code because BokehJS library is missing\")\n",
       "        clearInterval(timer);\n",
       "      }\n",
       "    }, 10, root)\n",
       "  }\n",
       "})(window);"
      ],
      "application/vnd.bokehjs_exec.v0+json": ""
     },
     "metadata": {
      "application/vnd.bokehjs_exec.v0+json": {
       "id": "b4bba1e1-4a34-4d7c-9b82-bcb18435f9bc"
      }
     },
     "output_type": "display_data"
    }
   ],
   "source": [
    "from ndlib.viz.bokeh.DiffusionPrevalence import DiffusionPrevalence\n",
    "\n",
    "viz2 = DiffusionPrevalence(model, trends)\n",
    "p2 = viz2.plot(width=400, height=400)\n",
    "show(p2)"
   ]
  },
  {
   "cell_type": "code",
   "execution_count": 7,
   "metadata": {},
   "outputs": [
    {
     "data": {
      "text/html": [
       "\n",
       "<div class=\"bk-root\">\n",
       "    <div class=\"bk-plotdiv\" id=\"7590f12b-8c1d-43a2-ae16-39150ea88ce3\"></div>\n",
       "</div>"
      ]
     },
     "metadata": {},
     "output_type": "display_data"
    },
    {
     "data": {
      "application/javascript": [
       "(function(root) {\n",
       "  function embed_document(root) {\n",
       "    \n",
       "  var docs_json = {\"9ac89edb-c505-4df1-ab89-e7589052e7f8\":{\"roots\":{\"references\":[{\"attributes\":{\"data_source\":{\"id\":\"748068b4-fa87-4916-846f-571b234dafbf\",\"type\":\"ColumnDataSource\"},\"glyph\":{\"id\":\"3caf36b6-0607-4d3f-aa6d-b6613a9bb9ec\",\"type\":\"Line\"},\"hover_glyph\":null,\"muted_glyph\":null,\"nonselection_glyph\":{\"id\":\"039b5b36-cc47-43eb-895d-ef0c10e745f0\",\"type\":\"Line\"},\"selection_glyph\":null,\"view\":{\"id\":\"a51a0fd0-691b-4130-b254-63c5a8a4d2f9\",\"type\":\"CDSView\"}},\"id\":\"e4664681-9bf4-4e86-b1ed-f43289339529\",\"type\":\"GlyphRenderer\"},{\"attributes\":{},\"id\":\"873c54e7-45d1-42a9-99e3-976e7c690b2a\",\"type\":\"BasicTickFormatter\"},{\"attributes\":{\"bottom_units\":\"screen\",\"fill_alpha\":{\"value\":0.5},\"fill_color\":{\"value\":\"lightgrey\"},\"left_units\":\"screen\",\"level\":\"overlay\",\"line_alpha\":{\"value\":1.0},\"line_color\":{\"value\":\"black\"},\"line_dash\":[4,4],\"line_width\":{\"value\":2},\"plot\":null,\"render_mode\":\"css\",\"right_units\":\"screen\",\"top_units\":\"screen\"},\"id\":\"ecbb3b2e-c6fa-4275-9f01-dcfdc1ae5965\",\"type\":\"BoxAnnotation\"},{\"attributes\":{},\"id\":\"ebf47348-81c0-4729-ad91-e14a9d10e737\",\"type\":\"PanTool\"},{\"attributes\":{\"source\":{\"id\":\"748068b4-fa87-4916-846f-571b234dafbf\",\"type\":\"ColumnDataSource\"}},\"id\":\"a51a0fd0-691b-4130-b254-63c5a8a4d2f9\",\"type\":\"CDSView\"},{\"attributes\":{},\"id\":\"7320714f-e7c1-4a58-89ca-5c2970946897\",\"type\":\"WheelZoomTool\"},{\"attributes\":{\"below\":[{\"id\":\"6cccf3cf-2d2b-4058-8d5b-08fee58b05d2\",\"type\":\"LinearAxis\"},{\"id\":\"fbad0e99-8e0f-485e-ba0d-5e3352c6eff1\",\"type\":\"Title\"}],\"left\":[{\"id\":\"a390bbbd-08e0-4cd0-9326-39ef5e48a1ab\",\"type\":\"LinearAxis\"}],\"plot_height\":400,\"plot_width\":400,\"renderers\":[{\"id\":\"6cccf3cf-2d2b-4058-8d5b-08fee58b05d2\",\"type\":\"LinearAxis\"},{\"id\":\"5aa95e2f-ad7a-4bc2-83d0-18aed552f0f6\",\"type\":\"Grid\"},{\"id\":\"a390bbbd-08e0-4cd0-9326-39ef5e48a1ab\",\"type\":\"LinearAxis\"},{\"id\":\"78e40f54-ff1f-4807-9ca6-91181775211d\",\"type\":\"Grid\"},{\"id\":\"a50afbea-d4be-4e6f-a4db-5133a53f79e0\",\"type\":\"BoxAnnotation\"},{\"id\":\"5eed5e4b-4faa-478f-94af-d01ec27f5db3\",\"type\":\"Legend\"},{\"id\":\"935de501-893a-4cc8-90f3-0c0604326140\",\"type\":\"GlyphRenderer\"},{\"id\":\"c38fbb17-f5f7-4891-8bb7-1855dc63cd14\",\"type\":\"GlyphRenderer\"},{\"id\":\"9285cb0e-3a62-4ddd-8da8-3641cccbd7ab\",\"type\":\"GlyphRenderer\"},{\"id\":\"fbad0e99-8e0f-485e-ba0d-5e3352c6eff1\",\"type\":\"Title\"}],\"title\":{\"id\":\"5e208040-000e-46cf-b883-913a9aa5e501\",\"type\":\"Title\"},\"toolbar\":{\"id\":\"359cb7da-dc19-4934-931e-db9c873f8053\",\"type\":\"Toolbar\"},\"toolbar_location\":null,\"x_range\":{\"id\":\"7b34966c-0211-4114-a854-4e7c17556307\",\"type\":\"DataRange1d\"},\"x_scale\":{\"id\":\"327b963f-fea0-4731-9229-5578ee1f7296\",\"type\":\"LinearScale\"},\"y_range\":{\"id\":\"c430ec48-7764-4d80-8763-a52474f00fb9\",\"type\":\"DataRange1d\"},\"y_scale\":{\"id\":\"192bee19-3ad7-4265-924c-cdd3c8d3c887\",\"type\":\"LinearScale\"}},\"id\":\"09dea55e-17d5-41b4-b094-da2395507dae\",\"subtype\":\"Figure\",\"type\":\"Plot\"},{\"attributes\":{\"overlay\":{\"id\":\"ecbb3b2e-c6fa-4275-9f01-dcfdc1ae5965\",\"type\":\"BoxAnnotation\"}},\"id\":\"e70f470c-36aa-4668-9e67-da57818eacfe\",\"type\":\"BoxZoomTool\"},{\"attributes\":{},\"id\":\"663a0708-e81a-4f8c-ace2-480647311720\",\"type\":\"SaveTool\"},{\"attributes\":{\"active_drag\":\"auto\",\"active_inspect\":\"auto\",\"active_scroll\":\"auto\",\"active_tap\":\"auto\",\"tools\":[{\"id\":\"c3019b08-fdbc-42ef-81d2-5a646e2d581a\",\"type\":\"PanTool\"},{\"id\":\"405d3752-ce9c-495c-96b7-ef10d03d837a\",\"type\":\"WheelZoomTool\"},{\"id\":\"c956dc86-14bb-4829-ba7b-24b81c3d54a4\",\"type\":\"BoxZoomTool\"},{\"id\":\"45d60b32-dc6c-48aa-9b21-cfbcdb3c5329\",\"type\":\"SaveTool\"},{\"id\":\"8f3fd144-7c07-4f62-8e92-f7f674a49574\",\"type\":\"ResetTool\"},{\"id\":\"88c0f066-6c27-45e4-884d-6e0cf9253f9a\",\"type\":\"HelpTool\"}]},\"id\":\"359cb7da-dc19-4934-931e-db9c873f8053\",\"type\":\"Toolbar\"},{\"attributes\":{},\"id\":\"8f531965-3ad2-44ff-8499-40efa1099666\",\"type\":\"ResetTool\"},{\"attributes\":{\"callback\":null},\"id\":\"7b34966c-0211-4114-a854-4e7c17556307\",\"type\":\"DataRange1d\"},{\"attributes\":{},\"id\":\"5a6f4eac-9650-44e1-87da-4cf35e6090f2\",\"type\":\"HelpTool\"},{\"attributes\":{\"line_alpha\":0.5,\"line_color\":\"#aec7e8\",\"line_width\":2,\"x\":{\"field\":\"x\"},\"y\":{\"field\":\"y\"}},\"id\":\"2dfb43f1-e9dc-4e57-b547-c61ce08f251a\",\"type\":\"Line\"},{\"attributes\":{\"callback\":null},\"id\":\"c430ec48-7764-4d80-8763-a52474f00fb9\",\"type\":\"DataRange1d\"},{\"attributes\":{\"line_alpha\":0.5,\"line_color\":\"#ff7f0e\",\"line_width\":2,\"x\":{\"field\":\"x\"},\"y\":{\"field\":\"y\"}},\"id\":\"8ac81aea-48ff-462e-ac1e-0e9cd7c31664\",\"type\":\"Line\"},{\"attributes\":{},\"id\":\"327b963f-fea0-4731-9229-5578ee1f7296\",\"type\":\"LinearScale\"},{\"attributes\":{\"items\":[{\"id\":\"caaa09b0-41f0-422d-9df2-07526474cb2f\",\"type\":\"LegendItem\"},{\"id\":\"0a89b61e-9336-49a3-8ab2-b6164ab08a67\",\"type\":\"LegendItem\"},{\"id\":\"f7876666-e2c4-4b9a-b957-70ffb9eb9b13\",\"type\":\"LegendItem\"}],\"orientation\":\"horizontal\",\"plot\":{\"id\":\"b4bba1e1-4a34-4d7c-9b82-bcb18435f9bc\",\"subtype\":\"Figure\",\"type\":\"Plot\"}},\"id\":\"aa7d6c2a-17b3-4808-ac94-c4990ba0411e\",\"type\":\"Legend\"},{\"attributes\":{},\"id\":\"192bee19-3ad7-4265-924c-cdd3c8d3c887\",\"type\":\"LinearScale\"},{\"attributes\":{\"plot\":null,\"text\":\"SIR - Prevalence\"},\"id\":\"e32a3f53-2e94-4cc2-b670-01b52d7f39f5\",\"type\":\"Title\"},{\"attributes\":{\"items\":[{\"id\":\"0aaa46d3-c016-4de8-8e73-563122926c62\",\"type\":\"LegendItem\"},{\"id\":\"9de97149-a53b-484f-b46b-7f96a20781ca\",\"type\":\"LegendItem\"},{\"id\":\"61b41639-45af-4468-a5e3-28f5e4a8a430\",\"type\":\"LegendItem\"}],\"orientation\":\"horizontal\",\"plot\":{\"id\":\"09dea55e-17d5-41b4-b094-da2395507dae\",\"subtype\":\"Figure\",\"type\":\"Plot\"}},\"id\":\"5eed5e4b-4faa-478f-94af-d01ec27f5db3\",\"type\":\"Legend\"},{\"attributes\":{\"label\":{\"value\":\"Susceptible\"},\"renderers\":[{\"id\":\"e4664681-9bf4-4e86-b1ed-f43289339529\",\"type\":\"GlyphRenderer\"}]},\"id\":\"caaa09b0-41f0-422d-9df2-07526474cb2f\",\"type\":\"LegendItem\"},{\"attributes\":{},\"id\":\"70028dc9-0034-476f-a7cd-d902e2632ed8\",\"type\":\"BasicTicker\"},{\"attributes\":{\"axis_label\":\"Iterations\",\"formatter\":{\"id\":\"5defe046-33f8-4f8c-9b3b-b8b7d3c0e541\",\"type\":\"BasicTickFormatter\"},\"plot\":{\"id\":\"09dea55e-17d5-41b4-b094-da2395507dae\",\"subtype\":\"Figure\",\"type\":\"Plot\"},\"ticker\":{\"id\":\"2bb1ada1-63fb-478c-a6ff-2dfab59b6b29\",\"type\":\"BasicTicker\"}},\"id\":\"6cccf3cf-2d2b-4058-8d5b-08fee58b05d2\",\"type\":\"LinearAxis\"},{\"attributes\":{\"callback\":null,\"column_names\":[\"x\",\"y\"],\"data\":{\"x\":[0,1,2,3,4,5,6,7,8,9,10,11,12,13,14,15,16,17,18,19,20,21,22,23,24,25,26,27,28,29,30,31,32,33,34,35,36,37,38,39,40,41,42,43,44,45,46,47,48,49,50,51,52,53,54,55,56,57,58,59,60,61,62,63,64,65,66,67,68,69,70,71,72,73,74,75,76,77,78,79,80,81,82,83,84,85,86,87,88,89,90,91,92,93,94,95,96,97,98,99,100,101,102,103,104,105,106,107,108,109,110,111,112,113,114,115,116,117,118,119,120,121,122,123,124,125,126,127,128,129,130,131,132,133,134,135,136,137,138,139,140,141,142,143,144,145,146,147,148,149,150,151,152,153,154,155,156,157,158,159,160,161,162,163,164,165,166,167,168,169,170,171,172,173,174,175,176,177,178,179,180,181,182,183,184,185,186,187,188,189,190,191,192,193,194,195,196,197,198,199],\"y\":{\"__ndarray__\":\"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\",\"dtype\":\"float64\",\"shape\":[200]}},\"selected\":null,\"selection_policy\":null},\"id\":\"20d1498b-4f2e-47a3-a399-f096320032e3\",\"type\":\"ColumnDataSource\"},{\"attributes\":{\"dimension\":1,\"grid_line_alpha\":{\"value\":0.5},\"plot\":{\"id\":\"b4bba1e1-4a34-4d7c-9b82-bcb18435f9bc\",\"subtype\":\"Figure\",\"type\":\"Plot\"},\"ticker\":{\"id\":\"70028dc9-0034-476f-a7cd-d902e2632ed8\",\"type\":\"BasicTicker\"}},\"id\":\"dbe3b2f5-91a0-4f1d-bdb9-0d3aea20016d\",\"type\":\"Grid\"},{\"attributes\":{},\"id\":\"2bb1ada1-63fb-478c-a6ff-2dfab59b6b29\",\"type\":\"BasicTicker\"},{\"attributes\":{},\"id\":\"304c9451-04b4-4385-a5c3-81f348cad29b\",\"type\":\"BasicTickFormatter\"},{\"attributes\":{\"grid_line_alpha\":{\"value\":0.5},\"plot\":{\"id\":\"09dea55e-17d5-41b4-b094-da2395507dae\",\"subtype\":\"Figure\",\"type\":\"Plot\"},\"ticker\":{\"id\":\"2bb1ada1-63fb-478c-a6ff-2dfab59b6b29\",\"type\":\"BasicTicker\"}},\"id\":\"5aa95e2f-ad7a-4bc2-83d0-18aed552f0f6\",\"type\":\"Grid\"},{\"attributes\":{\"line_alpha\":0.5,\"line_color\":\"#aec7e8\",\"line_width\":2,\"x\":{\"field\":\"x\"},\"y\":{\"field\":\"y\"}},\"id\":\"76c4dee1-aae5-45ab-ad16-a663aa052527\",\"type\":\"Line\"},{\"attributes\":{\"axis_label\":\"#Delta Nodes\",\"formatter\":{\"id\":\"304c9451-04b4-4385-a5c3-81f348cad29b\",\"type\":\"BasicTickFormatter\"},\"plot\":{\"id\":\"b4bba1e1-4a34-4d7c-9b82-bcb18435f9bc\",\"subtype\":\"Figure\",\"type\":\"Plot\"},\"ticker\":{\"id\":\"70028dc9-0034-476f-a7cd-d902e2632ed8\",\"type\":\"BasicTicker\"}},\"id\":\"2a96501a-b8e8-4e22-a741-110913c6cba1\",\"type\":\"LinearAxis\"},{\"attributes\":{\"axis_label\":\"#Nodes\",\"formatter\":{\"id\":\"b9e89652-53cf-416a-a9b2-6fc3031cbe55\",\"type\":\"BasicTickFormatter\"},\"plot\":{\"id\":\"09dea55e-17d5-41b4-b094-da2395507dae\",\"subtype\":\"Figure\",\"type\":\"Plot\"},\"ticker\":{\"id\":\"bb5e24fc-9ee7-4cc1-a0a5-9a6527f0e81f\",\"type\":\"BasicTicker\"}},\"id\":\"a390bbbd-08e0-4cd0-9326-39ef5e48a1ab\",\"type\":\"LinearAxis\"},{\"attributes\":{\"data_source\":{\"id\":\"025d9274-ee42-4454-a668-0859242bff65\",\"type\":\"ColumnDataSource\"},\"glyph\":{\"id\":\"8ac81aea-48ff-462e-ac1e-0e9cd7c31664\",\"type\":\"Line\"},\"hover_glyph\":null,\"muted_glyph\":null,\"nonselection_glyph\":{\"id\":\"a0c989b3-701c-4c92-93b1-4bb75a04ec7e\",\"type\":\"Line\"},\"selection_glyph\":null,\"view\":{\"id\":\"27f38d1e-4bea-4607-9835-53e52c1a8de7\",\"type\":\"CDSView\"}},\"id\":\"ce016e5f-3666-4992-bb80-320b1c3714bf\",\"type\":\"GlyphRenderer\"},{\"attributes\":{\"data_source\":{\"id\":\"20d1498b-4f2e-47a3-a399-f096320032e3\",\"type\":\"ColumnDataSource\"},\"glyph\":{\"id\":\"76c4dee1-aae5-45ab-ad16-a663aa052527\",\"type\":\"Line\"},\"hover_glyph\":null,\"muted_glyph\":null,\"nonselection_glyph\":{\"id\":\"86e33498-8a9b-49da-98c1-ac94e5377a4f\",\"type\":\"Line\"},\"selection_glyph\":null,\"view\":{\"id\":\"a89c76da-caba-42bd-9065-6accad4e82d1\",\"type\":\"CDSView\"}},\"id\":\"759e9a93-ffc6-4a62-9109-1512d847de37\",\"type\":\"GlyphRenderer\"},{\"attributes\":{},\"id\":\"bb5e24fc-9ee7-4cc1-a0a5-9a6527f0e81f\",\"type\":\"BasicTicker\"},{\"attributes\":{\"dimension\":1,\"grid_line_alpha\":{\"value\":0.5},\"plot\":{\"id\":\"09dea55e-17d5-41b4-b094-da2395507dae\",\"subtype\":\"Figure\",\"type\":\"Plot\"},\"ticker\":{\"id\":\"bb5e24fc-9ee7-4cc1-a0a5-9a6527f0e81f\",\"type\":\"BasicTicker\"}},\"id\":\"78e40f54-ff1f-4807-9ca6-91181775211d\",\"type\":\"Grid\"},{\"attributes\":{\"align\":\"center\",\"plot\":{\"id\":\"b4bba1e1-4a34-4d7c-9b82-bcb18435f9bc\",\"subtype\":\"Figure\",\"type\":\"Plot\"},\"text\":\"beta: 0.001, gamma: 0.01, percentage infected: 0.05\"},\"id\":\"f91d51f5-a194-4272-8c36-711b988e606e\",\"type\":\"Title\"},{\"attributes\":{\"line_alpha\":0.1,\"line_color\":\"#1f77b4\",\"line_width\":2,\"x\":{\"field\":\"x\"},\"y\":{\"field\":\"y\"}},\"id\":\"039b5b36-cc47-43eb-895d-ef0c10e745f0\",\"type\":\"Line\"},{\"attributes\":{\"bottom_units\":\"screen\",\"fill_alpha\":{\"value\":0.5},\"fill_color\":{\"value\":\"lightgrey\"},\"left_units\":\"screen\",\"level\":\"overlay\",\"line_alpha\":{\"value\":1.0},\"line_color\":{\"value\":\"black\"},\"line_dash\":[4,4],\"line_width\":{\"value\":2},\"plot\":null,\"render_mode\":\"css\",\"right_units\":\"screen\",\"top_units\":\"screen\"},\"id\":\"a50afbea-d4be-4e6f-a4db-5133a53f79e0\",\"type\":\"BoxAnnotation\"},{\"attributes\":{\"line_alpha\":0.1,\"line_color\":\"#1f77b4\",\"line_width\":2,\"x\":{\"field\":\"x\"},\"y\":{\"field\":\"y\"}},\"id\":\"86e33498-8a9b-49da-98c1-ac94e5377a4f\",\"type\":\"Line\"},{\"attributes\":{\"source\":{\"id\":\"20d1498b-4f2e-47a3-a399-f096320032e3\",\"type\":\"ColumnDataSource\"}},\"id\":\"a89c76da-caba-42bd-9065-6accad4e82d1\",\"type\":\"CDSView\"},{\"attributes\":{\"source\":{\"id\":\"025d9274-ee42-4454-a668-0859242bff65\",\"type\":\"ColumnDataSource\"}},\"id\":\"27f38d1e-4bea-4607-9835-53e52c1a8de7\",\"type\":\"CDSView\"},{\"attributes\":{\"data_source\":{\"id\":\"5a859729-7c64-44c3-be14-fb8bf9b02509\",\"type\":\"ColumnDataSource\"},\"glyph\":{\"id\":\"feb72a46-59d4-4ca8-9d7c-444c89d4f95b\",\"type\":\"Line\"},\"hover_glyph\":null,\"muted_glyph\":null,\"nonselection_glyph\":{\"id\":\"e0742d64-974e-432c-a89c-ed8a8c3d5eb0\",\"type\":\"Line\"},\"selection_glyph\":null,\"view\":{\"id\":\"8697828d-313a-48da-a643-786947a29c16\",\"type\":\"CDSView\"}},\"id\":\"935de501-893a-4cc8-90f3-0c0604326140\",\"type\":\"GlyphRenderer\"},{\"attributes\":{\"callback\":null,\"column_names\":[\"x\",\"y\"],\"data\":{\"x\":[0,1,2,3,4,5,6,7,8,9,10,11,12,13,14,15,16,17,18,19,20,21,22,23,24,25,26,27,28,29,30,31,32,33,34,35,36,37,38,39,40,41,42,43,44,45,46,47,48,49,50,51,52,53,54,55,56,57,58,59,60,61,62,63,64,65,66,67,68,69,70,71,72,73,74,75,76,77,78,79,80,81,82,83,84,85,86,87,88,89,90,91,92,93,94,95,96,97,98,99,100,101,102,103,104,105,106,107,108,109,110,111,112,113,114,115,116,117,118,119,120,121,122,123,124,125,126,127,128,129,130,131,132,133,134,135,136,137,138,139,140,141,142,143,144,145,146,147,148,149,150,151,152,153,154,155,156,157,158,159,160,161,162,163,164,165,166,167,168,169,170,171,172,173,174,175,176,177,178,179,180,181,182,183,184,185,186,187,188,189,190,191,192,193,194,195,196,197,198,199],\"y\":{\"__ndarray__\":\"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\",\"dtype\":\"float64\",\"shape\":[200]}},\"selected\":null,\"selection_policy\":null},\"id\":\"5a859729-7c64-44c3-be14-fb8bf9b02509\",\"type\":\"ColumnDataSource\"},{\"attributes\":{\"label\":{\"value\":\"Removed\"},\"renderers\":[{\"id\":\"ce016e5f-3666-4992-bb80-320b1c3714bf\",\"type\":\"GlyphRenderer\"}]},\"id\":\"f7876666-e2c4-4b9a-b957-70ffb9eb9b13\",\"type\":\"LegendItem\"},{\"attributes\":{},\"id\":\"c3019b08-fdbc-42ef-81d2-5a646e2d581a\",\"type\":\"PanTool\"},{\"attributes\":{\"line_alpha\":0.1,\"line_color\":\"#1f77b4\",\"line_width\":2,\"x\":{\"field\":\"x\"},\"y\":{\"field\":\"y\"}},\"id\":\"a0c989b3-701c-4c92-93b1-4bb75a04ec7e\",\"type\":\"Line\"},{\"attributes\":{},\"id\":\"405d3752-ce9c-495c-96b7-ef10d03d837a\",\"type\":\"WheelZoomTool\"},{\"attributes\":{\"plot\":null,\"text\":\"SIR - Diffusion Trend\"},\"id\":\"5e208040-000e-46cf-b883-913a9aa5e501\",\"type\":\"Title\"},{\"attributes\":{\"children\":[{\"id\":\"8e7e4ee5-31ef-43ea-97ae-0379cfa13501\",\"type\":\"Row\"}]},\"id\":\"dba77378-7c37-44e9-9911-f82a982b3948\",\"type\":\"Column\"},{\"attributes\":{\"overlay\":{\"id\":\"a50afbea-d4be-4e6f-a4db-5133a53f79e0\",\"type\":\"BoxAnnotation\"}},\"id\":\"c956dc86-14bb-4829-ba7b-24b81c3d54a4\",\"type\":\"BoxZoomTool\"},{\"attributes\":{},\"id\":\"45d60b32-dc6c-48aa-9b21-cfbcdb3c5329\",\"type\":\"SaveTool\"},{\"attributes\":{\"label\":{\"value\":\"Infected\"},\"renderers\":[{\"id\":\"759e9a93-ffc6-4a62-9109-1512d847de37\",\"type\":\"GlyphRenderer\"}]},\"id\":\"0a89b61e-9336-49a3-8ab2-b6164ab08a67\",\"type\":\"LegendItem\"},{\"attributes\":{},\"id\":\"8f3fd144-7c07-4f62-8e92-f7f674a49574\",\"type\":\"ResetTool\"},{\"attributes\":{},\"id\":\"88c0f066-6c27-45e4-884d-6e0cf9253f9a\",\"type\":\"HelpTool\"},{\"attributes\":{},\"id\":\"5defe046-33f8-4f8c-9b3b-b8b7d3c0e541\",\"type\":\"BasicTickFormatter\"},{\"attributes\":{\"label\":{\"value\":\"Infected\"},\"renderers\":[{\"id\":\"c38fbb17-f5f7-4891-8bb7-1855dc63cd14\",\"type\":\"GlyphRenderer\"}]},\"id\":\"9de97149-a53b-484f-b46b-7f96a20781ca\",\"type\":\"LegendItem\"},{\"attributes\":{\"align\":\"center\",\"plot\":{\"id\":\"09dea55e-17d5-41b4-b094-da2395507dae\",\"subtype\":\"Figure\",\"type\":\"Plot\"},\"text\":\"beta: 0.001, gamma: 0.01, percentage infected: 0.05\"},\"id\":\"fbad0e99-8e0f-485e-ba0d-5e3352c6eff1\",\"type\":\"Title\"},{\"attributes\":{\"line_alpha\":0.5,\"line_color\":\"#1f77b4\",\"line_width\":2,\"x\":{\"field\":\"x\"},\"y\":{\"field\":\"y\"}},\"id\":\"feb72a46-59d4-4ca8-9d7c-444c89d4f95b\",\"type\":\"Line\"},{\"attributes\":{\"label\":{\"value\":\"Susceptible\"},\"renderers\":[{\"id\":\"935de501-893a-4cc8-90f3-0c0604326140\",\"type\":\"GlyphRenderer\"}]},\"id\":\"0aaa46d3-c016-4de8-8e73-563122926c62\",\"type\":\"LegendItem\"},{\"attributes\":{\"data_source\":{\"id\":\"faaed6db-214c-47c2-8562-b26ec78823ec\",\"type\":\"ColumnDataSource\"},\"glyph\":{\"id\":\"2dfb43f1-e9dc-4e57-b547-c61ce08f251a\",\"type\":\"Line\"},\"hover_glyph\":null,\"muted_glyph\":null,\"nonselection_glyph\":{\"id\":\"a311bfef-0c3e-4e77-9e2a-f938905acc4d\",\"type\":\"Line\"},\"selection_glyph\":null,\"view\":{\"id\":\"9f1f062d-c402-4292-9d2f-23cf4f75a3e2\",\"type\":\"CDSView\"}},\"id\":\"c38fbb17-f5f7-4891-8bb7-1855dc63cd14\",\"type\":\"GlyphRenderer\"},{\"attributes\":{},\"id\":\"b9e89652-53cf-416a-a9b2-6fc3031cbe55\",\"type\":\"BasicTickFormatter\"},{\"attributes\":{\"line_alpha\":0.1,\"line_color\":\"#1f77b4\",\"line_width\":2,\"x\":{\"field\":\"x\"},\"y\":{\"field\":\"y\"}},\"id\":\"e0742d64-974e-432c-a89c-ed8a8c3d5eb0\",\"type\":\"Line\"},{\"attributes\":{\"children\":[{\"id\":\"b2982fe1-8410-4c79-902f-fab0d8e9a5b5\",\"type\":\"ToolbarBox\"},{\"id\":\"dba77378-7c37-44e9-9911-f82a982b3948\",\"type\":\"Column\"}]},\"id\":\"e4cd96da-9f02-4b48-860c-3f8857e119c6\",\"type\":\"Column\"},{\"attributes\":{\"callback\":null,\"column_names\":[\"x\",\"y\"],\"data\":{\"x\":[0,1,2,3,4,5,6,7,8,9,10,11,12,13,14,15,16,17,18,19,20,21,22,23,24,25,26,27,28,29,30,31,32,33,34,35,36,37,38,39,40,41,42,43,44,45,46,47,48,49,50,51,52,53,54,55,56,57,58,59,60,61,62,63,64,65,66,67,68,69,70,71,72,73,74,75,76,77,78,79,80,81,82,83,84,85,86,87,88,89,90,91,92,93,94,95,96,97,98,99,100,101,102,103,104,105,106,107,108,109,110,111,112,113,114,115,116,117,118,119,120,121,122,123,124,125,126,127,128,129,130,131,132,133,134,135,136,137,138,139,140,141,142,143,144,145,146,147,148,149,150,151,152,153,154,155,156,157,158,159,160,161,162,163,164,165,166,167,168,169,170,171,172,173,174,175,176,177,178,179,180,181,182,183,184,185,186,187,188,189,190,191,192,193,194,195,196,197,198,199],\"y\":{\"__ndarray__\":\"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\",\"dtype\":\"float64\",\"shape\":[200]}},\"selected\":null,\"selection_policy\":null},\"id\":\"faaed6db-214c-47c2-8562-b26ec78823ec\",\"type\":\"ColumnDataSource\"},{\"attributes\":{\"callback\":null,\"column_names\":[\"x\",\"y\"],\"data\":{\"x\":[0,1,2,3,4,5,6,7,8,9,10,11,12,13,14,15,16,17,18,19,20,21,22,23,24,25,26,27,28,29,30,31,32,33,34,35,36,37,38,39,40,41,42,43,44,45,46,47,48,49,50,51,52,53,54,55,56,57,58,59,60,61,62,63,64,65,66,67,68,69,70,71,72,73,74,75,76,77,78,79,80,81,82,83,84,85,86,87,88,89,90,91,92,93,94,95,96,97,98,99,100,101,102,103,104,105,106,107,108,109,110,111,112,113,114,115,116,117,118,119,120,121,122,123,124,125,126,127,128,129,130,131,132,133,134,135,136,137,138,139,140,141,142,143,144,145,146,147,148,149,150,151,152,153,154,155,156,157,158,159,160,161,162,163,164,165,166,167,168,169,170,171,172,173,174,175,176,177,178,179,180,181,182,183,184,185,186,187,188,189,190,191,192,193,194,195,196,197,198,199],\"y\":{\"__ndarray__\":\"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\",\"dtype\":\"float64\",\"shape\":[200]}},\"selected\":null,\"selection_policy\":null},\"id\":\"f577e621-7ea5-42eb-8d2c-539d3d91bfcf\",\"type\":\"ColumnDataSource\"},{\"attributes\":{\"line_alpha\":0.1,\"line_color\":\"#1f77b4\",\"line_width\":2,\"x\":{\"field\":\"x\"},\"y\":{\"field\":\"y\"}},\"id\":\"a311bfef-0c3e-4e77-9e2a-f938905acc4d\",\"type\":\"Line\"},{\"attributes\":{\"source\":{\"id\":\"faaed6db-214c-47c2-8562-b26ec78823ec\",\"type\":\"ColumnDataSource\"}},\"id\":\"9f1f062d-c402-4292-9d2f-23cf4f75a3e2\",\"type\":\"CDSView\"},{\"attributes\":{\"line_alpha\":0.5,\"line_color\":\"#ff7f0e\",\"line_width\":2,\"x\":{\"field\":\"x\"},\"y\":{\"field\":\"y\"}},\"id\":\"02bffb66-5558-49ff-bd07-80bba75d645b\",\"type\":\"Line\"},{\"attributes\":{\"toolbar\":{\"id\":\"3614f4b6-460f-47a8-bed0-904000e2fba8\",\"type\":\"ProxyToolbar\"},\"toolbar_location\":\"above\"},\"id\":\"b2982fe1-8410-4c79-902f-fab0d8e9a5b5\",\"type\":\"ToolbarBox\"},{\"attributes\":{\"source\":{\"id\":\"f577e621-7ea5-42eb-8d2c-539d3d91bfcf\",\"type\":\"ColumnDataSource\"}},\"id\":\"c8a798f0-62e5-4445-90b3-ffef4cf0c889\",\"type\":\"CDSView\"},{\"attributes\":{\"data_source\":{\"id\":\"f577e621-7ea5-42eb-8d2c-539d3d91bfcf\",\"type\":\"ColumnDataSource\"},\"glyph\":{\"id\":\"02bffb66-5558-49ff-bd07-80bba75d645b\",\"type\":\"Line\"},\"hover_glyph\":null,\"muted_glyph\":null,\"nonselection_glyph\":{\"id\":\"eeb5c22a-fe2e-4646-9848-21c7b6651377\",\"type\":\"Line\"},\"selection_glyph\":null,\"view\":{\"id\":\"c8a798f0-62e5-4445-90b3-ffef4cf0c889\",\"type\":\"CDSView\"}},\"id\":\"9285cb0e-3a62-4ddd-8da8-3641cccbd7ab\",\"type\":\"GlyphRenderer\"},{\"attributes\":{\"source\":{\"id\":\"5a859729-7c64-44c3-be14-fb8bf9b02509\",\"type\":\"ColumnDataSource\"}},\"id\":\"8697828d-313a-48da-a643-786947a29c16\",\"type\":\"CDSView\"},{\"attributes\":{\"label\":{\"value\":\"Removed\"},\"renderers\":[{\"id\":\"9285cb0e-3a62-4ddd-8da8-3641cccbd7ab\",\"type\":\"GlyphRenderer\"}]},\"id\":\"61b41639-45af-4468-a5e3-28f5e4a8a430\",\"type\":\"LegendItem\"},{\"attributes\":{\"tools\":[{\"id\":\"c3019b08-fdbc-42ef-81d2-5a646e2d581a\",\"type\":\"PanTool\"},{\"id\":\"405d3752-ce9c-495c-96b7-ef10d03d837a\",\"type\":\"WheelZoomTool\"},{\"id\":\"c956dc86-14bb-4829-ba7b-24b81c3d54a4\",\"type\":\"BoxZoomTool\"},{\"id\":\"45d60b32-dc6c-48aa-9b21-cfbcdb3c5329\",\"type\":\"SaveTool\"},{\"id\":\"8f3fd144-7c07-4f62-8e92-f7f674a49574\",\"type\":\"ResetTool\"},{\"id\":\"88c0f066-6c27-45e4-884d-6e0cf9253f9a\",\"type\":\"HelpTool\"},{\"id\":\"ebf47348-81c0-4729-ad91-e14a9d10e737\",\"type\":\"PanTool\"},{\"id\":\"7320714f-e7c1-4a58-89ca-5c2970946897\",\"type\":\"WheelZoomTool\"},{\"id\":\"e70f470c-36aa-4668-9e67-da57818eacfe\",\"type\":\"BoxZoomTool\"},{\"id\":\"663a0708-e81a-4f8c-ace2-480647311720\",\"type\":\"SaveTool\"},{\"id\":\"8f531965-3ad2-44ff-8499-40efa1099666\",\"type\":\"ResetTool\"},{\"id\":\"5a6f4eac-9650-44e1-87da-4cf35e6090f2\",\"type\":\"HelpTool\"}]},\"id\":\"3614f4b6-460f-47a8-bed0-904000e2fba8\",\"type\":\"ProxyToolbar\"},{\"attributes\":{\"line_alpha\":0.1,\"line_color\":\"#1f77b4\",\"line_width\":2,\"x\":{\"field\":\"x\"},\"y\":{\"field\":\"y\"}},\"id\":\"eeb5c22a-fe2e-4646-9848-21c7b6651377\",\"type\":\"Line\"},{\"attributes\":{\"children\":[{\"id\":\"09dea55e-17d5-41b4-b094-da2395507dae\",\"subtype\":\"Figure\",\"type\":\"Plot\"},{\"id\":\"b4bba1e1-4a34-4d7c-9b82-bcb18435f9bc\",\"subtype\":\"Figure\",\"type\":\"Plot\"}]},\"id\":\"8e7e4ee5-31ef-43ea-97ae-0379cfa13501\",\"type\":\"Row\"},{\"attributes\":{\"callback\":null,\"column_names\":[\"x\",\"y\"],\"data\":{\"x\":[0,1,2,3,4,5,6,7,8,9,10,11,12,13,14,15,16,17,18,19,20,21,22,23,24,25,26,27,28,29,30,31,32,33,34,35,36,37,38,39,40,41,42,43,44,45,46,47,48,49,50,51,52,53,54,55,56,57,58,59,60,61,62,63,64,65,66,67,68,69,70,71,72,73,74,75,76,77,78,79,80,81,82,83,84,85,86,87,88,89,90,91,92,93,94,95,96,97,98,99,100,101,102,103,104,105,106,107,108,109,110,111,112,113,114,115,116,117,118,119,120,121,122,123,124,125,126,127,128,129,130,131,132,133,134,135,136,137,138,139,140,141,142,143,144,145,146,147,148,149,150,151,152,153,154,155,156,157,158,159,160,161,162,163,164,165,166,167,168,169,170,171,172,173,174,175,176,177,178,179,180,181,182,183,184,185,186,187,188,189,190,191,192,193,194,195,196,197,198,199],\"y\":{\"__ndarray__\":\"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\",\"dtype\":\"float64\",\"shape\":[200]}},\"selected\":null,\"selection_policy\":null},\"id\":\"025d9274-ee42-4454-a668-0859242bff65\",\"type\":\"ColumnDataSource\"},{\"attributes\":{\"below\":[{\"id\":\"1387fb58-98f9-44e1-87b7-9b07a731d803\",\"type\":\"LinearAxis\"},{\"id\":\"f91d51f5-a194-4272-8c36-711b988e606e\",\"type\":\"Title\"}],\"left\":[{\"id\":\"2a96501a-b8e8-4e22-a741-110913c6cba1\",\"type\":\"LinearAxis\"}],\"plot_height\":400,\"plot_width\":400,\"renderers\":[{\"id\":\"1387fb58-98f9-44e1-87b7-9b07a731d803\",\"type\":\"LinearAxis\"},{\"id\":\"634a860b-cbb9-4531-bc56-642b1c23e870\",\"type\":\"Grid\"},{\"id\":\"2a96501a-b8e8-4e22-a741-110913c6cba1\",\"type\":\"LinearAxis\"},{\"id\":\"dbe3b2f5-91a0-4f1d-bdb9-0d3aea20016d\",\"type\":\"Grid\"},{\"id\":\"ecbb3b2e-c6fa-4275-9f01-dcfdc1ae5965\",\"type\":\"BoxAnnotation\"},{\"id\":\"aa7d6c2a-17b3-4808-ac94-c4990ba0411e\",\"type\":\"Legend\"},{\"id\":\"e4664681-9bf4-4e86-b1ed-f43289339529\",\"type\":\"GlyphRenderer\"},{\"id\":\"759e9a93-ffc6-4a62-9109-1512d847de37\",\"type\":\"GlyphRenderer\"},{\"id\":\"ce016e5f-3666-4992-bb80-320b1c3714bf\",\"type\":\"GlyphRenderer\"},{\"id\":\"f91d51f5-a194-4272-8c36-711b988e606e\",\"type\":\"Title\"}],\"title\":{\"id\":\"e32a3f53-2e94-4cc2-b670-01b52d7f39f5\",\"type\":\"Title\"},\"toolbar\":{\"id\":\"22d7b51e-84e7-488c-8074-aeca1aaecd6e\",\"type\":\"Toolbar\"},\"toolbar_location\":null,\"x_range\":{\"id\":\"5d129236-da91-4f95-85b7-f9cdad8d46a9\",\"type\":\"DataRange1d\"},\"x_scale\":{\"id\":\"66746b19-7c48-45fb-af3d-9018dcfefdd0\",\"type\":\"LinearScale\"},\"y_range\":{\"id\":\"6e12a25b-644a-49fa-8563-20193cd2ce9f\",\"type\":\"DataRange1d\"},\"y_scale\":{\"id\":\"9b0ca204-22a1-4bee-843a-ec2454432ec6\",\"type\":\"LinearScale\"}},\"id\":\"b4bba1e1-4a34-4d7c-9b82-bcb18435f9bc\",\"subtype\":\"Figure\",\"type\":\"Plot\"},{\"attributes\":{\"axis_label\":\"Iterations\",\"formatter\":{\"id\":\"873c54e7-45d1-42a9-99e3-976e7c690b2a\",\"type\":\"BasicTickFormatter\"},\"plot\":{\"id\":\"b4bba1e1-4a34-4d7c-9b82-bcb18435f9bc\",\"subtype\":\"Figure\",\"type\":\"Plot\"},\"ticker\":{\"id\":\"df9af9b9-487c-497f-b846-e8a2145592a9\",\"type\":\"BasicTicker\"}},\"id\":\"1387fb58-98f9-44e1-87b7-9b07a731d803\",\"type\":\"LinearAxis\"},{\"attributes\":{\"line_alpha\":0.5,\"line_color\":\"#1f77b4\",\"line_width\":2,\"x\":{\"field\":\"x\"},\"y\":{\"field\":\"y\"}},\"id\":\"3caf36b6-0607-4d3f-aa6d-b6613a9bb9ec\",\"type\":\"Line\"},{\"attributes\":{\"active_drag\":\"auto\",\"active_inspect\":\"auto\",\"active_scroll\":\"auto\",\"active_tap\":\"auto\",\"tools\":[{\"id\":\"ebf47348-81c0-4729-ad91-e14a9d10e737\",\"type\":\"PanTool\"},{\"id\":\"7320714f-e7c1-4a58-89ca-5c2970946897\",\"type\":\"WheelZoomTool\"},{\"id\":\"e70f470c-36aa-4668-9e67-da57818eacfe\",\"type\":\"BoxZoomTool\"},{\"id\":\"663a0708-e81a-4f8c-ace2-480647311720\",\"type\":\"SaveTool\"},{\"id\":\"8f531965-3ad2-44ff-8499-40efa1099666\",\"type\":\"ResetTool\"},{\"id\":\"5a6f4eac-9650-44e1-87da-4cf35e6090f2\",\"type\":\"HelpTool\"}]},\"id\":\"22d7b51e-84e7-488c-8074-aeca1aaecd6e\",\"type\":\"Toolbar\"},{\"attributes\":{\"callback\":null},\"id\":\"5d129236-da91-4f95-85b7-f9cdad8d46a9\",\"type\":\"DataRange1d\"},{\"attributes\":{},\"id\":\"df9af9b9-487c-497f-b846-e8a2145592a9\",\"type\":\"BasicTicker\"},{\"attributes\":{\"callback\":null,\"column_names\":[\"x\",\"y\"],\"data\":{\"x\":[0,1,2,3,4,5,6,7,8,9,10,11,12,13,14,15,16,17,18,19,20,21,22,23,24,25,26,27,28,29,30,31,32,33,34,35,36,37,38,39,40,41,42,43,44,45,46,47,48,49,50,51,52,53,54,55,56,57,58,59,60,61,62,63,64,65,66,67,68,69,70,71,72,73,74,75,76,77,78,79,80,81,82,83,84,85,86,87,88,89,90,91,92,93,94,95,96,97,98,99,100,101,102,103,104,105,106,107,108,109,110,111,112,113,114,115,116,117,118,119,120,121,122,123,124,125,126,127,128,129,130,131,132,133,134,135,136,137,138,139,140,141,142,143,144,145,146,147,148,149,150,151,152,153,154,155,156,157,158,159,160,161,162,163,164,165,166,167,168,169,170,171,172,173,174,175,176,177,178,179,180,181,182,183,184,185,186,187,188,189,190,191,192,193,194,195,196,197,198,199],\"y\":{\"__ndarray__\":\"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\",\"dtype\":\"float64\",\"shape\":[200]}},\"selected\":null,\"selection_policy\":null},\"id\":\"748068b4-fa87-4916-846f-571b234dafbf\",\"type\":\"ColumnDataSource\"},{\"attributes\":{\"callback\":null},\"id\":\"6e12a25b-644a-49fa-8563-20193cd2ce9f\",\"type\":\"DataRange1d\"},{\"attributes\":{},\"id\":\"66746b19-7c48-45fb-af3d-9018dcfefdd0\",\"type\":\"LinearScale\"},{\"attributes\":{},\"id\":\"9b0ca204-22a1-4bee-843a-ec2454432ec6\",\"type\":\"LinearScale\"},{\"attributes\":{\"grid_line_alpha\":{\"value\":0.5},\"plot\":{\"id\":\"b4bba1e1-4a34-4d7c-9b82-bcb18435f9bc\",\"subtype\":\"Figure\",\"type\":\"Plot\"},\"ticker\":{\"id\":\"df9af9b9-487c-497f-b846-e8a2145592a9\",\"type\":\"BasicTicker\"}},\"id\":\"634a860b-cbb9-4531-bc56-642b1c23e870\",\"type\":\"Grid\"}],\"root_ids\":[\"e4cd96da-9f02-4b48-860c-3f8857e119c6\"]},\"title\":\"Bokeh Application\",\"version\":\"0.12.15\"}};\n",
       "  var render_items = [{\"docid\":\"9ac89edb-c505-4df1-ab89-e7589052e7f8\",\"elementid\":\"7590f12b-8c1d-43a2-ae16-39150ea88ce3\",\"modelid\":\"e4cd96da-9f02-4b48-860c-3f8857e119c6\"}];\n",
       "  root.Bokeh.embed.embed_items_notebook(docs_json, render_items);\n",
       "\n",
       "  }\n",
       "  if (root.Bokeh !== undefined) {\n",
       "    embed_document(root);\n",
       "  } else {\n",
       "    var attempts = 0;\n",
       "    var timer = setInterval(function(root) {\n",
       "      if (root.Bokeh !== undefined) {\n",
       "        embed_document(root);\n",
       "        clearInterval(timer);\n",
       "      }\n",
       "      attempts++;\n",
       "      if (attempts > 100) {\n",
       "        console.log(\"Bokeh: ERROR: Unable to run BokehJS code because BokehJS library is missing\")\n",
       "        clearInterval(timer);\n",
       "      }\n",
       "    }, 10, root)\n",
       "  }\n",
       "})(window);"
      ],
      "application/vnd.bokehjs_exec.v0+json": ""
     },
     "metadata": {
      "application/vnd.bokehjs_exec.v0+json": {
       "id": "e4cd96da-9f02-4b48-860c-3f8857e119c6"
      }
     },
     "output_type": "display_data"
    }
   ],
   "source": [
    "from ndlib.viz.bokeh.MultiPlot import MultiPlot\n",
    "vm = MultiPlot()\n",
    "vm.add_plot(p)\n",
    "vm.add_plot(p2)\n",
    "m = vm.plot()\n",
    "show(m)"
   ]
  },
  {
   "cell_type": "code",
   "execution_count": null,
   "metadata": {},
   "outputs": [],
   "source": []
  }
 ],
 "metadata": {
  "kernelspec": {
   "display_name": "Python [default]",
   "language": "python",
   "name": "python3"
  },
  "language_info": {
   "codemirror_mode": {
    "name": "ipython",
    "version": 3
   },
   "file_extension": ".py",
   "mimetype": "text/x-python",
   "name": "python",
   "nbconvert_exporter": "python",
   "pygments_lexer": "ipython3",
   "version": "3.6.5"
  }
 },
 "nbformat": 4,
 "nbformat_minor": 2
}
