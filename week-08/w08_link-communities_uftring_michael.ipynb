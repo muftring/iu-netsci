{
 "cells": [
  {
   "cell_type": "markdown",
   "metadata": {},
   "source": [
    "# Link communities\n",
    "For this assignment we will take a look at link communities and how they differ from node communities. In order to do this we will use the algorithm discussed in the reading (\"Link communities reveal multiscale complexity in networks\") and link community video from canvas.\n",
    "\n",
    "A small python module has been prepared that will allow you to use the link community algorithm with Anaconda and Python 3.5. To install the module you want to open a terminal or shell and use:\n",
    "\n",
    "```\n",
    "pip install git+https://github.com/Nathaniel-Rodriguez/linkcom.git\n",
    "```\n",
    "\n",
    "This will install the package locally in your Anaconda site-packages directory (the same place where the `conda` command would install new packages). Make sure you have [git](https://git-scm.com/) installed first. If you are using Windows you will need to use the Anaconda command prompt when using pip, so that it adds the package to Anaconda. If you have trouble installing the package you can just unpack the zip file from the [github repository](https://github.com/Nathaniel-Rodriguez/linkcom/tree/master/linkcom) and put the linkcom folder in your working directory.\n",
    "\n",
    "To use the package you can do:"
   ]
  },
  {
   "cell_type": "code",
   "execution_count": 1,
   "metadata": {
    "collapsed": true
   },
   "outputs": [],
   "source": [
    "import linkcom"
   ]
  },
  {
   "cell_type": "markdown",
   "metadata": {},
   "source": [
    "The code has been adapted so that it will work with networkx graphs. The link communities algorithm requires simple undirected graphs to use. This means there can't be any self-loops or parallel edges. However, you can use weighted graphs."
   ]
  },
  {
   "cell_type": "code",
   "execution_count": 2,
   "metadata": {},
   "outputs": [
    {
     "name": "stdout",
     "output_type": "stream",
     "text": [
      "Graph\n"
     ]
    }
   ],
   "source": [
    "# First lets import networkx\n",
    "import networkx as nx\n",
    "\n",
    "# And generate a new graph\n",
    "my_graph = nx.erdos_renyi_graph(100, 0.1)\n",
    "\n",
    "# We need to make sure this is a graph of type Graph\n",
    "print(type(my_graph).__name__)"
   ]
  },
  {
   "cell_type": "markdown",
   "metadata": {},
   "source": [
    "If the graph you load in isn't of type Graph (it maybe a Multigraph or DiGraph), it is easy to convert it to one:"
   ]
  },
  {
   "cell_type": "code",
   "execution_count": 3,
   "metadata": {
    "collapsed": true
   },
   "outputs": [],
   "source": [
    "my_graph = nx.Graph(my_graph)"
   ]
  },
  {
   "cell_type": "markdown",
   "metadata": {},
   "source": [
    "## Using linkcom\n",
    "Now lets call the `cluster` method in `linkcom` to cluster the links of the graph. The `cluster` method takes several optional arguments:\n",
    "\n",
    "```\n",
    "linkcom.cluster(nx_graph, threshold=None, is_weighted=False, weight_key='weight', dendro_flag=False, to_file=False, basename=\"clustering\", delimiter='\\t')\n",
    "```\n",
    "\n",
    "`Threshold`: sets the cut-off for the dendrogram.\n",
    "\n",
    "`is_weighted`: can be `True` or `False` depending upon whether the graph has weights or not. Set this to `True` if the graph is weighted.\n",
    "\n",
    "`weight_key`: specifies what attribute the edges have that has weight values. In networkx it is convention that this key be set to `weight`. Most functions in networkx will assume this is the key. This is also the default value for the cluster method.\n",
    "\n",
    "`dendro_flag`: specifies whether to return the dendrogram (only applicable if the graph is unweighted and no threshold is given).\n",
    "\n",
    "`to_file`: specifies whether to write the outputs to file. Several files will be written and given names based on `basename` with elements separated by `delimiter`. \n",
    "\n",
    "These outputs will be written to file:\n",
    "\n",
    "```\n",
    "Three text files with extensions .edge2comm.txt, .comm2edges.txt,\n",
    "and .comm2nodes.txt store the communities.\n",
    "\n",
    "edge2comm, an edge on each line followed by the community\n",
    "id (cid) of the edge's link comm:\n",
    "node_i <delimiter> node_j <delimiter> cid <newline>\n",
    "\n",
    "comm2edges, a list of edges representing one community per line:\n",
    "cid <delimiter> ni,nj <delimiter> nx,ny [...] <newline>\n",
    "\n",
    "comm2nodes, a list of nodes representing one community per line:\n",
    "cid <delimiter> ni <delimiter> nj [...] <newline>\n",
    "\n",
    "The output filename contains the threshold at which the dendrogram\n",
    "was cut, if applicable, or the threshold where the maximum\n",
    "partition density was found, and the value of the partition \n",
    "density.\n",
    "\n",
    "If no threshold was given to cut the dendrogram, a file ending with\n",
    "'_thr_D.txt' is generated, containing the partition density as a\n",
    "function of clustering threshold.\n",
    "\n",
    "If the dendrogram option was given, two files are generated. One with\n",
    "'.cid2edge.txt' records the id of each edge and the other one with\n",
    "'.linkage.txt' stores the linkage structure of the hierarchical \n",
    "clustering. In the linkage file, the edge in the first column is \n",
    "merged with the one in the second at the similarity value in the \n",
    "third column.\n",
    "```\n",
    "\n",
    "The cluster method will return a tuple with different elements:\n",
    "\n",
    "    If no threshold is given, then a tuple is returned with: (dict) dictionary with keys=edges and values=community membership, (float) best similarity, (float) best partition density, (list) partition density list.\n",
    "\n",
    "    If dendro_flag is given (only applicable if no threshold), then a tuple is returned with: (dict) dictionary with keys=edges and values=community membership, (float) best similarity, (float) best partition density, (list) partition density list, (dict) keys=edges and values=community membership for original, (list) dendrogram.\n",
    "\n",
    "    If threshold is given a tuple is returned with: (dict) dictionary with keys=edges and values=community membership, partition density at threshold.\n",
    "\n",
    "You will mostly just be interested in using the dictionary which contains the community assignment data, which is always the first element of the tuple. Lets do a short example:"
   ]
  },
  {
   "cell_type": "code",
   "execution_count": 4,
   "metadata": {},
   "outputs": [
    {
     "name": "stdout",
     "output_type": "stream",
     "text": [
      "clustering...\n",
      "computing similarities...\n",
      "# D_max = 0.078541\n",
      "# S_max = 0.000000\n"
     ]
    }
   ],
   "source": [
    "e2c, S, D, Dlist = linkcom.cluster(my_graph)"
   ]
  },
  {
   "cell_type": "markdown",
   "metadata": {},
   "source": [
    "If we print `e2c` we will see that each edge has a community membership:"
   ]
  },
  {
   "cell_type": "code",
   "execution_count": 5,
   "metadata": {},
   "outputs": [
    {
     "name": "stdout",
     "output_type": "stream",
     "text": [
      "{(14, 74): 299, (3, 35): 299, (86, 90): 299, (26, 94): 299, (9, 62): 299, (72, 92): 299, (30, 51): 299, (1, 64): 299, (50, 84): 299, (65, 84): 299, (14, 31): 299, (38, 40): 299, (20, 75): 299, (29, 96): 299, (49, 58): 299, (7, 98): 299, (35, 65): 299, (56, 58): 299, (70, 94): 299, (23, 53): 299, (54, 61): 299, (7, 22): 299, (26, 89): 299, (27, 93): 299, (24, 73): 299, (49, 71): 299, (31, 51): 299, (26, 67): 299, (6, 67): 299, (3, 95): 299, (36, 55): 299, (2, 99): 299, (8, 18): 299, (65, 71): 299, (18, 62): 299, (43, 69): 299, (44, 77): 299, (1, 15): 299, (23, 84): 299, (15, 43): 299, (21, 68): 299, (32, 68): 299, (0, 90): 299, (11, 72): 299, (20, 21): 299, (24, 80): 299, (33, 59): 299, (38, 90): 299, (42, 84): 299, (47, 73): 299, (33, 67): 299, (14, 95): 299, (80, 98): 299, (22, 36): 299, (27, 43): 299, (74, 97): 299, (25, 79): 299, (8, 58): 299, (31, 33): 299, (79, 91): 299, (74, 75): 299, (10, 48): 299, (13, 37): 299, (18, 48): 299, (56, 96): 299, (7, 73): 299, (18, 67): 299, (0, 50): 299, (46, 70): 299, (3, 31): 299, (32, 72): 299, (22, 63): 299, (5, 29): 299, (12, 72): 299, (33, 53): 299, (52, 88): 299, (29, 68): 299, (35, 49): 299, (5, 72): 299, (30, 64): 299, (19, 93): 299, (45, 59): 299, (7, 92): 299, (42, 96): 299, (46, 73): 299, (15, 44): 299, (53, 60): 299, (10, 83): 299, (6, 21): 299, (8, 40): 299, (49, 99): 299, (11, 85): 299, (62, 83): 299, (59, 63): 299, (36, 43): 299, (49, 69): 299, (37, 42): 299, (40, 75): 299, (43, 54): 299, (8, 20): 299, (30, 75): 299, (13, 49): 299, (18, 60): 299, (32, 96): 299, (46, 80): 299, (25, 56): 299, (8, 64): 299, (21, 66): 299, (61, 98): 299, (3, 19): 299, (1, 39): 299, (23, 76): 299, (82, 85): 299, (5, 41): 299, (11, 74): 299, (38, 70): 299, (12, 43): 299, (4, 88): 299, (13, 42): 299, (20, 91): 299, (9, 26): 299, (38, 50): 299, (15, 20): 299, (11, 28): 299, (44, 70): 299, (12, 31): 299, (15, 50): 299, (2, 5): 299, (14, 93): 299, (27, 55): 299, (10, 69): 299, (73, 97): 299, (37, 75): 299, (14, 71): 299, (70, 96): 299, (62, 93): 299, (33, 50): 299, (6, 25): 299, (30, 42): 299, (73, 75): 299, (15, 73): 299, (63, 67): 299, (4, 71): 299, (41, 52): 299, (41, 69): 299, (85, 96): 299, (0, 52): 299, (24, 49): 299, (20, 37): 299, (12, 74): 299, (70, 91): 299, (30, 45): 299, (73, 76): 299, (82, 97): 299, (5, 37): 299, (55, 63): 299, (30, 55): 299, (42, 58): 299, (74, 90): 299, (39, 41): 299, (13, 54): 299, (44, 52): 299, (41, 78): 299, (69, 76): 299, (22, 69): 299, (15, 46): 299, (2, 49): 299, (0, 33): 299, (6, 11): 299, (72, 97): 299, (87, 93): 299, (29, 33): 299, (23, 47): 299, (34, 37): 299, (17, 27): 299, (15, 99): 299, (13, 47): 299, (20, 94): 299, (44, 51): 299, (24, 25): 299, (48, 54): 299, (6, 89): 299, (55, 67): 299, (50, 52): 299, (18, 77): 299, (58, 84): 299, (32, 88): 299, (14, 88): 299, (25, 32): 299, (57, 64): 299, (87, 90): 299, (7, 11): 299, (14, 66): 299, (61, 90): 299, (23, 36): 299, (36, 92): 299, (7, 33): 299, (13, 78): 299, (11, 34): 299, (9, 54): 299, (27, 76): 299, (42, 44): 299, (3, 72): 299, (28, 64): 299, (18, 68): 299, (46, 67): 299, (3, 26): 299, (69, 98): 299, (21, 51): 299, (52, 55): 299, (61, 83): 299, (6, 31): 299, (26, 81): 299, (38, 81): 299, (50, 87): 299, (13, 33): 299, (74, 81): 299, (38, 43): 299, (41, 75): 299, (44, 85): 299, (20, 57): 299, (10, 74): 299, (51, 61): 299, (9, 94): 299, (4, 34): 299, (7, 23): 299, (32, 34): 299, (55, 57): 299, (24, 72): 299, (16, 37): 299, (2, 72): 299, (8, 17): 299, (19, 97): 299, (41, 76): 299, (24, 58): 299, (57, 91): 299, (9, 71): 299, (57, 61): 299, (72, 99): 299, (37, 69): 299, (87, 95): 299, (23, 41): 299, (36, 87): 299, (10, 46): 299, (17, 25): 299, (18, 30): 299, (40, 79): 299, (28, 75): 299, (76, 77): 299, (5, 71): 299, (40, 85): 299, (45, 48): 299, (56, 88): 299, (7, 81): 299, (41, 95): 299, (12, 28): 299, (27, 28): 299, (21, 78): 299, (35, 76): 299, (20, 53): 299, (80, 97): 299, (26, 37): 299, (0, 80): 299, (33, 61): 299, (6, 60): 299, (4, 68): 299, (17, 52): 299, (24, 98): 299, (6, 86): 299, (40, 92): 299, (15, 16): 299, (0, 49): 299, (32, 81): 299, (51, 54): 299, (23, 65): 299, (15, 36): 299, (25, 47): 299, (0, 87): 299, (32, 55): 299, (24, 93): 299, (33, 54): 299, (86, 91): 299, (34, 53): 299, (7, 24): 299, (50, 85): 299, (74, 95): 299, (5, 73): 299, (12, 52): 299, (43, 62): 299, (5, 83): 299, (45, 60): 299, (7, 93): 299, (24, 53): 299, (33, 94): 299, (50, 62): 299, (22, 49): 299, (5, 7): 299, (60, 63): 299, (17, 38): 299, (7, 47): 299, (49, 70): 299, (40, 74): 299, (43, 55): 299, (49, 88): 299, (13, 50): 299, (5, 92): 299, (66, 90): 299, (67, 88): 299, (0, 15): 299, (3, 10): 299, (19, 47): 299, (80, 86): 299, (85, 95): 299, (14, 85): 299, (6, 15): 299, (47, 48): 299, (87, 89): 299, (2, 39): 299, (0, 91): 299, (22, 34): 299, (12, 91): 299, (81, 96): 299, (36, 81): 299, (17, 31): 299, (13, 81): 299, (9, 49): 299, (18, 28): 299, (16, 52): 299, (3, 71): 299, (30, 77): 299, (7, 83): 299, (60, 96): 299, (58, 80): 299, (0, 60): 299, (32, 92): 299, (2, 62): 299, (11, 64): 299, (12, 82): 299, (6, 24): 299, (63, 64): 299, (79, 90): 299, (49, 74): 299, (29, 74): 299, (5, 78): 299, (10, 27): 299, (20, 79): 299, (18, 64): 299, (32, 83): 299, (10, 79): 299, (66, 96): 299, (58, 69): 299, (2, 57): 299, (26, 42): 299, (82, 96): 299, (36, 71): 299, (28, 36): 299, (0, 79): 299, (61, 73): 299, (24, 69): 299, (16, 34): 299, (34, 45): 299, (42, 61): 299, (16, 56): 299, (39, 46): 299, (76, 91): 299, (7, 65): 299, (2, 22): 299, (43, 65): 299, (0, 10): 299, (55, 97): 299, (18, 85): 299, (59, 98): 299, (25, 54): 299, (26, 53): 299, (13, 98): 299, (22, 55): 299, (23, 54): 299, (12, 94): 299, (38, 76): 299, (28, 82): 299, (53, 86): 299, (9, 16): 299, (18, 61): 299, (5, 90): 299, (48, 53): 299, (43, 70): 299, (41, 90): 299, (3, 12): 299, (2, 11): 299, (0, 39): 299, (61, 97): 299, (27, 49): 299, (4, 21): 299, (35, 81): 299, (79, 95): 299, (53, 95): 299, (4, 89): 299, (29, 79): 299, (55, 89): 299, (6, 83): 299, (20, 66): 299, (42, 83): 299, (17, 99): 299, (70, 79): 299, (18, 97): 299, (27, 54): 299, (69, 99): 299, (2, 60): 299, (32, 52): 299, (32, 42): 299, (29, 46): 299, (61, 78): 299, (4, 64): 299, (51, 72): 299, (0, 96): 299, (78, 80): 299, (43, 61): 299, (15, 28): 299, (44, 62): 299, (42, 90): 299, (16, 82): 299, (21, 83): 299, (56, 73): 299, (19, 63): 299, (32, 85): 299, (68, 82): 299, (58, 67): 299, (84, 93): 299, (5, 26): 299, (23, 59): 299, (73, 85): 299, (34, 43): 299, (50, 81): 299, (63, 81): 299, (38, 45): 299, (12, 48): 299, (40, 71): 299, (49, 91): 299, (64, 93): 299, (0, 22): 299, (3, 99): 299, (45, 56): 299, (17, 93): 299, (83, 88): 299, (55, 99): 299, (68, 89): 299, (1, 9): 299, (10, 94): 299, (15, 94): 299, (7, 13): 299, (27, 80): 299, (24, 78): 299, (16, 27): 299, (23, 46): 299, (4, 54): 299, (6, 68): 299, (30, 78): 299, (22, 93): 299, (20, 69): 299, (32, 99): 299, (18, 74): 299, (8, 67): 299, (64, 96): 299, (10, 89): 299, (25, 39): 299, (19, 25): 299, (26, 36): 299, (3, 58): 299, (15, 77): 299, (16, 40): 299, (12, 38): 299, (53, 93): 299, (74, 87): 299, (0, 26): 299, (15, 63): 299, (17, 97): 299, (56, 68): 299, (0, 48): 299, (32, 80): 299, (70, 77): 299}\n"
     ]
    }
   ],
   "source": [
    "print(e2c)"
   ]
  },
  {
   "cell_type": "markdown",
   "metadata": {},
   "source": [
    "Since this is a random graph, we expect there not to be any meaningful communities, and indeed they are all labelled `56` (the community ID), so there doesn't appear to be any link communities in the graph.\n",
    "\n",
    "We can now readily take our results and put them back into our graph so that it can be saved and viewed in Gephi. We can do this using the [`set_edge_attributes`](https://networkx.github.io/documentation/stable/reference/generated/networkx.classes.function.set_edge_attributes.html?highlight=set_edge_attributes#networkx.classes.function.set_edge_attributes) function in networkx. It works just like the `set_node_attributes` function from previuos assignments, but with edges instead:"
   ]
  },
  {
   "cell_type": "code",
   "execution_count": 6,
   "metadata": {},
   "outputs": [],
   "source": [
    "# Put the link communities into the graph\n",
    "# Note this function's syntax depends on the networkx version.\n",
    "# If you use networkx 1.9 and below this line should be\n",
    "# nx.set_edge_attributes(my_graph, \"linkcom\", e2c)\n",
    "nx.set_edge_attributes(my_graph, e2c, \"linkcom\")\n",
    "\n",
    "# Save the graph to file\n",
    "nx.write_gexf(my_graph, \"my_graph.gexf\")"
   ]
  },
  {
   "cell_type": "markdown",
   "metadata": {},
   "source": [
    "Now if we were to open the graph in Gephi we should be able to use the link communities to color the graph edges. In Gephi you may need to click the little attribute type button so that edge attributes are set to [ranked rather than numeric](https://gephi.org/tutorials/gephi-tutorial-quick_start.pdf). This is because we want to color the edges according to their membership and not with a gradient. Additionally, in order to keep the edge colors when saving the graph you will need to make sure the edge color in the Preview tab is set to `original`. Lastly, since you will be looking at link communities (which determine the node membership in link clustering) it will be helpful to increase the size of the edges in Gephi so the colors are more visible and so you can detect nodes that belong to multiple communities.\n",
    "\n",
    "## The network science collaboration graph\n",
    "You will be using the NetSci collaboration graph for your assignment. The nodes of the graph are people and links are formed between people who co-author a scientific paper together in network science. You can download it from [here](http://vlado.fmf.uni-lj.si/pub/networks/data/collab/netscience.htm). Make sure to read the graph description on that page. The graph has ~1500 nodes and is partly disconnected. If you have difficulty working with the full graph or trouble loading it into Gephi, you can use the largest connected component (which only has about 350 nodes). The largest connected component of a graph can be returned from networkx using:\n",
    "\n",
    "```\n",
    "largest_component=max(nx.connected_component_subgraphs(my_graph), key=len)\n",
    "```\n",
    "\n",
    "Most of the interesting stuff is happening around this component anyway. So you don't lose much except for the scientists and groups that decided to work alone.\n",
    "\n",
    "Follow these steps for the assignment:\n",
    "\n",
    "1. Load the Netsci graph and run the link communities clustering algorithm on it.\n",
    "2. Save the link communities to the graph and save the graph to file.\n",
    "3. In Gephi choose a good layout for the graph.\n",
    "4. Run the modularity command to generate communities for the nodes.\n",
    "5. Color the edges according to the link communities and the nodes according to the communities found by Gephi. Remember to take care in choosing the resolution parameter.\n",
    "6. How well does link clustering do at detecting community structure? How well does Gephi's node modularity do at detecting community structure? What do you think the communities represent?\n",
    "7. What are the similarities and differences between the communities detected by either algorithm?\n",
    "8. Which authors have a prominent position in multiple communities? What do you think these author's roles are?\n",
    "9. What other features do you notice about the graph that are captured with overlaping communities?\n",
    "10. Save your visualization to file.\n",
    "11. Once complete, submit a PDF document to Canvas that contains your responses and your graph visualization (since this is a larger graph feel free to crop the figure so that it only includes parts relevant to your responses)."
   ]
  },
  {
   "cell_type": "code",
   "execution_count": null,
   "metadata": {
    "collapsed": true
   },
   "outputs": [],
   "source": []
  }
 ],
 "metadata": {
  "anaconda-cloud": {},
  "kernelspec": {
   "display_name": "Python 3",
   "language": "python",
   "name": "python3"
  },
  "language_info": {
   "codemirror_mode": {
    "name": "ipython",
    "version": 3
   },
   "file_extension": ".py",
   "mimetype": "text/x-python",
   "name": "python",
   "nbconvert_exporter": "python",
   "pygments_lexer": "ipython3",
   "version": "3.6.3"
  }
 },
 "nbformat": 4,
 "nbformat_minor": 1
}
