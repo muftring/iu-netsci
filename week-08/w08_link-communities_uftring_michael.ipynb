{
 "cells": [
  {
   "cell_type": "markdown",
   "metadata": {},
   "source": [
    "Michael Uftring   \n",
    "Indiana University   \n",
    "Network Science, Spring 2018   \n",
    "Week#8 Assignment - Link Communities   "
   ]
  },
  {
   "cell_type": "markdown",
   "metadata": {},
   "source": [
    "# Link communities\n",
    "For this assignment we will take a look at link communities and how they differ from node communities. In order to do this we will use the algorithm discussed in the reading (\"Link communities reveal multiscale complexity in networks\") and link community video from canvas.\n",
    "\n",
    "A small python module has been prepared that will allow you to use the link community algorithm with Anaconda and Python 3.5. To install the module you want to open a terminal or shell and use:\n",
    "\n",
    "```\n",
    "pip install git+https://github.com/Nathaniel-Rodriguez/linkcom.git\n",
    "```\n",
    "\n",
    "This will install the package locally in your Anaconda site-packages directory (the same place where the `conda` command would install new packages). Make sure you have [git](https://git-scm.com/) installed first. If you are using Windows you will need to use the Anaconda command prompt when using pip, so that it adds the package to Anaconda. If you have trouble installing the package you can just unpack the zip file from the [github repository](https://github.com/Nathaniel-Rodriguez/linkcom/tree/master/linkcom) and put the linkcom folder in your working directory.\n",
    "\n",
    "To use the package you can do:"
   ]
  },
  {
   "cell_type": "code",
   "execution_count": 1,
   "metadata": {},
   "outputs": [],
   "source": [
    "import linkcom"
   ]
  },
  {
   "cell_type": "markdown",
   "metadata": {},
   "source": [
    "The code has been adapted so that it will work with networkx graphs. The link communities algorithm requires simple undirected graphs to use. This means there can't be any self-loops or parallel edges. However, you can use weighted graphs."
   ]
  },
  {
   "cell_type": "code",
   "execution_count": 2,
   "metadata": {},
   "outputs": [
    {
     "name": "stdout",
     "output_type": "stream",
     "text": [
      "Graph\n"
     ]
    }
   ],
   "source": [
    "# First lets import networkx\n",
    "import networkx as nx\n",
    "\n",
    "# And generate a new graph\n",
    "my_graph = nx.erdos_renyi_graph(100, 0.1)\n",
    "\n",
    "# We need to make sure this is a graph of type Graph\n",
    "print(type(my_graph).__name__)"
   ]
  },
  {
   "cell_type": "markdown",
   "metadata": {},
   "source": [
    "If the graph you load in isn't of type Graph (it maybe a Multigraph or DiGraph), it is easy to convert it to one:"
   ]
  },
  {
   "cell_type": "code",
   "execution_count": 3,
   "metadata": {},
   "outputs": [],
   "source": [
    "my_graph = nx.Graph(my_graph)"
   ]
  },
  {
   "cell_type": "markdown",
   "metadata": {},
   "source": [
    "## Using linkcom\n",
    "Now lets call the `cluster` method in `linkcom` to cluster the links of the graph. The `cluster` method takes several optional arguments:\n",
    "\n",
    "```\n",
    "linkcom.cluster(nx_graph, threshold=None, is_weighted=False, weight_key='weight', dendro_flag=False, to_file=False, basename=\"clustering\", delimiter='\\t')\n",
    "```\n",
    "\n",
    "`Threshold`: sets the cut-off for the dendrogram.\n",
    "\n",
    "`is_weighted`: can be `True` or `False` depending upon whether the graph has weights or not. Set this to `True` if the graph is weighted.\n",
    "\n",
    "`weight_key`: specifies what attribute the edges have that has weight values. In networkx it is convention that this key be set to `weight`. Most functions in networkx will assume this is the key. This is also the default value for the cluster method.\n",
    "\n",
    "`dendro_flag`: specifies whether to return the dendrogram (only applicable if the graph is unweighted and no threshold is given).\n",
    "\n",
    "`to_file`: specifies whether to write the outputs to file. Several files will be written and given names based on `basename` with elements separated by `delimiter`. \n",
    "\n",
    "These outputs will be written to file:\n",
    "\n",
    "```\n",
    "Three text files with extensions .edge2comm.txt, .comm2edges.txt,\n",
    "and .comm2nodes.txt store the communities.\n",
    "\n",
    "edge2comm, an edge on each line followed by the community\n",
    "id (cid) of the edge's link comm:\n",
    "node_i <delimiter> node_j <delimiter> cid <newline>\n",
    "\n",
    "comm2edges, a list of edges representing one community per line:\n",
    "cid <delimiter> ni,nj <delimiter> nx,ny [...] <newline>\n",
    "\n",
    "comm2nodes, a list of nodes representing one community per line:\n",
    "cid <delimiter> ni <delimiter> nj [...] <newline>\n",
    "\n",
    "The output filename contains the threshold at which the dendrogram\n",
    "was cut, if applicable, or the threshold where the maximum\n",
    "partition density was found, and the value of the partition \n",
    "density.\n",
    "\n",
    "If no threshold was given to cut the dendrogram, a file ending with\n",
    "'_thr_D.txt' is generated, containing the partition density as a\n",
    "function of clustering threshold.\n",
    "\n",
    "If the dendrogram option was given, two files are generated. One with\n",
    "'.cid2edge.txt' records the id of each edge and the other one with\n",
    "'.linkage.txt' stores the linkage structure of the hierarchical \n",
    "clustering. In the linkage file, the edge in the first column is \n",
    "merged with the one in the second at the similarity value in the \n",
    "third column.\n",
    "```\n",
    "\n",
    "The cluster method will return a tuple with different elements:\n",
    "\n",
    "    If no threshold is given, then a tuple is returned with: (dict) dictionary with keys=edges and values=community membership, (float) best similarity, (float) best partition density, (list) partition density list.\n",
    "\n",
    "    If dendro_flag is given (only applicable if no threshold), then a tuple is returned with: (dict) dictionary with keys=edges and values=community membership, (float) best similarity, (float) best partition density, (list) partition density list, (dict) keys=edges and values=community membership for original, (list) dendrogram.\n",
    "\n",
    "    If threshold is given a tuple is returned with: (dict) dictionary with keys=edges and values=community membership, partition density at threshold.\n",
    "\n",
    "You will mostly just be interested in using the dictionary which contains the community assignment data, which is always the first element of the tuple. Lets do a short example:"
   ]
  },
  {
   "cell_type": "code",
   "execution_count": 4,
   "metadata": {},
   "outputs": [
    {
     "name": "stdout",
     "output_type": "stream",
     "text": [
      "clustering...\n",
      "computing similarities...\n",
      "# D_max = 0.082045\n",
      "# S_max = 0.192308\n"
     ]
    }
   ],
   "source": [
    "e2c, S, D, Dlist = linkcom.cluster(my_graph)"
   ]
  },
  {
   "cell_type": "markdown",
   "metadata": {},
   "source": [
    "If we print `e2c` we will see that each edge has a community membership:"
   ]
  },
  {
   "cell_type": "code",
   "execution_count": 5,
   "metadata": {},
   "outputs": [
    {
     "name": "stdout",
     "output_type": "stream",
     "text": [
      "{(26, 47): 106, (32, 54): 350, (82, 86): 249, (12, 78): 39, (89, 96): 284, (22, 44): 266, (63, 84): 79, (36, 87): 451, (34, 35): 248, (73, 82): 3, (9, 51): 350, (41, 57): 4, (43, 64): 451, (23, 90): 436, (55, 80): 7, (6, 72): 106, (28, 75): 255, (77, 89): 106, (6, 95): 296, (56, 88): 439, (19, 76): 241, (73, 81): 297, (68, 92): 8, (10, 75): 9, (25, 49): 211, (24, 39): 261, (5, 11): 450, (7, 9): 350, (38, 96): 263, (20, 32): 39, (3, 40): 13, (1, 40): 13, (23, 53): 451, (22, 39): 266, (62, 94): 106, (27, 40): 268, (8, 38): 16, (7, 22): 350, (6, 26): 106, (55, 56): 106, (61, 69): 19, (10, 41): 270, (8, 57): 271, (16, 38): 21, (39, 85): 24, (4, 73): 106, (60, 62): 106, (50, 79): 149, (40, 54): 350, (3, 74): 123, (61, 83): 451, (40, 73): 27, (37, 57): 97, (28, 77): 106, (4, 98): 106, (56, 95): 106, (69, 73): 29, (16, 75): 30, (17, 83): 31, (66, 72): 106, (56, 69): 280, (18, 81): 33, (0, 49): 325, (92, 98): 106, (46, 65): 106, (70, 82): 172, (66, 98): 106, (21, 49): 286, (4, 31): 287, (3, 17): 34, (34, 91): 288, (26, 44): 289, (57, 60): 394, (61, 81): 290, (27, 33): 291, (8, 45): 37, (35, 53): 237, (20, 21): 332, (12, 90): 39, (9, 40): 40, (15, 85): 292, (0, 77): 106, (39, 82): 41, (4, 48): 135, (35, 40): 13, (72, 97): 173, (24, 67): 295, (6, 55): 296, (48, 90): 111, (65, 77): 106, (72, 80): 44, (36, 62): 45, (42, 63): 394, (31, 70): 47, (26, 81): 219, (31, 83): 397, (45, 60): 106, (67, 83): 60, (83, 87): 451, (30, 79): 254, (16, 88): 451, (33, 94): 106, (19, 53): 49, (58, 78): 308, (80, 95): 7, (34, 82): 310, (32, 78): 39, (20, 33): 106, (1, 47): 226, (14, 65): 50, (34, 76): 315, (81, 90): 39, (9, 38): 316, (63, 65): 106, (58, 79): 90, (60, 63): 106, (9, 59): 350, (7, 47): 350, (40, 55): 54, (53, 91): 451, (31, 80): 7, (49, 75): 58, (65, 81): 219, (28, 67): 60, (11, 61): 61, (9, 29): 350, (74, 85): 63, (13, 50): 320, (19, 99): 321, (77, 94): 106, (64, 67): 74, (31, 85): 66, (45, 53): 323, (33, 98): 106, (70, 79): 407, (12, 20): 39, (44, 78): 324, (66, 73): 106, (83, 84): 451, (2, 30): 106, (71, 93): 405, (58, 73): 326, (85, 95): 66, (33, 73): 106, (14, 85): 329, (34, 88): 394, (35, 90): 73, (3, 5): 307, (87, 89): 450, (59, 64): 74, (23, 43): 451, (13, 68): 75, (21, 23): 332, (4, 49): 386, (13, 81): 202, (54, 82): 379, (51, 56): 325, (27, 75): 335, (41, 63): 77, (6, 59): 336, (90, 91): 436, (43, 44): 337, (42, 60): 394, (20, 90): 39, (11, 89): 450, (24, 29): 226, (30, 64): 451, (38, 61): 340, (84, 88): 451, (5, 82): 82, (49, 56): 325, (56, 77): 106, (33, 93): 106, (47, 69): 87, (37, 98): 342, (10, 73): 89, (33, 66): 106, (4, 7): 350, (31, 69): 183, (26, 52): 106, (62, 73): 106, (62, 92): 45, (2, 45): 106, (81, 89): 346, (30, 37): 451, (24, 73): 396, (0, 72): 106, (30, 56): 421, (56, 76): 304, (41, 97): 260, (7, 29): 350, (37, 42): 97, (35, 54): 13, (7, 59): 350, (3, 65): 99, (65, 74): 99, (45, 52): 106, (51, 85): 292, (2, 16): 102, (41, 91): 103, (15, 56): 325, (30, 96): 353, (57, 88): 394, (15, 53): 105, (18, 90): 354, (60, 85): 356, (54, 77): 182, (15, 38): 316, (4, 25): 350, (10, 90): 9, (63, 99): 359, (45, 91): 323, (87, 88): 451, (59, 67): 74, (25, 87): 362, (22, 35): 110, (48, 70): 111, (61, 92): 199, (9, 46): 113, (33, 57): 114, (39, 76): 405, (36, 82): 116, (17, 30): 383, (26, 37): 265, (29, 86): 118, (26, 72): 106, (2, 77): 368, (25, 91): 15, (31, 55): 7, (53, 80): 121, (10, 55): 106, (49, 80): 169, (41, 51): 125, (37, 61): 451, (9, 26): 127, (24, 30): 128, (6, 82): 129, (23, 70): 436, (10, 17): 130, (17, 74): 34, (26, 28): 106, (58, 98): 326, (22, 68): 400, (35, 63): 120, (94, 95): 373, (33, 92): 106, (57, 94): 114, (18, 85): 375, (25, 54): 350, (3, 24): 134, (22, 58): 137, (38, 93): 340, (4, 19): 135, (19, 29): 136, (37, 43): 451, (21, 34): 377, (16, 83): 451, (3, 73): 396, (37, 85): 140, (34, 57): 394, (10, 48): 9, (28, 46): 106, (36, 84): 451, (85, 92): 191, (60, 78): 231, (17, 18): 272, (65, 87): 450, (4, 82): 379, (77, 79): 106, (55, 87): 106, (48, 98): 135, (20, 93): 106, (43, 58): 22, (30, 58): 22, (48, 53): 49, (31, 87): 397, (4, 34): 232, (91, 95): 148, (39, 61): 405, (47, 80): 149, (2, 17): 383, (0, 1): 449, (36, 92): 199, (47, 77): 106, (4, 15): 386, (26, 60): 106, (71, 94): 405, (60, 65): 106, (0, 42): 151, (63, 98): 106, (5, 27): 153, (12, 39): 275, (30, 45): 106, (86, 94): 155, (3, 56): 449, (2, 80): 156, (33, 56): 391, (23, 37): 451, (63, 72): 106, (37, 64): 451, (36, 83): 451, (10, 42): 394, (24, 70): 158, (30, 55): 106, (11, 35): 450, (10, 57): 394, (34, 42): 394, (50, 80): 149, (78, 90): 39, (31, 67): 397, (42, 73): 399, (14, 22): 400, (38, 51): 316, (4, 33): 106, (44, 71): 405, (66, 94): 106, (21, 93): 332, (2, 23): 167, (41, 80): 169, (17, 99): 46, (44, 93): 405, (0, 62): 106, (35, 89): 450, (36, 97): 171, (60, 88): 394, (23, 36): 451, (21, 52): 332, (4, 28): 350, (22, 59): 350, (4, 47): 350, (63, 85): 356, (61, 65): 106, (9, 43): 177, (1, 52): 226, (8, 48): 178, (40, 58): 412, (3, 78): 413, (28, 83): 60, (26, 63): 106, (75, 81): 39, (13, 34): 414, (0, 15): 325, (1, 34): 248, (14, 25): 415, (38, 42): 416, (20, 94): 106, (18, 58): 185, (40, 83): 460, (85, 88): 356, (11, 25): 187, (24, 63): 188, (7, 96): 350, (33, 89): 443, (19, 48): 190, (10, 77): 106, (0, 56): 106, (21, 61): 332, (27, 48): 335, (0, 43): 421, (49, 51): 125, (24, 47): 226, (12, 75): 39, (27, 37): 423, (60, 77): 106, (7, 11): 197, (11, 87): 450, (36, 65): 106, (13, 94): 78, (55, 62): 106, (70, 90): 111, (51, 92): 200, (8, 55): 37, (13, 78): 202, (52, 65): 106, (69, 90): 133, (74, 91): 370, (75, 91): 436, (65, 92): 106, (11, 56): 204, (17, 59): 431, (64, 93): 432, (31, 95): 7, (4, 96): 350, (44, 53): 434, (22, 87): 207, (13, 31): 341, (82, 96): 379, (23, 61): 451, (23, 91): 451, (40, 96): 350, (83, 88): 451, (32, 95): 209, (68, 84): 210, (25, 41): 211, (4, 29): 350, (1, 35): 437, (50, 99): 214, (72, 98): 106, (7, 51): 350, (62, 67): 216, (27, 47): 217, (0, 88): 439, (74, 86): 205, (55, 60): 106, (56, 72): 106, (51, 86): 118, (39, 93): 405, (79, 80): 149, (35, 59): 110, (18, 33): 443, (78, 81): 39, (4, 92): 106, (10, 11): 445, (17, 60): 130, (6, 75): 222, (33, 46): 443, (17, 50): 46, (48, 55): 37, (19, 88): 223, (29, 97): 224, (10, 21): 332, (65, 93): 106, (45, 62): 106, (1, 29): 226, (0, 3): 449, (47, 65): 106, (46, 87): 450, (53, 87): 100, (27, 90): 335, (23, 83): 451, (21, 79): 452, (45, 66): 106, (19, 51): 136, (10, 56): 367, (57, 82): 310, (21, 60): 332, (70, 74): 455, (2, 52): 106, (38, 99): 456, (26, 36): 106, (11, 79): 458, (55, 89): 106, (0, 66): 106, (5, 35): 450, (2, 93): 106, (16, 40): 460, (6, 63): 106, (78, 88): 231, (54, 69): 462, (1, 79): 226, (1, 74): 123, (25, 96): 350, (28, 65): 106, (74, 87): 465, (64, 94): 432, (25, 40): 350, (18, 46): 143, (7, 79): 350, (17, 92): 240, (19, 71): 241, (44, 76): 405, (83, 91): 451, (46, 77): 106, (3, 91): 370, (68, 90): 246, (0, 48): 467, (43, 56): 421, (3, 29): 226, (68, 85): 329, (25, 32): 350, (62, 77): 106}\n"
     ]
    }
   ],
   "source": [
    "print(e2c)"
   ]
  },
  {
   "cell_type": "markdown",
   "metadata": {},
   "source": [
    "Since this is a random graph, we expect there not to be any meaningful communities, and indeed they are all labelled `56` (the community ID), so there doesn't appear to be any link communities in the graph.\n",
    "\n",
    "We can now readily take our results and put them back into our graph so that it can be saved and viewed in Gephi. We can do this using the [`set_edge_attributes`](https://networkx.github.io/documentation/stable/reference/generated/networkx.classes.function.set_edge_attributes.html?highlight=set_edge_attributes#networkx.classes.function.set_edge_attributes) function in networkx. It works just like the `set_node_attributes` function from previuos assignments, but with edges instead:"
   ]
  },
  {
   "cell_type": "code",
   "execution_count": 6,
   "metadata": {},
   "outputs": [
    {
     "ename": "TypeError",
     "evalue": "unhashable type: 'dict'",
     "output_type": "error",
     "traceback": [
      "\u001b[0;31m---------------------------------------------------------------------------\u001b[0m",
      "\u001b[0;31mTypeError\u001b[0m                                 Traceback (most recent call last)",
      "\u001b[0;32m<ipython-input-6-aa4c726efb91>\u001b[0m in \u001b[0;36m<module>\u001b[0;34m()\u001b[0m\n\u001b[1;32m      3\u001b[0m \u001b[0;31m# If you use networkx 1.9 and below this line should be\u001b[0m\u001b[0;34m\u001b[0m\u001b[0;34m\u001b[0m\u001b[0m\n\u001b[1;32m      4\u001b[0m \u001b[0;31m# nx.set_edge_attributes(my_graph, \"linkcom\", e2c)\u001b[0m\u001b[0;34m\u001b[0m\u001b[0;34m\u001b[0m\u001b[0m\n\u001b[0;32m----> 5\u001b[0;31m \u001b[0mnx\u001b[0m\u001b[0;34m.\u001b[0m\u001b[0mset_edge_attributes\u001b[0m\u001b[0;34m(\u001b[0m\u001b[0mmy_graph\u001b[0m\u001b[0;34m,\u001b[0m \u001b[0me2c\u001b[0m\u001b[0;34m,\u001b[0m \u001b[0;34m\"linkcom\"\u001b[0m\u001b[0;34m)\u001b[0m\u001b[0;34m\u001b[0m\u001b[0m\n\u001b[0m\u001b[1;32m      6\u001b[0m \u001b[0;34m\u001b[0m\u001b[0m\n\u001b[1;32m      7\u001b[0m \u001b[0;31m# Save the graph to file\u001b[0m\u001b[0;34m\u001b[0m\u001b[0;34m\u001b[0m\u001b[0m\n",
      "\u001b[0;32m/opt/anaconda/lib/python3.5/site-packages/networkx/classes/function.py\u001b[0m in \u001b[0;36mset_edge_attributes\u001b[0;34m(G, name, values)\u001b[0m\n\u001b[1;32m    400\u001b[0m     \u001b[0;32melse\u001b[0m\u001b[0;34m:\u001b[0m\u001b[0;34m\u001b[0m\u001b[0m\n\u001b[1;32m    401\u001b[0m         \u001b[0;32mfor\u001b[0m \u001b[0;34m(\u001b[0m\u001b[0mu\u001b[0m\u001b[0;34m,\u001b[0m \u001b[0mv\u001b[0m\u001b[0;34m)\u001b[0m\u001b[0;34m,\u001b[0m \u001b[0mvalue\u001b[0m \u001b[0;32min\u001b[0m \u001b[0mvalues\u001b[0m\u001b[0;34m.\u001b[0m\u001b[0mitems\u001b[0m\u001b[0;34m(\u001b[0m\u001b[0;34m)\u001b[0m\u001b[0;34m:\u001b[0m\u001b[0;34m\u001b[0m\u001b[0m\n\u001b[0;32m--> 402\u001b[0;31m             \u001b[0mG\u001b[0m\u001b[0;34m[\u001b[0m\u001b[0mu\u001b[0m\u001b[0;34m]\u001b[0m\u001b[0;34m[\u001b[0m\u001b[0mv\u001b[0m\u001b[0;34m]\u001b[0m\u001b[0;34m[\u001b[0m\u001b[0mname\u001b[0m\u001b[0;34m]\u001b[0m \u001b[0;34m=\u001b[0m \u001b[0mvalue\u001b[0m\u001b[0;34m\u001b[0m\u001b[0m\n\u001b[0m\u001b[1;32m    403\u001b[0m \u001b[0;34m\u001b[0m\u001b[0m\n\u001b[1;32m    404\u001b[0m \u001b[0;34m\u001b[0m\u001b[0m\n",
      "\u001b[0;31mTypeError\u001b[0m: unhashable type: 'dict'"
     ]
    }
   ],
   "source": [
    "# Put the link communities into the graph\n",
    "# Note this function's syntax depends on the networkx version.\n",
    "# If you use networkx 1.9 and below this line should be\n",
    "# nx.set_edge_attributes(my_graph, \"linkcom\", e2c)\n",
    "nx.set_edge_attributes(my_graph, e2c, \"linkcom\")\n",
    "\n",
    "# Save the graph to file\n",
    "nx.write_gexf(my_graph, \"my_graph.gexf\")"
   ]
  },
  {
   "cell_type": "code",
   "execution_count": 10,
   "metadata": {},
   "outputs": [],
   "source": [
    "nx.set_edge_attributes(my_graph, \"linkcom\", e2c)"
   ]
  },
  {
   "cell_type": "code",
   "execution_count": 11,
   "metadata": {},
   "outputs": [
    {
     "data": {
      "text/plain": [
       "{1: {'linkcom': 449},\n",
       " 3: {'linkcom': 449},\n",
       " 15: {'linkcom': 325},\n",
       " 42: {'linkcom': 151},\n",
       " 43: {'linkcom': 421},\n",
       " 48: {'linkcom': 467},\n",
       " 49: {'linkcom': 325},\n",
       " 56: {'linkcom': 106},\n",
       " 62: {'linkcom': 106},\n",
       " 66: {'linkcom': 106},\n",
       " 72: {'linkcom': 106},\n",
       " 77: {'linkcom': 106},\n",
       " 88: {'linkcom': 439}}"
      ]
     },
     "execution_count": 11,
     "metadata": {},
     "output_type": "execute_result"
    }
   ],
   "source": [
    "my_graph[0]"
   ]
  },
  {
   "cell_type": "code",
   "execution_count": 12,
   "metadata": {},
   "outputs": [],
   "source": [
    "# Save the graph to file\n",
    "nx.write_gexf(my_graph, \"my_graph.gexf\")"
   ]
  },
  {
   "cell_type": "markdown",
   "metadata": {},
   "source": [
    "Now if we were to open the graph in Gephi we should be able to use the link communities to color the graph edges. In Gephi you may need to click the little attribute type button so that edge attributes are set to [ranked rather than numeric](https://gephi.org/tutorials/gephi-tutorial-quick_start.pdf). This is because we want to color the edges according to their membership and not with a gradient. Additionally, in order to keep the edge colors when saving the graph you will need to make sure the edge color in the Preview tab is set to `original`. Lastly, since you will be looking at link communities (which determine the node membership in link clustering) it will be helpful to increase the size of the edges in Gephi so the colors are more visible and so you can detect nodes that belong to multiple communities.\n",
    "\n",
    "## The network science collaboration graph\n",
    "You will be using the NetSci collaboration graph for your assignment. The nodes of the graph are people and links are formed between people who co-author a scientific paper together in network science. You can download it from [here](http://vlado.fmf.uni-lj.si/pub/networks/data/collab/netscience.htm). Make sure to read the graph description on that page. The graph has ~1500 nodes and is partly disconnected. If you have difficulty working with the full graph or trouble loading it into Gephi, you can use the largest connected component (which only has about 350 nodes). The largest connected component of a graph can be returned from networkx using:\n",
    "\n",
    "```\n",
    "largest_component=max(nx.connected_component_subgraphs(my_graph), key=len)\n",
    "```\n",
    "\n",
    "Most of the interesting stuff is happening around this component anyway. So you don't lose much except for the scientists and groups that decided to work alone.\n",
    "\n",
    "Follow these steps for the assignment:\n",
    "\n",
    "1. Load the Netsci graph and run the link communities clustering algorithm on it.\n",
    "2. Save the link communities to the graph and save the graph to file.\n",
    "3. In Gephi choose a good layout for the graph.\n",
    "4. Run the modularity command to generate communities for the nodes.\n",
    "5. Color the edges according to the link communities and the nodes according to the communities found by Gephi. Remember to take care in choosing the resolution parameter.\n",
    "6. How well does link clustering do at detecting community structure? How well does Gephi's node modularity do at detecting community structure? What do you think the communities represent?\n",
    "7. What are the similarities and differences between the communities detected by either algorithm?\n",
    "8. Which authors have a prominent position in multiple communities? What do you think these author's roles are?\n",
    "9. What other features do you notice about the graph that are captured with overlaping communities?\n",
    "10. Save your visualization to file.\n",
    "11. Once complete, submit a PDF document to Canvas that contains your responses and your graph visualization (since this is a larger graph feel free to crop the figure so that it only includes parts relevant to your responses)."
   ]
  },
  {
   "cell_type": "markdown",
   "metadata": {},
   "source": [
    "## Answers"
   ]
  },
  {
   "cell_type": "markdown",
   "metadata": {},
   "source": [
    "#### 1. Load the Netsci graph and run the link communities clustering algorithm on it"
   ]
  },
  {
   "cell_type": "code",
   "execution_count": 28,
   "metadata": {},
   "outputs": [],
   "source": [
    "graph = nx.read_pajek(\"netsience.net\")"
   ]
  },
  {
   "cell_type": "code",
   "execution_count": 29,
   "metadata": {},
   "outputs": [
    {
     "name": "stdout",
     "output_type": "stream",
     "text": [
      "Name: \n",
      "Type: MultiGraph\n",
      "Number of nodes: 1589\n",
      "Number of edges: 2742\n",
      "Average degree:   3.4512\n"
     ]
    }
   ],
   "source": [
    "print(nx.info(graph))"
   ]
  },
  {
   "cell_type": "code",
   "execution_count": 30,
   "metadata": {},
   "outputs": [],
   "source": [
    "graph = nx.Graph(graph)"
   ]
  },
  {
   "cell_type": "code",
   "execution_count": 31,
   "metadata": {},
   "outputs": [
    {
     "name": "stdout",
     "output_type": "stream",
     "text": [
      "Name: \n",
      "Type: Graph\n",
      "Number of nodes: 1589\n",
      "Number of edges: 2742\n",
      "Average degree:   3.4512\n"
     ]
    }
   ],
   "source": [
    "print(nx.info(graph))"
   ]
  },
  {
   "cell_type": "code",
   "execution_count": 32,
   "metadata": {},
   "outputs": [
    {
     "name": "stdout",
     "output_type": "stream",
     "text": [
      "clustering...\n",
      "computing similarities...\n",
      "# D_max = 0.693791\n",
      "# S_max = 0.368421\n"
     ]
    }
   ],
   "source": [
    "e2c, S, D, Dlist = linkcom.cluster(graph)"
   ]
  },
  {
   "cell_type": "markdown",
   "metadata": {},
   "source": [
    "#### 2. Save the link communities to the graph and save the graph to file."
   ]
  },
  {
   "cell_type": "code",
   "execution_count": 33,
   "metadata": {},
   "outputs": [],
   "source": [
    "nx.set_edge_attributes(graph, \"linkcom\", e2c)"
   ]
  },
  {
   "cell_type": "code",
   "execution_count": 34,
   "metadata": {},
   "outputs": [],
   "source": [
    "nx.write_gexf(graph, \"network-science-collaboration-network.gexf\")"
   ]
  },
  {
   "cell_type": "markdown",
   "metadata": {},
   "source": [
    "#### 3. In Gephi choose a good layout for the graph."
   ]
  },
  {
   "cell_type": "markdown",
   "metadata": {},
   "source": [
    "#### 4. Run the modularity command to generate communities for the nodes."
   ]
  },
  {
   "cell_type": "markdown",
   "metadata": {},
   "source": [
    "[Gephi - Clustering layout by modularity](http://parklize.blogspot.com/2014/12/gephi-clustering-layout-by-modularity.html)"
   ]
  },
  {
   "cell_type": "markdown",
   "metadata": {},
   "source": [
    "#### 5. Color the edges according to the link communities and the nodes according to the communities found by Gephi. Remember to take care in choosing the resolution parameter."
   ]
  },
  {
   "cell_type": "markdown",
   "metadata": {},
   "source": [
    "#### 6. How well does link clustering do at detecting community structure? How well does Gephi's node modularity do at detecting community structure? What do you think the communities represent?"
   ]
  },
  {
   "cell_type": "markdown",
   "metadata": {},
   "source": [
    "comments"
   ]
  },
  {
   "cell_type": "markdown",
   "metadata": {},
   "source": [
    "#### 7. What are the similarities and differences between the communities detected by either algorithm?"
   ]
  },
  {
   "cell_type": "markdown",
   "metadata": {},
   "source": [
    "comments"
   ]
  },
  {
   "cell_type": "markdown",
   "metadata": {},
   "source": [
    "#### 8. Which authors have a prominent position in multiple communities? What do you think these author's roles are?"
   ]
  },
  {
   "cell_type": "markdown",
   "metadata": {},
   "source": [
    "comments"
   ]
  },
  {
   "cell_type": "markdown",
   "metadata": {},
   "source": [
    "#### 9. What other features do you notice about the graph that are captured with overlaping communities?"
   ]
  },
  {
   "cell_type": "markdown",
   "metadata": {},
   "source": [
    "comments"
   ]
  },
  {
   "cell_type": "markdown",
   "metadata": {},
   "source": [
    "#### 10. Save your visualization to file."
   ]
  },
  {
   "cell_type": "code",
   "execution_count": null,
   "metadata": {},
   "outputs": [],
   "source": []
  },
  {
   "cell_type": "markdown",
   "metadata": {},
   "source": [
    "#### 11. Once complete, submit a PDF document to Canvas that contains your responses and your graph visualization (since this is a larger graph feel free to crop the figure so that it only includes parts relevant to your responses)."
   ]
  },
  {
   "cell_type": "markdown",
   "metadata": {},
   "source": []
  }
 ],
 "metadata": {
  "anaconda-cloud": {},
  "kernelspec": {
   "display_name": "Python [Root]",
   "language": "python",
   "name": "Python [Root]"
  },
  "language_info": {
   "codemirror_mode": {
    "name": "ipython",
    "version": 3
   },
   "file_extension": ".py",
   "mimetype": "text/x-python",
   "name": "python",
   "nbconvert_exporter": "python",
   "pygments_lexer": "ipython3",
   "version": "3.5.2"
  }
 },
 "nbformat": 4,
 "nbformat_minor": 1
}
