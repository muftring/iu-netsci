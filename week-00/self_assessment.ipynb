{
 "cells": [
  {
   "cell_type": "markdown",
   "metadata": {},
   "source": [
    "This course requires good understanding of linear algebra, probability, statistics, and programming. This (ungraded) quiz lets you assess whether you have a good basis for taking this course. If you struggle with the following questions (the questions are supposed to be fairly trivial), you may need to put lots of efforts throughout your course. Of course we will do our best to help you if you are willing to learn."
   ]
  },
  {
   "cell_type": "markdown",
   "metadata": {},
   "source": [
    "1. $\\vec{a} = \\begin{bmatrix} 1 \\\\ 3 \\\\ 4 \\end{bmatrix}$ and $\\vec{b} = \\begin{bmatrix} -1 \\\\ 0 \\\\ 1 \\end{bmatrix}$.  Calculate $\\left| \\vec{a} \\right| $, $\\vec{a} \\cdot \\vec{b}$, and $\\vec{a} + \\vec{b}$. \n",
    "\n",
    "1. $A = \\begin{bmatrix}3 & 1 & 0\\\\2 & 1 & 5\\end{bmatrix}$, calculate $A A^\\top$.\n",
    "\n",
    "1. What are the **eigenvectors** and **eigenvalues**? Can you explain what they mean conceptually?\n",
    "\n",
    "1. What is the definition of **mean**, **median**, and **standard deviation**? \n",
    "\n",
    "1. What is the Bayes theorem? What is likelihood? \n",
    "\n",
    "1. What is the expectation and variance of a Bernoulli distribution (with parameter $p$)? \n",
    "\n",
    "1. $p(x) = C x^{-4}$ is a probability distribution function, which is defined where $1 \\le x$. What is the value of $C$?\n",
    "\n",
    "1. What will happen in a system described by the following equations? $$ \\frac{dS}{dt} = -\\beta S I \\\\ \\frac{dI}{dt} = \\beta S I $$\n",
    "\n",
    "1. What is the result of the following Python code? \n",
    "\n",
    "    ```\n",
    "    print(\"5\" + \"10\")\n",
    "    print(10*\"5\")\n",
    "    ```\n",
    "\n",
    "1. What would be the result of the following Python code? Can you explain why this is happening? \n",
    "\n",
    "    ```\n",
    "    alist = [1,2,3]\n",
    "    anotherlist = alist\n",
    "    anotherlist[0] = 5\n",
    "    print(alist)\n",
    "    ```\n",
    "    \n",
    "1. Write a function to calculate the mean, median, and standard deviation of a given list.\n",
    "\n",
    "1. Can you implement a basic FIFO queue class using Python's list? \n",
    "\n",
    "1. You got salary data of the Acme Corporation. They are just numbers, not associated with names of the employees. Which Python data structure (among list, dictionary, and set) will you use to store this numbers? Justify your answer.\n",
    "\n",
    "1. What are the differences of list, set, and dictionary? Explain when one should use one versus the other. Show some use case examples where using list is much more efficient than dictionary and vice versa.\n",
    "\n",
    "1. In your script `myscript.py`, you want to use a function `donothing()` defined in a module called `usefulfunctions`. How can you import this module (assuming it's installed or in the same directory) and use this function?"
   ]
  },
  {
   "cell_type": "code",
   "execution_count": null,
   "metadata": {},
   "outputs": [],
   "source": []
  }
 ],
 "metadata": {
  "kernelspec": {
   "display_name": "Python [Root]",
   "language": "python",
   "name": "Python [Root]"
  },
  "language_info": {
   "codemirror_mode": {
    "name": "ipython",
    "version": 3
   },
   "file_extension": ".py",
   "mimetype": "text/x-python",
   "name": "python",
   "nbconvert_exporter": "python",
   "pygments_lexer": "ipython3",
   "version": "3.5.2"
  }
 },
 "nbformat": 4,
 "nbformat_minor": 1
}
