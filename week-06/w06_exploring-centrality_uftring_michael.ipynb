{
 "cells": [
  {
   "cell_type": "markdown",
   "metadata": {},
   "source": [
    "Michael Uftring   \n",
    "Indiana University   \n",
    "Network Science, Spring 2018   \n",
    "Week#6 Assignment - Centralities"
   ]
  },
  {
   "cell_type": "markdown",
   "metadata": {},
   "source": [
    "# Node centrality assignment\n",
    "For this assignment we will be exploring node centrality in an effort to get an intuitive feel for what the various centrality metrics tell us about the nodes in the graph. For this assignment we will be using the [Dolphin social network](http://www-personal.umich.edu/~mejn/netdata/dolphins.zip). Download the graph and load it as a networkx graph using the [networkx functions](https://networkx.github.io/documentation/networkx-2.0/reference/readwrite/gml.html). If you have any difficulty loading in a graph you can attempt to load it into Gephi and then save it as a .net (pajek) and then load that version into networkx."
   ]
  },
  {
   "cell_type": "code",
   "execution_count": 1,
   "metadata": {},
   "outputs": [],
   "source": [
    "import networkx as nx"
   ]
  },
  {
   "cell_type": "markdown",
   "metadata": {},
   "source": [
    "Note: I had difficulty loading the GML file, so it was converted to Pajet (.net) as advised."
   ]
  },
  {
   "cell_type": "code",
   "execution_count": 3,
   "metadata": {},
   "outputs": [],
   "source": [
    "# Load your graph\n",
    "G = nx.read_pajek(\"dolphins.net\")"
   ]
  },
  {
   "cell_type": "code",
   "execution_count": 4,
   "metadata": {},
   "outputs": [
    {
     "name": "stdout",
     "output_type": "stream",
     "text": [
      "Name: \n",
      "Type: MultiGraph\n",
      "Number of nodes: 62\n",
      "Number of edges: 159\n",
      "Average degree:   5.1290\n"
     ]
    }
   ],
   "source": [
    "print(nx.info(G))"
   ]
  },
  {
   "cell_type": "markdown",
   "metadata": {},
   "source": [
    "## Centrality in Networkx\n",
    "Networkx has several functions available for calculating the centralities of the nodes in the graph. There are functions for [eigenvector](https://networkx.github.io/documentation/networkx-2.0/reference/algorithms/generated/networkx.algorithms.centrality.eigenvector_centrality.html), [katz](https://networkx.github.io/documentation/networkx-2.0/reference/algorithms/generated/networkx.algorithms.centrality.katz_centrality.html), [closeness](https://networkx.github.io/documentation/networkx-2.0/reference/algorithms/generated/networkx.algorithms.centrality.closeness_centrality.html#networkx.algorithms.centrality.closeness_centrality), [betweenness](https://networkx.github.io/documentation/networkx-2.0/reference/algorithms/generated/networkx.algorithms.centrality.betweenness_centrality.html#networkx.algorithms.centrality.betweenness_centrality), [degree](https://networkx.github.io/documentation/networkx-2.0/reference/algorithms/generated/networkx.algorithms.centrality.degree_centrality.html#networkx.algorithms.centrality.degree_centrality), etc. For a full list you can visit the [documentation page](https://networkx.github.io/documentation/networkx-2.0/reference/algorithms/centrality.html). The functions take a graph as an argument and return a dictionary with nodes as keys and the centrality as values. This is convenient for us because we can set these as attributes for the nodes in the graph using the [`set_node_attributes`](https://networkx.github.io/documentation/networkx-2.0/reference/generated/networkx.classes.function.set_node_attributes.html) function. For example:"
   ]
  },
  {
   "cell_type": "code",
   "execution_count": null,
   "metadata": {},
   "outputs": [],
   "source": [
    "import networkx as nx\n",
    "\n",
    "my_graph = nx.erdos_renyi_graph(500, 0.3)\n",
    "\n",
    "# Get the eigenvector centralities for all the nodes\n",
    "centralities = nx.eigenvector_centrality(my_graph)\n",
    "\n",
    "# Set the attributes of the nodes to include the centralities\n",
    "# The arguments are: <graph> <values> <attribute key>\n",
    "# Where <values> is a dictionary with keys=nodes\n",
    "nx.set_node_attributes(my_graph,centralities,\"eigenvector\")\n",
    "\n",
    "# Now we can refer to the node's attributes in the graph\n",
    "print(my_graph.node[3][\"eigenvector\"])"
   ]
  },
  {
   "cell_type": "markdown",
   "metadata": {},
   "source": [
    "We want to do this so that we can export our graph as a `gexf` file using networkx's [`write_gexf`](https://networkx.github.io/documentation/networkx-2.0/reference/readwrite/gexf.html) function. Gexf is able to contain a lot more information than other graph datatypes like pajek. It can contain information about the node attributes or edge attributes that belong to the graph and then these attributes will be recognized by Gephi for plotting.\n",
    "\n",
    "Once the graph is saved and you open it in Gephi, you can use the node (or edge) attributes to control node (or edge) size and color. This can be done by clicking the refresh button by the drop-down menu for node/edge sizing and coloring (refer back to the Gephi tutorial if you are unfamiliar with this). Your attributes will be loaded in using whatever name you used as an `<attribute key>`\n",
    "\n",
    "Choose a visually appealing layout and then arrange your nodes accordingly and then save separate visualizations that only change the node color/size according to your saved attributes. You will be using this ability for the following questions.\n",
    "\n",
    "**What to submit**: Turn in a PDF that contains your short responses and the visualizations for each of the following questions. **Keep the node location the same** for your graph visualizations.\n",
    "\n",
    "## Picking the right Dolphins\n",
    "Answer the following questions:\n",
    "\n",
    "#### (1) Popularity contest\n",
    "We want to know who the top dolphins are in the network, the real centers of attraction. Using what you learned about centrality from the readings and videos, choose an appropriate centrality measure that will tell us who those dolphins are. Justify your decision and list who the important dolphins are.\n",
    "\n",
    "#### (2) Relay\n",
    "Dolphins like passing information around efficiently along the shortest-paths. Among their neighbors who are the most important message relayers in the network? Justify your centrality choice for finding these dolphins.\n",
    "\n",
    "#### (3) Gossip \n",
    "There is a lot smack going around the pod and everyone wants to know if Flipper will be inviting them to the party next week. But gossip takes time to travel. Which dolphins are in the best position for getting all the best gossip from around the pod? Justify your centrality choice for finding these dolphins."
   ]
  },
  {
   "cell_type": "code",
   "execution_count": null,
   "metadata": {
    "collapsed": true
   },
   "outputs": [],
   "source": []
  }
 ],
 "metadata": {
  "kernelspec": {
   "display_name": "Python [Root]",
   "language": "python",
   "name": "Python [Root]"
  },
  "language_info": {
   "codemirror_mode": {
    "name": "ipython",
    "version": 3
   },
   "file_extension": ".py",
   "mimetype": "text/x-python",
   "name": "python",
   "nbconvert_exporter": "python",
   "pygments_lexer": "ipython3",
   "version": "3.5.2"
  }
 },
 "nbformat": 4,
 "nbformat_minor": 1
}
