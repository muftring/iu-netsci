{
 "cells": [
  {
   "cell_type": "markdown",
   "metadata": {},
   "source": [
    "Michael Uftring   \n",
    "Indiana University   \n",
    "Network Science, Spring 2018   \n",
    "Week#6 Assignment - Centralities"
   ]
  },
  {
   "cell_type": "markdown",
   "metadata": {},
   "source": [
    "# Node centrality assignment\n",
    "For this assignment we will be exploring node centrality in an effort to get an intuitive feel for what the various centrality metrics tell us about the nodes in the graph. For this assignment we will be using the [Dolphin social network](http://www-personal.umich.edu/~mejn/netdata/dolphins.zip). Download the graph and load it as a networkx graph using the [networkx functions](https://networkx.github.io/documentation/networkx-2.0/reference/readwrite/gml.html). If you have any difficulty loading in a graph you can attempt to load it into Gephi and then save it as a .net (pajek) and then load that version into networkx."
   ]
  },
  {
   "cell_type": "code",
   "execution_count": 1,
   "metadata": {},
   "outputs": [],
   "source": [
    "import networkx as nx"
   ]
  },
  {
   "cell_type": "markdown",
   "metadata": {},
   "source": [
    "Notes:\n",
    "- I had difficulty loading the GML file, so it was converted to Pajet (.net) as advised.\n",
    "- The *Pajek* graph saved by Gephi and loaded by NetworkX is a `MultiGraph`\n",
    "- NetworkX defines a MultiGraph as: \"Undirected graphs with self loops and parallel edges\"\n",
    "- Eigenvector Centrality cannot be computed by NetworkX on a `MultiGraph`\n",
    "- A quick inspection of the graph in Gephi reveals it is a undirected graph, but did not observe any self loops or parallel edges\n",
    "- The `MultiGraph` is converted to a `Graph` so we can compute all of the centrality measures"
   ]
  },
  {
   "cell_type": "code",
   "execution_count": 62,
   "metadata": {},
   "outputs": [],
   "source": [
    "# Load your graph\n",
    "MG = nx.read_pajek(\"dolphins.net\")\n",
    "G = nx.Graph(MG)"
   ]
  },
  {
   "cell_type": "code",
   "execution_count": 63,
   "metadata": {},
   "outputs": [
    {
     "name": "stdout",
     "output_type": "stream",
     "text": [
      "Name: \n",
      "Type: MultiGraph\n",
      "Number of nodes: 62\n",
      "Number of edges: 159\n",
      "Average degree:   5.1290\n"
     ]
    }
   ],
   "source": [
    "print(nx.info(MG))"
   ]
  },
  {
   "cell_type": "code",
   "execution_count": 64,
   "metadata": {},
   "outputs": [
    {
     "name": "stdout",
     "output_type": "stream",
     "text": [
      "Name: \n",
      "Type: Graph\n",
      "Number of nodes: 62\n",
      "Number of edges: 159\n",
      "Average degree:   5.1290\n"
     ]
    }
   ],
   "source": [
    "print(nx.info(G))"
   ]
  },
  {
   "cell_type": "markdown",
   "metadata": {},
   "source": [
    "## Centrality in Networkx\n",
    "Networkx has several functions available for calculating the centralities of the nodes in the graph. There are functions for [eigenvector](https://networkx.github.io/documentation/networkx-2.0/reference/algorithms/generated/networkx.algorithms.centrality.eigenvector_centrality.html), [katz](https://networkx.github.io/documentation/networkx-2.0/reference/algorithms/generated/networkx.algorithms.centrality.katz_centrality.html), [closeness](https://networkx.github.io/documentation/networkx-2.0/reference/algorithms/generated/networkx.algorithms.centrality.closeness_centrality.html#networkx.algorithms.centrality.closeness_centrality), [betweenness](https://networkx.github.io/documentation/networkx-2.0/reference/algorithms/generated/networkx.algorithms.centrality.betweenness_centrality.html#networkx.algorithms.centrality.betweenness_centrality), [degree](https://networkx.github.io/documentation/networkx-2.0/reference/algorithms/generated/networkx.algorithms.centrality.degree_centrality.html#networkx.algorithms.centrality.degree_centrality), etc. For a full list you can visit the [documentation page](https://networkx.github.io/documentation/networkx-2.0/reference/algorithms/centrality.html). The functions take a graph as an argument and return a dictionary with nodes as keys and the centrality as values. This is convenient for us because we can set these as attributes for the nodes in the graph using the [`set_node_attributes`](https://networkx.github.io/documentation/networkx-2.0/reference/generated/networkx.classes.function.set_node_attributes.html) function. For example:"
   ]
  },
  {
   "cell_type": "code",
   "execution_count": 65,
   "metadata": {},
   "outputs": [],
   "source": [
    "import networkx as nx"
   ]
  },
  {
   "cell_type": "code",
   "execution_count": 66,
   "metadata": {},
   "outputs": [],
   "source": [
    "my_graph = nx.erdos_renyi_graph(500, 0.3)"
   ]
  },
  {
   "cell_type": "code",
   "execution_count": 67,
   "metadata": {},
   "outputs": [],
   "source": [
    "# Get the eigenvector centralities for all the nodes\n",
    "centralities = nx.eigenvector_centrality(my_graph)"
   ]
  },
  {
   "cell_type": "code",
   "execution_count": 68,
   "metadata": {},
   "outputs": [
    {
     "name": "stdout",
     "output_type": "stream",
     "text": [
      "node: 0 = 0.04181640783013118\n",
      "node: 1 = 0.04863911740753878\n",
      "node: 2 = 0.0447104620351997\n",
      "node: 3 = 0.041083016646079044\n",
      "node: 4 = 0.04599603173498745\n"
     ]
    }
   ],
   "source": [
    "for i in range(5):\n",
    "    print(\"node:\",i,\"=\",centralities[i])"
   ]
  },
  {
   "cell_type": "markdown",
   "metadata": {},
   "source": [
    "calling the NetworkX function `set_node_attributes()` threw an exception, claiming the 'dict' was not hashable..."
   ]
  },
  {
   "cell_type": "code",
   "execution_count": 69,
   "metadata": {},
   "outputs": [
    {
     "ename": "TypeError",
     "evalue": "unhashable type: 'dict'",
     "output_type": "error",
     "traceback": [
      "\u001b[0;31m---------------------------------------------------------------------------\u001b[0m",
      "\u001b[0;31mTypeError\u001b[0m                                 Traceback (most recent call last)",
      "\u001b[0;32m<ipython-input-69-270356ece6df>\u001b[0m in \u001b[0;36m<module>\u001b[0;34m()\u001b[0m\n\u001b[1;32m      2\u001b[0m \u001b[0;31m# The arguments are: <graph> <values> <attribute key>\u001b[0m\u001b[0;34m\u001b[0m\u001b[0;34m\u001b[0m\u001b[0m\n\u001b[1;32m      3\u001b[0m \u001b[0;31m# Where <values> is a dictionary with keys=nodes\u001b[0m\u001b[0;34m\u001b[0m\u001b[0;34m\u001b[0m\u001b[0m\n\u001b[0;32m----> 4\u001b[0;31m \u001b[0mnx\u001b[0m\u001b[0;34m.\u001b[0m\u001b[0mset_node_attributes\u001b[0m\u001b[0;34m(\u001b[0m\u001b[0mmy_graph\u001b[0m\u001b[0;34m,\u001b[0m\u001b[0mcentralities\u001b[0m\u001b[0;34m,\u001b[0m\u001b[0;34m\"eigenvector\"\u001b[0m\u001b[0;34m)\u001b[0m\u001b[0;34m\u001b[0m\u001b[0m\n\u001b[0m",
      "\u001b[0;32m/opt/anaconda/lib/python3.5/site-packages/networkx/classes/function.py\u001b[0m in \u001b[0;36mset_node_attributes\u001b[0;34m(G, name, values)\u001b[0m\n\u001b[1;32m    331\u001b[0m \u001b[0;34m\u001b[0m\u001b[0m\n\u001b[1;32m    332\u001b[0m     \u001b[0;32mfor\u001b[0m \u001b[0mnode\u001b[0m\u001b[0;34m,\u001b[0m \u001b[0mvalue\u001b[0m \u001b[0;32min\u001b[0m \u001b[0mvalues\u001b[0m\u001b[0;34m.\u001b[0m\u001b[0mitems\u001b[0m\u001b[0;34m(\u001b[0m\u001b[0;34m)\u001b[0m\u001b[0;34m:\u001b[0m\u001b[0;34m\u001b[0m\u001b[0m\n\u001b[0;32m--> 333\u001b[0;31m         \u001b[0mG\u001b[0m\u001b[0;34m.\u001b[0m\u001b[0mnode\u001b[0m\u001b[0;34m[\u001b[0m\u001b[0mnode\u001b[0m\u001b[0;34m]\u001b[0m\u001b[0;34m[\u001b[0m\u001b[0mname\u001b[0m\u001b[0;34m]\u001b[0m \u001b[0;34m=\u001b[0m \u001b[0mvalue\u001b[0m\u001b[0;34m\u001b[0m\u001b[0m\n\u001b[0m\u001b[1;32m    334\u001b[0m \u001b[0;34m\u001b[0m\u001b[0m\n\u001b[1;32m    335\u001b[0m \u001b[0;34m\u001b[0m\u001b[0m\n",
      "\u001b[0;31mTypeError\u001b[0m: unhashable type: 'dict'"
     ]
    }
   ],
   "source": [
    "# Set the attributes of the nodes to include the centralities\n",
    "# The arguments are: <graph> <values> <attribute key>\n",
    "# Where <values> is a dictionary with keys=nodes\n",
    "nx.set_node_attributes(my_graph,centralities,\"eigenvector\")"
   ]
  },
  {
   "cell_type": "markdown",
   "metadata": {},
   "source": [
    "so, here I manually loop over the centralities and set the attribute"
   ]
  },
  {
   "cell_type": "code",
   "execution_count": 70,
   "metadata": {},
   "outputs": [],
   "source": [
    "attribute = \"eigenvector\"\n",
    "for node, value in centralities.items():\n",
    "    my_graph.node[node][attribute] = value"
   ]
  },
  {
   "cell_type": "code",
   "execution_count": 71,
   "metadata": {},
   "outputs": [
    {
     "name": "stdout",
     "output_type": "stream",
     "text": [
      "0.041083016646079044\n"
     ]
    }
   ],
   "source": [
    "# Now we can refer to the node's attributes in the graph\n",
    "print(my_graph.node[3][\"eigenvector\"])"
   ]
  },
  {
   "cell_type": "markdown",
   "metadata": {},
   "source": [
    "now, compute the colleciton of centrality measures for the Dolphin network and add node attributes with the values"
   ]
  },
  {
   "cell_type": "code",
   "execution_count": 72,
   "metadata": {},
   "outputs": [],
   "source": [
    "'''\n",
    "addNodeAttributes(graph, values, attribute)\n",
    "'''\n",
    "def addNodeAttributes(graph, values, attribute):\n",
    "    for node, value in values.items():\n",
    "        graph.node[node][attribute] = value"
   ]
  },
  {
   "cell_type": "code",
   "execution_count": 73,
   "metadata": {},
   "outputs": [],
   "source": [
    "def getCentralities(graph, f):\n",
    "    return f(graph)"
   ]
  },
  {
   "cell_type": "code",
   "execution_count": 74,
   "metadata": {},
   "outputs": [],
   "source": [
    "def enrichGraph(graph, f, name):\n",
    "    centralities = getCentralities(graph, f)\n",
    "    addNodeAttributes(graph, centralities, name)"
   ]
  },
  {
   "cell_type": "code",
   "execution_count": 79,
   "metadata": {},
   "outputs": [],
   "source": [
    "enrichments = {\n",
    "    \"degree\": nx.degree_centrality,\n",
    "    \"eigenvector\": nx.eigenvector_centrality,\n",
    "    \"closeness\": nx.closeness_centrality,\n",
    "    \"harmonic\": nx.harmonic_centrality,\n",
    "    \"betweenness\": nx.betweenness_centrality,\n",
    "    \"katz\": nx.katz_centrality\n",
    "}"
   ]
  },
  {
   "cell_type": "code",
   "execution_count": 82,
   "metadata": {},
   "outputs": [
    {
     "name": "stdout",
     "output_type": "stream",
     "text": [
      "Enriching graph nodes with centrality measure: harmonic\n",
      "Enriching graph nodes with centrality measure: eigenvector\n",
      "Enriching graph nodes with centrality measure: betweenness\n",
      "Enriching graph nodes with centrality measure: closeness\n",
      "Enriching graph nodes with centrality measure: katz\n",
      "Enriching graph nodes with centrality measure: degree\n"
     ]
    }
   ],
   "source": [
    "for name, function in enrichments.items():\n",
    "    print(\"Enriching graph nodes with centrality measure:\",name)\n",
    "    enrichGraph(G, function, name)"
   ]
  },
  {
   "cell_type": "code",
   "execution_count": 83,
   "metadata": {},
   "outputs": [
    {
     "data": {
      "text/plain": [
       "{'betweenness': 0.019082596213743752,\n",
       " 'closeness': 0.3465909090909091,\n",
       " 'degree': 0.09836065573770492,\n",
       " 'eigenvector': 0.12850351952918201,\n",
       " 'harmonic': 25.983333333333327,\n",
       " 'id': '1',\n",
       " 'katz': 0.13527614731116458,\n",
       " 'shape': '0.0',\n",
       " 'x': -85.40187,\n",
       " 'y': 351.36813}"
      ]
     },
     "execution_count": 83,
     "metadata": {},
     "output_type": "execute_result"
    }
   ],
   "source": [
    "G.node['Beak']"
   ]
  },
  {
   "cell_type": "markdown",
   "metadata": {},
   "source": [
    "save the enriched graph in `gexf` format for further analysis in Gephi"
   ]
  },
  {
   "cell_type": "code",
   "execution_count": 84,
   "metadata": {},
   "outputs": [],
   "source": [
    "nx.write_gexf(G,\"dolphins.gexf\")"
   ]
  },
  {
   "cell_type": "markdown",
   "metadata": {},
   "source": [
    "We want to do this so that we can export our graph as a `gexf` file using networkx's [`write_gexf`](https://networkx.github.io/documentation/networkx-2.0/reference/readwrite/gexf.html) function. Gexf is able to contain a lot more information than other graph datatypes like pajek. It can contain information about the node attributes or edge attributes that belong to the graph and then these attributes will be recognized by Gephi for plotting.\n",
    "\n",
    "Once the graph is saved and you open it in Gephi, you can use the node (or edge) attributes to control node (or edge) size and color. This can be done by clicking the refresh button by the drop-down menu for node/edge sizing and coloring (refer back to the Gephi tutorial if you are unfamiliar with this). Your attributes will be loaded in using whatever name you used as an `<attribute key>`\n",
    "\n",
    "Choose a visually appealing layout and then arrange your nodes accordingly and then save separate visualizations that only change the node color/size according to your saved attributes. You will be using this ability for the following questions.\n",
    "\n",
    "**What to submit**: Turn in a PDF that contains your short responses and the visualizations for each of the following questions. **Keep the node location the same** for your graph visualizations.\n",
    "\n",
    "## Picking the right Dolphins\n",
    "Answer the following questions:\n",
    "\n",
    "#### (1) Popularity contest\n",
    "We want to know who the top dolphins are in the network, the real centers of attraction. Using what you learned about centrality from the readings and videos, choose an appropriate centrality measure that will tell us who those dolphins are. Justify your decision and list who the important dolphins are.\n",
    "\n",
    "#### (2) Relay\n",
    "Dolphins like passing information around efficiently along the shortest-paths. Among their neighbors who are the most important message relayers in the network? Justify your centrality choice for finding these dolphins.\n",
    "\n",
    "#### (3) Gossip \n",
    "There is a lot smack going around the pod and everyone wants to know if Flipper will be inviting them to the party next week. But gossip takes time to travel. Which dolphins are in the best position for getting all the best gossip from around the pod? Justify your centrality choice for finding these dolphins."
   ]
  },
  {
   "cell_type": "code",
   "execution_count": null,
   "metadata": {
    "collapsed": true
   },
   "outputs": [],
   "source": []
  }
 ],
 "metadata": {
  "kernelspec": {
   "display_name": "Python [Root]",
   "language": "python",
   "name": "Python [Root]"
  },
  "language_info": {
   "codemirror_mode": {
    "name": "ipython",
    "version": 3
   },
   "file_extension": ".py",
   "mimetype": "text/x-python",
   "name": "python",
   "nbconvert_exporter": "python",
   "pygments_lexer": "ipython3",
   "version": "3.5.2"
  }
 },
 "nbformat": 4,
 "nbformat_minor": 1
}
