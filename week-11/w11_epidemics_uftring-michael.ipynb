{
 "cells": [
  {
   "cell_type": "markdown",
   "metadata": {},
   "source": [
    "Michael Uftring   \n",
    "Indiana University   \n",
    "Network Science, Spring 2018   \n",
    "Week#11 Assignment - Epidemics: Building the SIS model"
   ]
  },
  {
   "cell_type": "markdown",
   "metadata": {},
   "source": [
    "# Epidemics on networks: the SI model\n",
    "The goal of this assignment will be to implement a working SIS model on a network and reproduce a figure from this week's readings. We will start with an SI model as a template which you can then expand upon to build the SIS model.\n",
    "\n",
    "I will put together a function that will be able to take as input networkx graphs. In the SI model, a fraction of nodes begin as infected and then new infections spread throughout the network across the links with some probability `beta`. If the dice rolls out of the nodes favor then it becomes infected and can then infect other nodes that it neighbors.\n",
    "\n",
    "In a connected graph, the SI model should eventually infect everyone as t -> infinity because there will always be a non-zero probability of transmission. Alternatively, the SIS model will reach an equilibrium point where there is a balance between infections and reversions to susceptibility.\n",
    "\n",
    "Lets walk through building the SI model:"
   ]
  },
  {
   "cell_type": "code",
   "execution_count": 1,
   "metadata": {
    "collapsed": true
   },
   "outputs": [],
   "source": [
    "# We will be using numpy and networkx for our function\n",
    "import networkx as nx\n",
    "import numpy as np"
   ]
  },
  {
   "cell_type": "code",
   "execution_count": 2,
   "metadata": {
    "collapsed": true
   },
   "outputs": [],
   "source": [
    "# There will be 4 parameters for the model:\n",
    "# (graph) The networkx graph \n",
    "# (tmax) The maximum time that we will run the model \n",
    "# (beta) The transmission probability \n",
    "# (initial_inf) The initial fraction of infected nodes\n",
    "def SI(graph, tmax, beta, initial_inf):\n",
    "    \n",
    "    # First lets generate a set of initially infected nodes.\n",
    "    # We can do this by having numpy's random choice function pick \n",
    "    # nodes from the graph at random without replacement\n",
    "    # I convert the resulting list to a set so that it \n",
    "    # is faster to search over in the next step\n",
    "    inf_o = set(np.random.choice(graph.nodes(), size=int(len(graph) * initial_inf), replace=False))\n",
    "    \n",
    "    # Next we need to create an attribute for the nodes\n",
    "    # which will designate the state of that node as either infected \n",
    "    # or susceptible. We can use networkx's set attribute function to do this.\n",
    "    \n",
    "    # There is another issue though. I plan on iterating through each node\n",
    "    # in order to update its state based on the states of other nodes in the\n",
    "    # network. If I change the node state, then the next node will\n",
    "    # be updating with respect to a network that is now in a different state!\n",
    "    \n",
    "    # When modelling discrete time systems there are generally two different\n",
    "    # update strategies used. Synchronous and asynchronous updating. In\n",
    "    # Asynchronous updating random nodes are picked and their states are \n",
    "    # updated according to the current network state.\n",
    "    # In synchronous updating, there is a global time clock that all\n",
    "    # nodes are synched to, so nodes only update according to the \n",
    "    # state of the network at the current time-step and all nodes\n",
    "    # are updated simultaneously.\n",
    "    \n",
    "    # Choosing the updating scheme can have a huge impact on dynamics.\n",
    "    # We will be using a synchronous updating scheme, which means we\n",
    "    # need to store the current state of the system while we update. There are many\n",
    "    # ways to accomplish this such as having a temporary state dictionary,\n",
    "    # but because I want to make a time-series graph later, I will just\n",
    "    # keep the whole network history belonging to each node in a list.\n",
    "    \n",
    "    # The code below uses a dictionary comprehension to generate a dictionary\n",
    "    # with keys=nodes and values=a list of 0's and 1's. The 1 is for infected\n",
    "    # and 0 is for susceptible. We then give that dictionary to networkx's\n",
    "    # attribute function which then gives all the nodes the 'inf' attribute.\n",
    "    \n",
    "    # I also put a conditional statement in the dictionary comprehension\n",
    "    # which sets the initial states to 0 or 1 depending upon whether\n",
    "    # it is in the inf_o set. This all sets up our graph for t=0:\n",
    "    \n",
    "    # If you ues networkx 1.9-, this line should be:\n",
    "    nx.set_node_attributes(graph,'inf', {node: ([1] if node in inf_o else [0]) for node in graph.nodes()})\n",
    "\n",
    "    # nx.set_node_attributes(graph, {node: ([1] if node in inf_o else [0]) for node in graph.nodes()},'inf')\n",
    "    \n",
    "    # Now we need to loop through for each time step\n",
    "    for t in range(tmax):\n",
    "        \n",
    "        # For each time step we need to update all the nodes in the network \n",
    "        for node in graph.nodes():\n",
    "            \n",
    "            # Now we check if the node if susceptible to infection\n",
    "            # If it is, we need to determine the probability of it switching\n",
    "            # and then switch it for the next time-step\n",
    "            if graph.node[node]['inf'][t] == 0:\n",
    "                \n",
    "                # First determine how many infected neighbors the node has at time t:\n",
    "                num_inf_neighbors = np.sum([ graph.node[neighbor]['inf'][t] for neighbor in graph.neighbors(node)])\n",
    "                \n",
    "                # Instead of drawing a bunch of random numbers for each neighbor\n",
    "                # we  can just calculate the cumulative probability of getting\n",
    "                # infected since these events are independent and then just\n",
    "                # draw 1 random number to check against:\n",
    "                if np.random.random() < (1 - (1 - beta)**num_inf_neighbors):\n",
    "                    # If infection occurs we add a 1 to the state list of the node.\n",
    "                    # Note that by doing this we don't change how the other \n",
    "                    # nodes update, because they will be using time index t not t+1\n",
    "                    graph.node[node]['inf'].append(1)\n",
    "                    \n",
    "                else:\n",
    "                    # If no infection occurs, then just append the current state\n",
    "                    graph.node[node]['inf'].append(graph.node[node]['inf'][t])\n",
    "                    \n",
    "            # Similarly, if the node is already infected it can't change back\n",
    "            # So we append the current state if it wasn't susceptible\n",
    "            else:\n",
    "                graph.node[node]['inf'].append(graph.node[node]['inf'][t])\n",
    "                \n",
    "    # Once the updates have run their course for all nodes up to tmax we can\n",
    "    # return the time-series of the fraction of infected nodes\n",
    "    # It is easy to calculate because I let infected be 1, so the \n",
    "    # fraction infected is just the mean of the population at time t:\n",
    "    return [ np.mean([ graph.node[node]['inf'][t] for node in graph.nodes() ]) for t in range(tmax)]"
   ]
  },
  {
   "cell_type": "markdown",
   "metadata": {},
   "source": [
    "And there we have our SI model. The function is mostly comments, there are only a dozen lines of code involved in the whole process. Lets give it a run:"
   ]
  },
  {
   "cell_type": "code",
   "execution_count": 3,
   "metadata": {
    "collapsed": true
   },
   "outputs": [],
   "source": [
    "# Lets generate a random graph for testing\n",
    "rnd_graph = nx.erdos_renyi_graph(100, 0.1)\n",
    "\n",
    "# We want to make sure that the graph is connected, so we will only take the largest\n",
    "# connected component, as disconnected parts can't be infected or transmit infection:\n",
    "rnd_graph = max(nx.connected_component_subgraphs(rnd_graph), key=len)"
   ]
  },
  {
   "cell_type": "code",
   "execution_count": 4,
   "metadata": {
    "collapsed": true
   },
   "outputs": [],
   "source": [
    "# Now lets plot it\n",
    "%matplotlib inline\n",
    "import matplotlib.pyplot as plt"
   ]
  },
  {
   "cell_type": "code",
   "execution_count": 5,
   "metadata": {},
   "outputs": [
    {
     "data": {
      "text/plain": [
       "[<matplotlib.lines.Line2D at 0x116986978>]"
      ]
     },
     "execution_count": 5,
     "metadata": {},
     "output_type": "execute_result"
    },
    {
     "data": {
      "image/png": "[encoded data removed]",
      "text/plain": [
       "<matplotlib.figure.Figure at 0x11356dcc0>"
      ]
     },
     "metadata": {},
     "output_type": "display_data"
    }
   ],
   "source": [
    "plt.plot(SI(rnd_graph, tmax=20, beta=0.05, initial_inf=0.1))"
   ]
  },
  {
   "cell_type": "code",
   "execution_count": 6,
   "metadata": {},
   "outputs": [
    {
     "data": {
      "text/plain": [
       "[<matplotlib.lines.Line2D at 0x1169f4080>]"
      ]
     },
     "execution_count": 6,
     "metadata": {},
     "output_type": "execute_result"
    },
    {
     "data": {
      "image/png": "[encoded data removed]",
      "text/plain": [
       "<matplotlib.figure.Figure at 0x10d3ce358>"
      ]
     },
     "metadata": {},
     "output_type": "display_data"
    }
   ],
   "source": [
    "# Since it is a random process we want to do a couple\n",
    "# sample runs to smooth out the curve\n",
    "\n",
    "plt.plot( np.mean([SI(rnd_graph, tmax=20, beta=0.05, initial_inf=0.1) for i in range(50)], axis=0) )"
   ]
  },
  {
   "cell_type": "markdown",
   "metadata": {},
   "source": [
    "The axis argument in `numpy.mean` tells you which axis to apply the average over, since we have a two-dimensional array (time on one axis and trials on the other). If I picked `axis=1` instead, it would have run the average over time rather than the number of trials.\n",
    "\n",
    "This curve is much smoother than the previous one. You will find that this sort of averaging over trials is necessary when dealing with noisy or random models.\n",
    "\n",
    "We can see that at 10% initial infected population and an infection rate of 5% we infect the whole 100 node network within 20 time steps. Most of the growth occurs in the middle after the disease ramps up, and then slows as most of the population is already infected."
   ]
  },
  {
   "cell_type": "markdown",
   "metadata": {},
   "source": [
    "# Assignment: Building the SIS model\n",
    "The example SI model should give you a good starting point from which to create the SIS version. In the SIS model, infected nodes can transform back to susceptible nodes, which means you will have one additional parameter that needs to be provided as an argument to the model. Lets call this probability of reversion `mu`. You can either start with the SI function I provided and modify it into the SIS variant, or you can write your own function to taste. \n",
    "\n",
    "My implementation is simple but far from optimal, it will be slower to run on larger and more dense graphs. If you want more of a challenge try comming up with an SIS version that can run efficiently on larger graphs. This could be done by relying more heavily on numpy, which uses a c backend for array operations, or using a different network data structure.\n",
    "\n",
    "Here are your goals:\n",
    "\n",
    "1. Create an SIS version of the function, either by building off of mine or making your own from scratch.\n",
    "2. Plot your model's results using a sparse random graph and play with the parameters to get a feel for how `mu`, `beta`, and `initial_inf` change the equilibrium point of the system. The equilibrium point occurs when the system settles on a stable fraction of infected (see Fig 10.7 in Barabasi's textbook). Also take note of how long it takes for the system to reach equilibrium.\n",
    "3. Finally, construct a graph like Fig 10.11 from Barabasi's book that shows the difference between Erdos-Renyi graphs and Scale-free graphs for the SIS-model. The Y-axis in the figure will be the equilibrium point of the system. This will generally be the last time point of your simulation, assuming you run it long enough to let it reach equilibrium. The X-axis is the parameter `lambda` which is just `beta / mu`. The exact location of the critical point for the SIS model on the ER graph will vary depending upon parameters, but the key take-away is that the Scale-free graph's is lower (and eventually vanishes depending upon scaling exponent). Lastly, remember to use averaging to smooth the curves over many trials for each data-point. Note: The BA algorithm only generates exponents of 3. You can generate a directed scale-free graph with varying power-law exponent using networkx's [`scale_free_graph`](https://networkx.github.io/documentation/stable/reference/generated/networkx.generators.directed.scale_free_graph.html?%20scale_free_graph#networkx.generators.directed.scale_free_graph) function. However, it needs to be converted to an undirected graph. You can make a power-law exponent of ~2.5 with the following parameters `alpha=0.35`, `beta=0.60`, `gamma=0.05`, `delta_in=0.4`, `delta_out=0.4`\n",
    "\n",
    "4. When you are done submit your notebook to Canvas."
   ]
  },
  {
   "cell_type": "markdown",
   "metadata": {},
   "source": [
    "### SIS implementation"
   ]
  },
  {
   "cell_type": "code",
   "execution_count": 133,
   "metadata": {
    "collapsed": true
   },
   "outputs": [],
   "source": [
    "'''\n",
    "SIS(graph, tmax, beta, mu, initial_inf)\n",
    "  Parameters:\n",
    "    graph: The networkx graph\n",
    "    tmax: The maximum time that we will run the model \n",
    "    beta: The transmission probability \n",
    "    mu: The reversion probability \n",
    "    initial_inf: The initial fraction of infected nodes\n",
    "  \n",
    "  Returns: \n",
    "    an array representing the time-series of the fraction of infected nodes\n",
    "'''\n",
    "def SIS(graph, tmax, beta, mu, initial_inf):\n",
    "    # initial set of infected nodes\n",
    "    inf_o = set(np.random.choice(graph.nodes(), size=int(len(graph) * initial_inf), replace=False))\n",
    "    # set the node attribute `inf` to indicate the initial state (0 = susceptible, 1 = infected)\n",
    "    nx.set_node_attributes(graph,'inf', {node: ([1] if node in inf_o else [0]) for node in graph.nodes()})\n",
    "    # Now we need to loop through for each time step\n",
    "    for t in range(tmax):\n",
    "        # For each time step we need to update all the nodes in the network \n",
    "        for node in graph.nodes():\n",
    "            if graph.node[node]['inf'][t] == 0:\n",
    "                # the node is susceptible, determine the probability of it switching\n",
    "                \n",
    "                # First determine how many infected neighbors the node has at time t:\n",
    "                num_inf_neighbors = np.sum([ graph.node[neighbor]['inf'][t] for neighbor in graph.neighbors(node)])\n",
    "                \n",
    "                # Instead of drawing a bunch of random numbers for each neighbor\n",
    "                # we  can just calculate the cumulative probability of getting\n",
    "                # infected since these events are independent and then just\n",
    "                # draw 1 random number to check against:\n",
    "                if np.random.random() < (1 - (1 - beta)**num_inf_neighbors):\n",
    "                    # If infection occurs we add a 1 to the state list of the node.\n",
    "                    # Note that by doing this we don't change how the other \n",
    "                    # nodes update, because they will be using time index t not t+1\n",
    "                    graph.node[node]['inf'].append(1)\n",
    "                else:\n",
    "                    # If no infection occurs, then just append the current state\n",
    "                    graph.node[node]['inf'].append(graph.node[node]['inf'][t])\n",
    "            else:\n",
    "                # the node is infected, determine the probability of it switching\n",
    "                if np.random.random() < mu:\n",
    "                    # the node is switching from infected to susceptible\n",
    "                    graph.node[node]['inf'].append(0)\n",
    "                else:\n",
    "                    # the node is not switching from infected state\n",
    "                    graph.node[node]['inf'].append(graph.node[node]['inf'][t])\n",
    "                    \n",
    "    # return the time-series of the fraction of infected nodes\n",
    "    return [ np.mean([ graph.node[node]['inf'][t] for node in graph.nodes() ]) for t in range(tmax)]"
   ]
  },
  {
   "cell_type": "markdown",
   "metadata": {},
   "source": [
    "### Exploring the SIS Model\n",
    "Understanding how the `beta`, `mu`, and `initial_inf` parameters affect the performance and change the equilibrium point of the system."
   ]
  },
  {
   "cell_type": "code",
   "execution_count": 242,
   "metadata": {
    "collapsed": true
   },
   "outputs": [],
   "source": [
    "# parameters\n",
    "n = 100  # number of nodes\n",
    "p = 0.1  # probability for edge creation\n",
    "tmax = 50\n",
    "beta=0.05\n",
    "mu = 0.1\n",
    "initial_inf=0.01\n",
    "iterations = 50"
   ]
  },
  {
   "cell_type": "code",
   "execution_count": 243,
   "metadata": {
    "collapsed": true
   },
   "outputs": [],
   "source": [
    "# create a sparse random graph\n",
    "graph = nx.erdos_renyi_graph(n, p)\n",
    "graph = max(nx.connected_component_subgraphs(graph), key=len)"
   ]
  },
  {
   "cell_type": "code",
   "execution_count": 244,
   "metadata": {},
   "outputs": [
    {
     "data": {
      "text/plain": [
       "[<matplotlib.lines.Line2D at 0x11a9135f8>]"
      ]
     },
     "execution_count": 244,
     "metadata": {},
     "output_type": "execute_result"
    },
    {
     "data": {
      "image/png": "[encoded data removed]",
      "text/plain": [
       "<matplotlib.figure.Figure at 0x11a850390>"
      ]
     },
     "metadata": {},
     "output_type": "display_data"
    }
   ],
   "source": [
    "# run one time\n",
    "plt.plot(SIS(graph, tmax, beta, mu, initial_inf))"
   ]
  },
  {
   "cell_type": "code",
   "execution_count": 245,
   "metadata": {},
   "outputs": [
    {
     "data": {
      "text/plain": [
       "[<matplotlib.lines.Line2D at 0x11a95c128>]"
      ]
     },
     "execution_count": 245,
     "metadata": {},
     "output_type": "execute_result"
    },
    {
     "data": {
      "image/png": "[encoded data removed]",
      "text/plain": [
       "<matplotlib.figure.Figure at 0x11a598ef0>"
      ]
     },
     "metadata": {},
     "output_type": "display_data"
    }
   ],
   "source": [
    "# run a number of sample runs to smooth out the curve\n",
    "plt.plot( np.mean([SIS(graph, tmax, beta, mu, initial_inf) for i in range(iterations)], axis=0) )"
   ]
  },
  {
   "cell_type": "markdown",
   "metadata": {},
   "source": [
    "Plot SI and SIS together"
   ]
  },
  {
   "cell_type": "code",
   "execution_count": 246,
   "metadata": {},
   "outputs": [
    {
     "data": {
      "image/png": "[encoded data removed]",
      "text/plain": [
       "<matplotlib.figure.Figure at 0x11a0d5a90>"
      ]
     },
     "metadata": {},
     "output_type": "display_data"
    }
   ],
   "source": [
    "plt.plot( np.mean([SI(graph, tmax, beta, initial_inf) for i in range(iterations)], axis=0), label=\"SI\" )\n",
    "plt.plot( np.mean([SIS(graph, tmax, beta, mu, initial_inf) for i in range(iterations)], axis=0), label=\"SIS\" )\n",
    "plt.grid(color=\"gray\", alpha=0.1)\n",
    "plt.legend()\n",
    "plt.show()"
   ]
  },
  {
   "cell_type": "markdown",
   "metadata": {},
   "source": [
    "### Finding the Equilibrium Point"
   ]
  },
  {
   "cell_type": "code",
   "execution_count": 247,
   "metadata": {
    "collapsed": true
   },
   "outputs": [],
   "source": [
    "def compute_deltas(data):\n",
    "    deltas = data[1:]-data[0:-1]\n",
    "    return deltas"
   ]
  },
  {
   "cell_type": "code",
   "execution_count": 248,
   "metadata": {
    "collapsed": true
   },
   "outputs": [],
   "source": [
    "def find_equilibrium(deltas, threshold = 0.0010, consecutive = 3):\n",
    "    result = len(deltas)\n",
    "    count = 0\n",
    "    for i in range(len(deltas)):\n",
    "        if deltas[i] < threshold:\n",
    "            count += 1\n",
    "        else:\n",
    "            count = 0\n",
    "        if count >= consecutive:\n",
    "            result = i-(count-1)\n",
    "            break\n",
    "    return result"
   ]
  },
  {
   "cell_type": "markdown",
   "metadata": {},
   "source": [
    "run a series of tests and compute the mean of the time-series of the fraction of infected nodes"
   ]
  },
  {
   "cell_type": "code",
   "execution_count": 249,
   "metadata": {
    "collapsed": true
   },
   "outputs": [],
   "source": [
    "data = np.mean([SIS(graph, tmax, beta, mu, initial_inf) for i in range(iterations)], axis=0)"
   ]
  },
  {
   "cell_type": "code",
   "execution_count": 250,
   "metadata": {},
   "outputs": [
    {
     "data": {
      "text/plain": [
       "array([ 0.01  ,  0.013 ,  0.0194,  0.027 ,  0.0378,  0.0488,  0.0622,\n",
       "        0.082 ,  0.1094,  0.1422,  0.1784,  0.2252,  0.275 ,  0.3276,\n",
       "        0.3734,  0.4164,  0.4502,  0.4834,  0.5062,  0.5434,  0.5558,\n",
       "        0.5816,  0.5958,  0.5972,  0.6076,  0.6132,  0.6256,  0.6258,\n",
       "        0.6282,  0.6384,  0.637 ,  0.6404,  0.6424,  0.6428,  0.632 ,\n",
       "        0.6318,  0.6372,  0.6384,  0.6434,  0.6362,  0.6342,  0.6408,\n",
       "        0.639 ,  0.6354,  0.6326,  0.628 ,  0.629 ,  0.6378,  0.6394,\n",
       "        0.6386])"
      ]
     },
     "execution_count": 250,
     "metadata": {},
     "output_type": "execute_result"
    }
   ],
   "source": [
    "data"
   ]
  },
  {
   "cell_type": "markdown",
   "metadata": {},
   "source": [
    "next, look at the rate of change between each time-series observation"
   ]
  },
  {
   "cell_type": "code",
   "execution_count": 251,
   "metadata": {},
   "outputs": [],
   "source": [
    "deltas = compute_deltas(data)"
   ]
  },
  {
   "cell_type": "code",
   "execution_count": 252,
   "metadata": {},
   "outputs": [
    {
     "data": {
      "text/plain": [
       "array([ 0.003 ,  0.0064,  0.0076,  0.0108,  0.011 ,  0.0134,  0.0198,\n",
       "        0.0274,  0.0328,  0.0362,  0.0468,  0.0498,  0.0526,  0.0458,\n",
       "        0.043 ,  0.0338,  0.0332,  0.0228,  0.0372,  0.0124,  0.0258,\n",
       "        0.0142,  0.0014,  0.0104,  0.0056,  0.0124,  0.0002,  0.0024,\n",
       "        0.0102, -0.0014,  0.0034,  0.002 ,  0.0004, -0.0108, -0.0002,\n",
       "        0.0054,  0.0012,  0.005 , -0.0072, -0.002 ,  0.0066, -0.0018,\n",
       "       -0.0036, -0.0028, -0.0046,  0.001 ,  0.0088,  0.0016, -0.0008])"
      ]
     },
     "execution_count": 252,
     "metadata": {},
     "output_type": "execute_result"
    }
   ],
   "source": [
    "deltas"
   ]
  },
  {
   "cell_type": "markdown",
   "metadata": {},
   "source": [
    "and find the equilibrium point using a threshold on the rate of change and a consecutive occurrences counter"
   ]
  },
  {
   "cell_type": "code",
   "execution_count": 255,
   "metadata": {},
   "outputs": [],
   "source": [
    "threshold = 0.001\n",
    "consecutive = 3\n",
    "equilibrium = find_equilibrium(deltas, threshold, consecutive)"
   ]
  },
  {
   "cell_type": "code",
   "execution_count": 256,
   "metadata": {},
   "outputs": [
    {
     "data": {
      "text/plain": [
       "32"
      ]
     },
     "execution_count": 256,
     "metadata": {},
     "output_type": "execute_result"
    }
   ],
   "source": [
    "equilibrium"
   ]
  },
  {
   "cell_type": "markdown",
   "metadata": {},
   "source": [
    "plot the rate of change and highlight the equilibrium point (vertical red line)"
   ]
  },
  {
   "cell_type": "code",
   "execution_count": 257,
   "metadata": {},
   "outputs": [
    {
     "data": {
      "text/plain": [
       "<matplotlib.lines.Line2D at 0x11ab630f0>"
      ]
     },
     "execution_count": 257,
     "metadata": {},
     "output_type": "execute_result"
    },
    {
     "data": {
      "image/png": "[encoded data removed]",
      "text/plain": [
       "<matplotlib.figure.Figure at 0x11aae9898>"
      ]
     },
     "metadata": {},
     "output_type": "display_data"
    }
   ],
   "source": [
    "plt.plot(deltas)\n",
    "plt.plot(np.zeros(len(deltas)), color=\"black\")\n",
    "plt.axvline(x=equilibrium, color=\"red\")"
   ]
  },
  {
   "cell_type": "markdown",
   "metadata": {},
   "source": [
    "compute the spreading rate as the transmission probability divided by the reversion probability:   \n",
    "$\\lambda = \\frac{\\beta}{\\mu}$"
   ]
  },
  {
   "cell_type": "code",
   "execution_count": 258,
   "metadata": {
    "collapsed": true
   },
   "outputs": [],
   "source": [
    "spreading_rate = beta/mu"
   ]
  },
  {
   "cell_type": "code",
   "execution_count": 259,
   "metadata": {},
   "outputs": [
    {
     "data": {
      "text/plain": [
       "0.5"
      ]
     },
     "execution_count": 259,
     "metadata": {},
     "output_type": "execute_result"
    }
   ],
   "source": [
    "spreading_rate"
   ]
  },
  {
   "cell_type": "markdown",
   "metadata": {},
   "source": [
    "the fraction of infected individuals $i(\\lambda)$ at the given spreading rate is determined by the equilibrium point"
   ]
  },
  {
   "cell_type": "code",
   "execution_count": 260,
   "metadata": {},
   "outputs": [
    {
     "data": {
      "text/plain": [
       "0.64240000000000008"
      ]
     },
     "execution_count": 260,
     "metadata": {},
     "output_type": "execute_result"
    }
   ],
   "source": [
    "data[equilibrium]"
   ]
  },
  {
   "cell_type": "code",
   "execution_count": 261,
   "metadata": {},
   "outputs": [
    {
     "data": {
      "text/plain": [
       "16"
      ]
     },
     "execution_count": 261,
     "metadata": {},
     "output_type": "execute_result"
    }
   ],
   "source": [
    "int(np.mean([find_equilibrium(compute_deltas(np.asarray(SIS(graph, tmax, beta, mu, initial_inf))), threshold, consecutive) for i in range(iterations)]))"
   ]
  },
  {
   "cell_type": "markdown",
   "metadata": {},
   "source": [
    "### Compare Random and Scale-Free for the SIS-model\n",
    "The objective is to make a reproduction of *Barabasi* figure 10.11"
   ]
  },
  {
   "cell_type": "code",
   "execution_count": 49,
   "metadata": {},
   "outputs": [
    {
     "data": {
      "text/html": [
       "<img src=\"http://networksciencebook.com/images/ch-10/figure-10-11.jpg\"/>"
      ],
      "text/plain": [
       "<IPython.core.display.Image object>"
      ]
     },
     "execution_count": 49,
     "metadata": {},
     "output_type": "execute_result"
    }
   ],
   "source": [
    "from IPython.display import Image\n",
    "Image(url=\"http://networksciencebook.com/images/ch-10/figure-10-11.jpg\")"
   ]
  },
  {
   "cell_type": "markdown",
   "metadata": {},
   "source": [
    "- $S(t)$ is the number of individuals who are *susceptible* (healthy) at time $t$, and $I(t)$ is the number individuals that have been already *infected* at time $t$.\n",
    "- We use $s(t)=S(t)/N$, and $i(t)=I(t)/N$ to capture **the fraction of** the *susceptible* and of the *infected* population at time $t$.\n",
    "- The transmission probability $\\beta$ represents transition from *Susceptible* to *Infected*\n",
    "- The reversion probability $\\mu$ represents transition from *Infected* to *Susceptible*\n",
    "- The spreading rate is $\\lambda = \\frac{\\beta}{\\mu}$\n",
    "- The epidemic threshold $\\lambda_{c}$\n",
    "- The fraction of infected individuals at the given spreading rate is $i(\\lambda)$\n",
    "\n",
    "If the spreading rate $\\lambda$ exceeds the epidemic threshold $\\lambda_{c}$, the pathogen will spread until it reaches an endemic state, where a finite fraction $i(\\lambda)$ of the population is infected at any time.\n",
    "If $\\lambda < \\lambda_{c}$, the pathogen dies out, i.e. $i(\\lambda) = 0$."
   ]
  },
  {
   "cell_type": "code",
   "execution_count": 328,
   "metadata": {
    "collapsed": true
   },
   "outputs": [],
   "source": [
    "'''\n",
    "frange(x, y, jump): produce a floating-point range [x, y)\n",
    "  Parameters:\n",
    "    x = starting point\n",
    "    y = stopping point\n",
    "    jump = amount to step in each iteration\n",
    "  \n",
    "  Returns:\n",
    "    generator object\n",
    "\n",
    "  Reference:\n",
    "    https://stackoverflow.com/a/7267280\n",
    "'''\n",
    "def frange(x, y, jump):\n",
    "  while x < y:\n",
    "    yield x\n",
    "    x += jump"
   ]
  },
  {
   "cell_type": "code",
   "execution_count": 375,
   "metadata": {
    "collapsed": true
   },
   "outputs": [],
   "source": [
    "# parameters\n",
    "n = 100  # number of nodes\n",
    "p = 0.1  # probability for edge creation\n",
    "tmax = 99\n",
    "beta=0.05\n",
    "mu = 0.1\n",
    "initial_inf=0.01\n",
    "iterations = 10"
   ]
  },
  {
   "cell_type": "code",
   "execution_count": 366,
   "metadata": {},
   "outputs": [
    {
     "name": "stdout",
     "output_type": "stream",
     "text": [
      "Name: gnp_random_graph(100,0.1)\n",
      "Type: Graph\n",
      "Number of nodes: 100\n",
      "Number of edges: 482\n",
      "Average degree:   9.6400\n"
     ]
    }
   ],
   "source": [
    "# random graph\n",
    "er_graph = nx.erdos_renyi_graph(n, p)\n",
    "er_graph = max(nx.connected_component_subgraphs(er_graph), key=len)\n",
    "print(nx.info(er_graph))"
   ]
  },
  {
   "cell_type": "code",
   "execution_count": 367,
   "metadata": {},
   "outputs": [
    {
     "name": "stdout",
     "output_type": "stream",
     "text": [
      "Name: directed_scale_free_graph(100,alpha=0.35,beta=0.6,gamma=0.05,delta_in=0.4,delta_out=0.4)\n",
      "Type: Graph\n",
      "Number of nodes: 100\n",
      "Number of edges: 179\n",
      "Average degree:   3.5800\n"
     ]
    }
   ],
   "source": [
    "# scale-free graph\n",
    "sf_graph = nx.scale_free_graph(n, alpha=0.35, beta=0.60, gamma=0.05, delta_in=0.4, delta_out=0.4)\n",
    "sf_graph = nx.Graph(sf_graph)\n",
    "sf_graph = max(nx.connected_component_subgraphs(sf_graph), key=len)\n",
    "print(nx.info(sf_graph))"
   ]
  },
  {
   "cell_type": "code",
   "execution_count": 368,
   "metadata": {
    "collapsed": true
   },
   "outputs": [],
   "source": [
    "beta_values = [0.0575, 0.0550, 0.0525, 0.0500, \\\n",
    "               0.0475, 0.0450, 0.0425, 0.0400, \\\n",
    "               0.0375, 0.0350, 0.0325, 0.0300, \\\n",
    "               0.0275, 0.0250, 0.0225, 0.0200, \\\n",
    "               0.0175, 0.0150, 0.0125, 0.0100, \n",
    "               0.0075, 0.0050, 0.0025, 0.0001]\n",
    "mu_values = [0.1]"
   ]
  },
  {
   "cell_type": "code",
   "execution_count": 369,
   "metadata": {},
   "outputs": [],
   "source": [
    "def compute(graph, beta_values=[0.05], mu_values=[0.1], trace=False):\n",
    "    spreading_rates = []\n",
    "    fractions_infected = []\n",
    "    equilibrium_values = []\n",
    "\n",
    "    for beta in beta_values:\n",
    "        for mu in mu_values:\n",
    "            spreading_rate = beta/mu\n",
    "            spreading_rates.append(spreading_rate)\n",
    "            if trace: print(\"computing for beta: {0:4.4f} mu: {1:4.4f} lambda: {2:4.4f} \".format(beta, mu, spreading_rate), end='')\n",
    "            data = np.mean([SIS(graph, tmax, beta, mu, initial_inf) for i in range(iterations)], axis=0)\n",
    "            deltas = compute_deltas(data)\n",
    "            equilibrium = find_equilibrium(deltas, threshold, consecutive)\n",
    "            equilibrium_values.append(equilibrium)\n",
    "            fraction_infected = data[equilibrium]\n",
    "            fractions_infected.append(fraction_infected)\n",
    "            if trace: print(\"equilibrium: {0:2d} fraction_infected: {1:4.4f}\".format(equilibrium, fraction_infected))\n",
    "    if trace: print(\"Done.\")\n",
    "    return fractions_infected"
   ]
  },
  {
   "cell_type": "code",
   "execution_count": 377,
   "metadata": {},
   "outputs": [
    {
     "name": "stdout",
     "output_type": "stream",
     "text": [
      "elapsed time: 252.031 seconds\n"
     ]
    }
   ],
   "source": [
    "import time\n",
    "\n",
    "t0 = time.time()\n",
    "\n",
    "cycles = 10\n",
    "er_result = np.mean([compute(er_graph, beta_values, mu_values) for i in range(cycles)], axis=0)\n",
    "\n",
    "t1 = time.time()\n",
    "\n",
    "total = t1-t0\n",
    "\n",
    "print(\"elapsed time: {0:3.3f} seconds\".format(total))"
   ]
  },
  {
   "cell_type": "code",
   "execution_count": 380,
   "metadata": {},
   "outputs": [
    {
     "name": "stdout",
     "output_type": "stream",
     "text": [
      "elapsed time: 292.623 seconds\n"
     ]
    }
   ],
   "source": [
    "import time\n",
    "\n",
    "t0 = time.time()\n",
    "\n",
    "cycles = 10\n",
    "sf_result = np.mean([compute(sf_graph, beta_values, mu_values) for i in range(cycles)], axis=0)\n",
    "\n",
    "t1 = time.time()\n",
    "\n",
    "total = t1-t0\n",
    "\n",
    "print(\"elapsed time: {0:3.3f} seconds\".format(total))"
   ]
  },
  {
   "cell_type": "code",
   "execution_count": 358,
   "metadata": {
    "collapsed": true
   },
   "outputs": [],
   "source": [
    "def spreading_rates(beta_values=[0.05], mu_values=[0.1]):\n",
    "    result = []\n",
    "    for beta in beta_values:\n",
    "        for mu in mu_values:\n",
    "            result.append(beta/mu)\n",
    "    return result"
   ]
  },
  {
   "cell_type": "code",
   "execution_count": 385,
   "metadata": {},
   "outputs": [
    {
     "data": {
      "image/png": "[encoded data removed]",
      "text/plain": [
       "<matplotlib.figure.Figure at 0x11b7ed240>"
      ]
     },
     "metadata": {},
     "output_type": "display_data"
    }
   ],
   "source": [
    "plt.plot(spreading_rates(beta_values, mu_values), er_result, label=\"Random\")\n",
    "plt.plot(spreading_rates(beta_values, mu_values), sf_result, label=\"Scale-Free\")\n",
    "plt.xlabel(\"$\\lambda$\")\n",
    "plt.ylabel(\"$i(\\lambda)$\")\n",
    "plt.legend()\n",
    "plt.show()"
   ]
  },
  {
   "cell_type": "markdown",
   "metadata": {},
   "source": [
    "#### Comments\n",
    "This plot did not turn out the way I expected."
   ]
  },
  {
   "cell_type": "code",
   "execution_count": null,
   "metadata": {
    "collapsed": true
   },
   "outputs": [],
   "source": []
  }
 ],
 "metadata": {
  "anaconda-cloud": {},
  "kernelspec": {
   "display_name": "Python 3",
   "language": "python",
   "name": "python3"
  },
  "language_info": {
   "codemirror_mode": {
    "name": "ipython",
    "version": 3
   },
   "file_extension": ".py",
   "mimetype": "text/x-python",
   "name": "python",
   "nbconvert_exporter": "python",
   "pygments_lexer": "ipython3",
   "version": "3.6.1"
  }
 },
 "nbformat": 4,
 "nbformat_minor": 1
}
