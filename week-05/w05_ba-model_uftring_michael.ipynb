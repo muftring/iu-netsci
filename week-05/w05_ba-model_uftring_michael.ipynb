{
 "cells": [
  {
   "cell_type": "markdown",
   "metadata": {},
   "source": [
    "Michael Uftring   \n",
    "Indiana University   \n",
    "Network Science, Spring 2018   \n",
    "Week#5 Assignment - Scale-free networks"
   ]
  },
  {
   "cell_type": "markdown",
   "metadata": {},
   "source": [
    "# Assignment: Scale-free networks\n",
    "\n",
    "## 1. Implement BA algorithm\n",
    "For this assignment you will be implementing the BA algorithm from the reading (see [Barabasi Ch 5.3](http://barabasi.com/networksciencebook/)). Create a function that takes `n` the number of nodes for the graph, and `m_o` the initial number of nodes, as arguments and returns a networkx graph with a scale-free degree distribution.\n",
    "\n",
    "The first step is figuring out how to do \"preferential attachment\" based on the degree of existing nodes. A brute-force way to do this is creating a huge list with duplicated items. Say, node 1's degree is 6, node 2's degree is 3, and node 3's degree is 2. (I know, I know. This is not a 'graphical' sequence. But for the sake of simplicity let's just assume that.) Then, we can create the following list to *preferentially sample* nodes from the network. "
   ]
  },
  {
   "cell_type": "code",
   "execution_count": 1,
   "metadata": {},
   "outputs": [],
   "source": [
    "alist = [1,1,1,1,1,1,2,2,2,3,3]"
   ]
  },
  {
   "cell_type": "markdown",
   "metadata": {},
   "source": [
    "1 is repeated 6 times, 2 is repeated 3 times, and so on. Now if we randomly sample from this list, we will be three times more like to sample node 1 than node 3!"
   ]
  },
  {
   "cell_type": "code",
   "execution_count": 7,
   "metadata": {},
   "outputs": [
    {
     "data": {
      "text/plain": [
       "[1]"
      ]
     },
     "execution_count": 7,
     "metadata": {},
     "output_type": "execute_result"
    }
   ],
   "source": [
    "import random\n",
    "\n",
    "random.sample(alist, 1)"
   ]
  },
  {
   "cell_type": "markdown",
   "metadata": {},
   "source": [
    "So, if you can maintain this list for your network, you can implement preferential attachment. Simply update this list whenever you add an edge! \n",
    "\n",
    "An alternative way is using `numpy`'s sampling method. If you run the following cell, the documentation for the [`np.random.choice`](http://docs.scipy.org/doc/numpy/reference/generated/numpy.random.choice.html) function will appear at the bottom. "
   ]
  },
  {
   "cell_type": "code",
   "execution_count": 8,
   "metadata": {},
   "outputs": [],
   "source": [
    "import numpy as np\n",
    "\n",
    "np.random.choice?"
   ]
  },
  {
   "cell_type": "markdown",
   "metadata": {},
   "source": [
    "### exploring `numpy.random.choice()`"
   ]
  },
  {
   "cell_type": "markdown",
   "metadata": {},
   "source": [
    "```\n",
    "choice(a, size=None, replace=True, p=None)\n",
    "\n",
    "Generates a random sample from a given 1-D array\n",
    "\n",
    "        .. versionadded:: 1.7.0\n",
    "\n",
    "Parameters\n",
    "-----------\n",
    "a : 1-D array-like or int\n",
    "    If an ndarray, a random sample is generated from its elements.\n",
    "    If an int, the random sample is generated as if a were np.arange(a)\n",
    "size : int or tuple of ints, optional\n",
    "    Output shape.  If the given shape is, e.g., ``(m, n, k)``, then\n",
    "    ``m * n * k`` samples are drawn.  Default is None, in which case a\n",
    "    single value is returned.\n",
    "replace : boolean, optional\n",
    "    Whether the sample is with or without replacement\n",
    "p : 1-D array-like, optional\n",
    "    The probabilities associated with each entry in a.\n",
    "    If not given the sample assumes a uniform distribution over all\n",
    "    entries in a.\n",
    "\n",
    "Returns\n",
    "--------\n",
    "samples : single item or ndarray\n",
    "    The generated random samples\n",
    "```"
   ]
  },
  {
   "cell_type": "code",
   "execution_count": 9,
   "metadata": {},
   "outputs": [
    {
     "data": {
      "text/plain": [
       "2"
      ]
     },
     "execution_count": 9,
     "metadata": {},
     "output_type": "execute_result"
    }
   ],
   "source": [
    "np.random.choice(5)"
   ]
  },
  {
   "cell_type": "code",
   "execution_count": 10,
   "metadata": {},
   "outputs": [
    {
     "data": {
      "text/plain": [
       "4"
      ]
     },
     "execution_count": 10,
     "metadata": {},
     "output_type": "execute_result"
    }
   ],
   "source": [
    "np.random.choice([0,1,2,3,4,5,6,7,8,9])"
   ]
  },
  {
   "cell_type": "code",
   "execution_count": 11,
   "metadata": {},
   "outputs": [
    {
     "data": {
      "text/plain": [
       "array([9, 8])"
      ]
     },
     "execution_count": 11,
     "metadata": {},
     "output_type": "execute_result"
    }
   ],
   "source": [
    "np.random.choice([0,1,2,3,4,5,6,7,8,9], 2)"
   ]
  },
  {
   "cell_type": "code",
   "execution_count": 12,
   "metadata": {},
   "outputs": [
    {
     "data": {
      "text/plain": [
       "array([[2, 7],\n",
       "       [7, 3]])"
      ]
     },
     "execution_count": 12,
     "metadata": {},
     "output_type": "execute_result"
    }
   ],
   "source": [
    "np.random.choice([0,1,2,3,4,5,6,7,8,9], [2,2])"
   ]
  },
  {
   "cell_type": "code",
   "execution_count": 13,
   "metadata": {},
   "outputs": [
    {
     "data": {
      "text/plain": [
       "array([[1, 2, 9],\n",
       "       [0, 4, 8],\n",
       "       [3, 7, 5]])"
      ]
     },
     "execution_count": 13,
     "metadata": {},
     "output_type": "execute_result"
    }
   ],
   "source": [
    "np.random.choice([0,1,2,3,4,5,6,7,8,9], [3,3], replace=False)"
   ]
  },
  {
   "cell_type": "markdown",
   "metadata": {},
   "source": [
    "It accepts `p` parameter and you can specifies the probability of each item in the list! So instead of creating"
   ]
  },
  {
   "cell_type": "code",
   "execution_count": 14,
   "metadata": {},
   "outputs": [],
   "source": [
    "alist = [1,1,1,1,1,1,2,2,2,3,3]"
   ]
  },
  {
   "cell_type": "markdown",
   "metadata": {},
   "source": [
    "You can do"
   ]
  },
  {
   "cell_type": "code",
   "execution_count": 15,
   "metadata": {
    "scrolled": true
   },
   "outputs": [
    {
     "data": {
      "text/plain": [
       "[0.5454545454545454, 0.2727272727272727, 0.18181818181818182]"
      ]
     },
     "execution_count": 15,
     "metadata": {},
     "output_type": "execute_result"
    }
   ],
   "source": [
    "nodes = [1,2,3]\n",
    "degrees = [6,3,2]\n",
    "sum_degrees = sum(degrees)\n",
    "node_probs = [x*1.0/sum_degrees for x in degrees]  # *1.0 is not really necessary for python3\n",
    "node_probs"
   ]
  },
  {
   "cell_type": "code",
   "execution_count": 16,
   "metadata": {},
   "outputs": [
    {
     "data": {
      "text/plain": [
       "2"
      ]
     },
     "execution_count": 16,
     "metadata": {},
     "output_type": "execute_result"
    }
   ],
   "source": [
    "np.random.choice(nodes, p=node_probs)"
   ]
  },
  {
   "cell_type": "markdown",
   "metadata": {},
   "source": [
    "or sample two nodes from the list. "
   ]
  },
  {
   "cell_type": "code",
   "execution_count": 17,
   "metadata": {},
   "outputs": [
    {
     "data": {
      "text/plain": [
       "array([1, 2])"
      ]
     },
     "execution_count": 17,
     "metadata": {},
     "output_type": "execute_result"
    }
   ],
   "source": [
    "np.random.choice(nodes, 2, replace=False, p=node_probs)"
   ]
  },
  {
   "cell_type": "markdown",
   "metadata": {},
   "source": [
    "Now you're ready to implement the BA algorithm! If it's difficult, start with m=1. This is much simpler. Then generalizing to m!=1 is not that complicated. "
   ]
  },
  {
   "cell_type": "code",
   "execution_count": 61,
   "metadata": {},
   "outputs": [],
   "source": [
    "import networkx as nx\n",
    "\n",
    "'''\n",
    "barabasi_albert_graph(n, m=1):\n",
    "    a function that takes `n` the number of nodes for the graph, \n",
    "    and `m` the initial number of nodes, as arguments and returns a networkx \n",
    "    graph with a scale-free degree distribution.\n",
    "'''\n",
    "def barabasi_albert_graph(n, m=1):\n",
    "    # create a complete graph with m initial nodes. \n",
    "    # (note: we could use nx.complete_graph() here, but opt to do the creation manually\n",
    "    # to keep the `type` of the graph created as Graph instead of Complete Graph)\n",
    "    g = nx.Graph()\n",
    "    for i in range(m):\n",
    "        g.add_node(i)\n",
    "        for j in range(i+1,m):\n",
    "            g.add_edge(i,j)\n",
    "    \n",
    "    # while network has less than n nodes, \n",
    "    for i in range(m, n):\n",
    "        # 1. preferentially sample m nodes from the network,\n",
    "        nodes = g.nodes()\n",
    "        degrees = list(g.degree().values())\n",
    "        sum_degrees = sum(degrees)\n",
    "        node_probs = [x*1.0/sum_degrees for x in degrees]\n",
    "        selected = np.random.choice(nodes, size=m, replace=False, p = node_probs)\n",
    "        # 2. create a new node, \n",
    "        g.add_node(i)\n",
    "        # 3. and connect the new node to the m selected nodes.\n",
    "        for s in selected:\n",
    "            g.add_edge(i, s)\n",
    "    \n",
    "    return g"
   ]
  },
  {
   "cell_type": "markdown",
   "metadata": {},
   "source": [
    "## 2. BA graph analysis\n",
    "Test your algorithm by creating a graph with `N = 1200` and `m_o = 7`. Calculate (and print) the average shortest path length of the graph:"
   ]
  },
  {
   "cell_type": "code",
   "execution_count": 84,
   "metadata": {},
   "outputs": [],
   "source": [
    "N = 1200\n",
    "m_o = 7\n",
    "G = barabasi_albert_graph(N, m_o)"
   ]
  },
  {
   "cell_type": "code",
   "execution_count": 89,
   "metadata": {},
   "outputs": [
    {
     "name": "stdout",
     "output_type": "stream",
     "text": [
      "The average shortest path length is 2.780.\n"
     ]
    }
   ],
   "source": [
    "print(\"The average shortest path length is {0:.3f}.\".format(nx.average_shortest_path_length(G)))"
   ]
  },
  {
   "cell_type": "markdown",
   "metadata": {},
   "source": [
    "Calculate (and print) the average clustering coefficient of the graph:"
   ]
  },
  {
   "cell_type": "code",
   "execution_count": 90,
   "metadata": {},
   "outputs": [
    {
     "name": "stdout",
     "output_type": "stream",
     "text": [
      "The average clustering coefficient is 0.046\n"
     ]
    }
   ],
   "source": [
    "print(\"The average clustering coefficient is {0:.3f}\".format(nx.average_clustering(G)))"
   ]
  },
  {
   "cell_type": "markdown",
   "metadata": {},
   "source": [
    "Now plot a histogram of the degree distribution of the graph (remember to include `%matplotlib inline` for plotting in Jupyter):"
   ]
  },
  {
   "cell_type": "code",
   "execution_count": 91,
   "metadata": {},
   "outputs": [],
   "source": [
    "import matplotlib.pyplot as plt\n",
    "%matplotlib inline"
   ]
  },
  {
   "cell_type": "code",
   "execution_count": 109,
   "metadata": {},
   "outputs": [],
   "source": [
    "degrees = sorted(G.degree().values())"
   ]
  },
  {
   "cell_type": "code",
   "execution_count": 111,
   "metadata": {},
   "outputs": [
    {
     "data": {
      "image/png": "[encoded data removed]",
      "text/plain": [
       "<matplotlib.figure.Figure at 0x11380e320>"
      ]
     },
     "metadata": {},
     "output_type": "display_data"
    }
   ],
   "source": [
    "(v, e, p) = plt.hist(degrees)"
   ]
  },
  {
   "cell_type": "markdown",
   "metadata": {},
   "source": [
    "## 3. BA and ER comparison\n",
    "Now lets compare the scale-free and random graphs. Create a random graph with the same number of nodes and about the same number of edges, then calculate the average shortest path length of that graph:"
   ]
  },
  {
   "cell_type": "code",
   "execution_count": 122,
   "metadata": {},
   "outputs": [],
   "source": [
    "def averageDegree(G):\n",
    "    return sum(G.degree().values())/len(G.nodes())"
   ]
  },
  {
   "cell_type": "code",
   "execution_count": 113,
   "metadata": {},
   "outputs": [],
   "source": [
    "def probabilityForDegree(N, k):\n",
    "    return k/(N-1)"
   ]
  },
  {
   "cell_type": "code",
   "execution_count": 124,
   "metadata": {},
   "outputs": [],
   "source": [
    "k = averageDegree(G)\n",
    "p = probabilityForDegree(N, k)\n",
    "R = nx.erdos_renyi_graph(N, p)"
   ]
  },
  {
   "cell_type": "markdown",
   "metadata": {},
   "source": [
    "Calculate (and print) the average clustering coefficient of the graph:"
   ]
  },
  {
   "cell_type": "code",
   "execution_count": 126,
   "metadata": {},
   "outputs": [
    {
     "name": "stdout",
     "output_type": "stream",
     "text": [
      "The average shortest path length is 2.938.\n",
      "The average clustering coefficient is 0.012\n"
     ]
    }
   ],
   "source": [
    "print(\"The average shortest path length is {0:.3f}.\".format(nx.average_shortest_path_length(R)))\n",
    "print(\"The average clustering coefficient is {0:.3f}\".format(nx.average_clustering(R)))"
   ]
  },
  {
   "cell_type": "markdown",
   "metadata": {},
   "source": [
    "Now plot a histogram of the degree distribution of the random graph:"
   ]
  },
  {
   "cell_type": "code",
   "execution_count": 127,
   "metadata": {},
   "outputs": [
    {
     "data": {
      "image/png": "[encoded data removed]",
      "text/plain": [
       "<matplotlib.figure.Figure at 0x11342a400>"
      ]
     },
     "metadata": {},
     "output_type": "display_data"
    }
   ],
   "source": [
    "degrees = sorted(R.degree().values())\n",
    "(v, e, p) = plt.hist(degrees)"
   ]
  },
  {
   "cell_type": "markdown",
   "metadata": {},
   "source": [
    "How do the average shortest path lengths, average clustering coefficients, and degree distributions between the graphs compare?"
   ]
  },
  {
   "cell_type": "markdown",
   "metadata": {},
   "source": [
    "Answer:\n",
    "\n",
    "The table below summarizes the average Shortest Path Length and Clustering Coefficient values.\n",
    "\n",
    "| Graph Type      | Average Shortest Path Length | Average Clustering Coefficient |\n",
    "| --------------- | ---------------------------- | ------------------------------ |\n",
    "| Barabasi-Albert | 2.780                        | 0.046                          |\n",
    "| Erdos-Renyi     | 2.938                        | 0.012                          |\n",
    "\n",
    "The two graph types have comparable *Average Shortest Path Length*. The Barabasi-Albert model has an *Average Clustering Coefficient* that is almost 4x that of the Erdos-Renyi model. This suggests that there is more clustering in the Barabasi-Albert model, which would be expected given the presence of hubs.\n",
    "\n",
    "The most striking difference between the two graph types is the degree distribution, which is best understood by observing the histograms plotted above. The Barabasi-Albert model shows a Power-Law distribution: the majority of nodes have a degree under 20, and almost all are under 40 or 60, but the distribution has the prominent *fat tail* which shows outliers with degree as large as 140 or slightly higher. The Erdos-Renyi model, on the other hand, shows a degree distribution resembling a Normal distribution: nodes have degree betwen 5 and 25 (or so), the majority fall between 10 and 20, and the peak is around 12 or 13.\n"
   ]
  },
  {
   "cell_type": "markdown",
   "metadata": {},
   "source": [
    "## 4. Preferential attachment without using the degree\n",
    "\n",
    "As explained in a video, it is possible to achieve the linear preferential attachment without calculating the degree by using the principle that we learned in the friendship paradox. Implement this version and see whether you can get a power-law degree distribution.  \n",
    "\n",
    "Helpful page:\n",
    "- https://networkx.github.io/documentation/stable/reference/classes/generated/networkx.Graph.edges.html"
   ]
  },
  {
   "cell_type": "code",
   "execution_count": 183,
   "metadata": {},
   "outputs": [],
   "source": [
    "import networkx as nx\n",
    "\n",
    "'''\n",
    "barabasi_albert_graph(n, m=1):\n",
    "    a function that takes `n` the number of nodes for the graph, \n",
    "    and `m` the initial number of nodes, as arguments and returns a networkx \n",
    "    graph with a scale-free degree distribution.\n",
    "'''\n",
    "def barabasi_albert_graph_without_using_degree(n, m=1):\n",
    "    # create a complete graph with m initial nodes. \n",
    "    # (note: we could use nx.complete_graph() here, but opt to do the creation manually\n",
    "    # to keep the `type` of the graph created as Graph instead of Complete Graph)\n",
    "    g = nx.Graph()\n",
    "    for i in range(m):\n",
    "        g.add_node(i)\n",
    "        for j in range(i+1,m):\n",
    "            g.add_edge(i,j)\n",
    "    \n",
    "    # while network has less than n nodes, \n",
    "    for i in range(m, n):\n",
    "        # get the list of edges\n",
    "        edges = g.edges()\n",
    "        # randomly select m of the edges with equal probability\n",
    "        selected = np.random.choice(len(edges), m, replace=False)\n",
    "        # create a new node\n",
    "        g.add_node(i)\n",
    "        for s in selected:\n",
    "            # for each of the selected edges, randomly pick one of the nodes\n",
    "            linkTo = np.random.choice(edges[s], 1)[0]\n",
    "            # and add an edge from the new node to that node\n",
    "            g.add_edge(i, linkTo)\n",
    "    \n",
    "    return g"
   ]
  },
  {
   "cell_type": "code",
   "execution_count": 184,
   "metadata": {},
   "outputs": [],
   "source": [
    "N = 1200\n",
    "m_o = 7\n",
    "G = barabasi_albert_graph_without_using_degree(N, m_o)"
   ]
  },
  {
   "cell_type": "code",
   "execution_count": 185,
   "metadata": {},
   "outputs": [
    {
     "name": "stdout",
     "output_type": "stream",
     "text": [
      "Name: \n",
      "Type: Graph\n",
      "Number of nodes: 1200\n",
      "Number of edges: 8259\n",
      "Average degree:  13.7650\n"
     ]
    }
   ],
   "source": [
    "print(nx.info(G))"
   ]
  },
  {
   "cell_type": "code",
   "execution_count": 186,
   "metadata": {},
   "outputs": [
    {
     "name": "stdout",
     "output_type": "stream",
     "text": [
      "The average shortest path length is 2.790.\n",
      "The average clustering coefficient is 0.045\n"
     ]
    }
   ],
   "source": [
    "print(\"The average shortest path length is {0:.3f}.\".format(nx.average_shortest_path_length(G)))\n",
    "print(\"The average clustering coefficient is {0:.3f}\".format(nx.average_clustering(G)))"
   ]
  },
  {
   "cell_type": "code",
   "execution_count": 187,
   "metadata": {},
   "outputs": [],
   "source": [
    "import matplotlib.pyplot as plt\n",
    "%matplotlib inline"
   ]
  },
  {
   "cell_type": "code",
   "execution_count": 188,
   "metadata": {},
   "outputs": [
    {
     "data": {
      "image/png": "[encoded data removed]",
      "text/plain": [
       "<matplotlib.figure.Figure at 0x1145736a0>"
      ]
     },
     "metadata": {},
     "output_type": "display_data"
    }
   ],
   "source": [
    "degrees = sorted(G.degree().values())\n",
    "(v, e, p) = plt.hist(degrees)"
   ]
  },
  {
   "cell_type": "markdown",
   "metadata": {},
   "source": [
    "Comments:\n",
    "\n",
    "The Barabasi-Albert *preferential attachment* mechanism was changed from operating with knowledge of each node's degree (and calculating the collection of probabilities based on such knowledge), to randomly selecting an edge from all existing edges on each iteration of adding a node, and then randomly choosing one of the nodes connected by that edge, and connecting the new node to that edge. This implementation produced the same results as before. We see similar average shortest path length, and average clustering coefficient; and the histogram of the degree distribution shows a Power-Law distribution."
   ]
  }
 ],
 "metadata": {
  "kernelspec": {
   "display_name": "Python [Root]",
   "language": "python",
   "name": "Python [Root]"
  },
  "language_info": {
   "codemirror_mode": {
    "name": "ipython",
    "version": 3
   },
   "file_extension": ".py",
   "mimetype": "text/x-python",
   "name": "python",
   "nbconvert_exporter": "python",
   "pygments_lexer": "ipython3",
   "version": "3.5.2"
  }
 },
 "nbformat": 4,
 "nbformat_minor": 1
}
