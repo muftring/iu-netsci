{
 "cells": [
  {
   "cell_type": "markdown",
   "metadata": {},
   "source": [
    "# Gephi Modularity Tutorial Notes"
   ]
  },
  {
   "cell_type": "markdown",
   "metadata": {},
   "source": [
    "ref: https://www.youtube.com/watch?v=7LMnpM0p4cM"
   ]
  },
  {
   "cell_type": "markdown",
   "metadata": {},
   "source": [
    "Gephi Modularity feature\n",
    "\n",
    "filtering\n",
    "- remove nodes not part of the giant component\n",
    "- remove nodes with degree = 1\n",
    "\n",
    "run Network Diameter: gives some centrality measures\n",
    "\n",
    "rank node by size: betweenness\n",
    "- min: 15\n",
    "- max: 80\n",
    "\n",
    "run Modularity\n",
    "- turn off \"Use weights\"\n",
    "- by default, \"Resolution\" is 1\n",
    "- We will explore how can we get different results by changing Resolution\n",
    "\n",
    "report will tell how many communities were discovered\n",
    "\n",
    "color code graph by community assignment\n",
    "\n",
    "partition nodes by: Modularity Class\n",
    "\n",
    "adjust Modularity to reduce the number of groups by changing Resolution\n",
    "- lower will produce more communities\n",
    "- higher than 1.0 will produce fewer communities (bigger ones)\n",
    "- 5.0 is often a good setting (why? for large graphs??)\n",
    "\n",
    "reapply color code graph by community assignment\n",
    "\n",
    "When using Modularity one of the important things to think about is what number to put in for Resolution. Try different values, and when you have something that works (the graph begins to look good) work on setting the colors so the different groups can be differentiated.\n",
    "\n",
    "To tailor the color for specific nodes and groups, find a node in the Overview, right click, highlight in Data Laboratory, switch to Data Laboratory view, see which Modularity Class the node belongs to (it will be a number), switch to Overview, find the group in the Partition view, slect it and change the color."
   ]
  }
 ],
 "metadata": {
  "kernelspec": {
   "display_name": "Python [Root]",
   "language": "python",
   "name": "Python [Root]"
  },
  "language_info": {
   "codemirror_mode": {
    "name": "ipython",
    "version": 3
   },
   "file_extension": ".py",
   "mimetype": "text/x-python",
   "name": "python",
   "nbconvert_exporter": "python",
   "pygments_lexer": "ipython3",
   "version": "3.5.2"
  }
 },
 "nbformat": 4,
 "nbformat_minor": 2
}
