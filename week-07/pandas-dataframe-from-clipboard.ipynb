{
 "cells": [
  {
   "cell_type": "code",
   "execution_count": 1,
   "metadata": {},
   "outputs": [],
   "source": [
    "import pandas as pd"
   ]
  },
  {
   "cell_type": "markdown",
   "metadata": {},
   "source": [
    "1. open the file `2000-NCAA-Div1A-Football-Teams-and-Conferences.txt`\n",
    "2. select a section of text, excluding the line beginning with `#`\n",
    "3. copy\n",
    "4. execute the remaining cells in this notebook"
   ]
  },
  {
   "cell_type": "code",
   "execution_count": 96,
   "metadata": {},
   "outputs": [],
   "source": [
    "df = pd.read_clipboard(\"\\t\")"
   ]
  },
  {
   "cell_type": "code",
   "execution_count": 97,
   "metadata": {},
   "outputs": [
    {
     "data": {
      "text/html": [
       "<div>\n",
       "<style>\n",
       "    .dataframe thead tr:only-child th {\n",
       "        text-align: right;\n",
       "    }\n",
       "\n",
       "    .dataframe thead th {\n",
       "        text-align: left;\n",
       "    }\n",
       "\n",
       "    .dataframe tbody tr th {\n",
       "        vertical-align: top;\n",
       "    }\n",
       "</style>\n",
       "<table border=\"1\" class=\"dataframe\">\n",
       "  <thead>\n",
       "    <tr style=\"text-align: right;\">\n",
       "      <th></th>\n",
       "      <th>School</th>\n",
       "      <th>W</th>\n",
       "      <th>L</th>\n",
       "      <th>Pct</th>\n",
       "      <th>W.1</th>\n",
       "      <th>L.1</th>\n",
       "      <th>Pct.1</th>\n",
       "      <th>Pts</th>\n",
       "      <th>Pts.1</th>\n",
       "      <th>SRS</th>\n",
       "      <th>SOS</th>\n",
       "      <th>AP Pre</th>\n",
       "      <th>AP High</th>\n",
       "      <th>AP Post</th>\n",
       "      <th>Notes</th>\n",
       "    </tr>\n",
       "  </thead>\n",
       "  <tbody>\n",
       "    <tr>\n",
       "      <th>0</th>\n",
       "      <td>Notre Dame</td>\n",
       "      <td>9</td>\n",
       "      <td>3</td>\n",
       "      <td>0.750</td>\n",
       "      <td>0</td>\n",
       "      <td>0</td>\n",
       "      <td>NaN</td>\n",
       "      <td>29.4</td>\n",
       "      <td>22.3</td>\n",
       "      <td>12.45</td>\n",
       "      <td>5.12</td>\n",
       "      <td>NaN</td>\n",
       "      <td>10.0</td>\n",
       "      <td>15.0</td>\n",
       "      <td>NaN</td>\n",
       "    </tr>\n",
       "    <tr>\n",
       "      <th>1</th>\n",
       "      <td>South Florida</td>\n",
       "      <td>7</td>\n",
       "      <td>4</td>\n",
       "      <td>0.636</td>\n",
       "      <td>0</td>\n",
       "      <td>0</td>\n",
       "      <td>NaN</td>\n",
       "      <td>25.3</td>\n",
       "      <td>18.3</td>\n",
       "      <td>-8.94</td>\n",
       "      <td>-12.13</td>\n",
       "      <td>NaN</td>\n",
       "      <td>NaN</td>\n",
       "      <td>NaN</td>\n",
       "      <td>NaN</td>\n",
       "    </tr>\n",
       "    <tr>\n",
       "      <th>2</th>\n",
       "      <td>UCF</td>\n",
       "      <td>7</td>\n",
       "      <td>4</td>\n",
       "      <td>0.636</td>\n",
       "      <td>0</td>\n",
       "      <td>0</td>\n",
       "      <td>NaN</td>\n",
       "      <td>30.3</td>\n",
       "      <td>20.1</td>\n",
       "      <td>-1.83</td>\n",
       "      <td>-7.10</td>\n",
       "      <td>NaN</td>\n",
       "      <td>NaN</td>\n",
       "      <td>NaN</td>\n",
       "      <td>NaN</td>\n",
       "    </tr>\n",
       "    <tr>\n",
       "      <th>3</th>\n",
       "      <td>Middle Tennessee State</td>\n",
       "      <td>6</td>\n",
       "      <td>5</td>\n",
       "      <td>0.545</td>\n",
       "      <td>0</td>\n",
       "      <td>0</td>\n",
       "      <td>NaN</td>\n",
       "      <td>31.8</td>\n",
       "      <td>28.7</td>\n",
       "      <td>-4.50</td>\n",
       "      <td>-6.50</td>\n",
       "      <td>NaN</td>\n",
       "      <td>NaN</td>\n",
       "      <td>NaN</td>\n",
       "      <td>NaN</td>\n",
       "    </tr>\n",
       "    <tr>\n",
       "      <th>4</th>\n",
       "      <td>Connecticut</td>\n",
       "      <td>3</td>\n",
       "      <td>8</td>\n",
       "      <td>0.273</td>\n",
       "      <td>0</td>\n",
       "      <td>0</td>\n",
       "      <td>NaN</td>\n",
       "      <td>20.0</td>\n",
       "      <td>33.5</td>\n",
       "      <td>-16.91</td>\n",
       "      <td>-9.36</td>\n",
       "      <td>NaN</td>\n",
       "      <td>NaN</td>\n",
       "      <td>NaN</td>\n",
       "      <td>NaN</td>\n",
       "    </tr>\n",
       "    <tr>\n",
       "      <th>5</th>\n",
       "      <td>Louisiana Tech</td>\n",
       "      <td>3</td>\n",
       "      <td>9</td>\n",
       "      <td>0.250</td>\n",
       "      <td>0</td>\n",
       "      <td>0</td>\n",
       "      <td>NaN</td>\n",
       "      <td>26.4</td>\n",
       "      <td>33.0</td>\n",
       "      <td>-10.72</td>\n",
       "      <td>-5.30</td>\n",
       "      <td>NaN</td>\n",
       "      <td>NaN</td>\n",
       "      <td>NaN</td>\n",
       "      <td>NaN</td>\n",
       "    </tr>\n",
       "    <tr>\n",
       "      <th>6</th>\n",
       "      <td>Louisiana-Lafayette</td>\n",
       "      <td>1</td>\n",
       "      <td>10</td>\n",
       "      <td>0.091</td>\n",
       "      <td>0</td>\n",
       "      <td>0</td>\n",
       "      <td>NaN</td>\n",
       "      <td>15.5</td>\n",
       "      <td>32.3</td>\n",
       "      <td>-21.67</td>\n",
       "      <td>-8.58</td>\n",
       "      <td>NaN</td>\n",
       "      <td>NaN</td>\n",
       "      <td>NaN</td>\n",
       "      <td>NaN</td>\n",
       "    </tr>\n",
       "    <tr>\n",
       "      <th>7</th>\n",
       "      <td>Louisiana-Monroe</td>\n",
       "      <td>1</td>\n",
       "      <td>10</td>\n",
       "      <td>0.091</td>\n",
       "      <td>0</td>\n",
       "      <td>0</td>\n",
       "      <td>NaN</td>\n",
       "      <td>8.7</td>\n",
       "      <td>37.7</td>\n",
       "      <td>-26.52</td>\n",
       "      <td>-7.89</td>\n",
       "      <td>NaN</td>\n",
       "      <td>NaN</td>\n",
       "      <td>NaN</td>\n",
       "      <td>NaN</td>\n",
       "    </tr>\n",
       "    <tr>\n",
       "      <th>8</th>\n",
       "      <td>Navy</td>\n",
       "      <td>1</td>\n",
       "      <td>10</td>\n",
       "      <td>0.091</td>\n",
       "      <td>0</td>\n",
       "      <td>0</td>\n",
       "      <td>NaN</td>\n",
       "      <td>16.5</td>\n",
       "      <td>35.5</td>\n",
       "      <td>-15.36</td>\n",
       "      <td>0.73</td>\n",
       "      <td>NaN</td>\n",
       "      <td>NaN</td>\n",
       "      <td>NaN</td>\n",
       "      <td>NaN</td>\n",
       "    </tr>\n",
       "  </tbody>\n",
       "</table>\n",
       "</div>"
      ],
      "text/plain": [
       "                   School  W   L    Pct  W.1  L.1  Pct.1   Pts  Pts.1    SRS  \\\n",
       "0              Notre Dame  9   3  0.750    0    0    NaN  29.4   22.3  12.45   \n",
       "1           South Florida  7   4  0.636    0    0    NaN  25.3   18.3  -8.94   \n",
       "2                     UCF  7   4  0.636    0    0    NaN  30.3   20.1  -1.83   \n",
       "3  Middle Tennessee State  6   5  0.545    0    0    NaN  31.8   28.7  -4.50   \n",
       "4             Connecticut  3   8  0.273    0    0    NaN  20.0   33.5 -16.91   \n",
       "5          Louisiana Tech  3   9  0.250    0    0    NaN  26.4   33.0 -10.72   \n",
       "6     Louisiana-Lafayette  1  10  0.091    0    0    NaN  15.5   32.3 -21.67   \n",
       "7        Louisiana-Monroe  1  10  0.091    0    0    NaN   8.7   37.7 -26.52   \n",
       "8                    Navy  1  10  0.091    0    0    NaN  16.5   35.5 -15.36   \n",
       "\n",
       "     SOS  AP Pre  AP High  AP Post  Notes  \n",
       "0   5.12     NaN     10.0     15.0    NaN  \n",
       "1 -12.13     NaN      NaN      NaN    NaN  \n",
       "2  -7.10     NaN      NaN      NaN    NaN  \n",
       "3  -6.50     NaN      NaN      NaN    NaN  \n",
       "4  -9.36     NaN      NaN      NaN    NaN  \n",
       "5  -5.30     NaN      NaN      NaN    NaN  \n",
       "6  -8.58     NaN      NaN      NaN    NaN  \n",
       "7  -7.89     NaN      NaN      NaN    NaN  \n",
       "8   0.73     NaN      NaN      NaN    NaN  "
      ]
     },
     "execution_count": 97,
     "metadata": {},
     "output_type": "execute_result"
    }
   ],
   "source": [
    "df"
   ]
  },
  {
   "cell_type": "code",
   "execution_count": 84,
   "metadata": {},
   "outputs": [
    {
     "data": {
      "text/plain": [
       "0    Texas Christian\n",
       "1               UTEP\n",
       "2       Fresno State\n",
       "3     San Jose State\n",
       "4              Tulsa\n",
       "5             Hawaii\n",
       "6               Rice\n",
       "7                SMU\n",
       "8             Nevada\n",
       "Name: School, dtype: object"
      ]
     },
     "execution_count": 84,
     "metadata": {},
     "output_type": "execute_result"
    }
   ],
   "source": [
    "df.School"
   ]
  },
  {
   "cell_type": "code",
   "execution_count": 85,
   "metadata": {},
   "outputs": [
    {
     "data": {
      "text/plain": [
       "array(['Texas Christian', 'UTEP', 'Fresno State', 'San Jose State',\n",
       "       'Tulsa', 'Hawaii', 'Rice', 'SMU', 'Nevada'], dtype=object)"
      ]
     },
     "execution_count": 85,
     "metadata": {},
     "output_type": "execute_result"
    }
   ],
   "source": [
    "df.School.values"
   ]
  },
  {
   "cell_type": "code",
   "execution_count": 32,
   "metadata": {},
   "outputs": [],
   "source": [
    "members = {}"
   ]
  },
  {
   "cell_type": "code",
   "execution_count": 98,
   "metadata": {},
   "outputs": [],
   "source": [
    "members['Independents'] = df.School.values"
   ]
  },
  {
   "cell_type": "code",
   "execution_count": 99,
   "metadata": {},
   "outputs": [
    {
     "data": {
      "text/plain": [
       "{'ACC': array(['Florida State', 'Clemson', 'Georgia Tech', 'Virginia',\n",
       "        'North Carolina State', 'North Carolina', 'Maryland', 'Wake Forest',\n",
       "        'Duke'], dtype=object),\n",
       " 'Big 12': array(['Nebraska', 'Kansas State', 'Iowa State', 'Colorado', 'Kansas',\n",
       "        'Missouri', 'Oklahoma', 'Texas', 'Texas A&M', 'Texas Tech',\n",
       "        'Oklahoma State', 'Baylor'], dtype=object),\n",
       " 'Big East': array(['Miami (FL)', 'Virginia Tech', 'Pitt', 'Syracuse', 'Boston College',\n",
       "        'West Virginia', 'Temple', 'Rutgers'], dtype=object),\n",
       " 'Big Ten': array(['Michigan', 'Northwestern', 'Purdue', 'Ohio State', 'Wisconsin',\n",
       "        'Minnesota', 'Penn State', 'Iowa', 'Illinois', 'Michigan State',\n",
       "        'Indiana'], dtype=object),\n",
       " 'Big West': array(['Boise State', 'Utah State', 'Idaho', 'New Mexico State',\n",
       "        'North Texas', 'Arkansas State'], dtype=object),\n",
       " 'Conf-USA': array(['Louisville', 'East Carolina', 'Cincinnati', 'Southern Mississippi',\n",
       "        'UAB', 'Tulane', 'Memphis', 'Houston', 'Army'], dtype=object),\n",
       " 'Independents': array(['Notre Dame', 'South Florida', 'UCF', 'Middle Tennessee State',\n",
       "        'Connecticut', 'Louisiana Tech', 'Louisiana-Lafayette',\n",
       "        'Louisiana-Monroe', 'Navy'], dtype=object),\n",
       " 'Mid-American': array(['Marshall', 'Ohio', 'Akron', 'Miami (OH)', 'Bowling Green State',\n",
       "        'Buffalo', 'Kent State', 'Toledo', 'Western Michigan',\n",
       "        'Northern Illinois', 'Ball State', 'Eastern Michigan',\n",
       "        'Central Michigan'], dtype=object),\n",
       " 'Mountain West': array(['Colorado State', 'Air Force', 'Nevada-Las Vegas', 'Brigham Young',\n",
       "        'New Mexico', 'Utah', 'San Diego State', 'Wyoming'], dtype=object),\n",
       " 'Pac-10': array(['Oregon State', 'Washington', 'Oregon', 'Stanford', 'Arizona State',\n",
       "        'UCLA', 'Arizona', 'USC', 'Washington State', 'California'], dtype=object),\n",
       " 'SEC': array(['Florida', 'Georgia', 'South Carolina', 'Tennessee', 'Vanderbilt',\n",
       "        'Kentucky', 'Auburn', 'LSU', 'Mississippi State', 'Ole Miss',\n",
       "        'Arkansas', 'Alabama'], dtype=object),\n",
       " 'WAC': array(['Texas Christian', 'UTEP', 'Fresno State', 'San Jose State',\n",
       "        'Tulsa', 'Hawaii', 'Rice', 'SMU', 'Nevada'], dtype=object)}"
      ]
     },
     "execution_count": 99,
     "metadata": {},
     "output_type": "execute_result"
    }
   ],
   "source": [
    "members"
   ]
  },
  {
   "cell_type": "code",
   "execution_count": 107,
   "metadata": {},
   "outputs": [
    {
     "name": "stdout",
     "output_type": "stream",
     "text": [
      "Pac-10\t\t Oregon State ,Washington ,Oregon ,Stanford ,Arizona State ,UCLA ,Arizona ,USC ,Washington State ,California\n",
      "Big Ten\t\t Michigan ,Northwestern ,Purdue ,Ohio State ,Wisconsin ,Minnesota ,Penn State ,Iowa ,Illinois ,Michigan State ,Indiana\n",
      "Big West\t\t Boise State ,Utah State ,Idaho ,New Mexico State ,North Texas ,Arkansas State\n",
      "Mid-American\t\t Marshall ,Ohio ,Akron ,Miami (OH) ,Bowling Green State ,Buffalo ,Kent State ,Toledo ,Western Michigan ,Northern Illinois ,Ball State ,Eastern Michigan ,Central Michigan\n",
      "Conf-USA\t\t Louisville ,East Carolina ,Cincinnati ,Southern Mississippi ,UAB ,Tulane ,Memphis ,Houston ,Army\n",
      "Big East\t\t Miami (FL) ,Virginia Tech ,Pitt ,Syracuse ,Boston College ,West Virginia ,Temple ,Rutgers\n",
      "WAC\t\t Texas Christian ,UTEP ,Fresno State ,San Jose State ,Tulsa ,Hawaii ,Rice ,SMU ,Nevada\n",
      "ACC\t\t Florida State ,Clemson ,Georgia Tech ,Virginia ,North Carolina State ,North Carolina ,Maryland ,Wake Forest ,Duke\n",
      "SEC\t\t Florida ,Georgia ,South Carolina ,Tennessee ,Vanderbilt ,Kentucky ,Auburn ,LSU ,Mississippi State ,Ole Miss ,Arkansas ,Alabama\n",
      "Big 12\t\t Nebraska ,Kansas State ,Iowa State ,Colorado ,Kansas ,Missouri ,Oklahoma ,Texas ,Texas A&M ,Texas Tech ,Oklahoma State ,Baylor\n",
      "Independents\t\t Notre Dame ,South Florida ,UCF ,Middle Tennessee State ,Connecticut ,Louisiana Tech ,Louisiana-Lafayette ,Louisiana-Monroe ,Navy\n",
      "Mountain West\t\t Colorado State ,Air Force ,Nevada-Las Vegas ,Brigham Young ,New Mexico ,Utah ,San Diego State ,Wyoming\n"
     ]
    }
   ],
   "source": [
    "for conf in members:\n",
    "    print(conf, end=\"\")\n",
    "    print(\"\\t\\t\", end=\"\")\n",
    "    sep = \"\"\n",
    "    for school in members[conf]:\n",
    "        print(\" {}{}\".format(sep, school), end=\"\")\n",
    "        sep = \",\"\n",
    "    print(\"\")"
   ]
  },
  {
   "cell_type": "code",
   "execution_count": 116,
   "metadata": {},
   "outputs": [],
   "source": [
    "df = pd.DataFrame(columns=[\"Conference\",\"Schools\"])"
   ]
  },
  {
   "cell_type": "code",
   "execution_count": 118,
   "metadata": {},
   "outputs": [],
   "source": [
    "conferences = []\n",
    "schools = []\n",
    "for conf in members:\n",
    "    #print(conf,\", \".join(members[conf]))\n",
    "    conferences.append(conf)\n",
    "    schools.append(\", \".join(members[conf]))"
   ]
  },
  {
   "cell_type": "code",
   "execution_count": 119,
   "metadata": {},
   "outputs": [
    {
     "data": {
      "text/plain": [
       "['Pac-10',\n",
       " 'Big Ten',\n",
       " 'Big West',\n",
       " 'Mid-American',\n",
       " 'Conf-USA',\n",
       " 'Big East',\n",
       " 'WAC',\n",
       " 'ACC',\n",
       " 'SEC',\n",
       " 'Big 12',\n",
       " 'Independents',\n",
       " 'Mountain West']"
      ]
     },
     "execution_count": 119,
     "metadata": {},
     "output_type": "execute_result"
    }
   ],
   "source": [
    "conferences"
   ]
  },
  {
   "cell_type": "code",
   "execution_count": 120,
   "metadata": {},
   "outputs": [
    {
     "data": {
      "text/plain": [
       "['Oregon State, Washington, Oregon, Stanford, Arizona State, UCLA, Arizona, USC, Washington State, California',\n",
       " 'Michigan, Northwestern, Purdue, Ohio State, Wisconsin, Minnesota, Penn State, Iowa, Illinois, Michigan State, Indiana',\n",
       " 'Boise State, Utah State, Idaho, New Mexico State, North Texas, Arkansas State',\n",
       " 'Marshall, Ohio, Akron, Miami (OH), Bowling Green State, Buffalo, Kent State, Toledo, Western Michigan, Northern Illinois, Ball State, Eastern Michigan, Central Michigan',\n",
       " 'Louisville, East Carolina, Cincinnati, Southern Mississippi, UAB, Tulane, Memphis, Houston, Army',\n",
       " 'Miami (FL), Virginia Tech, Pitt, Syracuse, Boston College, West Virginia, Temple, Rutgers',\n",
       " 'Texas Christian, UTEP, Fresno State, San Jose State, Tulsa, Hawaii, Rice, SMU, Nevada',\n",
       " 'Florida State, Clemson, Georgia Tech, Virginia, North Carolina State, North Carolina, Maryland, Wake Forest, Duke',\n",
       " 'Florida, Georgia, South Carolina, Tennessee, Vanderbilt, Kentucky, Auburn, LSU, Mississippi State, Ole Miss, Arkansas, Alabama',\n",
       " 'Nebraska, Kansas State, Iowa State, Colorado, Kansas, Missouri, Oklahoma, Texas, Texas A&M, Texas Tech, Oklahoma State, Baylor',\n",
       " 'Notre Dame, South Florida, UCF, Middle Tennessee State, Connecticut, Louisiana Tech, Louisiana-Lafayette, Louisiana-Monroe, Navy',\n",
       " 'Colorado State, Air Force, Nevada-Las Vegas, Brigham Young, New Mexico, Utah, San Diego State, Wyoming']"
      ]
     },
     "execution_count": 120,
     "metadata": {},
     "output_type": "execute_result"
    }
   ],
   "source": [
    "schools"
   ]
  },
  {
   "cell_type": "code",
   "execution_count": 130,
   "metadata": {},
   "outputs": [],
   "source": [
    "df.Conference = conferences\n",
    "df.Schools = schools"
   ]
  },
  {
   "cell_type": "markdown",
   "metadata": {},
   "source": [
    "How to display full (non-truncated) dataframe information in html when converting from pandas dataframe to html?"
   ]
  },
  {
   "cell_type": "code",
   "execution_count": 131,
   "metadata": {},
   "outputs": [],
   "source": [
    "pd.set_option('display.max_colwidth', -1)"
   ]
  },
  {
   "cell_type": "code",
   "execution_count": 132,
   "metadata": {},
   "outputs": [
    {
     "data": {
      "text/html": [
       "<div>\n",
       "<style>\n",
       "    .dataframe thead tr:only-child th {\n",
       "        text-align: right;\n",
       "    }\n",
       "\n",
       "    .dataframe thead th {\n",
       "        text-align: left;\n",
       "    }\n",
       "\n",
       "    .dataframe tbody tr th {\n",
       "        vertical-align: top;\n",
       "    }\n",
       "</style>\n",
       "<table border=\"1\" class=\"dataframe\">\n",
       "  <thead>\n",
       "    <tr style=\"text-align: right;\">\n",
       "      <th></th>\n",
       "      <th>Conference</th>\n",
       "      <th>Schools</th>\n",
       "    </tr>\n",
       "  </thead>\n",
       "  <tbody>\n",
       "    <tr>\n",
       "      <th>0</th>\n",
       "      <td>Pac-10</td>\n",
       "      <td>Oregon State, Washington, Oregon, Stanford, Arizona State, UCLA, Arizona, USC, Washington State, California</td>\n",
       "    </tr>\n",
       "    <tr>\n",
       "      <th>1</th>\n",
       "      <td>Big Ten</td>\n",
       "      <td>Michigan, Northwestern, Purdue, Ohio State, Wisconsin, Minnesota, Penn State, Iowa, Illinois, Michigan State, Indiana</td>\n",
       "    </tr>\n",
       "    <tr>\n",
       "      <th>2</th>\n",
       "      <td>Big West</td>\n",
       "      <td>Boise State, Utah State, Idaho, New Mexico State, North Texas, Arkansas State</td>\n",
       "    </tr>\n",
       "    <tr>\n",
       "      <th>3</th>\n",
       "      <td>Mid-American</td>\n",
       "      <td>Marshall, Ohio, Akron, Miami (OH), Bowling Green State, Buffalo, Kent State, Toledo, Western Michigan, Northern Illinois, Ball State, Eastern Michigan, Central Michigan</td>\n",
       "    </tr>\n",
       "    <tr>\n",
       "      <th>4</th>\n",
       "      <td>Conf-USA</td>\n",
       "      <td>Louisville, East Carolina, Cincinnati, Southern Mississippi, UAB, Tulane, Memphis, Houston, Army</td>\n",
       "    </tr>\n",
       "    <tr>\n",
       "      <th>5</th>\n",
       "      <td>Big East</td>\n",
       "      <td>Miami (FL), Virginia Tech, Pitt, Syracuse, Boston College, West Virginia, Temple, Rutgers</td>\n",
       "    </tr>\n",
       "    <tr>\n",
       "      <th>6</th>\n",
       "      <td>WAC</td>\n",
       "      <td>Texas Christian, UTEP, Fresno State, San Jose State, Tulsa, Hawaii, Rice, SMU, Nevada</td>\n",
       "    </tr>\n",
       "    <tr>\n",
       "      <th>7</th>\n",
       "      <td>ACC</td>\n",
       "      <td>Florida State, Clemson, Georgia Tech, Virginia, North Carolina State, North Carolina, Maryland, Wake Forest, Duke</td>\n",
       "    </tr>\n",
       "    <tr>\n",
       "      <th>8</th>\n",
       "      <td>SEC</td>\n",
       "      <td>Florida, Georgia, South Carolina, Tennessee, Vanderbilt, Kentucky, Auburn, LSU, Mississippi State, Ole Miss, Arkansas, Alabama</td>\n",
       "    </tr>\n",
       "    <tr>\n",
       "      <th>9</th>\n",
       "      <td>Big 12</td>\n",
       "      <td>Nebraska, Kansas State, Iowa State, Colorado, Kansas, Missouri, Oklahoma, Texas, Texas A&amp;M, Texas Tech, Oklahoma State, Baylor</td>\n",
       "    </tr>\n",
       "    <tr>\n",
       "      <th>10</th>\n",
       "      <td>Independents</td>\n",
       "      <td>Notre Dame, South Florida, UCF, Middle Tennessee State, Connecticut, Louisiana Tech, Louisiana-Lafayette, Louisiana-Monroe, Navy</td>\n",
       "    </tr>\n",
       "    <tr>\n",
       "      <th>11</th>\n",
       "      <td>Mountain West</td>\n",
       "      <td>Colorado State, Air Force, Nevada-Las Vegas, Brigham Young, New Mexico, Utah, San Diego State, Wyoming</td>\n",
       "    </tr>\n",
       "  </tbody>\n",
       "</table>\n",
       "</div>"
      ],
      "text/plain": [
       "       Conference  \\\n",
       "0   Pac-10          \n",
       "1   Big Ten         \n",
       "2   Big West        \n",
       "3   Mid-American    \n",
       "4   Conf-USA        \n",
       "5   Big East        \n",
       "6   WAC             \n",
       "7   ACC             \n",
       "8   SEC             \n",
       "9   Big 12          \n",
       "10  Independents    \n",
       "11  Mountain West   \n",
       "\n",
       "                                                                                                                                                                     Schools  \n",
       "0   Oregon State, Washington, Oregon, Stanford, Arizona State, UCLA, Arizona, USC, Washington State, California                                                               \n",
       "1   Michigan, Northwestern, Purdue, Ohio State, Wisconsin, Minnesota, Penn State, Iowa, Illinois, Michigan State, Indiana                                                     \n",
       "2   Boise State, Utah State, Idaho, New Mexico State, North Texas, Arkansas State                                                                                             \n",
       "3   Marshall, Ohio, Akron, Miami (OH), Bowling Green State, Buffalo, Kent State, Toledo, Western Michigan, Northern Illinois, Ball State, Eastern Michigan, Central Michigan  \n",
       "4   Louisville, East Carolina, Cincinnati, Southern Mississippi, UAB, Tulane, Memphis, Houston, Army                                                                          \n",
       "5   Miami (FL), Virginia Tech, Pitt, Syracuse, Boston College, West Virginia, Temple, Rutgers                                                                                 \n",
       "6   Texas Christian, UTEP, Fresno State, San Jose State, Tulsa, Hawaii, Rice, SMU, Nevada                                                                                     \n",
       "7   Florida State, Clemson, Georgia Tech, Virginia, North Carolina State, North Carolina, Maryland, Wake Forest, Duke                                                         \n",
       "8   Florida, Georgia, South Carolina, Tennessee, Vanderbilt, Kentucky, Auburn, LSU, Mississippi State, Ole Miss, Arkansas, Alabama                                            \n",
       "9   Nebraska, Kansas State, Iowa State, Colorado, Kansas, Missouri, Oklahoma, Texas, Texas A&M, Texas Tech, Oklahoma State, Baylor                                            \n",
       "10  Notre Dame, South Florida, UCF, Middle Tennessee State, Connecticut, Louisiana Tech, Louisiana-Lafayette, Louisiana-Monroe, Navy                                          \n",
       "11  Colorado State, Air Force, Nevada-Las Vegas, Brigham Young, New Mexico, Utah, San Diego State, Wyoming                                                                    "
      ]
     },
     "execution_count": 132,
     "metadata": {},
     "output_type": "execute_result"
    }
   ],
   "source": [
    "df"
   ]
  },
  {
   "cell_type": "code",
   "execution_count": null,
   "metadata": {},
   "outputs": [],
   "source": []
  }
 ],
 "metadata": {
  "kernelspec": {
   "display_name": "Python [Root]",
   "language": "python",
   "name": "Python [Root]"
  },
  "language_info": {
   "codemirror_mode": {
    "name": "ipython",
    "version": 3
   },
   "file_extension": ".py",
   "mimetype": "text/x-python",
   "name": "python",
   "nbconvert_exporter": "python",
   "pygments_lexer": "ipython3",
   "version": "3.5.2"
  }
 },
 "nbformat": 4,
 "nbformat_minor": 2
}
