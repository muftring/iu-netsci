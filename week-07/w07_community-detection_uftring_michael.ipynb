{
 "cells": [
  {
   "cell_type": "markdown",
   "metadata": {},
   "source": [
    "Michael Uftring   \n",
    "Indiana University   \n",
    "Network Science, Spring 2018   \n",
    "Week#7 Assignment - Community Detection"
   ]
  },
  {
   "cell_type": "markdown",
   "metadata": {},
   "source": [
    "# Detecting and Visualizing Communities"
   ]
  },
  {
   "cell_type": "markdown",
   "metadata": {},
   "source": [
    "Gephi Modularity feature\n",
    "\n",
    "filtering\n",
    "- remove nodes not part of the giant component\n",
    "- remove nodes with degree = 1\n",
    "\n",
    "run Network Diameter: gives some centrality measures\n",
    "\n",
    "rank node by size: betweenness\n",
    "- min: 15\n",
    "- max: 80\n",
    "\n",
    "run Modularity\n",
    "- turn off \"Use weights\"\n",
    "- by default, \"Resolution\" is 1\n",
    "- We will explore how can we get different results by changing Resolution\n",
    "\n",
    "report will tell how many communities were discovered\n",
    "\n",
    "color code graph by community assignment\n",
    "\n",
    "partition nodes by: Modularity Class\n",
    "\n",
    "adjust Modularity to reduce the number of groups by changing Resolution\n",
    "- lower will produce more communities\n",
    "- higher than 1.0 will produce fewer communities (bigger ones)\n",
    "- 5.0 is often a good setting (why? for large graphs??)\n",
    "\n",
    "reapply color code graph by community assignment\n",
    "\n",
    "When using Modularity one of the important things to think about is what number to put in for Resolution. Try different values, and when you have something that works (the graph begins to look good) work on setting the colors so the different groups can be differentiated.\n",
    "\n",
    "To tailor the color for specific nodes and groups, find a node in the Overview, right click, highlight in Data Laboratory, switch to Data Laboratory view, see which Modularity Class the node belongs to (it will be a number), switch to Overview, find the group in the Partition view, slect it and change the color.\n"
   ]
  },
  {
   "cell_type": "markdown",
   "metadata": {},
   "source": [
    "## American College Football"
   ]
  },
  {
   "cell_type": "markdown",
   "metadata": {},
   "source": [
    "A network of American football games between Division IA colleges during regular season Fall 2000."
   ]
  },
  {
   "cell_type": "markdown",
   "metadata": {},
   "source": [
    "*M. Girvan and M. E. J. Newman, Proc. Natl. Acad. Sci. USA 99, 7821-7826 (2002)*"
   ]
  },
  {
   "cell_type": "markdown",
   "metadata": {},
   "source": [
    "**1) Adjust the resolution of the community detection algorithm and get a sense of what communities are formed at different resolutions. Pick a resolution that makes sense to you. Give a physical interpretation of the communities and justify your choice for the resolution parameter.**"
   ]
  },
  {
   "cell_type": "markdown",
   "metadata": {},
   "source": [
    "The *communities* in this network should equate to the NCAA Division 1A conferences as they existed in the Fall of 2000. Each college team belongs to just one conference, and the football teams generally play every other team in their conferecne once and \"some\" games against teams not in their conference. "
   ]
  },
  {
   "cell_type": "markdown",
   "metadata": {},
   "source": [
    "<u>Initial hypotheses</u> (before research): The network has 115 nodes, each conference has approx. 10 teams, so the goal would be to find between 9 and 13 communities."
   ]
  },
  {
   "cell_type": "markdown",
   "metadata": {},
   "source": [
    "<u>Research</u>:"
   ]
  },
  {
   "cell_type": "markdown",
   "metadata": {},
   "source": [
    "According to the Wikipedia article [2000 NCAA Division I-A football season](https://en.wikipedia.org/wiki/2000_NCAA_Division_I-A_football_season), there were 12 conferences participating in College Football in 2000."
   ]
  },
  {
   "cell_type": "markdown",
   "metadata": {},
   "source": [
    "|   | Conference | # of Teams | Teams |\n",
    "| - | ----------- | ---- | ---- |\n",
    "| 1 | ACC | 9 | Florida State, Clemson, Georgia Tech, Virginia, North Carolina State, North Carolina, Maryland, Wake Forest, Duke |\n",
    "| 2 | Big East | 8 | Miami (FL), Virginia Tech, Pitt, Syracuse, Boston College, West Virginia, Temple, Rutgers |\n",
    "| 3 | Big Ten | 11 | Michigan, Northwestern, Purdue, Ohio State, Wisconsin, Minnesota, Penn State, Iowa, Illinois, Michigan State, Indiana |\n",
    "| 4 | Big 12 | 12 | Nebraska, Kansas State, Iowa State, Colorado, Kansas, Missouri, Oklahoma, Texas, Texas A&M, Texas Tech, Oklahoma State, Baylor |\n",
    "| 5 | Big West | 6 | Boise State, Utah State, Idaho, New Mexico State, North Texas, Arkansas State |\n",
    "| 6 | Conference USA | 9 | Louisville, East Carolina, Cincinnati, Southern Mississippi, UAB, Tulane, Memphis, Houston, Army |\n",
    "| 7 | Mid-American | 13 | Marshall, Ohio, Akron, Miami (OH), Bowling Green State, Buffalo, Kent State, Toledo, Western Michigan, Northern Illinois, Ball State, Eastern Michigan, Central Michigan |\n",
    "| 8 | Mountain West | 8 | Colorado State, Air Force, Nevada-Las Vegas, Brigham Young, New Mexico, Utah, San Diego State, Wyoming |\n",
    "| 9 | Pacific-10 | 10 | Oregon State, Washington, Oregon, Stanford, Arizona State, UCLA, Arizona, USC, Washington State, California |\n",
    "| 10 | SEC | 12 | Florida, Georgia, South Carolina, Tennessee, Vanderbilt, Kentucky, Auburn, LSU, Mississippi State, Ole Miss, Arkansas, Alabama |\n",
    "| 11 | WAC | 9 | Texas Christian, UTEP, Fresno State, San Jose State, Tulsa, Hawaii, Rice, SMU, Nevada |\n",
    "| 12 | Independents | 8 | Notre Dame, South Florida, UCF, Middle Tennessee State, Connecticut, Louisiana Tech, Louisiana-Lafayette, Louisiana-Monroe, Navy |\n"
   ]
  },
  {
   "cell_type": "markdown",
   "metadata": {},
   "source": [
    "<u>Revised hypothesis</u>: the goal is to detect 12 communities!"
   ]
  },
  {
   "cell_type": "markdown",
   "metadata": {},
   "source": [
    "*Running Modularity*"
   ]
  },
  {
   "cell_type": "markdown",
   "metadata": {},
   "source": [
    "| Randomize | Use Weights | Resolution | Modularity | Modularity <br> with Resolution | Communities |\n",
    "| --- | --- | --- | --- | --- | --- |\n",
    "| Yes | Off | 1.0 | 0.603 | 0.603 | 10 |\n",
    "| Yes | Off | 0.5 | 0.603 | 0.255 | 12 |"
   ]
  },
  {
   "cell_type": "markdown",
   "metadata": {},
   "source": [
    "The first run of **Modularity** with *Resolution* = 1.0 detected 10 communities. This was a good initial partitioning given the goal is to find 12 communities. Clearly the adjustment will be to reduce *Resolution* to detect more communities. The approach was b-tree like: half the *Resolution*, check the number of communities; if not quite \"right\" then half again up or down depending on results, and repeat."
   ]
  },
  {
   "cell_type": "markdown",
   "metadata": {},
   "source": [
    "The second run with *Resolution* = 0.5 detected 12 communities! We reached the goal, now on to visualization."
   ]
  },
  {
   "cell_type": "markdown",
   "metadata": {},
   "source": [
    "**2) Calculate the betweenness centrality for the nodes in the network and create a visualization which shows both the betweenness centrality and community membership (save this figure). How are betweenness centrality and community structure related?**"
   ]
  },
  {
   "cell_type": "markdown",
   "metadata": {},
   "source": [
    "Set node size based on Betweenness Centrality measure\n",
    "- min: 4.0\n",
    "- max: 12.0\n",
    "\n",
    "Set node color based on Modularity Class (i.e., community membership).\n",
    "\n",
    "The nodes with a high *Betweenness Centrality* measure tended to have the greatest number of links to nodes in other communities. In this context, it is showing the football teams which played the greatest number of out-of-conference games compared to the other teams in the same conference. "
   ]
  },
  {
   "cell_type": "code",
   "execution_count": null,
   "metadata": {},
   "outputs": [],
   "source": [
    "from IPython.display import Image\n",
    "Image(filename=\"2000-ncaa-div1a-football.png\")"
   ]
  },
  {
   "cell_type": "markdown",
   "metadata": {},
   "source": [
    "## Network Two"
   ]
  },
  {
   "cell_type": "markdown",
   "metadata": {},
   "source": [
    "description\n",
    "\n",
    "*credit*"
   ]
  },
  {
   "cell_type": "markdown",
   "metadata": {},
   "source": [
    "**1) Find an appropriate resolution for detecting meaningful communities in the network and adjust the node layout accordingly. Does the network have a distinct community structure? If so, what do these communities represent and how do you think they were formed? If not, why do think that structure is lacking?**"
   ]
  },
  {
   "cell_type": "markdown",
   "metadata": {},
   "source": [
    "comments"
   ]
  },
  {
   "cell_type": "markdown",
   "metadata": {},
   "source": [
    "**2) Pick another centrality measure and create (and save) a visualization that captures the community membership along with this centrality measure. Explain what relationships (or lack thereof) you see between the centrality measure you chose and community structure. Can you relate your explanations back to the real-world elements that make-up the network?**"
   ]
  },
  {
   "cell_type": "markdown",
   "metadata": {},
   "source": [
    "comments"
   ]
  },
  {
   "cell_type": "code",
   "execution_count": null,
   "metadata": {},
   "outputs": [],
   "source": [
    "from IPython.display import Image\n",
    "Image(filename=\"network-2.png\")"
   ]
  }
 ],
 "metadata": {
  "kernelspec": {
   "display_name": "Python [Root]",
   "language": "python",
   "name": "Python [Root]"
  },
  "language_info": {
   "codemirror_mode": {
    "name": "ipython",
    "version": 3
   },
   "file_extension": ".py",
   "mimetype": "text/x-python",
   "name": "python",
   "nbconvert_exporter": "python",
   "pygments_lexer": "ipython3",
   "version": "3.5.2"
  }
 },
 "nbformat": 4,
 "nbformat_minor": 2
}
