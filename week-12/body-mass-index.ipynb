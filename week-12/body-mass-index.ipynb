{
 "cells": [
  {
   "cell_type": "markdown",
   "metadata": {},
   "source": [
    "# Body Mass Index"
   ]
  },
  {
   "cell_type": "code",
   "execution_count": 87,
   "metadata": {},
   "outputs": [],
   "source": [
    "import matplotlib.pyplot as plt\n",
    "\n",
    "%matplotlib inline"
   ]
  },
  {
   "cell_type": "code",
   "execution_count": 88,
   "metadata": {},
   "outputs": [],
   "source": [
    "def inchesToMeters(inches):\n",
    "    return inches*0.0254"
   ]
  },
  {
   "cell_type": "code",
   "execution_count": 89,
   "metadata": {},
   "outputs": [],
   "source": [
    "def inMeters(feet, inches=0):\n",
    "    return inchesToMeters((feet*12)+inches)"
   ]
  },
  {
   "cell_type": "code",
   "execution_count": 90,
   "metadata": {},
   "outputs": [],
   "source": [
    "def ouncesToKilograms(ounces):\n",
    "    return ounces*0.0283495"
   ]
  },
  {
   "cell_type": "code",
   "execution_count": 91,
   "metadata": {},
   "outputs": [],
   "source": [
    "def inKilograms(pounds, ounces=0):\n",
    "    return ouncesToKilograms((pounds*16)+ounces)"
   ]
  },
  {
   "cell_type": "code",
   "execution_count": 92,
   "metadata": {},
   "outputs": [],
   "source": [
    "'''\n",
    "bmi(height,weight)\n",
    "  Parameters:\n",
    "    heigh = a floating point number: feet.inches, e.g. 5 feet 10 inches is 5.10\n",
    "    weight = a floating point number\n",
    "\n",
    "  Calculation:\n",
    "    bmi = weight in kilograms / square of height in meters\n",
    "    \n",
    "  Returns:\n",
    "    body mass index: a floating point number\n",
    "'''\n",
    "def bmi(height, weight):\n",
    "    feet = int(height)\n",
    "    inches = round(((height-feet)/.12)*12)\n",
    "    pounds = int(weight)\n",
    "    ounces = int((weight-pounds)*16)\n",
    "    return inKilograms(pounds, ounces)/(inMeters(feet, inches)**2)"
   ]
  },
  {
   "cell_type": "code",
   "execution_count": 93,
   "metadata": {},
   "outputs": [],
   "source": [
    "def obese(bmi):\n",
    "    if bmi >= 30.0:\n",
    "        return True\n",
    "    else:\n",
    "        return False"
   ]
  },
  {
   "cell_type": "code",
   "execution_count": 94,
   "metadata": {},
   "outputs": [],
   "source": [
    "myHeight = 5.10\n",
    "myWeight = 195.0"
   ]
  },
  {
   "cell_type": "code",
   "execution_count": 95,
   "metadata": {},
   "outputs": [
    {
     "data": {
      "text/plain": [
       "27.979276774880077"
      ]
     },
     "execution_count": 95,
     "metadata": {},
     "output_type": "execute_result"
    }
   ],
   "source": [
    "bmi(myHeight, myWeight)"
   ]
  },
  {
   "cell_type": "code",
   "execution_count": 96,
   "metadata": {},
   "outputs": [
    {
     "data": {
      "text/plain": [
       "False"
      ]
     },
     "execution_count": 96,
     "metadata": {},
     "output_type": "execute_result"
    }
   ],
   "source": [
    "obese(bmi(myHeight, myWeight))"
   ]
  },
  {
   "cell_type": "code",
   "execution_count": 97,
   "metadata": {},
   "outputs": [],
   "source": [
    "height = myHeight\n",
    "weights = []\n",
    "bmis = []\n",
    "for weight in range(150, 255, 5):\n",
    "    weights.append(weight)\n",
    "    bmis.append(bmi(height, weight))"
   ]
  },
  {
   "cell_type": "code",
   "execution_count": 98,
   "metadata": {},
   "outputs": [
    {
     "data": {
      "image/png": "[encoded data removed]",
      "text/plain": [
       "<matplotlib.figure.Figure at 0x112b3d0b8>"
      ]
     },
     "metadata": {},
     "output_type": "display_data"
    }
   ],
   "source": [
    "plt.plot(weights, bmis)\n",
    "plt.axhline(y=30.0, color=\"red\")\n",
    "plt.axvline(x=210, color=\"red\")\n",
    "plt.plot(myWeight, bmi(myHeight, myWeight), \"o\")\n",
    "plt.title(\"Body Mass Index for 5'10'' (Male)\")\n",
    "plt.ylabel(\"BMI\")\n",
    "plt.xlabel(\"Weight (pounds)\")\n",
    "plt.show()"
   ]
  },
  {
   "cell_type": "code",
   "execution_count": null,
   "metadata": {},
   "outputs": [],
   "source": []
  }
 ],
 "metadata": {
  "kernelspec": {
   "display_name": "Python [Root]",
   "language": "python",
   "name": "Python [Root]"
  },
  "language_info": {
   "codemirror_mode": {
    "name": "ipython",
    "version": 3
   },
   "file_extension": ".py",
   "mimetype": "text/x-python",
   "name": "python",
   "nbconvert_exporter": "python",
   "pygments_lexer": "ipython3",
   "version": "3.5.2"
  }
 },
 "nbformat": 4,
 "nbformat_minor": 2
}
