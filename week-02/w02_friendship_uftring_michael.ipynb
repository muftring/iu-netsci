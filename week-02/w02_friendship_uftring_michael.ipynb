{
 "cells": [
  {
   "cell_type": "markdown",
   "metadata": {},
   "source": [
    "# Measuring the friendship paradox\n",
    "By now you should have a working Juptyer notebook and be using Python 3 (with Anaconda). If not, then make sure you have done the [Python Setup assignment in Week 0](https://github.com/yy/netsci-course/blob/master/m01-getready/python-setup.md).\n",
    "\n",
    "To get a better intuitive understanding of the friendship paradox, we are going to work through some problems and examples in this notebook. A few tasks will be left to you to complete and submit in your own notebook. Before we dive into creating our own paradox we will go over some basic commands used in the networkx library.\n",
    "\n",
    "## Step 1: Using networkx\n",
    "We are going to start by importing the networkx module:"
   ]
  },
  {
   "cell_type": "code",
   "execution_count": null,
   "metadata": {
    "collapsed": true
   },
   "outputs": [],
   "source": [
    "import networkx as nx"
   ]
  },
  {
   "cell_type": "markdown",
   "metadata": {},
   "source": [
    "By importing the module this way we can use any of the library's classes and functions by prepending the name of the class or function with: \n",
    "\n",
    "```\n",
    "nx.\n",
    "```\n",
    "\n",
    "Networkx has extensive documention with many examples, and I highly suggesting looking over the contents of the [Networkx 2.0 documentation page](https://networkx.github.io/documentation/stable/index.html) to get an idea of the kinds of things networkx can do.\n",
    "\n",
    "We will start by making a simple undirected graph by hand:"
   ]
  },
  {
   "cell_type": "code",
   "execution_count": null,
   "metadata": {
    "collapsed": true
   },
   "outputs": [],
   "source": [
    "# Creates an instance of a networkx graph.\n",
    "my_first_graph = nx.Graph() \n",
    "\n",
    "# Lets add some nodes to the graph\n",
    "my_first_graph.add_node(1)\n",
    "my_first_graph.add_node(2)\n",
    "my_first_graph.add_node(3)\n",
    "\n",
    "# Now lets add some connections\n",
    "my_first_graph.add_edge(1, 2)\n",
    "my_first_graph.add_edge(3, 2)"
   ]
  },
  {
   "cell_type": "markdown",
   "metadata": {},
   "source": [
    "We now have our first graph which contains 3 nodes and 2 edges. ```add_node()``` and ```add_edge()``` are **methods** of the class ```Graph```. Methods are member functions of classes in python and can be called from an object by using the ```.``` notation followed by the method name. We can find out some basic information about this graph using networkx functions and some default python functions:"
   ]
  },
  {
   "cell_type": "code",
   "execution_count": null,
   "metadata": {},
   "outputs": [],
   "source": [
    "# Lets find out how many nodes the graph has\n",
    "num_nodes = len(my_first_graph) # len()  is a python function that can be applied to most lists or sequences\n",
    "print(num_nodes)"
   ]
  },
  {
   "cell_type": "code",
   "execution_count": null,
   "metadata": {},
   "outputs": [],
   "source": [
    "# We can also get the degree of any node in the graph\n",
    "node2_degree = my_first_graph.degree(2)\n",
    "print(\"Node 2's degree: \",node2_degree)\n",
    "\n",
    "# Or we can get the neighbors of any node\n",
    "node2_neighbors = my_first_graph.neighbors(2)\n",
    "print(node2_neighbors)\n",
    "print(\"Node 2's neighbors: \", [n for n in node2_neighbors])"
   ]
  },
  {
   "cell_type": "markdown",
   "metadata": {},
   "source": [
    "Make sure to review the documentation on both of these functions ([degree](https://networkx.github.io/documentation/stable/reference/classes/generated/networkx.Graph.degree.html) and [neighbors](https://networkx.github.io/documentation/stable/reference/classes/generated/networkx.Graph.neighbors.html)) so you are aware what additional arguments you can give. For instance, degree can take a sequence of nodes as an argument and return a sequence of corresponding degrees.\n",
    "\n",
    "`my_first_graph.neighbors(2)` returns an `iterator` object. It yeilds each successive node that is a neighbor of node 2. [More information on python generators](https://wiki.python.org/moin/Generators). \n",
    "\n",
    "We can use a for loop over the iterateor. Alternatively, I used a list comprehension to put it into one line:\n",
    "```\n",
    "[n for n in node2_neighbors]\n",
    "```\n",
    "\n",
    "This codes creates a list of the neighbors of Node 2. Using a [list comprehension](http://python-3-patterns-idioms-test.readthedocs.io/en/latest/Comprehensions.html) isn't always possible, but it is faster and more succint than the alternative.\n",
    "\n",
    "We can also combine python control statements with networkx functions:"
   ]
  },
  {
   "cell_type": "code",
   "execution_count": null,
   "metadata": {},
   "outputs": [],
   "source": [
    "# Lets get all the neighbors for each node in the graph\n",
    "for node in my_first_graph.nodes():\n",
    "    print(\"Node\", node, \"'s neighbors:\", [n for n in my_first_graph.neighbors(node)])"
   ]
  },
  {
   "cell_type": "markdown",
   "metadata": {},
   "source": [
    "I wrote a python *for* loop that iterated over the list returned by the networkx graph method ```nodes()```. This graph method returns a list of each node in the network. Similarly, we can loop over edges using ```edges()```."
   ]
  },
  {
   "cell_type": "code",
   "execution_count": null,
   "metadata": {},
   "outputs": [],
   "source": [
    "# Quick example of iterating over edges\n",
    "for edge in my_first_graph.edges():\n",
    "    print(edge)"
   ]
  },
  {
   "cell_type": "markdown",
   "metadata": {},
   "source": [
    "Before we move on there is one more thing we would like to do which is visualize our graph. Networkx isn't known for making the prettiest graphs, we will be using [Gephi](https://gephi.org/) for that later, but it can provide us with a basic visualization to get an idea of what our graph looks like."
   ]
  },
  {
   "cell_type": "code",
   "execution_count": null,
   "metadata": {},
   "outputs": [],
   "source": [
    "# Draw figures in the notebook\n",
    "%matplotlib inline\n",
    "# We will use matplotlib as a backend for the visualization\n",
    "import matplotlib.pyplot as plt\n",
    "\n",
    "plt.figure()\n",
    "# Next we will call networkx's draw function on our graph\n",
    "nx.draw(my_first_graph)\n",
    "\n",
    "# And then ask matplotlib to show the figure\n",
    "plt.show()"
   ]
  },
  {
   "cell_type": "markdown",
   "metadata": {},
   "source": [
    "## Step 2: Friendship paradox example\n",
    "Now let's apply some of these tools to the friendship paradox. We will start by using networkx's graph generators to construct a graph for us, then we will calculate the average degree of the network. Once that is done we will calculate the average degree of the neighbors of a few random nodes in the network and compare those values with the degree of the nodes themselves."
   ]
  },
  {
   "cell_type": "code",
   "execution_count": null,
   "metadata": {},
   "outputs": [],
   "source": [
    "# Use one of networkx's graph generator functions to create a graph\n",
    "star_graph = nx.star_graph(n=20)\n",
    "nx.draw(star_graph)\n",
    "plt.show()"
   ]
  },
  {
   "cell_type": "code",
   "execution_count": null,
   "metadata": {},
   "outputs": [],
   "source": [
    "# Lets calculate the average degree of the graph\n",
    "degree_sum = 0.0\n",
    "for node in star_graph.nodes():\n",
    "    degree_sum += star_graph.degree(node)\n",
    "avg_degree = degree_sum / len(star_graph)\n",
    "print(\"Average degree\", avg_degree)"
   ]
  },
  {
   "cell_type": "code",
   "execution_count": null,
   "metadata": {},
   "outputs": [],
   "source": [
    "# Now lets do it in one line using numpy and list comprehension\n",
    "import numpy as np\n",
    "\n",
    "# Calculate the average degree of the nodes in the graph\n",
    "avg_degree = np.mean([star_graph.degree(node) for node in star_graph.nodes()])\n",
    "print(\"Average degree:\",avg_degree)"
   ]
  },
  {
   "cell_type": "markdown",
   "metadata": {},
   "source": [
    "To calculate the mean, I used [numpy's mean function](http://docs.scipy.org/doc/numpy/reference/generated/numpy.mean.html), which can come in handy for quickly calculating the mean of a list or sequence along an axis. So I passed the list comprehension directly to ```np.mean``` and it returned the mean of that list. \n",
    "\n",
    "Note: Numpy uses its own data types for carrying out calculations, so if you print a numpy float it will display differently than if you printed a python float, which is why we get the intentional truncation of the value when displayed.\n",
    "\n",
    "For basic graph information, networkx also has the [info()](https://networkx.github.io/documentation/stable/reference/generated/networkx.classes.function.info.html)\n",
    "function:"
   ]
  },
  {
   "cell_type": "code",
   "execution_count": null,
   "metadata": {
    "scrolled": true
   },
   "outputs": [],
   "source": [
    "# Alternatively we can use use nx.info() to get the average degree\n",
    "print(nx.info(star_graph))"
   ]
  },
  {
   "cell_type": "markdown",
   "metadata": {},
   "source": [
    "### Q1: Average neighbor degree\n",
    "Now that you have seen some examples of networkx and numpy, I want you to complete the star graph example by writing a function below that calculates the average degree of a node's neighbors. This involves find all of a node's neighbors and then taking the average of their degrees. The input arguments into the function should be a node and a networkx graph. The function should return a single value: the average neighbor degree for the given node. You should [learn about how to define and use Python functions](https://www.google.com/search?q=python+function&oq=python+func&aqs=chrome.0.0j69i57j0l4.2723j1j7&sourceid=chrome&ie=UTF-8) if you're not familiar with them yet. Use the space provided below:"
   ]
  },
  {
   "cell_type": "code",
   "execution_count": null,
   "metadata": {
    "collapsed": true
   },
   "outputs": [],
   "source": [
    "# Replace with your code"
   ]
  },
  {
   "cell_type": "markdown",
   "metadata": {},
   "source": [
    "### Q2: Viewing the friendship paradox\n",
    "We would like to check whether the friendship paradox holds for a network. To do this, lets determine what fraction of nodes in the graph have a larger average neighbor degree than their own. The larger the fraction, the stronger the effect of the friendship paradox. \n",
    "\n",
    "For each node we need to find its degree, then average neighbor degree (calculated with the previous function you made). If the average is greater, then it holds for that node. To get the fraction, we can count up all the nodes it holds for and divide by the total number of nodes. Write a function below that will do this for a graph:"
   ]
  },
  {
   "cell_type": "code",
   "execution_count": null,
   "metadata": {
    "collapsed": true
   },
   "outputs": [],
   "source": [
    "# Replace with your code"
   ]
  },
  {
   "cell_type": "markdown",
   "metadata": {},
   "source": [
    "Even though the star graph is a fairly trivial example it does display the friendship paradox. It is an extreme case where the average degree of the network is wildly different from the average degree of your neighbors. For all but one node (the center node 0) you have fewer friends than your friends.\n",
    "\n",
    "You can use the star graph to check if you functions work, since we know it holds in that case.\n",
    "\n",
    "This concludes the tutorial section of this notebook, if you have any questions about what the code does, or about python or networkx in general, don't be shy to message the instructors (or your peers) on [Slack](https://iu-netsci-online.slack.com/messages) with those questions."
   ]
  },
  {
   "cell_type": "markdown",
   "metadata": {},
   "source": [
    "## Step 3: Friendship paradox assignment\n",
    "\n",
    "Your task is to apply your function to two other types of graphs: a scale-free graph and a random graph. Random graphs are generated from randomly connecting nodes together, with each node having the same probability of being connected to any other node. They don't have much structure to them. Below is a visualization of a random graph:"
   ]
  },
  {
   "cell_type": "code",
   "execution_count": null,
   "metadata": {},
   "outputs": [],
   "source": [
    "# Draw a random graph with 20 nodes and a connection\n",
    "# probability of 0.3\n",
    "rnd_graph = nx.erdos_renyi_graph(n=20, p=0.3)\n",
    "nx.draw(rnd_graph)\n",
    "plt.show()"
   ]
  },
  {
   "cell_type": "markdown",
   "metadata": {},
   "source": [
    "Alternatively, scale-free graphs are graphs where nodes are preferentially attached to nodes with higher degree. This results in structures called 'hubs' which are nodes that have very high degree. Below is a visualization of one such network:"
   ]
  },
  {
   "cell_type": "code",
   "execution_count": null,
   "metadata": {},
   "outputs": [],
   "source": [
    "# Draw a scale-free graph with 20 nodes\n",
    "sf_graph = nx.barabasi_albert_graph(n=20, m=3)\n",
    "nx.draw(sf_graph)\n",
    "plt.show()"
   ]
  },
  {
   "cell_type": "markdown",
   "metadata": {},
   "source": [
    "Unlike in the random graph where nodes tend to have comparable degrees that are situated pretty close to the average, the scale-free graph has many low degree nodes and a few very high degree nodes which we can see in the figure above. Many social networks tend to have this hub-like structure. We will be testing out the friendship paradox on both types of networks.\n",
    "\n",
    "You can use networkx's generator functions for making the [scale-free graph](https://networkx.github.io/documentation/stable/reference/generated/networkx.generators.random_graphs.barabasi_albert_graph.html) and the [random graph](https://networkx.github.io/documentation/stable/reference/generated/networkx.generators.random_graphs.erdos_renyi_graph.html). "
   ]
  },
  {
   "cell_type": "markdown",
   "metadata": {},
   "source": [
    "### Q3: Scale-free graph\n",
    "For the scale-free graph use the parameters ```n=200``` and ```m=3```. You should answer the following questions:\n",
    "\n",
    "#### 1. What is the average degree of the graph?"
   ]
  },
  {
   "cell_type": "code",
   "execution_count": null,
   "metadata": {
    "collapsed": true
   },
   "outputs": [],
   "source": []
  },
  {
   "cell_type": "markdown",
   "metadata": {},
   "source": [
    "#### 2. What fraction of nodes in the graph have a larger average neighbor degree than their degree?"
   ]
  },
  {
   "cell_type": "code",
   "execution_count": null,
   "metadata": {
    "collapsed": true
   },
   "outputs": [],
   "source": []
  },
  {
   "cell_type": "markdown",
   "metadata": {},
   "source": [
    "#### 3. Did the friendship paradox occur in the scale-free graph? If so, why did it? If not, why not? (provide your response in the markdown cell below)"
   ]
  },
  {
   "cell_type": "markdown",
   "metadata": {},
   "source": [
    "Field for text entry"
   ]
  },
  {
   "cell_type": "markdown",
   "metadata": {},
   "source": [
    "### Q4: Random graph\n",
    "\n",
    "For the erdos-renyi graph use the parameters ```n=200``` and ```p=0.2```.\n",
    "\n",
    "#### 1. What is the average degree of the graph?"
   ]
  },
  {
   "cell_type": "code",
   "execution_count": null,
   "metadata": {
    "collapsed": true
   },
   "outputs": [],
   "source": []
  },
  {
   "cell_type": "markdown",
   "metadata": {},
   "source": [
    "#### 2. What fraction of nodes in the graph have a larger average neighbor degree than their degree?"
   ]
  },
  {
   "cell_type": "code",
   "execution_count": null,
   "metadata": {
    "collapsed": true
   },
   "outputs": [],
   "source": []
  },
  {
   "cell_type": "markdown",
   "metadata": {},
   "source": [
    "#### 3. Did the friendship paradox occur in the random graph? If so, why did it? If not, why not?"
   ]
  },
  {
   "cell_type": "markdown",
   "metadata": {},
   "source": [
    "Field for text entry"
   ]
  },
  {
   "cell_type": "markdown",
   "metadata": {},
   "source": [
    "#### Lastly: rename your notebook as 'friendship_lastname_firstname' and upload to Canvas in the Friendship paradox assignment section."
   ]
  },
  {
   "cell_type": "code",
   "execution_count": null,
   "metadata": {
    "collapsed": true
   },
   "outputs": [],
   "source": []
  }
 ],
 "metadata": {
  "anaconda-cloud": {},
  "kernelspec": {
   "display_name": "Python 3",
   "language": "python",
   "name": "python3"
  },
  "language_info": {
   "codemirror_mode": {
    "name": "ipython",
    "version": 3
   },
   "file_extension": ".py",
   "mimetype": "text/x-python",
   "name": "python",
   "nbconvert_exporter": "python",
   "pygments_lexer": "ipython3",
   "version": "3.6.3"
  }
 },
 "nbformat": 4,
 "nbformat_minor": 1
}
