bplist00�_WebMainResource�	
_WebResourceMIMEType_WebResourceTextEncodingName^WebResourceURL_WebResourceFrameName_WebResourceDataZtext/plainUUTF-8_hhttps://raw.githubusercontent.com/yy/netsci-course/master/m12-diffusion/threshold_model_assignment.ipynbPO�<html><head></head><body><pre style="word-wrap: break-word; white-space: pre-wrap;">{
 "cells": [
  {
   "cell_type": "markdown",
   "metadata": {},
   "source": [
    "# The Threshold model\n",
    "We will build a basic threshold model and then use it to explore the dynamical space of the model on a real network and then to compare spreading processes between real graphs and randomized versions of those graphs. In the reading we learned that simple contagions and complex contagions differ in the way they spread which can have a huge impact on the resulting dynamics of the system. This is particularly important when considering social systems.\n",
    "\n",
    "In Granovetter's paper we saw how adjusting the standard deviation of thresholds in a crowd induced a phase-transition where the crowd went from exhibiting no/limited rioting behavior to a full blown riot. However, the Granovetter model assumes perfect mixing in the population. Granovetter was aware of this and alluded to extensions of the model that could include friendship information and social ties. Lets try implementing a network version of the model that takes into account binary social ties between individuals."
   ]
  },
  {
   "cell_type": "code",
   "execution_count": 1,
   "metadata": {},
   "outputs": [],
   "source": [
    "import networkx as nx\n",
    "import numpy as np\n",
    "import random\n",
    "%matplotlib inline\n",
    "import matplotlib.pyplot as plt"
   ]
  },
  {
   "cell_type": "code",
   "execution_count": 2,
   "metadata": {},
   "outputs": [],
   "source": [
    "# We will take three arguments for our function. The first\n",
    "# being a networkx graph, the second being the mean of the\n",
    "# threshold distribution, the third being the standard\n",
    "# deviation of the threshold distribution\n",
    "def threshold_model(graph, mean, std):\n",
    "     \n",
    "    # First lets create our distribution of thresholds.\n",
    "    # Numpy has many different kinds of distributions, and\n",
    "    # you can easily replace 'normal' with a 'gamma' or 'beta'\n",
    "    # or 'uniform' or any other of your choosing, though the\n",
    "    # parameters will change.\n",
    "    threshold_distribution = np.random.normal(mean, std, size=len(graph))\n",
    "    # I create a dictionary with keys=nodes and values=thresholds\n",
    "    # that will store the threshold value for each node for future reference\n",
    "    node_thresholds = { node: threshold_distribution[i] for i, node in enumerate(graph.nodes()) }\n",
    "    \n",
    "    # Now lets select a seed. We will pick a random node from the graph\n",
    "    # along with its immediate neighbors as the set of initially active nodes\n",
    "    # (alternatively we could just pick one node at random as the seed)\n",
    "    seed_node = np.random.choice(graph.nodes())\n",
    "    seed_neighbors = list(graph[seed_node].keys())\n",
    "    seed_neighbors.append(seed_node)\n",
    "    seeds = set(seed_neighbors)\n",
    "    \n",
    "    # In our model we will only allow for activation, not deactivation, so we\n",
    "    # can cut down on processing time a bit by only looping over inactive nodes\n",
    "    # when updating. The inactive set is just the rest of the nodes less the seeds:\n",
    "    inactive_nodes = set(graph.nodes()) - seeds\n",
    "    \n",
    "    # We want as our output the fraction of nodes that are active in the graph \n",
    "    # when the process has reached equilibrium. We can check if the process\n",
    "    # is at equilibrium if between two time steps no new nodes become active.\n",
    "    # So we will use the 'previous_set' variable to keep track of this\n",
    "    # and iterate through a 'while loop' that exits when equilibrium is \n",
    "    # reached (since we can only activate nodes we are guaranteed to reach\n",
    "    # some equilibrium, even if it takes a long time)\n",
    "    previous_set = set([])\n",
    "    while (previous_set != inactive_nodes):\n",
    "        previous_set = set(inactive_nodes)\n",
    "        \n",
    "        # We will be using an asynchronous update scheme that randomly\n",
    "        # orders the inactive nodes and then updates them in that sequence.\n",
    "        # First turn the inactive nodes into a list and shuffle it using\n",
    "        # the shuffle function from python, then we iterate over that list.\n",
    "        update_sequence = list(inactive_nodes)\n",
    "        random.shuffle(update_sequence)\n",
    "        for node in update_sequence:\n",
    "            # We add up the number of active neighbors that the node has.\n",
    "            # You can easily extend this to work with weighted graphs by\n",
    "            # substituting 1 with edge weights. \n",
    "            num_active_neighbors = np.sum([ 0 if neighbor in inactive_nodes else 1 \n",
    "                                           for neighbor in graph.neighbors(node)])\n",
    "            \n",
    "            # Now we check if the activity from our neighbors pushes us over\n",
    "            # the threshold...\n",
    "            if (num_active_neighbors &gt;= node_thresholds[node]):\n",
    "                # if it does, then we just remove that node from the inactive list\n",
    "                inactive_nodes.remove(node)\n",
    "                \n",
    "    # Return the fraction of active nodes at equilibrium\n",
    "    return 1 - len(inactive_nodes) / len(graph)"
   ]
  },
  {
   "cell_type": "markdown",
   "metadata": {},
   "source": [
    "Our threshold model is complete. It is only one variant of many. For instance, with a few small modifications we could change it to use the fraction of neighbors instead of an absolute threshold.\n",
    "\n",
    "Lets go ahead and load in a real graph and then apply this model to it and randomized versions of the [Americal college football graph](http://www-personal.umich.edu/~mejn/netdata/) which I choose because it has a distict community structure based on the geographic location of the teams:"
   ]
  },
  {
   "cell_type": "code",
   "execution_count": 3,
   "metadata": {},
   "outputs": [
    {
     "name": "stdout",
     "output_type": "stream",
     "text": [
      "Name: \n",
      "Type: Graph\n",
      "Number of nodes: 115\n",
      "Number of edges: 613\n",
      "Average degree:  10.6609\n"
     ]
    }
   ],
   "source": [
    "football = nx.read_gml('football.gml')\n",
    "football = nx.Graph(football)\n",
    "print(nx.info(football))"
   ]
  },
  {
   "cell_type": "markdown",
   "metadata": {},
   "source": [
    "We can do two different randomizations: one in which we hold only the number of nodes and edges roughly constant, and one where we hold the degree sequence constant. We can then compare the results."
   ]
  },
  {
   "cell_type": "code",
   "execution_count": 4,
   "metadata": {},
   "outputs": [],
   "source": [
    "# Lets pick a range of standard deviations and means to loop over\n",
    "# You will have to adjust this range and play with it so that it fits\n",
    "# your graph. I exaplored the dynamical space of the system\n",
    "# before in order to figure out what range of values to pick,\n",
    "# that part will be left to you in the homework.\n",
    "stds = np.linspace(0.01, 8.0, 30)\n",
    "means = np.linspace(1.0, 6.0, 30)\n",
    "# And of course we need the degree sequence for the graph\n",
    "deg_seq = list(dict(nx.degree(football)).values())"
   ]
  },
  {
   "cell_type": "code",
   "execution_count": 5,
   "metadata": {},
   "outputs": [
    {
     "data": {
      "text/plain": [
       "&lt;matplotlib.legend.Legend at 0x151c263b38&gt;"
      ]
     },
     "execution_count": 5,
     "metadata": {},
     "output_type": "execute_result"
    },
    {
     "data": {
      "image/png": "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\n",
      "text/plain": [
       "&lt;matplotlib.figure.Figure at 0x115b79630&gt;"
      ]
     },
     "metadata": {},
     "output_type": "display_data"
    }
   ],
   "source": [
    "# I will make three plots. The first will be the original network,\n",
    "# the second will be the configuration model, and the last will be\n",
    "# an Erdos-Renyi graph that has the same average degree.\n",
    "\n",
    "# The code is pretty compressed, but it uses an outside list\n",
    "# comprehension to iterate through each mean in the means list to\n",
    "# build a list of equilibrium points.\n",
    "# The inside list comprehension is just used to get the average, since\n",
    "# this is a random process it will give different values for each\n",
    "# iteration (both in the simulation and the graph generation).\n",
    "plt.plot(means, [ np.mean([threshold_model(football, mean, 0.01) \n",
    "                           for i in range(300) ]) \n",
    "                 for mean in means], color='black', label='Orig')\n",
    "plt.plot(means, [ np.mean([threshold_model(nx.configuration_model(deg_seq), mean, 0.01) \n",
    "                           for i in range(300) ])\n",
    "                 for mean in means], color='blue', label='Config')\n",
    "plt.plot(means, [ np.mean([threshold_model(nx.erdos_renyi_graph(115, 0.09), mean, 0.01) \n",
    "                           for i in range(300) ]) \n",
    "                 for mean in means], color='red', label='ER')\n",
    "plt.legend(loc='upper right')"
   ]
  },
  {
   "cell_type": "markdown",
   "metadata": {},
   "source": [
    "For these runs I kept the standard deviation low so that the threshold is effectively the same for everyone. This results in a rather sharp critical point where the system spreads very easily and then doesn't spread at all. However, you might notice that there are several plateaus as well. What do you think causes them? Why do you think the ER graph is the only one with the last plateau?"
   ]
  },
  {
   "cell_type": "markdown",
   "metadata": {},
   "source": [
    "Lets hold the means constant and vary the standard deviation and set the `mean=4.0`:"
   ]
  },
  {
   "cell_type": "code",
   "execution_count": 6,
   "metadata": {},
   "outputs": [
    {
     "data": {
      "text/plain": [
       "&lt;matplotlib.legend.Legend at 0x151c2636a0&gt;"
      ]
     },
     "execution_count": 6,
     "metadata": {},
     "output_type": "execute_result"
    },
    {
     "data": {
      "image/png": "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\n",
      "text/plain": [
       "&lt;matplotlib.figure.Figure at 0x115b7b898&gt;"
      ]
     },
     "metadata": {},
     "output_type": "display_data"
    }
   ],
   "source": [
    "plt.plot(stds, [ np.mean([threshold_model(football, 4, std) \n",
    "                           for i in range(300) ]) \n",
    "                 for std in stds], color='black', label='Orig')\n",
    "plt.plot(stds, [ np.mean([threshold_model(nx.configuration_model(deg_seq), 4, std) \n",
    "                           for i in range(300) ])\n",
    "                 for std in stds], color='blue', label='Config')\n",
    "plt.plot(stds, [ np.mean([threshold_model(nx.erdos_renyi_graph(115, 0.09), 4, std) \n",
    "                           for i in range(300) ]) \n",
    "                 for std in stds], color='red', label='ER')\n",
    "plt.legend(loc=\"lower right\")"
   ]
  },
  {
   "cell_type": "markdown",
   "metadata": {},
   "source": [
    "Here we can see a similar transition as the one in Granovetter's paper, which is fascinating! It means that at least approximately, some of the results from the well-mixed case appear in our network version of the model. While spreading results in the same outcomes for larger stardard deviations, below 2 we can see that the original graph and configuration model are notably worse than the ER version of the graph, suggesting that some aspect of the degree distribution in the football network is deterimental to spreading of complex contagions. Additionally, we can see that there is a cross-over point around 1 below which the real graph is better for spreading than the configuration model, and above which it is worse, suggesting that there are finer details in the real graph beyond degree distribution that effect the spreading process. How significant these differences are would require a more thorough analysis and perhaps some hypothesis testing."
   ]
  },
  {
   "cell_type": "markdown",
   "metadata": {},
   "source": [
    "# Assignment\n",
    "1. Pick a real-world graph and load it into networkx.\n",
    "2. Explore the parameters of the model using just the real-world graph. Find a range of means and standard deviations that captures the full range of dynamics the model has on the network. In general it is best to start with a wide range of values and then hone in on regions of interest. Though you only have to vary one parameter at a time, matplotlib also has a [contour](http://matplotlib.org/api/pyplot_api.html?highlight=contour#matplotlib.pyplot.contour) function that will let you vary both simultaneously while plotting the equilibrium points along a z-axis. You can do this if you are feeling adventurous (though I recommend googling a tutorial first since it works differently than a normal plot function). If making a contour is too difficult, but you want to see how one parameters varies as another does, you can always make overlapping plots, similar to what I have made above but using different parameter values for each plot.\n",
    "3. Once you have a good grasp on where the action is, compare your real graph with a configuration model and a comparable ER graph like I do above. Use the intuition you built up in step 2 for picking values of the mean to hold constant at, as different means can place you in different dynamical regimes resulting in very different behavior.\n",
    "4. Provide a written summary of what you found in steps 2 and 3 in a markdown section in your notebook. Make note of any interesting spreading behavior your graph has and try to explain it if you can. Describe any similarities or differences between the real graph and the random graphs and consider why those similarities or differences exist.\n",
    "5. Submit your completed notebook to Canvas when you are complete."
   ]
  },
  {
   "cell_type": "code",
   "execution_count": null,
   "metadata": {},
   "outputs": [],
   "source": []
  }
 ],
 "metadata": {
  "kernelspec": {
   "display_name": "Python 3",
   "language": "python",
   "name": "python3"
  },
  "language_info": {
   "codemirror_mode": {
    "name": "ipython",
    "version": 3
   },
   "file_extension": ".py",
   "mimetype": "text/x-python",
   "name": "python",
   "nbconvert_exporter": "python",
   "pygments_lexer": "ipython3",
   "version": "3.6.4"
  }
 },
 "nbformat": 4,
 "nbformat_minor": 1
}
</pre></body></html>    ( > \ k � � � �                           �.