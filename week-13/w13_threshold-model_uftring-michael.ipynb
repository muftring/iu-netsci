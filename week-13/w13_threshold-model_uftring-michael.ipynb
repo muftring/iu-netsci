{
 "cells": [
  {
   "cell_type": "markdown",
   "metadata": {},
   "source": [
    "Michael Uftring   \n",
    "Indiana University   \n",
    "Network Science, Spring 2018   \n",
    "Week#13 Assignment - The Threshold model"
   ]
  },
  {
   "cell_type": "markdown",
   "metadata": {},
   "source": [
    "# The Threshold model\n",
    "We will build a basic threshold model and then use it to explore the dynamical space of the model on a real network and then to compare spreading processes between real graphs and randomized versions of those graphs. In the reading we learned that simple contagions and complex contagions differ in the way they spread which can have a huge impact on the resulting dynamics of the system. This is particularly important when considering social systems.\n",
    "\n",
    "In Granovetter's paper we saw how adjusting the standard deviation of thresholds in a crowd induced a phase-transition where the crowd went from exhibiting no/limited rioting behavior to a full blown riot. However, the Granovetter model assumes perfect mixing in the population. Granovetter was aware of this and alluded to extensions of the model that could include friendship information and social ties. Lets try implementing a network version of the model that takes into account binary social ties between individuals."
   ]
  },
  {
   "cell_type": "code",
   "execution_count": 31,
   "metadata": {},
   "outputs": [],
   "source": [
    "import networkx as nx\n",
    "import numpy as np\n",
    "import random\n",
    "%matplotlib inline\n",
    "import matplotlib.pyplot as plt"
   ]
  },
  {
   "cell_type": "code",
   "execution_count": 32,
   "metadata": {},
   "outputs": [],
   "source": [
    "# We will take three arguments for our function. The first\n",
    "# being a networkx graph, the second being the mean of the\n",
    "# threshold distribution, the third being the standard\n",
    "# deviation of the threshold distribution\n",
    "def threshold_model(graph, mean, std):\n",
    "     \n",
    "    # First lets create our distribution of thresholds.\n",
    "    # Numpy has many different kinds of distributions, and\n",
    "    # you can easily replace 'normal' with a 'gamma' or 'beta'\n",
    "    # or 'uniform' or any other of your choosing, though the\n",
    "    # parameters will change.\n",
    "    threshold_distribution = np.random.normal(mean, std, size=len(graph))\n",
    "    # I create a dictionary with keys=nodes and values=thresholds\n",
    "    # that will store the threshold value for each node for future reference\n",
    "    node_thresholds = { node: threshold_distribution[i] for i, node in enumerate(graph.nodes()) }\n",
    "    \n",
    "    # Now lets select a seed. We will pick a random node from the graph\n",
    "    # along with its immediate neighbors as the set of initially active nodes\n",
    "    # (alternatively we could just pick one node at random as the seed)\n",
    "    seed_node = np.random.choice(graph.nodes())\n",
    "    seed_neighbors = list(graph[seed_node].keys())\n",
    "    seed_neighbors.append(seed_node)\n",
    "    seeds = set(seed_neighbors)\n",
    "    \n",
    "    # In our model we will only allow for activation, not deactivation, so we\n",
    "    # can cut down on processing time a bit by only looping over inactive nodes\n",
    "    # when updating. The inactive set is just the rest of the nodes less the seeds:\n",
    "    inactive_nodes = set(graph.nodes()) - seeds\n",
    "    \n",
    "    # We want as our output the fraction of nodes that are active in the graph \n",
    "    # when the process has reached equilibrium. We can check if the process\n",
    "    # is at equilibrium if between two time steps no new nodes become active.\n",
    "    # So we will use the 'previous_set' variable to keep track of this\n",
    "    # and iterate through a 'while loop' that exits when equilibrium is \n",
    "    # reached (since we can only activate nodes we are guaranteed to reach\n",
    "    # some equilibrium, even if it takes a long time)\n",
    "    previous_set = set([])\n",
    "    while (previous_set != inactive_nodes):\n",
    "        previous_set = set(inactive_nodes)\n",
    "        \n",
    "        # We will be using an asynchronous update scheme that randomly\n",
    "        # orders the inactive nodes and then updates them in that sequence.\n",
    "        # First turn the inactive nodes into a list and shuffle it using\n",
    "        # the shuffle function from python, then we iterate over that list.\n",
    "        update_sequence = list(inactive_nodes)\n",
    "        random.shuffle(update_sequence)\n",
    "        for node in update_sequence:\n",
    "            # We add up the number of active neighbors that the node has.\n",
    "            # You can easily extend this to work with weighted graphs by\n",
    "            # substituting 1 with edge weights. \n",
    "            num_active_neighbors = np.sum([ 0 if neighbor in inactive_nodes else 1 \n",
    "                                           for neighbor in graph.neighbors(node)])\n",
    "            \n",
    "            # Now we check if the activity from our neighbors pushes us over\n",
    "            # the threshold...\n",
    "            if (num_active_neighbors >= node_thresholds[node]):\n",
    "                # if it does, then we just remove that node from the inactive list\n",
    "                inactive_nodes.remove(node)\n",
    "                \n",
    "    # Return the fraction of active nodes at equilibrium\n",
    "    return 1 - len(inactive_nodes) / len(graph)"
   ]
  },
  {
   "cell_type": "markdown",
   "metadata": {},
   "source": [
    "Our threshold model is complete. It is only one variant of many. For instance, with a few small modifications we could change it to use the fraction of neighbors instead of an absolute threshold.\n",
    "\n",
    "Lets go ahead and load in a real graph and then apply this model to it and randomized versions of the [Americal college football graph](http://www-personal.umich.edu/~mejn/netdata/) which I choose because it has a distict community structure based on the geographic location of the teams:"
   ]
  },
  {
   "cell_type": "markdown",
   "metadata": {},
   "source": [
    "**Note:** converted Football network file from GML -> Pajek (NET)"
   ]
  },
  {
   "cell_type": "code",
   "execution_count": 33,
   "metadata": {},
   "outputs": [
    {
     "name": "stdout",
     "output_type": "stream",
     "text": [
      "Name: \n",
      "Type: Graph\n",
      "Number of nodes: 115\n",
      "Number of edges: 613\n",
      "Average degree:  10.6609\n"
     ]
    }
   ],
   "source": [
    "football = nx.read_pajek('football.net')\n",
    "football = nx.Graph(football)\n",
    "print(nx.info(football))"
   ]
  },
  {
   "cell_type": "markdown",
   "metadata": {},
   "source": [
    "We can do two different randomizations: one in which we hold only the number of nodes and edges roughly constant, and one where we hold the degree sequence constant. We can then compare the results."
   ]
  },
  {
   "cell_type": "code",
   "execution_count": 34,
   "metadata": {},
   "outputs": [],
   "source": [
    "# Lets pick a range of standard deviations and means to loop over\n",
    "# You will have to adjust this range and play with it so that it fits\n",
    "# your graph. I exaplored the dynamical space of the system\n",
    "# before in order to figure out what range of values to pick,\n",
    "# that part will be left to you in the homework.\n",
    "stds = np.linspace(0.01, 8.0, 30)\n",
    "means = np.linspace(1.0, 6.0, 30)\n",
    "# And of course we need the degree sequence for the graph\n",
    "deg_seq = list(dict(nx.degree(football)).values())"
   ]
  },
  {
   "cell_type": "code",
   "execution_count": 35,
   "metadata": {},
   "outputs": [],
   "source": [
    "# some constant values\n",
    "ITERATIONS = 300\n",
    "MEAN = 4.0\n",
    "STDDEV = 0.01"
   ]
  },
  {
   "cell_type": "code",
   "execution_count": 36,
   "metadata": {},
   "outputs": [
    {
     "data": {
      "text/plain": [
       "<matplotlib.text.Text at 0x10f92e240>"
      ]
     },
     "execution_count": 36,
     "metadata": {},
     "output_type": "execute_result"
    },
    {
     "data": {
      "image/png": "[encoded data removed]",
      "text/plain": [
       "<matplotlib.figure.Figure at 0x11365e780>"
      ]
     },
     "metadata": {},
     "output_type": "display_data"
    }
   ],
   "source": [
    "# I will make three plots. The first will be the original network,\n",
    "# the second will be the configuration model, and the last will be\n",
    "# an Erdos-Renyi graph that has the same average degree.\n",
    "\n",
    "# The code is pretty compressed, but it uses an outside list\n",
    "# comprehension to iterate through each mean in the means list to\n",
    "# build a list of equilibrium points.\n",
    "# The inside list comprehension is just used to get the average, since\n",
    "# this is a random process it will give different values for each\n",
    "# iteration (both in the simulation and the graph generation).\n",
    "plt.plot(means, [ np.mean([threshold_model(football, mean, STDDEV) \n",
    "                           for i in range(ITERATIONS) ]) \n",
    "                 for mean in means], color='black', label='Orig')\n",
    "plt.plot(means, [ np.mean([threshold_model(nx.configuration_model(deg_seq), mean, STDDEV) \n",
    "                           for i in range(ITERATIONS) ])\n",
    "                 for mean in means], color='blue', label='Config')\n",
    "plt.plot(means, [ np.mean([threshold_model(nx.erdos_renyi_graph(115, 0.09), mean, STDDEV) \n",
    "                           for i in range(ITERATIONS) ]) \n",
    "                 for mean in means], color='red', label='ER')\n",
    "plt.legend(loc='upper right')\n",
    "plt.xlabel(\"mean\")\n",
    "plt.ylabel(\"fraction of active nodes\")"
   ]
  },
  {
   "cell_type": "markdown",
   "metadata": {},
   "source": [
    "For these runs I kept the standard deviation low so that the threshold is effectively the same for everyone. This results in a rather sharp critical point where the system spreads very easily and then doesn't spread at all. However, you might notice that there are several plateaus as well. What do you think causes them? Why do you think the ER graph is the only one with the last plateau?"
   ]
  },
  {
   "cell_type": "markdown",
   "metadata": {},
   "source": [
    "Lets hold the means constant and vary the standard deviation and set the `mean=4.0`:"
   ]
  },
  {
   "cell_type": "code",
   "execution_count": 37,
   "metadata": {},
   "outputs": [
    {
     "data": {
      "text/plain": [
       "<matplotlib.text.Text at 0x113786ac8>"
      ]
     },
     "execution_count": 37,
     "metadata": {},
     "output_type": "execute_result"
    },
    {
     "data": {
      "image/png": "[encoded data removed]",
      "text/plain": [
       "<matplotlib.figure.Figure at 0x10fd51048>"
      ]
     },
     "metadata": {},
     "output_type": "display_data"
    }
   ],
   "source": [
    "plt.plot(stds, [ np.mean([threshold_model(football, MEAN, std) \n",
    "                           for i in range(ITERATIONS) ]) \n",
    "                 for std in stds], color='black', label='Orig')\n",
    "plt.plot(stds, [ np.mean([threshold_model(nx.configuration_model(deg_seq), MEAN, std) \n",
    "                           for i in range(ITERATIONS) ])\n",
    "                 for std in stds], color='blue', label='Config')\n",
    "plt.plot(stds, [ np.mean([threshold_model(nx.erdos_renyi_graph(115, 0.09), MEAN, std) \n",
    "                           for i in range(ITERATIONS) ]) \n",
    "                 for std in stds], color='red', label='ER')\n",
    "plt.legend(loc=\"lower right\")\n",
    "plt.xlabel(\"standard deviation\")\n",
    "plt.ylabel(\"fraction of active nodes\")"
   ]
  },
  {
   "cell_type": "markdown",
   "metadata": {},
   "source": [
    "Here we can see a similar transition as the one in Granovetter's paper, which is fascinating! It means that at least approximately, some of the results from the well-mixed case appear in our network version of the model. While spreading results in the same outcomes for larger stardard deviations, below 2 we can see that the original graph and configuration model are notably worse than the ER version of the graph, suggesting that some aspect of the degree distribution in the football network is deterimental to spreading of complex contagions. Additionally, we can see that there is a cross-over point around 1 below which the real graph is better for spreading than the configuration model, and above which it is worse, suggesting that there are finer details in the real graph beyond degree distribution that effect the spreading process. How significant these differences are would require a more thorough analysis and perhaps some hypothesis testing."
   ]
  },
  {
   "cell_type": "markdown",
   "metadata": {},
   "source": [
    "# Assignment\n",
    "1. Pick a real-world graph and load it into networkx.\n",
    "2. Explore the parameters of the model using just the real-world graph. Find a range of means and standard deviations that captures the full range of dynamics the model has on the network. In general it is best to start with a wide range of values and then hone in on regions of interest. Though you only have to vary one parameter at a time, matplotlib also has a [contour](http://matplotlib.org/api/pyplot_api.html?highlight=contour#matplotlib.pyplot.contour) function that will let you vary both simultaneously while plotting the equilibrium points along a z-axis. You can do this if you are feeling adventurous (though I recommend googling a tutorial first since it works differently than a normal plot function). If making a contour is too difficult, but you want to see how one parameters varies as another does, you can always make overlapping plots, similar to what I have made above but using different parameter values for each plot.\n",
    "3. Once you have a good grasp on where the action is, compare your real graph with a configuration model and a comparable ER graph like I do above. Use the intuition you built up in step 2 for picking values of the mean to hold constant at, as different means can place you in different dynamical regimes resulting in very different behavior.\n",
    "4. Provide a written summary of what you found in steps 2 and 3 in a markdown section in your notebook. Make note of any interesting spreading behavior your graph has and try to explain it if you can. Describe any similarities or differences between the real graph and the random graphs and consider why those similarities or differences exist.\n",
    "5. Submit your completed notebook to Canvas when you are complete."
   ]
  },
  {
   "cell_type": "code",
   "execution_count": null,
   "metadata": {},
   "outputs": [],
   "source": []
  }
 ],
 "metadata": {
  "kernelspec": {
   "display_name": "Python [Root]",
   "language": "python",
   "name": "Python [Root]"
  },
  "language_info": {
   "codemirror_mode": {
    "name": "ipython",
    "version": 3
   },
   "file_extension": ".py",
   "mimetype": "text/x-python",
   "name": "python",
   "nbconvert_exporter": "python",
   "pygments_lexer": "ipython3",
   "version": "3.5.2"
  }
 },
 "nbformat": 4,
 "nbformat_minor": 1
}
