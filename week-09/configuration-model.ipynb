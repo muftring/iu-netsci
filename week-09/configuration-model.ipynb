{
 "cells": [
  {
   "cell_type": "markdown",
   "metadata": {},
   "source": [
    "# Configuration Model"
   ]
  },
  {
   "cell_type": "markdown",
   "metadata": {},
   "source": [
    "description"
   ]
  },
  {
   "cell_type": "markdown",
   "metadata": {},
   "source": [
    "```\n",
    "input = {\n",
    "    node: degree,\n",
    "    node: degree[, ...]\n",
    "}\n",
    "```"
   ]
  },
  {
   "cell_type": "code",
   "execution_count": 16,
   "metadata": {},
   "outputs": [],
   "source": [
    "import numpy as np\n",
    "import networkx as nx"
   ]
  },
  {
   "cell_type": "code",
   "execution_count": 8,
   "metadata": {},
   "outputs": [],
   "source": [
    "source = {\n",
    "    1: 4,\n",
    "    2: 3,\n",
    "    3: 2,\n",
    "    4: 1,\n",
    "    5: 4,\n",
    "    6: 3,\n",
    "    7: 2,\n",
    "    8: 1,\n",
    "    9: 4,\n",
    "    10: 3,\n",
    "    11: 2,\n",
    "    12: 1\n",
    "}"
   ]
  },
  {
   "cell_type": "code",
   "execution_count": 9,
   "metadata": {},
   "outputs": [],
   "source": [
    "sequence = []\n",
    "for node in source:\n",
    "    for count in range(source[node]):\n",
    "        sequence.append(node)"
   ]
  },
  {
   "cell_type": "code",
   "execution_count": 10,
   "metadata": {},
   "outputs": [
    {
     "data": {
      "text/plain": [
       "[1,\n",
       " 1,\n",
       " 1,\n",
       " 1,\n",
       " 2,\n",
       " 2,\n",
       " 2,\n",
       " 3,\n",
       " 3,\n",
       " 4,\n",
       " 5,\n",
       " 5,\n",
       " 5,\n",
       " 5,\n",
       " 6,\n",
       " 6,\n",
       " 6,\n",
       " 7,\n",
       " 7,\n",
       " 8,\n",
       " 9,\n",
       " 9,\n",
       " 9,\n",
       " 9,\n",
       " 10,\n",
       " 10,\n",
       " 10,\n",
       " 11,\n",
       " 11,\n",
       " 12]"
      ]
     },
     "execution_count": 10,
     "metadata": {},
     "output_type": "execute_result"
    }
   ],
   "source": [
    "sequence"
   ]
  },
  {
   "cell_type": "code",
   "execution_count": 11,
   "metadata": {},
   "outputs": [],
   "source": [
    "np.random.shuffle(sequence)"
   ]
  },
  {
   "cell_type": "code",
   "execution_count": 12,
   "metadata": {},
   "outputs": [
    {
     "data": {
      "text/plain": [
       "[11,\n",
       " 10,\n",
       " 10,\n",
       " 3,\n",
       " 2,\n",
       " 5,\n",
       " 9,\n",
       " 7,\n",
       " 2,\n",
       " 7,\n",
       " 11,\n",
       " 6,\n",
       " 1,\n",
       " 9,\n",
       " 5,\n",
       " 6,\n",
       " 5,\n",
       " 1,\n",
       " 1,\n",
       " 3,\n",
       " 5,\n",
       " 6,\n",
       " 2,\n",
       " 1,\n",
       " 9,\n",
       " 9,\n",
       " 12,\n",
       " 8,\n",
       " 10,\n",
       " 4]"
      ]
     },
     "execution_count": 12,
     "metadata": {},
     "output_type": "execute_result"
    }
   ],
   "source": [
    "sequence"
   ]
  },
  {
   "cell_type": "code",
   "execution_count": 21,
   "metadata": {},
   "outputs": [
    {
     "name": "stdout",
     "output_type": "stream",
     "text": [
      "0 [11, 10]\n",
      "2 [10, 3]\n",
      "4 [2, 5]\n",
      "6 [9, 7]\n",
      "8 [2, 7]\n",
      "10 [11, 6]\n",
      "12 [1, 9]\n",
      "14 [5, 6]\n",
      "16 [5, 1]\n",
      "18 [1, 3]\n",
      "20 [5, 6]\n",
      "22 [2, 1]\n",
      "24 [9, 9]\n",
      "26 [12, 8]\n",
      "28 [10, 4]\n"
     ]
    }
   ],
   "source": [
    "edges = []\n",
    "for i in range(0,len(sequence),2):\n",
    "    print(i,sequence[i:i+2])\n",
    "    edges.append(sequence[i:i+2])"
   ]
  },
  {
   "cell_type": "code",
   "execution_count": 22,
   "metadata": {},
   "outputs": [
    {
     "data": {
      "text/plain": [
       "[[11, 10],\n",
       " [10, 3],\n",
       " [2, 5],\n",
       " [9, 7],\n",
       " [2, 7],\n",
       " [11, 6],\n",
       " [1, 9],\n",
       " [5, 6],\n",
       " [5, 1],\n",
       " [1, 3],\n",
       " [5, 6],\n",
       " [2, 1],\n",
       " [9, 9],\n",
       " [12, 8],\n",
       " [10, 4]]"
      ]
     },
     "execution_count": 22,
     "metadata": {},
     "output_type": "execute_result"
    }
   ],
   "source": [
    "edges"
   ]
  },
  {
   "cell_type": "code",
   "execution_count": 46,
   "metadata": {},
   "outputs": [],
   "source": [
    "g = nx.MultiGraph()"
   ]
  },
  {
   "cell_type": "code",
   "execution_count": 47,
   "metadata": {},
   "outputs": [],
   "source": [
    "g.add_edges_from(edges)"
   ]
  },
  {
   "cell_type": "code",
   "execution_count": 48,
   "metadata": {},
   "outputs": [
    {
     "name": "stdout",
     "output_type": "stream",
     "text": [
      "Name: \n",
      "Type: MultiGraph\n",
      "Number of nodes: 12\n",
      "Number of edges: 15\n",
      "Average degree:   2.5000\n"
     ]
    }
   ],
   "source": [
    "print(nx.info(g))"
   ]
  },
  {
   "cell_type": "code",
   "execution_count": 49,
   "metadata": {},
   "outputs": [
    {
     "data": {
      "text/plain": [
       "[(1, 9),\n",
       " (1, 2),\n",
       " (1, 3),\n",
       " (1, 5),\n",
       " (2, 5),\n",
       " (2, 7),\n",
       " (3, 10),\n",
       " (4, 10),\n",
       " (5, 6),\n",
       " (5, 6),\n",
       " (6, 11),\n",
       " (7, 9),\n",
       " (8, 12),\n",
       " (9, 9),\n",
       " (10, 11)]"
      ]
     },
     "execution_count": 49,
     "metadata": {},
     "output_type": "execute_result"
    }
   ],
   "source": [
    "g.edges()"
   ]
  },
  {
   "cell_type": "code",
   "execution_count": 50,
   "metadata": {},
   "outputs": [
    {
     "data": {
      "text/plain": [
       "{1: 4, 2: 3, 3: 2, 4: 1, 5: 4, 6: 3, 7: 2, 8: 1, 9: 4, 10: 3, 11: 2, 12: 1}"
      ]
     },
     "execution_count": 50,
     "metadata": {},
     "output_type": "execute_result"
    }
   ],
   "source": [
    "nx.degree(g)"
   ]
  },
  {
   "cell_type": "code",
   "execution_count": 52,
   "metadata": {},
   "outputs": [
    {
     "data": {
      "text/plain": [
       "[(5, 1), (5, 2), (5, 6), (5, 6)]"
      ]
     },
     "execution_count": 52,
     "metadata": {},
     "output_type": "execute_result"
    }
   ],
   "source": [
    "g.edges(5)"
   ]
  },
  {
   "cell_type": "code",
   "execution_count": null,
   "metadata": {},
   "outputs": [],
   "source": []
  }
 ],
 "metadata": {
  "kernelspec": {
   "display_name": "Python [Root]",
   "language": "python",
   "name": "Python [Root]"
  },
  "language_info": {
   "codemirror_mode": {
    "name": "ipython",
    "version": 3
   },
   "file_extension": ".py",
   "mimetype": "text/x-python",
   "name": "python",
   "nbconvert_exporter": "python",
   "pygments_lexer": "ipython3",
   "version": "3.5.2"
  }
 },
 "nbformat": 4,
 "nbformat_minor": 2
}
