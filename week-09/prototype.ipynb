{
 "cells": [
  {
   "cell_type": "code",
   "execution_count": 69,
   "metadata": {
    "collapsed": true
   },
   "outputs": [],
   "source": [
    "import networkx as nx\n",
    "from numpy.random import choice\n",
    "import scipy.stats as stats\n",
    "import matplotlib.pyplot as plt\n",
    "\n",
    "%matplotlib inline"
   ]
  },
  {
   "cell_type": "code",
   "execution_count": 58,
   "metadata": {
    "collapsed": true
   },
   "outputs": [],
   "source": [
    "polbooks = nx.read_graphml(\"polbooks.graphml\")"
   ]
  },
  {
   "cell_type": "code",
   "execution_count": 59,
   "metadata": {},
   "outputs": [],
   "source": [
    "degree_assortativity = nx.degree_assortativity_coefficient(polbooks)"
   ]
  },
  {
   "cell_type": "code",
   "execution_count": 60,
   "metadata": {},
   "outputs": [],
   "source": [
    "attribute_assortativity = nx.attribute_assortativity_coefficient(polbooks,'value')"
   ]
  },
  {
   "cell_type": "code",
   "execution_count": 61,
   "metadata": {
    "collapsed": true
   },
   "outputs": [],
   "source": [
    "degree_seq = list(nx.degree(polbooks).values())"
   ]
  },
  {
   "cell_type": "code",
   "execution_count": 62,
   "metadata": {
    "collapsed": true
   },
   "outputs": [],
   "source": [
    "values = []\n",
    "for node in polbooks.nodes():\n",
    "    values.append(polbooks.node[node]['value'])"
   ]
  },
  {
   "cell_type": "code",
   "execution_count": 63,
   "metadata": {
    "collapsed": true
   },
   "outputs": [],
   "source": [
    "distrib = {}\n",
    "total = 0\n",
    "for v in values:\n",
    "    total += 1\n",
    "    try:\n",
    "        distrib[v] += 1\n",
    "    except:\n",
    "        distrib[v] = 1"
   ]
  },
  {
   "cell_type": "code",
   "execution_count": 64,
   "metadata": {},
   "outputs": [
    {
     "name": "stdout",
     "output_type": "stream",
     "text": [
      "n 13 105 0.12380952380952381\n",
      "c 49 105 0.4666666666666667\n",
      "l 43 105 0.4095238095238095\n"
     ]
    }
   ],
   "source": [
    "probs = {}\n",
    "for value,count in distrib.items():\n",
    "    print(value, count, total, count/total)\n",
    "    probs[value] = count/total"
   ]
  },
  {
   "cell_type": "code",
   "execution_count": 65,
   "metadata": {
    "collapsed": true
   },
   "outputs": [],
   "source": [
    "list_of_candidates = []\n",
    "probability_distribution = []\n",
    "number_of_items_to_pick = 1\n",
    "\n",
    "for key,value in probs.items():\n",
    "    list_of_candidates.append(key)\n",
    "    probability_distribution.append(value)"
   ]
  },
  {
   "cell_type": "code",
   "execution_count": 66,
   "metadata": {
    "collapsed": true
   },
   "outputs": [],
   "source": [
    "model_degree_assortativity = []\n",
    "model_attribute_assortativity = []\n",
    "for i in range(1000):\n",
    "    null_graph = nx.configuration_model(degree_seq)\n",
    "    null_graph = nx.Graph(null_graph)\n",
    "    for node in null_graph.nodes():\n",
    "        null_graph.node[node]['value'] = choice(list_of_candidates, number_of_items_to_pick, p=probability_distribution)[0]\n",
    "    model_degree_assortativity.append(nx.degree_assortativity_coefficient(null_graph))\n",
    "    model_attribute_assortativity.append(nx.attribute_assortativity_coefficient(null_graph,'value'))"
   ]
  },
  {
   "cell_type": "code",
   "execution_count": 67,
   "metadata": {},
   "outputs": [
    {
     "name": "stdout",
     "output_type": "stream",
     "text": [
      "-1.94575706023\n"
     ]
    }
   ],
   "source": [
    "zscores_degree = stats.zscore([degree_assortativity] + model_degree_assortativity)\n",
    "print(zscores_degree[0])"
   ]
  },
  {
   "cell_type": "code",
   "execution_count": 68,
   "metadata": {},
   "outputs": [
    {
     "name": "stdout",
     "output_type": "stream",
     "text": [
      "16.5841635137\n"
     ]
    }
   ],
   "source": [
    "zscores_attribute = stats.zscore([attribute_assortativity] + model_attribute_assortativity)\n",
    "print(zscores_attribute[0])"
   ]
  },
  {
   "cell_type": "code",
   "execution_count": 70,
   "metadata": {},
   "outputs": [
    {
     "data": {
      "image/png": "[encoded data removed]",
      "text/plain": [
       "<matplotlib.figure.Figure at 0x11aee79b0>"
      ]
     },
     "metadata": {},
     "output_type": "display_data"
    }
   ],
   "source": [
    "# Use the histogram function to plot the distribution of assortativity coefficients\n",
    "plt.hist(model_degree_assortativity, bins=50)\n",
    "\n",
    "# axvline produces a vertical line at the designated x position on the graph\n",
    "plt.axvline(degree_assortativity, lw=2, color=\"red\") #lw = 2 makes the line thicker\n",
    "plt.show()"
   ]
  },
  {
   "cell_type": "code",
   "execution_count": 71,
   "metadata": {},
   "outputs": [
    {
     "data": {
      "image/png": "[encoded data removed]",
      "text/plain": [
       "<matplotlib.figure.Figure at 0x115f3f780>"
      ]
     },
     "metadata": {},
     "output_type": "display_data"
    }
   ],
   "source": [
    "# Use the histogram function to plot the distribution of assortativity coefficients\n",
    "plt.hist(model_attribute_assortativity, bins=50)\n",
    "\n",
    "# axvline produces a vertical line at the designated x position on the graph\n",
    "plt.axvline(attribute_assortativity, lw=2, color=\"red\") #lw = 2 makes the line thicker\n",
    "plt.show()"
   ]
  },
  {
   "cell_type": "code",
   "execution_count": null,
   "metadata": {
    "collapsed": true
   },
   "outputs": [],
   "source": []
  }
 ],
 "metadata": {
  "kernelspec": {
   "display_name": "Python 3",
   "language": "python",
   "name": "python3"
  },
  "language_info": {
   "codemirror_mode": {
    "name": "ipython",
    "version": 3
   },
   "file_extension": ".py",
   "mimetype": "text/x-python",
   "name": "python",
   "nbconvert_exporter": "python",
   "pygments_lexer": "ipython3",
   "version": "3.6.1"
  }
 },
 "nbformat": 4,
 "nbformat_minor": 2
}
