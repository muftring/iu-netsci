{
 "cells": [
  {
   "cell_type": "code",
   "execution_count": 28,
   "metadata": {
    "collapsed": true
   },
   "outputs": [],
   "source": [
    "import pandas as pd\n",
    "import networkx as nx\n",
    "import random\n",
    "from numpy.random import choice"
   ]
  },
  {
   "cell_type": "code",
   "execution_count": 3,
   "metadata": {
    "collapsed": true
   },
   "outputs": [],
   "source": [
    "df = pd.read_csv(\"http://www.lboro.ac.uk/gawc/datasets/da7_3.csv\")"
   ]
  },
  {
   "cell_type": "code",
   "execution_count": 4,
   "metadata": {},
   "outputs": [
    {
     "data": {
      "text/html": [
       "<div>\n",
       "<style>\n",
       "    .dataframe thead tr:only-child th {\n",
       "        text-align: right;\n",
       "    }\n",
       "\n",
       "    .dataframe thead th {\n",
       "        text-align: left;\n",
       "    }\n",
       "\n",
       "    .dataframe tbody tr th {\n",
       "        vertical-align: top;\n",
       "    }\n",
       "</style>\n",
       "<table border=\"1\" class=\"dataframe\">\n",
       "  <thead>\n",
       "    <tr style=\"text-align: right;\">\n",
       "      <th></th>\n",
       "      <th>City</th>\n",
       "      <th>Amsterdam</th>\n",
       "      <th>Atlanta</th>\n",
       "      <th>Bangkok</th>\n",
       "      <th>Barcelona</th>\n",
       "      <th>Beijing</th>\n",
       "      <th>Berlin</th>\n",
       "      <th>Boston</th>\n",
       "      <th>Brussels</th>\n",
       "      <th>Budapest</th>\n",
       "      <th>...</th>\n",
       "      <th>Shanghai</th>\n",
       "      <th>Singapore</th>\n",
       "      <th>Stockholm</th>\n",
       "      <th>Sydney</th>\n",
       "      <th>Taipei</th>\n",
       "      <th>Tokyo</th>\n",
       "      <th>Toronto</th>\n",
       "      <th>Warsaw</th>\n",
       "      <th>Washington</th>\n",
       "      <th>Zurich</th>\n",
       "    </tr>\n",
       "  </thead>\n",
       "  <tbody>\n",
       "    <tr>\n",
       "      <th>0</th>\n",
       "      <td>Amsterdam</td>\n",
       "      <td>0.716981</td>\n",
       "      <td>0.254717</td>\n",
       "      <td>0.613208</td>\n",
       "      <td>0.594340</td>\n",
       "      <td>0.547170</td>\n",
       "      <td>0.349057</td>\n",
       "      <td>0.377358</td>\n",
       "      <td>0.669811</td>\n",
       "      <td>0.528302</td>\n",
       "      <td>...</td>\n",
       "      <td>0.452830</td>\n",
       "      <td>0.735849</td>\n",
       "      <td>0.537736</td>\n",
       "      <td>0.754717</td>\n",
       "      <td>0.594340</td>\n",
       "      <td>0.660377</td>\n",
       "      <td>0.735849</td>\n",
       "      <td>0.528302</td>\n",
       "      <td>0.367925</td>\n",
       "      <td>0.669811</td>\n",
       "    </tr>\n",
       "    <tr>\n",
       "      <th>1</th>\n",
       "      <td>Atlanta</td>\n",
       "      <td>0.586957</td>\n",
       "      <td>0.782609</td>\n",
       "      <td>0.500000</td>\n",
       "      <td>0.478261</td>\n",
       "      <td>0.478261</td>\n",
       "      <td>0.478261</td>\n",
       "      <td>0.478261</td>\n",
       "      <td>0.760870</td>\n",
       "      <td>0.478261</td>\n",
       "      <td>...</td>\n",
       "      <td>0.478261</td>\n",
       "      <td>0.521739</td>\n",
       "      <td>0.565217</td>\n",
       "      <td>0.630435</td>\n",
       "      <td>0.630435</td>\n",
       "      <td>0.782609</td>\n",
       "      <td>0.717391</td>\n",
       "      <td>0.478261</td>\n",
       "      <td>0.717391</td>\n",
       "      <td>0.565217</td>\n",
       "    </tr>\n",
       "    <tr>\n",
       "      <th>2</th>\n",
       "      <td>Bangkok</td>\n",
       "      <td>0.471015</td>\n",
       "      <td>0.166667</td>\n",
       "      <td>0.565217</td>\n",
       "      <td>0.405797</td>\n",
       "      <td>0.471015</td>\n",
       "      <td>0.239130</td>\n",
       "      <td>0.260870</td>\n",
       "      <td>0.514493</td>\n",
       "      <td>0.413043</td>\n",
       "      <td>...</td>\n",
       "      <td>0.384058</td>\n",
       "      <td>0.637681</td>\n",
       "      <td>0.362319</td>\n",
       "      <td>0.637681</td>\n",
       "      <td>0.521739</td>\n",
       "      <td>0.623188</td>\n",
       "      <td>0.528985</td>\n",
       "      <td>0.384058</td>\n",
       "      <td>0.347826</td>\n",
       "      <td>0.471015</td>\n",
       "    </tr>\n",
       "    <tr>\n",
       "      <th>3</th>\n",
       "      <td>Barcelona</td>\n",
       "      <td>0.642857</td>\n",
       "      <td>0.224490</td>\n",
       "      <td>0.571429</td>\n",
       "      <td>0.673469</td>\n",
       "      <td>0.469388</td>\n",
       "      <td>0.367347</td>\n",
       "      <td>0.244898</td>\n",
       "      <td>0.693878</td>\n",
       "      <td>0.520408</td>\n",
       "      <td>...</td>\n",
       "      <td>0.377551</td>\n",
       "      <td>0.673469</td>\n",
       "      <td>0.510204</td>\n",
       "      <td>0.653061</td>\n",
       "      <td>0.530612</td>\n",
       "      <td>0.724490</td>\n",
       "      <td>0.693878</td>\n",
       "      <td>0.500000</td>\n",
       "      <td>0.346939</td>\n",
       "      <td>0.642857</td>\n",
       "    </tr>\n",
       "    <tr>\n",
       "      <th>4</th>\n",
       "      <td>Beijing</td>\n",
       "      <td>0.432836</td>\n",
       "      <td>0.164179</td>\n",
       "      <td>0.485075</td>\n",
       "      <td>0.343284</td>\n",
       "      <td>0.477612</td>\n",
       "      <td>0.208955</td>\n",
       "      <td>0.291045</td>\n",
       "      <td>0.485075</td>\n",
       "      <td>0.358209</td>\n",
       "      <td>...</td>\n",
       "      <td>0.343284</td>\n",
       "      <td>0.597015</td>\n",
       "      <td>0.313433</td>\n",
       "      <td>0.604478</td>\n",
       "      <td>0.470149</td>\n",
       "      <td>0.559702</td>\n",
       "      <td>0.492537</td>\n",
       "      <td>0.343284</td>\n",
       "      <td>0.320896</td>\n",
       "      <td>0.447761</td>\n",
       "    </tr>\n",
       "  </tbody>\n",
       "</table>\n",
       "<p>5 rows × 56 columns</p>\n",
       "</div>"
      ],
      "text/plain": [
       "        City  Amsterdam   Atlanta   Bangkok  Barcelona   Beijing    Berlin  \\\n",
       "0  Amsterdam   0.716981  0.254717  0.613208   0.594340  0.547170  0.349057   \n",
       "1    Atlanta   0.586957  0.782609  0.500000   0.478261  0.478261  0.478261   \n",
       "2    Bangkok   0.471015  0.166667  0.565217   0.405797  0.471015  0.239130   \n",
       "3  Barcelona   0.642857  0.224490  0.571429   0.673469  0.469388  0.367347   \n",
       "4    Beijing   0.432836  0.164179  0.485075   0.343284  0.477612  0.208955   \n",
       "\n",
       "     Boston  Brussels  Budapest    ...     Shanghai  Singapore  Stockholm  \\\n",
       "0  0.377358  0.669811  0.528302    ...     0.452830   0.735849   0.537736   \n",
       "1  0.478261  0.760870  0.478261    ...     0.478261   0.521739   0.565217   \n",
       "2  0.260870  0.514493  0.413043    ...     0.384058   0.637681   0.362319   \n",
       "3  0.244898  0.693878  0.520408    ...     0.377551   0.673469   0.510204   \n",
       "4  0.291045  0.485075  0.358209    ...     0.343284   0.597015   0.313433   \n",
       "\n",
       "     Sydney    Taipei     Tokyo   Toronto    Warsaw  Washington    Zurich  \n",
       "0  0.754717  0.594340  0.660377  0.735849  0.528302    0.367925  0.669811  \n",
       "1  0.630435  0.630435  0.782609  0.717391  0.478261    0.717391  0.565217  \n",
       "2  0.637681  0.521739  0.623188  0.528985  0.384058    0.347826  0.471015  \n",
       "3  0.653061  0.530612  0.724490  0.693878  0.500000    0.346939  0.642857  \n",
       "4  0.604478  0.470149  0.559702  0.492537  0.343284    0.320896  0.447761  \n",
       "\n",
       "[5 rows x 56 columns]"
      ]
     },
     "execution_count": 4,
     "metadata": {},
     "output_type": "execute_result"
    }
   ],
   "source": [
    "df.head()"
   ]
  },
  {
   "cell_type": "code",
   "execution_count": 3,
   "metadata": {
    "collapsed": true
   },
   "outputs": [],
   "source": [
    "dolphins = nx.read_pajek(\"dolphins.net\")"
   ]
  },
  {
   "cell_type": "code",
   "execution_count": 6,
   "metadata": {},
   "outputs": [
    {
     "name": "stdout",
     "output_type": "stream",
     "text": [
      "Name: \n",
      "Type: Graph\n",
      "Number of nodes: 62\n",
      "Number of edges: 159\n",
      "Average degree:   5.1290\n"
     ]
    }
   ],
   "source": [
    "print(nx.info(dolphins))"
   ]
  },
  {
   "cell_type": "code",
   "execution_count": 5,
   "metadata": {
    "collapsed": true
   },
   "outputs": [],
   "source": [
    "dolphins = nx.Graph(dolphins)"
   ]
  },
  {
   "cell_type": "code",
   "execution_count": 11,
   "metadata": {},
   "outputs": [
    {
     "data": {
      "text/plain": [
       "{'id': '12', 'shape': '0.0', 'x': 327.18512, 'y': 173.43272}"
      ]
     },
     "execution_count": 11,
     "metadata": {},
     "output_type": "execute_result"
    }
   ],
   "source": [
    "dolphins.node['Five']"
   ]
  },
  {
   "cell_type": "code",
   "execution_count": 10,
   "metadata": {},
   "outputs": [
    {
     "data": {
      "text/plain": [
       "['Five',\n",
       " 'Cross',\n",
       " 'TR99',\n",
       " 'Jonah',\n",
       " 'Web',\n",
       " 'DN16',\n",
       " 'SN96',\n",
       " 'TR88',\n",
       " 'DN63',\n",
       " 'Kringel',\n",
       " 'SN4',\n",
       " 'Topless',\n",
       " 'SN100',\n",
       " 'Mus',\n",
       " 'Thumper',\n",
       " 'Zap',\n",
       " 'Trigger',\n",
       " 'Haecksel',\n",
       " 'Notch',\n",
       " 'TR120',\n",
       " 'Shmuddel',\n",
       " 'Upbang',\n",
       " 'Quasi',\n",
       " 'SN89',\n",
       " 'TR77',\n",
       " 'TR82',\n",
       " 'Zig',\n",
       " 'Number1',\n",
       " 'Patchback',\n",
       " 'Knit',\n",
       " 'Wave',\n",
       " 'Hook',\n",
       " 'MN23',\n",
       " 'Feather',\n",
       " 'SN9',\n",
       " 'Jet',\n",
       " 'SMN5',\n",
       " 'DN21',\n",
       " 'Gallatin',\n",
       " 'Fish',\n",
       " 'CCL',\n",
       " 'Beescratch',\n",
       " 'Vau',\n",
       " 'SN63',\n",
       " 'Beak',\n",
       " 'TSN83',\n",
       " 'Grin',\n",
       " 'Zipfel',\n",
       " 'Fork',\n",
       " 'Stripes',\n",
       " 'Ripplefluke',\n",
       " 'MN83',\n",
       " 'Bumper',\n",
       " 'Oscar',\n",
       " 'SN90',\n",
       " 'TSN103',\n",
       " 'Whitetip',\n",
       " 'Double',\n",
       " 'MN105',\n",
       " 'MN60',\n",
       " 'Scabs',\n",
       " 'PL']"
      ]
     },
     "execution_count": 10,
     "metadata": {},
     "output_type": "execute_result"
    }
   ],
   "source": [
    "dolphins.nodes()"
   ]
  },
  {
   "cell_type": "code",
   "execution_count": 12,
   "metadata": {},
   "outputs": [
    {
     "name": "stdout",
     "output_type": "stream",
     "text": [
      "-0.0435940282153\n"
     ]
    }
   ],
   "source": [
    "real_assortativity = nx.degree_assortativity_coefficient(dolphins)\n",
    "print(real_assortativity)"
   ]
  },
  {
   "cell_type": "code",
   "execution_count": 4,
   "metadata": {
    "collapsed": true
   },
   "outputs": [],
   "source": [
    "polbooks = nx.read_graphml(\"polbooks.graphml\")"
   ]
  },
  {
   "cell_type": "code",
   "execution_count": 5,
   "metadata": {},
   "outputs": [
    {
     "data": {
      "text/plain": [
       "-0.12789600966671899"
      ]
     },
     "execution_count": 5,
     "metadata": {},
     "output_type": "execute_result"
    }
   ],
   "source": [
    "nx.degree_assortativity_coefficient(polbooks)"
   ]
  },
  {
   "cell_type": "code",
   "execution_count": 6,
   "metadata": {},
   "outputs": [
    {
     "data": {
      "text/plain": [
       "0.7233077584970603"
      ]
     },
     "execution_count": 6,
     "metadata": {},
     "output_type": "execute_result"
    }
   ],
   "source": [
    "nx.attribute_assortativity_coefficient(polbooks,'value')"
   ]
  },
  {
   "cell_type": "code",
   "execution_count": 7,
   "metadata": {},
   "outputs": [
    {
     "data": {
      "text/plain": [
       "{'Modularity Class': 0,\n",
       " 'b': 229,\n",
       " 'g': 150,\n",
       " 'label': 'Ten Minutes from Normal',\n",
       " 'r': 154,\n",
       " 'size': 11.73913,\n",
       " 'value': 'c',\n",
       " 'x': -33.684486,\n",
       " 'y': 126.83871}"
      ]
     },
     "execution_count": 7,
     "metadata": {},
     "output_type": "execute_result"
    }
   ],
   "source": [
    "polbooks.node['20']"
   ]
  },
  {
   "cell_type": "code",
   "execution_count": 8,
   "metadata": {
    "collapsed": true
   },
   "outputs": [],
   "source": [
    "degree_seq = list(nx.degree(polbooks).values())"
   ]
  },
  {
   "cell_type": "code",
   "execution_count": 9,
   "metadata": {
    "collapsed": true
   },
   "outputs": [],
   "source": [
    "null_graph = nx.configuration_model(degree_seq)\n",
    "null_graph = nx.Graph(null_graph)"
   ]
  },
  {
   "cell_type": "code",
   "execution_count": 10,
   "metadata": {},
   "outputs": [
    {
     "name": "stdout",
     "output_type": "stream",
     "text": [
      "Name: configuration_model 105 nodes 441 edges\n",
      "Type: Graph\n",
      "Number of nodes: 105\n",
      "Number of edges: 414\n",
      "Average degree:   7.8857\n"
     ]
    }
   ],
   "source": [
    "print(nx.info(null_graph))"
   ]
  },
  {
   "cell_type": "code",
   "execution_count": 11,
   "metadata": {},
   "outputs": [
    {
     "data": {
      "text/plain": [
       "-0.044501858979012571"
      ]
     },
     "execution_count": 11,
     "metadata": {},
     "output_type": "execute_result"
    }
   ],
   "source": [
    "nx.degree_assortativity_coefficient(null_graph)"
   ]
  },
  {
   "cell_type": "code",
   "execution_count": 12,
   "metadata": {},
   "outputs": [
    {
     "data": {
      "text/plain": [
       "{}"
      ]
     },
     "execution_count": 12,
     "metadata": {},
     "output_type": "execute_result"
    }
   ],
   "source": [
    "null_graph.node[0]"
   ]
  },
  {
   "cell_type": "code",
   "execution_count": 13,
   "metadata": {
    "collapsed": true
   },
   "outputs": [],
   "source": [
    "values = []\n",
    "for node in polbooks.nodes():\n",
    "    values.append(polbooks.node[node]['value'])"
   ]
  },
  {
   "cell_type": "code",
   "execution_count": 14,
   "metadata": {},
   "outputs": [
    {
     "data": {
      "text/plain": [
       "['n',\n",
       " 'c',\n",
       " 'c',\n",
       " 'c',\n",
       " 'n',\n",
       " 'c',\n",
       " 'n',\n",
       " 'n',\n",
       " 'c',\n",
       " 'c',\n",
       " 'c',\n",
       " 'c',\n",
       " 'c',\n",
       " 'c',\n",
       " 'c',\n",
       " 'c',\n",
       " 'c',\n",
       " 'c',\n",
       " 'n',\n",
       " 'c',\n",
       " 'c',\n",
       " 'c',\n",
       " 'c',\n",
       " 'c',\n",
       " 'c',\n",
       " 'c',\n",
       " 'c',\n",
       " 'c',\n",
       " 'n',\n",
       " 'c',\n",
       " 'l',\n",
       " 'l',\n",
       " 'c',\n",
       " 'c',\n",
       " 'c',\n",
       " 'c',\n",
       " 'c',\n",
       " 'c',\n",
       " 'c',\n",
       " 'c',\n",
       " 'c',\n",
       " 'c',\n",
       " 'c',\n",
       " 'c',\n",
       " 'c',\n",
       " 'c',\n",
       " 'n',\n",
       " 'c',\n",
       " 'n',\n",
       " 'c',\n",
       " 'c',\n",
       " 'n',\n",
       " 'c',\n",
       " 'c',\n",
       " 'c',\n",
       " 'c',\n",
       " 'c',\n",
       " 'c',\n",
       " 'c',\n",
       " 'l',\n",
       " 'l',\n",
       " 'l',\n",
       " 'l',\n",
       " 'l',\n",
       " 'l',\n",
       " 'l',\n",
       " 'l',\n",
       " 'l',\n",
       " 'l',\n",
       " 'n',\n",
       " 'l',\n",
       " 'l',\n",
       " 'l',\n",
       " 'l',\n",
       " 'l',\n",
       " 'l',\n",
       " 'n',\n",
       " 'c',\n",
       " 'l',\n",
       " 'l',\n",
       " 'l',\n",
       " 'l',\n",
       " 'l',\n",
       " 'l',\n",
       " 'l',\n",
       " 'l',\n",
       " 'l',\n",
       " 'l',\n",
       " 'l',\n",
       " 'l',\n",
       " 'l',\n",
       " 'l',\n",
       " 'l',\n",
       " 'l',\n",
       " 'l',\n",
       " 'l',\n",
       " 'l',\n",
       " 'l',\n",
       " 'l',\n",
       " 'l',\n",
       " 'l',\n",
       " 'l',\n",
       " 'l',\n",
       " 'n',\n",
       " 'n']"
      ]
     },
     "execution_count": 14,
     "metadata": {},
     "output_type": "execute_result"
    }
   ],
   "source": [
    "values"
   ]
  },
  {
   "cell_type": "code",
   "execution_count": 15,
   "metadata": {
    "collapsed": true
   },
   "outputs": [],
   "source": [
    "distrib = {}\n",
    "total = 0\n",
    "for v in values:\n",
    "    total += 1\n",
    "    try:\n",
    "        distrib[v] += 1\n",
    "    except:\n",
    "        distrib[v] = 1"
   ]
  },
  {
   "cell_type": "code",
   "execution_count": 16,
   "metadata": {},
   "outputs": [
    {
     "data": {
      "text/plain": [
       "{'c': 49, 'l': 43, 'n': 13}"
      ]
     },
     "execution_count": 16,
     "metadata": {},
     "output_type": "execute_result"
    }
   ],
   "source": [
    "distrib"
   ]
  },
  {
   "cell_type": "code",
   "execution_count": 17,
   "metadata": {},
   "outputs": [
    {
     "data": {
      "text/plain": [
       "105"
      ]
     },
     "execution_count": 17,
     "metadata": {},
     "output_type": "execute_result"
    }
   ],
   "source": [
    "total"
   ]
  },
  {
   "cell_type": "code",
   "execution_count": 18,
   "metadata": {
    "collapsed": true
   },
   "outputs": [],
   "source": [
    "probs = {}"
   ]
  },
  {
   "cell_type": "code",
   "execution_count": 19,
   "metadata": {},
   "outputs": [
    {
     "name": "stdout",
     "output_type": "stream",
     "text": [
      "n 13 105 0.12380952380952381\n",
      "c 49 105 0.4666666666666667\n",
      "l 43 105 0.4095238095238095\n"
     ]
    }
   ],
   "source": [
    "for value,count in distrib.items():\n",
    "    print(value, count, total, count/total)\n",
    "    probs[value] = count/total"
   ]
  },
  {
   "cell_type": "code",
   "execution_count": 20,
   "metadata": {},
   "outputs": [
    {
     "data": {
      "text/plain": [
       "{'c': 0.4666666666666667, 'l': 0.4095238095238095, 'n': 0.12380952380952381}"
      ]
     },
     "execution_count": 20,
     "metadata": {},
     "output_type": "execute_result"
    }
   ],
   "source": [
    "probs"
   ]
  },
  {
   "cell_type": "markdown",
   "metadata": {},
   "source": [
    "https://stackoverflow.com/questions/3679694/a-weighted-version-of-random-choice"
   ]
  },
  {
   "cell_type": "markdown",
   "metadata": {},
   "source": [
    "https://docs.scipy.org/doc/scipy/reference/stats.html"
   ]
  },
  {
   "cell_type": "code",
   "execution_count": 26,
   "metadata": {
    "collapsed": true
   },
   "outputs": [],
   "source": [
    "def weightedChoice(choices):\n",
    "    \"\"\"Like random.choice, but each element can have a different chance of\n",
    "    being selected.\n",
    "\n",
    "    choices can be any iterable containing iterables with two items each.\n",
    "    Technically, they can have more than two items, the rest will just be\n",
    "    ignored.  The first item is the thing being chosen, the second item is\n",
    "    its weight.  The weights can be any numeric values, what matters is the\n",
    "    relative differences between them.\n",
    "    \"\"\"\n",
    "    space = {}\n",
    "    current = 0\n",
    "    for choice, weight in choices.items():\n",
    "        if weight > 0:\n",
    "            space[current] = choice\n",
    "            current += weight\n",
    "    rand = random.uniform(0, current)\n",
    "    for key in sorted(space.keys() + [current]):\n",
    "        if rand < key:\n",
    "            return choice\n",
    "        choice = space[key]\n",
    "    return None"
   ]
  },
  {
   "cell_type": "code",
   "execution_count": 27,
   "metadata": {},
   "outputs": [
    {
     "ename": "TypeError",
     "evalue": "unsupported operand type(s) for +: 'dict_keys' and 'list'",
     "output_type": "error",
     "traceback": [
      "\u001b[0;31m---------------------------------------------------------------------------\u001b[0m",
      "\u001b[0;31mTypeError\u001b[0m                                 Traceback (most recent call last)",
      "\u001b[0;32m<ipython-input-27-0a8265afa913>\u001b[0m in \u001b[0;36m<module>\u001b[0;34m()\u001b[0m\n\u001b[0;32m----> 1\u001b[0;31m \u001b[0mweightedChoice\u001b[0m\u001b[0;34m(\u001b[0m\u001b[0mprobs\u001b[0m\u001b[0;34m)\u001b[0m\u001b[0;34m\u001b[0m\u001b[0m\n\u001b[0m",
      "\u001b[0;32m<ipython-input-26-bc95eccadc62>\u001b[0m in \u001b[0;36mweightedChoice\u001b[0;34m(choices)\u001b[0m\n\u001b[1;32m     16\u001b[0m             \u001b[0mcurrent\u001b[0m \u001b[0;34m+=\u001b[0m \u001b[0mweight\u001b[0m\u001b[0;34m\u001b[0m\u001b[0m\n\u001b[1;32m     17\u001b[0m     \u001b[0mrand\u001b[0m \u001b[0;34m=\u001b[0m \u001b[0mrandom\u001b[0m\u001b[0;34m.\u001b[0m\u001b[0muniform\u001b[0m\u001b[0;34m(\u001b[0m\u001b[0;36m0\u001b[0m\u001b[0;34m,\u001b[0m \u001b[0mcurrent\u001b[0m\u001b[0;34m)\u001b[0m\u001b[0;34m\u001b[0m\u001b[0m\n\u001b[0;32m---> 18\u001b[0;31m     \u001b[0;32mfor\u001b[0m \u001b[0mkey\u001b[0m \u001b[0;32min\u001b[0m \u001b[0msorted\u001b[0m\u001b[0;34m(\u001b[0m\u001b[0mspace\u001b[0m\u001b[0;34m.\u001b[0m\u001b[0mkeys\u001b[0m\u001b[0;34m(\u001b[0m\u001b[0;34m)\u001b[0m \u001b[0;34m+\u001b[0m \u001b[0;34m[\u001b[0m\u001b[0mcurrent\u001b[0m\u001b[0;34m]\u001b[0m\u001b[0;34m)\u001b[0m\u001b[0;34m:\u001b[0m\u001b[0;34m\u001b[0m\u001b[0m\n\u001b[0m\u001b[1;32m     19\u001b[0m         \u001b[0;32mif\u001b[0m \u001b[0mrand\u001b[0m \u001b[0;34m<\u001b[0m \u001b[0mkey\u001b[0m\u001b[0;34m:\u001b[0m\u001b[0;34m\u001b[0m\u001b[0m\n\u001b[1;32m     20\u001b[0m             \u001b[0;32mreturn\u001b[0m \u001b[0mchoice\u001b[0m\u001b[0;34m\u001b[0m\u001b[0m\n",
      "\u001b[0;31mTypeError\u001b[0m: unsupported operand type(s) for +: 'dict_keys' and 'list'"
     ]
    }
   ],
   "source": [
    "weightedChoice(probs)"
   ]
  },
  {
   "cell_type": "code",
   "execution_count": 31,
   "metadata": {},
   "outputs": [
    {
     "name": "stdout",
     "output_type": "stream",
     "text": [
      "n 0.12380952380952381\n",
      "c 0.4666666666666667\n",
      "l 0.4095238095238095\n"
     ]
    }
   ],
   "source": [
    "for key,value in probs.items():\n",
    "    print(key,value)"
   ]
  },
  {
   "cell_type": "code",
   "execution_count": 32,
   "metadata": {
    "collapsed": true
   },
   "outputs": [],
   "source": [
    "list_of_candidates = []\n",
    "probability_distribution = []\n",
    "\n",
    "for key,value in probs.items():\n",
    "    list_of_candidates.append(key)\n",
    "    probability_distribution.append(value)"
   ]
  },
  {
   "cell_type": "code",
   "execution_count": 33,
   "metadata": {
    "collapsed": true
   },
   "outputs": [],
   "source": [
    "number_of_items_to_pick = 1"
   ]
  },
  {
   "cell_type": "code",
   "execution_count": 40,
   "metadata": {
    "collapsed": true
   },
   "outputs": [],
   "source": [
    "draw = choice(list_of_candidates, number_of_items_to_pick, p=probability_distribution)"
   ]
  },
  {
   "cell_type": "code",
   "execution_count": 44,
   "metadata": {},
   "outputs": [
    {
     "data": {
      "text/plain": [
       "'n'"
      ]
     },
     "execution_count": 44,
     "metadata": {},
     "output_type": "execute_result"
    }
   ],
   "source": [
    "draw[0]"
   ]
  },
  {
   "cell_type": "code",
   "execution_count": 93,
   "metadata": {
    "collapsed": true
   },
   "outputs": [],
   "source": [
    "draws = []\n",
    "count = 10000\n",
    "for i in range(count):\n",
    "    draw = choice(list_of_candidates, number_of_items_to_pick, p=probability_distribution)\n",
    "    draws.append(draw[0])"
   ]
  },
  {
   "cell_type": "code",
   "execution_count": 94,
   "metadata": {},
   "outputs": [
    {
     "data": {
      "text/plain": [
       "10000"
      ]
     },
     "execution_count": 94,
     "metadata": {},
     "output_type": "execute_result"
    }
   ],
   "source": [
    "len(draws)"
   ]
  },
  {
   "cell_type": "code",
   "execution_count": 95,
   "metadata": {
    "collapsed": true
   },
   "outputs": [],
   "source": [
    "validate = {'c': 0, 'l': 0, 'n': 0}"
   ]
  },
  {
   "cell_type": "code",
   "execution_count": 96,
   "metadata": {
    "collapsed": true
   },
   "outputs": [],
   "source": [
    "for result in draws:\n",
    "    validate[result] += 1"
   ]
  },
  {
   "cell_type": "code",
   "execution_count": 97,
   "metadata": {},
   "outputs": [
    {
     "data": {
      "text/plain": [
       "{'c': 4763, 'l': 3994, 'n': 1243}"
      ]
     },
     "execution_count": 97,
     "metadata": {},
     "output_type": "execute_result"
    }
   ],
   "source": [
    "validate"
   ]
  },
  {
   "cell_type": "code",
   "execution_count": 98,
   "metadata": {},
   "outputs": [
    {
     "name": "stdout",
     "output_type": "stream",
     "text": [
      "c = 47.63%\n",
      "l = 39.94%\n",
      "n = 12.43%\n"
     ]
    }
   ],
   "source": [
    "for key,value in validate.items():\n",
    "    print(\"{0} = {1:4.2f}%\".format(key,(value/count)*100))"
   ]
  },
  {
   "cell_type": "code",
   "execution_count": null,
   "metadata": {
    "collapsed": true
   },
   "outputs": [],
   "source": []
  }
 ],
 "metadata": {
  "kernelspec": {
   "display_name": "Python 3",
   "language": "python",
   "name": "python3"
  },
  "language_info": {
   "codemirror_mode": {
    "name": "ipython",
    "version": 3
   },
   "file_extension": ".py",
   "mimetype": "text/x-python",
   "name": "python",
   "nbconvert_exporter": "python",
   "pygments_lexer": "ipython3",
   "version": "3.6.1"
  }
 },
 "nbformat": 4,
 "nbformat_minor": 2
}
