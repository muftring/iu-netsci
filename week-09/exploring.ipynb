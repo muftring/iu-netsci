{
 "cells": [
  {
   "cell_type": "code",
   "execution_count": 12,
   "metadata": {},
   "outputs": [],
   "source": [
    "import pandas as pd\n",
    "import networkx as nx\n",
    "import random\n",
    "from numpy.random import choice, shuffle"
   ]
  },
  {
   "cell_type": "code",
   "execution_count": 3,
   "metadata": {
    "collapsed": true
   },
   "outputs": [],
   "source": [
    "df = pd.read_csv(\"http://www.lboro.ac.uk/gawc/datasets/da7_3.csv\")"
   ]
  },
  {
   "cell_type": "code",
   "execution_count": 4,
   "metadata": {},
   "outputs": [
    {
     "data": {
      "text/html": [
       "<div>\n",
       "<style>\n",
       "    .dataframe thead tr:only-child th {\n",
       "        text-align: right;\n",
       "    }\n",
       "\n",
       "    .dataframe thead th {\n",
       "        text-align: left;\n",
       "    }\n",
       "\n",
       "    .dataframe tbody tr th {\n",
       "        vertical-align: top;\n",
       "    }\n",
       "</style>\n",
       "<table border=\"1\" class=\"dataframe\">\n",
       "  <thead>\n",
       "    <tr style=\"text-align: right;\">\n",
       "      <th></th>\n",
       "      <th>City</th>\n",
       "      <th>Amsterdam</th>\n",
       "      <th>Atlanta</th>\n",
       "      <th>Bangkok</th>\n",
       "      <th>Barcelona</th>\n",
       "      <th>Beijing</th>\n",
       "      <th>Berlin</th>\n",
       "      <th>Boston</th>\n",
       "      <th>Brussels</th>\n",
       "      <th>Budapest</th>\n",
       "      <th>...</th>\n",
       "      <th>Shanghai</th>\n",
       "      <th>Singapore</th>\n",
       "      <th>Stockholm</th>\n",
       "      <th>Sydney</th>\n",
       "      <th>Taipei</th>\n",
       "      <th>Tokyo</th>\n",
       "      <th>Toronto</th>\n",
       "      <th>Warsaw</th>\n",
       "      <th>Washington</th>\n",
       "      <th>Zurich</th>\n",
       "    </tr>\n",
       "  </thead>\n",
       "  <tbody>\n",
       "    <tr>\n",
       "      <th>0</th>\n",
       "      <td>Amsterdam</td>\n",
       "      <td>0.716981</td>\n",
       "      <td>0.254717</td>\n",
       "      <td>0.613208</td>\n",
       "      <td>0.594340</td>\n",
       "      <td>0.547170</td>\n",
       "      <td>0.349057</td>\n",
       "      <td>0.377358</td>\n",
       "      <td>0.669811</td>\n",
       "      <td>0.528302</td>\n",
       "      <td>...</td>\n",
       "      <td>0.452830</td>\n",
       "      <td>0.735849</td>\n",
       "      <td>0.537736</td>\n",
       "      <td>0.754717</td>\n",
       "      <td>0.594340</td>\n",
       "      <td>0.660377</td>\n",
       "      <td>0.735849</td>\n",
       "      <td>0.528302</td>\n",
       "      <td>0.367925</td>\n",
       "      <td>0.669811</td>\n",
       "    </tr>\n",
       "    <tr>\n",
       "      <th>1</th>\n",
       "      <td>Atlanta</td>\n",
       "      <td>0.586957</td>\n",
       "      <td>0.782609</td>\n",
       "      <td>0.500000</td>\n",
       "      <td>0.478261</td>\n",
       "      <td>0.478261</td>\n",
       "      <td>0.478261</td>\n",
       "      <td>0.478261</td>\n",
       "      <td>0.760870</td>\n",
       "      <td>0.478261</td>\n",
       "      <td>...</td>\n",
       "      <td>0.478261</td>\n",
       "      <td>0.521739</td>\n",
       "      <td>0.565217</td>\n",
       "      <td>0.630435</td>\n",
       "      <td>0.630435</td>\n",
       "      <td>0.782609</td>\n",
       "      <td>0.717391</td>\n",
       "      <td>0.478261</td>\n",
       "      <td>0.717391</td>\n",
       "      <td>0.565217</td>\n",
       "    </tr>\n",
       "    <tr>\n",
       "      <th>2</th>\n",
       "      <td>Bangkok</td>\n",
       "      <td>0.471015</td>\n",
       "      <td>0.166667</td>\n",
       "      <td>0.565217</td>\n",
       "      <td>0.405797</td>\n",
       "      <td>0.471015</td>\n",
       "      <td>0.239130</td>\n",
       "      <td>0.260870</td>\n",
       "      <td>0.514493</td>\n",
       "      <td>0.413043</td>\n",
       "      <td>...</td>\n",
       "      <td>0.384058</td>\n",
       "      <td>0.637681</td>\n",
       "      <td>0.362319</td>\n",
       "      <td>0.637681</td>\n",
       "      <td>0.521739</td>\n",
       "      <td>0.623188</td>\n",
       "      <td>0.528985</td>\n",
       "      <td>0.384058</td>\n",
       "      <td>0.347826</td>\n",
       "      <td>0.471015</td>\n",
       "    </tr>\n",
       "    <tr>\n",
       "      <th>3</th>\n",
       "      <td>Barcelona</td>\n",
       "      <td>0.642857</td>\n",
       "      <td>0.224490</td>\n",
       "      <td>0.571429</td>\n",
       "      <td>0.673469</td>\n",
       "      <td>0.469388</td>\n",
       "      <td>0.367347</td>\n",
       "      <td>0.244898</td>\n",
       "      <td>0.693878</td>\n",
       "      <td>0.520408</td>\n",
       "      <td>...</td>\n",
       "      <td>0.377551</td>\n",
       "      <td>0.673469</td>\n",
       "      <td>0.510204</td>\n",
       "      <td>0.653061</td>\n",
       "      <td>0.530612</td>\n",
       "      <td>0.724490</td>\n",
       "      <td>0.693878</td>\n",
       "      <td>0.500000</td>\n",
       "      <td>0.346939</td>\n",
       "      <td>0.642857</td>\n",
       "    </tr>\n",
       "    <tr>\n",
       "      <th>4</th>\n",
       "      <td>Beijing</td>\n",
       "      <td>0.432836</td>\n",
       "      <td>0.164179</td>\n",
       "      <td>0.485075</td>\n",
       "      <td>0.343284</td>\n",
       "      <td>0.477612</td>\n",
       "      <td>0.208955</td>\n",
       "      <td>0.291045</td>\n",
       "      <td>0.485075</td>\n",
       "      <td>0.358209</td>\n",
       "      <td>...</td>\n",
       "      <td>0.343284</td>\n",
       "      <td>0.597015</td>\n",
       "      <td>0.313433</td>\n",
       "      <td>0.604478</td>\n",
       "      <td>0.470149</td>\n",
       "      <td>0.559702</td>\n",
       "      <td>0.492537</td>\n",
       "      <td>0.343284</td>\n",
       "      <td>0.320896</td>\n",
       "      <td>0.447761</td>\n",
       "    </tr>\n",
       "  </tbody>\n",
       "</table>\n",
       "<p>5 rows × 56 columns</p>\n",
       "</div>"
      ],
      "text/plain": [
       "        City  Amsterdam   Atlanta   Bangkok  Barcelona   Beijing    Berlin  \\\n",
       "0  Amsterdam   0.716981  0.254717  0.613208   0.594340  0.547170  0.349057   \n",
       "1    Atlanta   0.586957  0.782609  0.500000   0.478261  0.478261  0.478261   \n",
       "2    Bangkok   0.471015  0.166667  0.565217   0.405797  0.471015  0.239130   \n",
       "3  Barcelona   0.642857  0.224490  0.571429   0.673469  0.469388  0.367347   \n",
       "4    Beijing   0.432836  0.164179  0.485075   0.343284  0.477612  0.208955   \n",
       "\n",
       "     Boston  Brussels  Budapest    ...     Shanghai  Singapore  Stockholm  \\\n",
       "0  0.377358  0.669811  0.528302    ...     0.452830   0.735849   0.537736   \n",
       "1  0.478261  0.760870  0.478261    ...     0.478261   0.521739   0.565217   \n",
       "2  0.260870  0.514493  0.413043    ...     0.384058   0.637681   0.362319   \n",
       "3  0.244898  0.693878  0.520408    ...     0.377551   0.673469   0.510204   \n",
       "4  0.291045  0.485075  0.358209    ...     0.343284   0.597015   0.313433   \n",
       "\n",
       "     Sydney    Taipei     Tokyo   Toronto    Warsaw  Washington    Zurich  \n",
       "0  0.754717  0.594340  0.660377  0.735849  0.528302    0.367925  0.669811  \n",
       "1  0.630435  0.630435  0.782609  0.717391  0.478261    0.717391  0.565217  \n",
       "2  0.637681  0.521739  0.623188  0.528985  0.384058    0.347826  0.471015  \n",
       "3  0.653061  0.530612  0.724490  0.693878  0.500000    0.346939  0.642857  \n",
       "4  0.604478  0.470149  0.559702  0.492537  0.343284    0.320896  0.447761  \n",
       "\n",
       "[5 rows x 56 columns]"
      ]
     },
     "execution_count": 4,
     "metadata": {},
     "output_type": "execute_result"
    }
   ],
   "source": [
    "df.head()"
   ]
  },
  {
   "cell_type": "code",
   "execution_count": 3,
   "metadata": {
    "collapsed": true
   },
   "outputs": [],
   "source": [
    "dolphins = nx.read_pajek(\"dolphins.net\")\n",
    "dolphins = nx.Graph(dolphins)"
   ]
  },
  {
   "cell_type": "code",
   "execution_count": 6,
   "metadata": {},
   "outputs": [
    {
     "name": "stdout",
     "output_type": "stream",
     "text": [
      "Name: \n",
      "Type: Graph\n",
      "Number of nodes: 62\n",
      "Number of edges: 159\n",
      "Average degree:   5.1290\n"
     ]
    }
   ],
   "source": [
    "print(nx.info(dolphins))"
   ]
  },
  {
   "cell_type": "code",
   "execution_count": 12,
   "metadata": {},
   "outputs": [
    {
     "name": "stdout",
     "output_type": "stream",
     "text": [
      "-0.0435940282153\n"
     ]
    }
   ],
   "source": [
    "real_assortativity = nx.degree_assortativity_coefficient(dolphins)\n",
    "print(real_assortativity)"
   ]
  },
  {
   "cell_type": "code",
   "execution_count": 4,
   "metadata": {
    "collapsed": true
   },
   "outputs": [],
   "source": [
    "polbooks = nx.read_graphml(\"polbooks.graphml\")"
   ]
  },
  {
   "cell_type": "code",
   "execution_count": 5,
   "metadata": {},
   "outputs": [
    {
     "data": {
      "text/plain": [
       "-0.12789600966671899"
      ]
     },
     "execution_count": 5,
     "metadata": {},
     "output_type": "execute_result"
    }
   ],
   "source": [
    "nx.degree_assortativity_coefficient(polbooks)"
   ]
  },
  {
   "cell_type": "code",
   "execution_count": 6,
   "metadata": {},
   "outputs": [
    {
     "data": {
      "text/plain": [
       "0.7233077584970603"
      ]
     },
     "execution_count": 6,
     "metadata": {},
     "output_type": "execute_result"
    }
   ],
   "source": [
    "nx.attribute_assortativity_coefficient(polbooks,'value')"
   ]
  },
  {
   "cell_type": "code",
   "execution_count": 7,
   "metadata": {},
   "outputs": [
    {
     "data": {
      "text/plain": [
       "{'Modularity Class': 0,\n",
       " 'b': 229,\n",
       " 'g': 150,\n",
       " 'label': 'Ten Minutes from Normal',\n",
       " 'r': 154,\n",
       " 'size': 11.73913,\n",
       " 'value': 'c',\n",
       " 'x': -33.684486,\n",
       " 'y': 126.83871}"
      ]
     },
     "execution_count": 7,
     "metadata": {},
     "output_type": "execute_result"
    }
   ],
   "source": [
    "polbooks.node['20']"
   ]
  },
  {
   "cell_type": "code",
   "execution_count": 8,
   "metadata": {
    "collapsed": true
   },
   "outputs": [],
   "source": [
    "degree_seq = list(nx.degree(polbooks).values())"
   ]
  },
  {
   "cell_type": "code",
   "execution_count": 9,
   "metadata": {
    "collapsed": true
   },
   "outputs": [],
   "source": [
    "null_graph = nx.configuration_model(degree_seq)\n",
    "null_graph = nx.Graph(null_graph)"
   ]
  },
  {
   "cell_type": "code",
   "execution_count": 10,
   "metadata": {},
   "outputs": [
    {
     "name": "stdout",
     "output_type": "stream",
     "text": [
      "Name: configuration_model 105 nodes 441 edges\n",
      "Type: Graph\n",
      "Number of nodes: 105\n",
      "Number of edges: 414\n",
      "Average degree:   7.8857\n"
     ]
    }
   ],
   "source": [
    "print(nx.info(null_graph))"
   ]
  },
  {
   "cell_type": "code",
   "execution_count": 11,
   "metadata": {},
   "outputs": [
    {
     "data": {
      "text/plain": [
       "-0.044501858979012571"
      ]
     },
     "execution_count": 11,
     "metadata": {},
     "output_type": "execute_result"
    }
   ],
   "source": [
    "nx.degree_assortativity_coefficient(null_graph)"
   ]
  },
  {
   "cell_type": "code",
   "execution_count": 12,
   "metadata": {},
   "outputs": [
    {
     "data": {
      "text/plain": [
       "{}"
      ]
     },
     "execution_count": 12,
     "metadata": {},
     "output_type": "execute_result"
    }
   ],
   "source": [
    "null_graph.node[0]"
   ]
  },
  {
   "cell_type": "code",
   "execution_count": 13,
   "metadata": {
    "collapsed": true
   },
   "outputs": [],
   "source": [
    "values = []\n",
    "for node in polbooks.nodes():\n",
    "    values.append(polbooks.node[node]['value'])"
   ]
  },
  {
   "cell_type": "code",
   "execution_count": 14,
   "metadata": {},
   "outputs": [
    {
     "data": {
      "text/plain": [
       "['n',\n",
       " 'c',\n",
       " 'c',\n",
       " 'c',\n",
       " 'n',\n",
       " 'c',\n",
       " 'n',\n",
       " 'n',\n",
       " 'c',\n",
       " 'c',\n",
       " 'c',\n",
       " 'c',\n",
       " 'c',\n",
       " 'c',\n",
       " 'c',\n",
       " 'c',\n",
       " 'c',\n",
       " 'c',\n",
       " 'n',\n",
       " 'c',\n",
       " 'c',\n",
       " 'c',\n",
       " 'c',\n",
       " 'c',\n",
       " 'c',\n",
       " 'c',\n",
       " 'c',\n",
       " 'c',\n",
       " 'n',\n",
       " 'c',\n",
       " 'l',\n",
       " 'l',\n",
       " 'c',\n",
       " 'c',\n",
       " 'c',\n",
       " 'c',\n",
       " 'c',\n",
       " 'c',\n",
       " 'c',\n",
       " 'c',\n",
       " 'c',\n",
       " 'c',\n",
       " 'c',\n",
       " 'c',\n",
       " 'c',\n",
       " 'c',\n",
       " 'n',\n",
       " 'c',\n",
       " 'n',\n",
       " 'c',\n",
       " 'c',\n",
       " 'n',\n",
       " 'c',\n",
       " 'c',\n",
       " 'c',\n",
       " 'c',\n",
       " 'c',\n",
       " 'c',\n",
       " 'c',\n",
       " 'l',\n",
       " 'l',\n",
       " 'l',\n",
       " 'l',\n",
       " 'l',\n",
       " 'l',\n",
       " 'l',\n",
       " 'l',\n",
       " 'l',\n",
       " 'l',\n",
       " 'n',\n",
       " 'l',\n",
       " 'l',\n",
       " 'l',\n",
       " 'l',\n",
       " 'l',\n",
       " 'l',\n",
       " 'n',\n",
       " 'c',\n",
       " 'l',\n",
       " 'l',\n",
       " 'l',\n",
       " 'l',\n",
       " 'l',\n",
       " 'l',\n",
       " 'l',\n",
       " 'l',\n",
       " 'l',\n",
       " 'l',\n",
       " 'l',\n",
       " 'l',\n",
       " 'l',\n",
       " 'l',\n",
       " 'l',\n",
       " 'l',\n",
       " 'l',\n",
       " 'l',\n",
       " 'l',\n",
       " 'l',\n",
       " 'l',\n",
       " 'l',\n",
       " 'l',\n",
       " 'l',\n",
       " 'l',\n",
       " 'n',\n",
       " 'n']"
      ]
     },
     "execution_count": 14,
     "metadata": {},
     "output_type": "execute_result"
    }
   ],
   "source": [
    "values"
   ]
  },
  {
   "cell_type": "code",
   "execution_count": 15,
   "metadata": {
    "collapsed": true
   },
   "outputs": [],
   "source": [
    "distrib = {}\n",
    "total = 0\n",
    "for v in values:\n",
    "    total += 1\n",
    "    try:\n",
    "        distrib[v] += 1\n",
    "    except:\n",
    "        distrib[v] = 1"
   ]
  },
  {
   "cell_type": "code",
   "execution_count": 16,
   "metadata": {},
   "outputs": [
    {
     "data": {
      "text/plain": [
       "{'c': 49, 'l': 43, 'n': 13}"
      ]
     },
     "execution_count": 16,
     "metadata": {},
     "output_type": "execute_result"
    }
   ],
   "source": [
    "distrib"
   ]
  },
  {
   "cell_type": "code",
   "execution_count": 17,
   "metadata": {},
   "outputs": [
    {
     "data": {
      "text/plain": [
       "105"
      ]
     },
     "execution_count": 17,
     "metadata": {},
     "output_type": "execute_result"
    }
   ],
   "source": [
    "total"
   ]
  },
  {
   "cell_type": "code",
   "execution_count": 18,
   "metadata": {
    "collapsed": true
   },
   "outputs": [],
   "source": [
    "probs = {}"
   ]
  },
  {
   "cell_type": "code",
   "execution_count": 19,
   "metadata": {},
   "outputs": [
    {
     "name": "stdout",
     "output_type": "stream",
     "text": [
      "n 13 105 0.12380952380952381\n",
      "c 49 105 0.4666666666666667\n",
      "l 43 105 0.4095238095238095\n"
     ]
    }
   ],
   "source": [
    "for value,count in distrib.items():\n",
    "    print(value, count, total, count/total)\n",
    "    probs[value] = count/total"
   ]
  },
  {
   "cell_type": "code",
   "execution_count": 20,
   "metadata": {},
   "outputs": [
    {
     "data": {
      "text/plain": [
       "{'c': 0.4666666666666667, 'l': 0.4095238095238095, 'n': 0.12380952380952381}"
      ]
     },
     "execution_count": 20,
     "metadata": {},
     "output_type": "execute_result"
    }
   ],
   "source": [
    "probs"
   ]
  },
  {
   "cell_type": "markdown",
   "metadata": {},
   "source": [
    "https://stackoverflow.com/questions/3679694/a-weighted-version-of-random-choice"
   ]
  },
  {
   "cell_type": "markdown",
   "metadata": {},
   "source": [
    "https://docs.scipy.org/doc/scipy/reference/stats.html"
   ]
  },
  {
   "cell_type": "code",
   "execution_count": 26,
   "metadata": {
    "collapsed": true
   },
   "outputs": [],
   "source": [
    "def weightedChoice(choices):\n",
    "    \"\"\"Like random.choice, but each element can have a different chance of\n",
    "    being selected.\n",
    "\n",
    "    choices can be any iterable containing iterables with two items each.\n",
    "    Technically, they can have more than two items, the rest will just be\n",
    "    ignored.  The first item is the thing being chosen, the second item is\n",
    "    its weight.  The weights can be any numeric values, what matters is the\n",
    "    relative differences between them.\n",
    "    \"\"\"\n",
    "    space = {}\n",
    "    current = 0\n",
    "    for choice, weight in choices.items():\n",
    "        if weight > 0:\n",
    "            space[current] = choice\n",
    "            current += weight\n",
    "    rand = random.uniform(0, current)\n",
    "    for key in sorted(space.keys() + [current]):\n",
    "        if rand < key:\n",
    "            return choice\n",
    "        choice = space[key]\n",
    "    return None"
   ]
  },
  {
   "cell_type": "code",
   "execution_count": 27,
   "metadata": {},
   "outputs": [
    {
     "ename": "TypeError",
     "evalue": "unsupported operand type(s) for +: 'dict_keys' and 'list'",
     "output_type": "error",
     "traceback": [
      "\u001b[0;31m---------------------------------------------------------------------------\u001b[0m",
      "\u001b[0;31mTypeError\u001b[0m                                 Traceback (most recent call last)",
      "\u001b[0;32m<ipython-input-27-0a8265afa913>\u001b[0m in \u001b[0;36m<module>\u001b[0;34m()\u001b[0m\n\u001b[0;32m----> 1\u001b[0;31m \u001b[0mweightedChoice\u001b[0m\u001b[0;34m(\u001b[0m\u001b[0mprobs\u001b[0m\u001b[0;34m)\u001b[0m\u001b[0;34m\u001b[0m\u001b[0m\n\u001b[0m",
      "\u001b[0;32m<ipython-input-26-bc95eccadc62>\u001b[0m in \u001b[0;36mweightedChoice\u001b[0;34m(choices)\u001b[0m\n\u001b[1;32m     16\u001b[0m             \u001b[0mcurrent\u001b[0m \u001b[0;34m+=\u001b[0m \u001b[0mweight\u001b[0m\u001b[0;34m\u001b[0m\u001b[0m\n\u001b[1;32m     17\u001b[0m     \u001b[0mrand\u001b[0m \u001b[0;34m=\u001b[0m \u001b[0mrandom\u001b[0m\u001b[0;34m.\u001b[0m\u001b[0muniform\u001b[0m\u001b[0;34m(\u001b[0m\u001b[0;36m0\u001b[0m\u001b[0;34m,\u001b[0m \u001b[0mcurrent\u001b[0m\u001b[0;34m)\u001b[0m\u001b[0;34m\u001b[0m\u001b[0m\n\u001b[0;32m---> 18\u001b[0;31m     \u001b[0;32mfor\u001b[0m \u001b[0mkey\u001b[0m \u001b[0;32min\u001b[0m \u001b[0msorted\u001b[0m\u001b[0;34m(\u001b[0m\u001b[0mspace\u001b[0m\u001b[0;34m.\u001b[0m\u001b[0mkeys\u001b[0m\u001b[0;34m(\u001b[0m\u001b[0;34m)\u001b[0m \u001b[0;34m+\u001b[0m \u001b[0;34m[\u001b[0m\u001b[0mcurrent\u001b[0m\u001b[0;34m]\u001b[0m\u001b[0;34m)\u001b[0m\u001b[0;34m:\u001b[0m\u001b[0;34m\u001b[0m\u001b[0m\n\u001b[0m\u001b[1;32m     19\u001b[0m         \u001b[0;32mif\u001b[0m \u001b[0mrand\u001b[0m \u001b[0;34m<\u001b[0m \u001b[0mkey\u001b[0m\u001b[0;34m:\u001b[0m\u001b[0;34m\u001b[0m\u001b[0m\n\u001b[1;32m     20\u001b[0m             \u001b[0;32mreturn\u001b[0m \u001b[0mchoice\u001b[0m\u001b[0;34m\u001b[0m\u001b[0m\n",
      "\u001b[0;31mTypeError\u001b[0m: unsupported operand type(s) for +: 'dict_keys' and 'list'"
     ]
    }
   ],
   "source": [
    "weightedChoice(probs)"
   ]
  },
  {
   "cell_type": "code",
   "execution_count": 31,
   "metadata": {},
   "outputs": [
    {
     "name": "stdout",
     "output_type": "stream",
     "text": [
      "n 0.12380952380952381\n",
      "c 0.4666666666666667\n",
      "l 0.4095238095238095\n"
     ]
    }
   ],
   "source": [
    "for key,value in probs.items():\n",
    "    print(key,value)"
   ]
  },
  {
   "cell_type": "code",
   "execution_count": 32,
   "metadata": {
    "collapsed": true
   },
   "outputs": [],
   "source": [
    "list_of_candidates = []\n",
    "probability_distribution = []\n",
    "\n",
    "for key,value in probs.items():\n",
    "    list_of_candidates.append(key)\n",
    "    probability_distribution.append(value)"
   ]
  },
  {
   "cell_type": "code",
   "execution_count": 33,
   "metadata": {
    "collapsed": true
   },
   "outputs": [],
   "source": [
    "number_of_items_to_pick = 1"
   ]
  },
  {
   "cell_type": "code",
   "execution_count": 40,
   "metadata": {
    "collapsed": true
   },
   "outputs": [],
   "source": [
    "draw = choice(list_of_candidates, number_of_items_to_pick, p=probability_distribution)"
   ]
  },
  {
   "cell_type": "code",
   "execution_count": 44,
   "metadata": {},
   "outputs": [
    {
     "data": {
      "text/plain": [
       "'n'"
      ]
     },
     "execution_count": 44,
     "metadata": {},
     "output_type": "execute_result"
    }
   ],
   "source": [
    "draw[0]"
   ]
  },
  {
   "cell_type": "code",
   "execution_count": 93,
   "metadata": {
    "collapsed": true
   },
   "outputs": [],
   "source": [
    "draws = []\n",
    "count = 10000\n",
    "for i in range(count):\n",
    "    draw = choice(list_of_candidates, number_of_items_to_pick, p=probability_distribution)\n",
    "    draws.append(draw[0])"
   ]
  },
  {
   "cell_type": "code",
   "execution_count": 94,
   "metadata": {},
   "outputs": [
    {
     "data": {
      "text/plain": [
       "10000"
      ]
     },
     "execution_count": 94,
     "metadata": {},
     "output_type": "execute_result"
    }
   ],
   "source": [
    "len(draws)"
   ]
  },
  {
   "cell_type": "code",
   "execution_count": 95,
   "metadata": {
    "collapsed": true
   },
   "outputs": [],
   "source": [
    "validate = {'c': 0, 'l': 0, 'n': 0}"
   ]
  },
  {
   "cell_type": "code",
   "execution_count": 96,
   "metadata": {
    "collapsed": true
   },
   "outputs": [],
   "source": [
    "for result in draws:\n",
    "    validate[result] += 1"
   ]
  },
  {
   "cell_type": "code",
   "execution_count": 97,
   "metadata": {},
   "outputs": [
    {
     "data": {
      "text/plain": [
       "{'c': 4763, 'l': 3994, 'n': 1243}"
      ]
     },
     "execution_count": 97,
     "metadata": {},
     "output_type": "execute_result"
    }
   ],
   "source": [
    "validate"
   ]
  },
  {
   "cell_type": "code",
   "execution_count": 98,
   "metadata": {},
   "outputs": [
    {
     "name": "stdout",
     "output_type": "stream",
     "text": [
      "c = 47.63%\n",
      "l = 39.94%\n",
      "n = 12.43%\n"
     ]
    }
   ],
   "source": [
    "for key,value in validate.items():\n",
    "    print(\"{0} = {1:4.2f}%\".format(key,(value/count)*100))"
   ]
  },
  {
   "cell_type": "code",
   "execution_count": 9,
   "metadata": {},
   "outputs": [],
   "source": [
    "original = ['c','c','c','c','c','l','l','l','l','n']"
   ]
  },
  {
   "cell_type": "code",
   "execution_count": 10,
   "metadata": {},
   "outputs": [],
   "source": [
    "data = original.copy()"
   ]
  },
  {
   "cell_type": "code",
   "execution_count": 7,
   "metadata": {},
   "outputs": [
    {
     "data": {
      "text/plain": [
       "array(['c', 'l', 'n', 'l', 'l', 'c', 'c', 'l', 'c', 'c'],\n",
       "      dtype='<U1')"
      ]
     },
     "execution_count": 7,
     "metadata": {},
     "output_type": "execute_result"
    }
   ],
   "source": [
    "choice(data, size=len(data), replace=False)"
   ]
  },
  {
   "cell_type": "code",
   "execution_count": 8,
   "metadata": {},
   "outputs": [
    {
     "name": "stdout",
     "output_type": "stream",
     "text": [
      "0 ['c']\n",
      "1 ['c']\n",
      "2 ['c']\n",
      "3 ['l']\n",
      "4 ['c']\n",
      "5 ['c']\n",
      "6 ['c']\n",
      "7 ['c']\n",
      "8 ['c']\n",
      "9 ['l']\n"
     ]
    }
   ],
   "source": [
    "for i in range(len(data)):\n",
    "    print(i,choice(data,size=1,replace=False))"
   ]
  },
  {
   "cell_type": "code",
   "execution_count": 13,
   "metadata": {},
   "outputs": [],
   "source": [
    "shuffle(data)"
   ]
  },
  {
   "cell_type": "code",
   "execution_count": 14,
   "metadata": {},
   "outputs": [
    {
     "data": {
      "text/plain": [
       "['c', 'l', 'c', 'l', 'n', 'l', 'c', 'c', 'c', 'l']"
      ]
     },
     "execution_count": 14,
     "metadata": {},
     "output_type": "execute_result"
    }
   ],
   "source": [
    "data"
   ]
  },
  {
   "cell_type": "code",
   "execution_count": null,
   "metadata": {},
   "outputs": [],
   "source": []
  },
  {
   "cell_type": "code",
   "execution_count": null,
   "metadata": {},
   "outputs": [],
   "source": []
  },
  {
   "cell_type": "code",
   "execution_count": 16,
   "metadata": {},
   "outputs": [],
   "source": [
    "dolphins = nx.read_pajek(\"dolphins.net\")\n",
    "dolphins = nx.Graph(dolphins)"
   ]
  },
  {
   "cell_type": "code",
   "execution_count": 35,
   "metadata": {},
   "outputs": [
    {
     "data": {
      "text/plain": [
       "5.333333333333333"
      ]
     },
     "execution_count": 35,
     "metadata": {},
     "output_type": "execute_result"
    }
   ],
   "source": [
    "nx.average_neighbor_degree(dolphins)['Jet']"
   ]
  },
  {
   "cell_type": "code",
   "execution_count": 61,
   "metadata": {},
   "outputs": [],
   "source": [
    "def nodeName(graph, node, name):\n",
    "    if name == None:\n",
    "        return node\n",
    "    else:\n",
    "        return graph.node[node][name]\n",
    "\n",
    "def nodeIdent(graph, node, ident):\n",
    "    if ident == None:\n",
    "        return node\n",
    "    else:\n",
    "        return graph.node[node][ident]\n",
    "\n",
    "def degreeAnalysis(graph, name=None, ident=None):\n",
    "    for node in graph.nodes():\n",
    "        print(\"{0:60s} {1:4s} {2:4d} {3:10.4f}\".format(nodeName(graph, node, name),\n",
    "                                                       nodeIdent(graph, node, ident), \n",
    "                                                       nx.degree(graph, node), \n",
    "                                                       nx.average_neighbor_degree(graph)[node]))"
   ]
  },
  {
   "cell_type": "code",
   "execution_count": 62,
   "metadata": {},
   "outputs": [
    {
     "name": "stdout",
     "output_type": "stream",
     "text": [
      "Jet                                                          18      9     5.3333\n",
      "SN100                                                        37      7     6.5714\n",
      "DN21                                                         7       6     7.0000\n",
      "Quasi                                                        32      1     9.0000\n",
      "Fish                                                         11      5     6.2000\n",
      "Hook                                                         17      6     9.5000\n",
      "Haecksel                                                     16      7     6.4286\n",
      "TR99                                                         51      7     9.1429\n",
      "Number1                                                      28      5     5.6000\n",
      "Mus                                                          26      3     5.6667\n",
      "Whitetip                                                     59      1     8.0000\n",
      "DN63                                                         8       5     5.8000\n",
      "Web                                                          58      9     5.4444\n",
      "Scabs                                                        34     10     7.1000\n",
      "PL                                                           31      5     5.2000\n",
      "CCL                                                          4       3     7.6667\n",
      "SN96                                                         43      6     5.5000\n",
      "SN90                                                         42      5     7.8000\n",
      "SMN5                                                         36      1     9.0000\n",
      "Fork                                                         13      1    10.0000\n",
      "Jonah                                                        19      7     8.2857\n",
      "Zap                                                          60      5     6.8000\n",
      "Topless                                                      46     11     7.0000\n",
      "Shmuddel                                                     35      5     7.8000\n",
      "Bumper                                                       3       4     4.5000\n",
      "SN9                                                          41      8     7.7500\n",
      "Patchback                                                    30      9     6.3333\n",
      "SN63                                                         39      8     6.6250\n",
      "Zipfel                                                       62      3     5.6667\n",
      "TSN103                                                       53      4     9.2500\n",
      "Double                                                       9       6     7.3333\n",
      "MN105                                                        22      6     9.6667\n",
      "SN4                                                          38     11     7.3636\n",
      "Feather                                                      10      7     6.2857\n",
      "Kringel                                                      21      9     6.2222\n",
      "Beescratch                                                   2       8     5.6250\n",
      "MN23                                                         23      1     9.0000\n",
      "Vau                                                          56      2     8.5000\n",
      "Gallatin                                                     14      8     6.2500\n",
      "TSN83                                                        54      2     5.0000\n",
      "Upbang                                                       55      7     6.4286\n",
      "Ripplefluke                                                  33      3     5.3333\n",
      "MN83                                                         25      6     9.3333\n",
      "Cross                                                        5       1    10.0000\n",
      "Oscar                                                        29      5     6.8000\n",
      "Grin                                                         15     12     6.7500\n",
      "Zig                                                          61      1     3.0000\n",
      "TR82                                                         49      1     9.0000\n",
      "MN60                                                         24      3     9.3333\n",
      "Beak                                                         1       6     7.3333\n",
      "TR120                                                        47      2     4.5000\n",
      "Stripes                                                      44      7     7.7143\n",
      "Trigger                                                      52     10     5.3000\n",
      "SN89                                                         40      2     8.0000\n",
      "Notch                                                        27      3     5.3333\n",
      "Thumper                                                      45      4     6.5000\n",
      "Knit                                                         20      4     6.2500\n",
      "TR88                                                         50      2     3.5000\n",
      "TR77                                                         48      6     6.0000\n",
      "DN16                                                         6       4     6.5000\n",
      "Wave                                                         57      2     5.0000\n",
      "Five                                                         12      1    10.0000\n"
     ]
    }
   ],
   "source": [
    "degreeAnalysis(dolphins, ident='id')"
   ]
  },
  {
   "cell_type": "code",
   "execution_count": 44,
   "metadata": {},
   "outputs": [],
   "source": [
    "polbooks = nx.read_graphml(\"polbooks.graphml\")"
   ]
  },
  {
   "cell_type": "code",
   "execution_count": 45,
   "metadata": {},
   "outputs": [
    {
     "name": "stdout",
     "output_type": "stream",
     "text": [
      "Name: \n",
      "Type: Graph\n",
      "Number of nodes: 105\n",
      "Number of edges: 441\n",
      "Average degree:   8.4000\n"
     ]
    }
   ],
   "source": [
    "print(nx.info(polbooks))"
   ]
  },
  {
   "cell_type": "code",
   "execution_count": 63,
   "metadata": {},
   "outputs": [
    {
     "name": "stdout",
     "output_type": "stream",
     "text": [
      "Ghost Wars                                                   7       8    10.5000\n",
      "Ten Minutes from Normal                                      20     10    13.1000\n",
      "It's Still the Economy, Stupid!                              94      7    10.0000\n",
      "Who's Looking Out for You?                                   44      5    18.2000\n",
      "Betrayal                                                     16      3    14.3333\n",
      "The Sorrows of Empire                                        70      7    15.4286\n",
      "Shrub                                                        101     5    12.0000\n",
      "The Buying of the President 2004                             88      5    17.6000\n",
      "Thieves in High Places                                       100    12    11.4167\n",
      "Bush Country                                                 9      16    11.6250\n",
      "Bushwhacked                                                  84     23    10.7826\n",
      "Give Me a Break                                              41      8    15.2500\n",
      "Arrogance                                                    47     18    10.1111\n",
      "Those Who Trespass                                           36      5    13.2000\n",
      "Worse Than Watergate                                         75     16    12.2500\n",
      "The Politics of Truth                                        82      9    17.4444\n",
      "The Man Who Warned America                                   5       7     9.1429\n",
      "Bias                                                         37      7    12.7143\n",
      "The Clinton Wars                                             97      6    14.8333\n",
      "Empire                                                       104     3     4.3333\n",
      "Rumsfeld's War                                               14      9    15.7778\n",
      "Losing Bin Laden                                             3      23     9.6522\n",
      "House of Bush, House of Saud                                 31     11    11.9091\n",
      "Fanatics and Fools                                           83      8    15.6250\n",
      "Dereliction of Duty                                          10     15    11.0000\n",
      "Shut Up and Sing                                             17      5    19.4000\n",
      "Perfectly Legal                                              89      6    17.6667\n",
      "The Exception to the Rulers                                  91      8    11.8750\n",
      "Stupid White Men                                             60      6    10.6667\n",
      "The Best Democracy Money Can Buy                             62      6    10.3333\n",
      "Plan of Attack                                               76     13    13.7692\n",
      "Allies                                                       52      5    10.2000\n",
      "Charlie Wilson's War                                         2       4     7.2500\n",
      "Bush at War                                                  77      7    13.2857\n",
      "Things Worth Fighting For                                    50      3    15.6667\n",
      "Hillary's Scheme                                             21      5    18.0000\n",
      "The Future of Freedom                                        103     2     4.5000\n",
      "Hollywood Interrupted                                        54      6    14.5000\n",
      "The Real America                                             43      5    11.6000\n",
      "Disarming Iraq                                               85      5    14.2000\n",
      "Deliver Us from Evil                                         40     18    10.2222\n",
      "Persecution                                                  13     13    12.4615\n",
      "The Official Handbook Vast Right Wing Conspiracy             45      6    17.3333\n",
      "The Lies of George W. Bush                                   74     16    12.8750\n",
      "Endgame                                                      26      9    14.5556\n",
      "Legacy                                                       11     18    11.4444\n",
      "Hating America                                               24      9    16.5556\n",
      "The French Betrayal of America                               22      7    15.0000\n",
      "The Enemy Within                                             42      6    14.5000\n",
      "American Dynasty                                             72     22    10.0000\n",
      "Spin Sisters                                                 27      9    15.6667\n",
      "Bushwomen                                                    79      8    16.5000\n",
      "The Bushes                                                   49      8    11.7500\n",
      "The Bubble of American Supremacy                             80      4    19.5000\n",
      "Tales from the Left Coast                                    23      9    13.8889\n",
      "Power Plays                                                  46      4    18.0000\n",
      "A National Party No More                                     8      25    10.4000\n",
      "Freethinkers                                                 92      3    19.6667\n",
      "The Faith of George W Bush                                   57      5     7.8000\n",
      "Had Enough?                                                  93      7    14.1429\n",
      "Why America Slept                                            6      11     8.3636\n",
      "Bush vs. the Beltway                                         1       4    11.7500\n",
      "Hegemony or Survival                                         90      5    14.0000\n",
      "Living History                                               81      4    14.5000\n",
      "The Culture of Fear                                          63      4     7.2500\n",
      "The Choice                                                   65      7     6.8571\n",
      "Against All Enemies                                          71     15    10.1333\n",
      "We Will Prevail                                              56      4     8.2500\n",
      "Big Lies                                                     73     21    11.5714\n",
      "Meant To Be                                                  18      3    19.6667\n",
      "MoveOn's 50 Ways to Love Your Country                        87      5    14.8000\n",
      "The Right Man                                                19      5    10.6000\n",
      "Dude, Where's My Country?                                    99     12    12.1667\n",
      "The New Pearl Harbor                                         78      5    16.0000\n",
      "Breakdown                                                    15      5    14.0000\n",
      "Dangerous Dimplomacy                                         29      4    12.5000\n",
      "The Perfect Wife                                             48      4     9.7500\n",
      "Surprise, Security, the American Experience                  51      6     9.1667\n",
      "The Price of Loyalty                                         30     20    11.6000\n",
      "America Unbound                                              64      9     8.2222\n",
      "Lies and the Lying Liars Who Tell Them                       86     14    12.1429\n",
      "1000 Years for Revenge                                       0       6     9.5000\n",
      "The Great Unraveling                                         66     21    10.5714\n",
      "Buck Up Suck Up                                              102     4     5.5000\n",
      "The Death of Right and Wrong                                 32      5    16.2000\n",
      "Rise of the Vulcans                                          58     13     7.3846\n",
      "Why Courage Matters                                          53      5    11.8000\n",
      "The Third Terrorist                                          25      5    13.6000\n",
      "Useful Idiots                                                33      9    13.2222\n",
      "Rush Limbaugh Is a Big Fat Idiot                             61      4     7.0000\n",
      "Slander                                                      38      7    11.2857\n",
      "The O'Reilly Factor                                          34      5     7.4000\n",
      "What Liberal Media?                                          96      6    15.0000\n",
      "The Savage Nation                                            39      8    11.8750\n",
      "Sleeping With the Devil                                      4       8     8.2500\n",
      "All the Shah's Men                                           28      3    17.0000\n",
      "Off with Their Heads                                         12     25    10.3200\n",
      "Fighting Back                                                55      4    12.5000\n",
      "Soft Power                                                   68      4    11.0000\n",
      "Let Freedom Ring                                             35     10    10.0000\n",
      "Downsize This!                                               59      5     6.4000\n",
      "Weapons of Mass Deception                                    98      5    12.4000\n",
      "We're Right They're Wrong                                    95      4     9.0000\n",
      "Colossus                                                     69      5     7.6000\n",
      "Rogue Nation                                                 67      6    10.3333\n"
     ]
    }
   ],
   "source": [
    "degreeAnalysis(polbooks, name='label')"
   ]
  },
  {
   "cell_type": "code",
   "execution_count": 48,
   "metadata": {},
   "outputs": [
    {
     "data": {
      "text/plain": [
       "{'Modularity Class': 0,\n",
       " 'b': 229,\n",
       " 'g': 150,\n",
       " 'label': 'Ghost Wars',\n",
       " 'r': 154,\n",
       " 'size': 11.304348,\n",
       " 'value': 'n',\n",
       " 'x': 17.281982,\n",
       " 'y': 36.588406}"
      ]
     },
     "execution_count": 48,
     "metadata": {},
     "output_type": "execute_result"
    }
   ],
   "source": [
    "polbooks.node['7']"
   ]
  },
  {
   "cell_type": "code",
   "execution_count": 66,
   "metadata": {},
   "outputs": [],
   "source": [
    "def foo():\n",
    "    return (1,2)"
   ]
  },
  {
   "cell_type": "code",
   "execution_count": 67,
   "metadata": {},
   "outputs": [
    {
     "data": {
      "text/plain": [
       "(1, 2)"
      ]
     },
     "execution_count": 67,
     "metadata": {},
     "output_type": "execute_result"
    }
   ],
   "source": [
    "foo()"
   ]
  },
  {
   "cell_type": "code",
   "execution_count": null,
   "metadata": {},
   "outputs": [],
   "source": []
  }
 ],
 "metadata": {
  "kernelspec": {
   "display_name": "Python [Root]",
   "language": "python",
   "name": "Python [Root]"
  },
  "language_info": {
   "codemirror_mode": {
    "name": "ipython",
    "version": 3
   },
   "file_extension": ".py",
   "mimetype": "text/x-python",
   "name": "python",
   "nbconvert_exporter": "python",
   "pygments_lexer": "ipython3",
   "version": "3.5.2"
  }
 },
 "nbformat": 4,
 "nbformat_minor": 2
}
