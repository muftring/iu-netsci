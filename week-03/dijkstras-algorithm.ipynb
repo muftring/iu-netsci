{
 "cells": [
  {
   "cell_type": "markdown",
   "metadata": {},
   "source": [
    "# Dijkstra's Algorithm"
   ]
  },
  {
   "cell_type": "markdown",
   "metadata": {},
   "source": [
    "ToDo: add some descriptive and explanatory text here..."
   ]
  },
  {
   "cell_type": "code",
   "execution_count": 4,
   "metadata": {},
   "outputs": [],
   "source": [
    "def dijkstra(graph, src, dst, visited=[], distances={}, predecessors={}):\n",
    "    \"\"\" calculates a shortest path tree rooted at src\n",
    "    \"\"\"\n",
    "    \n",
    "    try:\n",
    "        trace = debug\n",
    "    except NameError:\n",
    "        trace = 0\n",
    "        \n",
    "    #print('dijkstra() src:',src,'dst:',dst)\n",
    "    if src not in graph:\n",
    "        raise TypeError('The root of the shortest path tree cannot be found')\n",
    "    if dst not in graph:\n",
    "        raise TypeError('The target of the shortest path cannot be found')\n",
    "    \n",
    "    # ending condition\n",
    "    if src == dst:\n",
    "        # build the shortest path and display it\n",
    "        path = []\n",
    "        pred = dst\n",
    "        while pred != None:\n",
    "            path.append(pred)\n",
    "            pred = predecessors.get(pred, None)\n",
    "        revd = []\n",
    "        for i in reversed(path):\n",
    "            revd.append(i)\n",
    "        if trace == 1: print('Shortest path:', revd)\n",
    "        if trace == 1: print('cost:', distances[dst])\n",
    "        return {'source': revd[0], 'destination': revd[len(revd)-1], 'path': revd, 'cost': distances[dst]}\n",
    "    else:\n",
    "        # if initial run, init the cost\n",
    "        if not visited:\n",
    "            if trace == 1: print('setting distances[',src,'] = 0')\n",
    "            distances[src] = 0\n",
    "            \n",
    "        # visit the neighbors\n",
    "        for neighbor in graph[src]:\n",
    "            if trace == 1: print('visit neighbor:',neighbor)\n",
    "            if neighbor not in visited:\n",
    "                new_distance = distances[src] + graph[src][neighbor]\n",
    "                if trace == 1: print('distance to',neighbor,'through',src,'(',distances[src],'+',graph[src][neighbor],')','is',new_distance)\n",
    "                if new_distance < distances.get(neighbor, float('inf')):\n",
    "                    if trace == 1: print('setting distances[',neighbor,'] =', new_distance)\n",
    "                    distances[neighbor] = new_distance\n",
    "                    predecessors[neighbor] = src\n",
    "            else:\n",
    "                if trace == 1: print('skip:',neighbor, 'has been visited')\n",
    "        \n",
    "        # mark as visited\n",
    "        if trace == 1: print('marking',src,'as visited')\n",
    "        visited.append(src)\n",
    "            \n",
    "        # now that all neighbors have been visited: recurse\n",
    "        # select the non-visited node with lowest distance 'x'\n",
    "        # run Dijkstra with src='x'\n",
    "        unvisited = {}\n",
    "        for k in graph:\n",
    "            if k not in visited:\n",
    "                unvisited[k] = distances.get(k ,float('inf'))\n",
    "                if trace == 1: print('unvisited[',k,'] =', unvisited[k])\n",
    "        x = min(unvisited, key=unvisited.get)\n",
    "        return dijkstra(graph, x, dst, visited, distances, predecessors)"
   ]
  },
  {
   "cell_type": "code",
   "execution_count": 5,
   "metadata": {},
   "outputs": [],
   "source": [
    "graph = {\n",
    "    's': {'a': 2, 'b': 1},\n",
    "    'a': {'s': 3, 'b': 4, 'c': 8},\n",
    "    'b': {'s': 4, 'a': 2, 'd': 2},\n",
    "    'c': {'a': 2, 'd': 7, 't': 4},\n",
    "    'd': {'b': 1, 'c': 11, 't': 5},\n",
    "    't': {'c': 3, 'd': 5}\n",
    "}"
   ]
  },
  {
   "cell_type": "code",
   "execution_count": 6,
   "metadata": {},
   "outputs": [],
   "source": [
    "#debug = 0\n",
    "src = 's'\n",
    "dst = 't'\n",
    "shortest_path = dijkstra(graph, src, dst)"
   ]
  },
  {
   "cell_type": "code",
   "execution_count": 7,
   "metadata": {},
   "outputs": [
    {
     "data": {
      "text/plain": [
       "{'cost': 8, 'destination': 't', 'path': ['s', 'b', 'd', 't'], 'source': 's'}"
      ]
     },
     "execution_count": 7,
     "metadata": {},
     "output_type": "execute_result"
    }
   ],
   "source": [
    "shortest_path"
   ]
  },
  {
   "cell_type": "code",
   "execution_count": 11,
   "metadata": {},
   "outputs": [
    {
     "name": "stdout",
     "output_type": "stream",
     "text": [
      "To get from 's' to 't' the path is ['s', 'b', 'd', 't'] and the cost is 8.\n"
     ]
    }
   ],
   "source": [
    "print(\"To get from '{}' to '{}' the path is {} and the cost is {}.\"\n",
    "     .format(shortest_path['source'], shortest_path['destination'], shortest_path['path'], shortest_path['cost']))"
   ]
  },
  {
   "cell_type": "code",
   "execution_count": null,
   "metadata": {},
   "outputs": [],
   "source": []
  }
 ],
 "metadata": {
  "kernelspec": {
   "display_name": "Python [Root]",
   "language": "python",
   "name": "Python [Root]"
  },
  "language_info": {
   "codemirror_mode": {
    "name": "ipython",
    "version": 3
   },
   "file_extension": ".py",
   "mimetype": "text/x-python",
   "name": "python",
   "nbconvert_exporter": "python",
   "pygments_lexer": "ipython3",
   "version": "3.5.2"
  }
 },
 "nbformat": 4,
 "nbformat_minor": 2
}
