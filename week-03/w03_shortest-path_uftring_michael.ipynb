{
 "cells": [
  {
   "cell_type": "markdown",
   "metadata": {},
   "source": [
    "Michael Uftring   \n",
    "Indiana University   \n",
    "Network Science, Spring 2018   \n",
    "Week#3 Assignment - Shortest Path"
   ]
  },
  {
   "cell_type": "markdown",
   "metadata": {},
   "source": [
    "# Assignment\n",
    "\n",
    "For this assignment you will calculate and plot the distribution of the path lengths of a graph. First we will generate a random graph which we will use for the assignment, using a seed=42 for the random number generator:"
   ]
  },
  {
   "cell_type": "code",
   "execution_count": 1,
   "metadata": {},
   "outputs": [
    {
     "name": "stdout",
     "output_type": "stream",
     "text": [
      "Name: gnp_random_graph(1200,0.008)\n",
      "Type: Graph\n",
      "Number of nodes: 1200\n",
      "Number of edges: 5769\n",
      "Average degree:   9.6150\n"
     ]
    }
   ],
   "source": [
    "import networkx as nx\n",
    "\n",
    "random_graph = nx.erdos_renyi_graph(1200, 0.008, seed=42)\n",
    "print(nx.info(random_graph))"
   ]
  },
  {
   "cell_type": "markdown",
   "metadata": {},
   "source": [
    "## 1. Finding path lengths\n",
    "\n",
    "Networkx provides a [shortest path length function](https://networkx.github.io/documentation/stable/reference/algorithms/generated/networkx.algorithms.shortest_paths.generic.shortest_path.html) which you can use to get the shortest path between nodes in a graph. Try out some of the examples in the documentation using the random graph we made above until you get familiar with how it works and what type of output it gives.\n",
    "\n",
    "Next write a function that will return a **sorted list** of the shortest path lengths between all pairs of nodes (make sure each pair is only counted once). This function should take a single argument, `G`, a networkx graph."
   ]
  },
  {
   "cell_type": "code",
   "execution_count": 26,
   "metadata": {},
   "outputs": [],
   "source": [
    "\"\"\"\n",
    "shortest_path_lengths(G):\n",
    "    finds the shortest path between every pair of nodes in the network, \n",
    "    and computes the length of that shortest path.\n",
    "    returns a dictionary indexed by the node tuple (s, t) with just the path length as value\n",
    "    Notes:\n",
    "        (1) each pair is present just once, so (0, 1) is in the dictionary but (1, 0) is not\n",
    "        (2) excludes self loops, e.g. does not compute for (0, 0), (1, 1), etc.\n",
    "\"\"\"\n",
    "def shortest_path_lengths(G):\n",
    "    nodes = len(G.nodes())\n",
    "    shortestPathLength = {}\n",
    "    for i in range(nodes):\n",
    "        for j in range(i+1, nodes):\n",
    "            shortestPathLength[(i,j)] = len(nx.shortest_path(G, i, j)) - 1\n",
    "    return shortestPathLength\n",
    "\n",
    "\"\"\"\n",
    "sorted_shortest_path_lengths(G):\n",
    "    obtains the shortest path lengths for all pairs or nodes in the graph\n",
    "    returns a sorted list of the path lengths (excluding any node or path identification)\n",
    "\"\"\"\n",
    "def sorted_shortest_path_lengths(G):\n",
    "    shortestPathLengths = shortest_path_lengths(G)\n",
    "    return sorted(shortestPathLengths.values())"
   ]
  },
  {
   "cell_type": "markdown",
   "metadata": {},
   "source": [
    "Apply your function to the ```random_graph``` and assign the list of shortest path lengths to a variable:"
   ]
  },
  {
   "cell_type": "code",
   "execution_count": 27,
   "metadata": {},
   "outputs": [],
   "source": [
    "# your code here\n",
    "sortedShortestPathLengths = sorted_shortest_path_lengths(random_graph)"
   ]
  },
  {
   "cell_type": "markdown",
   "metadata": {},
   "source": [
    "## 2. Visualizing the results\n",
    "Now that you have a list of the shortest paths for the graph, make a histogram for it. This can be done with [matplotlibs histogram function](http://matplotlib.org/api/pyplot_api.html?highlight=hist#matplotlib.pyplot.hist)"
   ]
  },
  {
   "cell_type": "code",
   "execution_count": 28,
   "metadata": {},
   "outputs": [],
   "source": [
    "%matplotlib inline\n",
    "import matplotlib.pyplot as plt"
   ]
  },
  {
   "cell_type": "markdown",
   "metadata": {},
   "source": [
    "This function is fairly useful and lets us quickly visualize a distribution. For instance, if we create a small set of normally distributed random numbers we could use the histogram function to plot the bell curve:"
   ]
  },
  {
   "cell_type": "code",
   "execution_count": 29,
   "metadata": {},
   "outputs": [
    {
     "data": {
      "image/png": "[encoded data removed]",
      "text/plain": [
       "<matplotlib.figure.Figure at 0x11b23be80>"
      ]
     },
     "metadata": {},
     "output_type": "display_data"
    }
   ],
   "source": [
    "import numpy as np\n",
    "# Create dummy data\n",
    "rvs = np.random.normal(size=1000)\n",
    "# plot histogram\n",
    "pdf, bins, patch = plt.hist(rvs, bins=30)"
   ]
  },
  {
   "cell_type": "markdown",
   "metadata": {},
   "source": [
    "You may need to adjust the number of bins so that it is appropriate for the amount of data points you have.\n",
    "\n",
    "Use the histogram function to make a plot of the results from your shortest paths length function:"
   ]
  },
  {
   "cell_type": "code",
   "execution_count": 40,
   "metadata": {},
   "outputs": [
    {
     "data": {
      "image/png": "[encoded data removed]",
      "text/plain": [
       "<matplotlib.figure.Figure at 0x11a846438>"
      ]
     },
     "metadata": {},
     "output_type": "display_data"
    }
   ],
   "source": [
    "# code here\n",
    "# plot histogram\n",
    "pdf, bins, patch = plt.hist(sortedShortestPathLengths, bins=6)"
   ]
  },
  {
   "cell_type": "markdown",
   "metadata": {},
   "source": [
    "### Name your notebook: shortest_lastname_firstname.ipynb and submit to Canvas"
   ]
  }
 ],
 "metadata": {
  "anaconda-cloud": {},
  "kernelspec": {
   "display_name": "Python [Root]",
   "language": "python",
   "name": "Python [Root]"
  },
  "language_info": {
   "codemirror_mode": {
    "name": "ipython",
    "version": 3
   },
   "file_extension": ".py",
   "mimetype": "text/x-python",
   "name": "python",
   "nbconvert_exporter": "python",
   "pygments_lexer": "ipython3",
   "version": "3.5.2"
  }
 },
 "nbformat": 4,
 "nbformat_minor": 1
}
