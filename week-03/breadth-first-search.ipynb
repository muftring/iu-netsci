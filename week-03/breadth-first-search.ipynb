{
 "cells": [
  {
   "cell_type": "markdown",
   "metadata": {},
   "source": [
    "# Breadth First Search"
   ]
  },
  {
   "cell_type": "code",
   "execution_count": 42,
   "metadata": {},
   "outputs": [],
   "source": [
    "graph = {\n",
    "    's': {'a': 2, 'b': 1},\n",
    "    'a': {'s': 3, 'b': 4, 'c': 8},\n",
    "    'b': {'s': 4, 'a': 2, 'd': 2},\n",
    "    'c': {'a': 2, 'd': 7, 't': 4},\n",
    "    'd': {'b': 1, 'c': 11, 't': 5},\n",
    "    't': {'c': 3, 'd': 5}\n",
    "}"
   ]
  },
  {
   "cell_type": "code",
   "execution_count": 43,
   "metadata": {},
   "outputs": [],
   "source": [
    "def breadthFirstSearch(graph, start):\n",
    "    distances = {}\n",
    "    for node in graph:\n",
    "        distances[node] = -1\n",
    "    \n",
    "    # set the distance to the starting node as zero\n",
    "    # add the starting node to the queue\n",
    "    distances[start] = 0\n",
    "    queue = [start]\n",
    "    \n",
    "    while len(queue) > 0:\n",
    "        # pop node from queue\n",
    "        node = queue[0]\n",
    "        del queue[0]\n",
    "        # get the node's distance from the starting node and add 1\n",
    "        distance = distances[node]\n",
    "        # for each neighbor of this node\n",
    "        for neighbor in graph[node]:\n",
    "            # if the neighbor's distance is -1, then it has not been visited yet\n",
    "            if distances[neighbor] == -1:\n",
    "                # set the neighbor's distance to the node's + 1\n",
    "                distances[neighbor] = distance+1\n",
    "                # add the neighbor to the queue\n",
    "                queue.append(neighbor)\n",
    "    \n",
    "    return distances"
   ]
  },
  {
   "cell_type": "code",
   "execution_count": 46,
   "metadata": {},
   "outputs": [],
   "source": [
    "start = 'a'\n",
    "result = breadthFirstSearch(graph, start)"
   ]
  },
  {
   "cell_type": "code",
   "execution_count": 47,
   "metadata": {},
   "outputs": [
    {
     "data": {
      "text/plain": [
       "{'a': 0, 'b': 1, 'c': 1, 'd': 2, 's': 1, 't': 2}"
      ]
     },
     "execution_count": 47,
     "metadata": {},
     "output_type": "execute_result"
    }
   ],
   "source": [
    "result"
   ]
  },
  {
   "cell_type": "code",
   "execution_count": 53,
   "metadata": {},
   "outputs": [],
   "source": [
    "quiz = {\n",
    "    '1': {'2', '3', '4'},\n",
    "    '2': {'1', '3', '4', '6'},\n",
    "    '3': {'1', '2'},\n",
    "    '4': {'1', '2', '7'},\n",
    "    '5': {'6', '8'},\n",
    "    '6': {'2', '5'},\n",
    "    '7': {'4', '8'},\n",
    "    '8': {'5', '7'}\n",
    "}"
   ]
  },
  {
   "cell_type": "code",
   "execution_count": 54,
   "metadata": {},
   "outputs": [],
   "source": [
    "start = '4'\n",
    "result = breadthFirstSearch(quiz, start)"
   ]
  },
  {
   "cell_type": "code",
   "execution_count": 55,
   "metadata": {},
   "outputs": [
    {
     "data": {
      "text/plain": [
       "{'1': 1, '2': 1, '3': 2, '4': 0, '5': 3, '6': 2, '7': 1, '8': 2}"
      ]
     },
     "execution_count": 55,
     "metadata": {},
     "output_type": "execute_result"
    }
   ],
   "source": [
    "result"
   ]
  },
  {
   "cell_type": "code",
   "execution_count": 65,
   "metadata": {},
   "outputs": [],
   "source": [
    "grouped = {}\n",
    "\n",
    "for key, value in sorted(result.items()):\n",
    "    grouped.setdefault(value, []).append(key)"
   ]
  },
  {
   "cell_type": "code",
   "execution_count": 66,
   "metadata": {},
   "outputs": [
    {
     "data": {
      "text/plain": [
       "{0: ['4'], 1: ['1', '2', '7'], 2: ['3', '6', '8'], 3: ['5']}"
      ]
     },
     "execution_count": 66,
     "metadata": {},
     "output_type": "execute_result"
    }
   ],
   "source": [
    "grouped"
   ]
  },
  {
   "cell_type": "code",
   "execution_count": null,
   "metadata": {},
   "outputs": [],
   "source": []
  }
 ],
 "metadata": {
  "kernelspec": {
   "display_name": "Python [Root]",
   "language": "python",
   "name": "Python [Root]"
  },
  "language_info": {
   "codemirror_mode": {
    "name": "ipython",
    "version": 3
   },
   "file_extension": ".py",
   "mimetype": "text/x-python",
   "name": "python",
   "nbconvert_exporter": "python",
   "pygments_lexer": "ipython3",
   "version": "3.5.2"
  }
 },
 "nbformat": 4,
 "nbformat_minor": 2
}
